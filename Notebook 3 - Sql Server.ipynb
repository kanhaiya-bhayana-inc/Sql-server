{
    "metadata": {
        "kernelspec": {
            "name": "SQL",
            "display_name": "SQL",
            "language": "sql"
        },
        "language_info": {
            "name": "sql",
            "version": ""
        }
    },
    "nbformat_minor": 2,
    "nbformat": 4,
    "cells": [
        {
            "cell_type": "markdown",
            "source": [
                "## Notebook - 3 - SQL Server"
            ],
            "metadata": {
                "azdata_cell_guid": "393cb9a3-b45f-4d04-a978-e49e07c8eb1a"
            },
            "attachments": {}
        },
        {
            "cell_type": "markdown",
            "source": [
                "## Topics Covered in this notebook\r\n",
                "\r\n",
                "1. DML Triggers in SQL Server\r\n",
                "2. After update trigger in SQL Server\r\n",
                "3. Instead of Insert trigger in SQL Server\r\n",
                "4. Instead of Update trigger in SQL Server\r\n",
                "5. Instead of Delete trigger in SQL Server\r\n",
                "6. Derived tables and common table expressions in SQL Server\r\n",
                "7. CTE in SQL Server"
            ],
            "metadata": {
                "azdata_cell_guid": "95628133-4e7e-48fe-ad04-0a01d5d336d5"
            },
            "attachments": {}
        },
        {
            "cell_type": "markdown",
            "source": [
                "## Triggers in SQL Server\r\n",
                "In SQL server there are **3 types** of triggers\r\n",
                "1. DML triggers\r\n",
                "2. DDL triggers\r\n",
                "3. Logon trigger\r\n",
                "\r\n",
                "DML triggers are fired automatically in response to DML events ***(INSERT, UPDATE & DELETE)***\r\n",
                "\r\n",
                "**DML triggers can be again classified into 2 types**\r\n",
                "1. After triggers (Sometimes called as FOR triggers)\r\n",
                "2. Instead of triggers\r\n",
                "\r\n",
                "**After triggers, fires after the triggering action.** The INSERT, UPDATE, and DELETE statements, causes an after trigger to fire after the respective statements complete execution.\r\n",
                "\r\n",
                "**INSTEAD of triggers, fires instead of the triggering action.** The INSERT, UPDATE, and DELETE statements, causes an INSTEAD OF trigger to fire INSTEAD OF the respective statement execution."
            ],
            "metadata": {
                "azdata_cell_guid": "fed51ff5-24be-4159-b0bf-9d6f60cdb8d0"
            },
            "attachments": {}
        },
        {
            "cell_type": "code",
            "source": [
                "USE kudvenkatdb_master;"
            ],
            "metadata": {
                "azdata_cell_guid": "a0b1deb9-5316-4b01-85a9-2d1dcb38249c",
                "language": "sql"
            },
            "outputs": [
                {
                    "output_type": "display_data",
                    "data": {
                        "text/html": "Commands completed successfully."
                    },
                    "metadata": {}
                },
                {
                    "output_type": "display_data",
                    "data": {
                        "text/html": "Total execution time: 00:00:00.026"
                    },
                    "metadata": {}
                }
            ],
            "execution_count": 1
        },
        {
            "cell_type": "code",
            "source": [
                "INSERT INTO tblEmployee VALUES ('Ben', 'Male',4800,'London')\r\n",
                "DELETE FROM tblEmployee WHERE ID = 107;"
            ],
            "metadata": {
                "azdata_cell_guid": "00556c6c-9f67-4622-a8c4-13b08742348a",
                "language": "sql"
            },
            "outputs": [],
            "execution_count": null
        },
        {
            "cell_type": "code",
            "source": [
                "CREATE table tblAudit(\r\n",
                "    Id INT IDENTITY(1,1) PRIMARY KEY,\r\n",
                "    AuditData NVARCHAR(255)\r\n",
                ");\r\n",
                ""
            ],
            "metadata": {
                "language": "sql",
                "azdata_cell_guid": "71327e4f-3889-41b2-bf98-ff477454193e"
            },
            "outputs": [
                {
                    "output_type": "display_data",
                    "data": {
                        "text/html": "Commands completed successfully."
                    },
                    "metadata": {}
                },
                {
                    "output_type": "display_data",
                    "data": {
                        "text/html": "Total execution time: 00:00:00.002"
                    },
                    "metadata": {}
                }
            ],
            "execution_count": 11
        },
        {
            "cell_type": "code",
            "source": [
                "CREATE TRIGGER tr_tblEmployee_ForInsert\r\n",
                "ON tblEmployee\r\n",
                "FOR INSERT\r\n",
                "AS\r\n",
                "BEGIN\r\n",
                "    DECLARE @Id INT\r\n",
                "    SELECT @Id = Id FROM inserted\r\n",
                "\r\n",
                "    INSERT into tblAudit\r\n",
                "    VALUES ('New Employee added with Id = '+CAST(@Id as nvarchar(5)) + ' at ' + CAST(GETDATE() as nvarchar(20)))\r\n",
                "END"
            ],
            "metadata": {
                "azdata_cell_guid": "9538699a-7df0-4f44-86be-776fe533bbf0",
                "language": "sql"
            },
            "outputs": [
                {
                    "output_type": "display_data",
                    "data": {
                        "text/html": "Commands completed successfully."
                    },
                    "metadata": {}
                },
                {
                    "output_type": "display_data",
                    "data": {
                        "text/html": "Total execution time: 00:00:00.003"
                    },
                    "metadata": {}
                }
            ],
            "execution_count": 14
        },
        {
            "cell_type": "code",
            "source": [
                "CREATE TRIGGER tr_tblEmployee_ForDelete\r\n",
                "ON tblEmployee\r\n",
                "FOR DELETE\r\n",
                "AS\r\n",
                "BEGIN\r\n",
                "    DECLARE @Id INT\r\n",
                "    SELECT @Id = Id FROM deleted\r\n",
                "\r\n",
                "    INSERT into tblAudit\r\n",
                "    VALUES ('An existing employee deleted with Id = '+CAST(@Id as nvarchar(5)) + ' is deleted at ' + CAST(GETDATE() as nvarchar(20)))\r\n",
                "END"
            ],
            "metadata": {
                "azdata_cell_guid": "1759109f-ec4e-4907-aa1f-abcf5f546261",
                "language": "sql"
            },
            "outputs": [
                {
                    "output_type": "display_data",
                    "data": {
                        "text/html": "Commands completed successfully."
                    },
                    "metadata": {}
                },
                {
                    "output_type": "display_data",
                    "data": {
                        "text/html": "Total execution time: 00:00:00.005"
                    },
                    "metadata": {}
                }
            ],
            "execution_count": 2
        },
        {
            "cell_type": "code",
            "source": [
                "SELECT * FROM tblEmployee;\r\n",
                "SELECT * FROM tblAudit;"
            ],
            "metadata": {
                "azdata_cell_guid": "8a62b993-a135-41cb-9e33-0a99a8a449fa",
                "language": "sql"
            },
            "outputs": [
                {
                    "output_type": "display_data",
                    "data": {
                        "text/html": "(10 rows affected)"
                    },
                    "metadata": {}
                },
                {
                    "output_type": "display_data",
                    "data": {
                        "text/html": "(9 rows affected)"
                    },
                    "metadata": {}
                },
                {
                    "output_type": "display_data",
                    "data": {
                        "text/html": "Total execution time: 00:00:00.029"
                    },
                    "metadata": {}
                },
                {
                    "output_type": "execute_result",
                    "execution_count": 25,
                    "data": {
                        "application/vnd.dataresource+json": {
                            "schema": {
                                "fields": [
                                    {
                                        "name": "ID"
                                    },
                                    {
                                        "name": "Name"
                                    },
                                    {
                                        "name": "Gender"
                                    },
                                    {
                                        "name": "Salary"
                                    },
                                    {
                                        "name": "City"
                                    }
                                ]
                            },
                            "data": [
                                {
                                    "ID": "104",
                                    "Name": "Todd",
                                    "Gender": "Male",
                                    "Salary": "2800",
                                    "City": "Sydney"
                                },
                                {
                                    "ID": "102",
                                    "Name": "John",
                                    "Gender": "Male",
                                    "Salary": "3500",
                                    "City": "London"
                                },
                                {
                                    "ID": "100",
                                    "Name": "Tom",
                                    "Gender": "Male",
                                    "Salary": "4000",
                                    "City": "London"
                                },
                                {
                                    "ID": "103",
                                    "Name": "Sam",
                                    "Gender": "Male",
                                    "Salary": "4500",
                                    "City": "London"
                                },
                                {
                                    "ID": "110",
                                    "Name": "Ben",
                                    "Gender": "Male",
                                    "Salary": "4800",
                                    "City": "London"
                                },
                                {
                                    "ID": "105",
                                    "Name": "Ben",
                                    "Gender": "Male",
                                    "Salary": "7000",
                                    "City": "New York"
                                },
                                {
                                    "ID": "109",
                                    "Name": "Russell",
                                    "Gender": "Male",
                                    "Salary": "8800",
                                    "City": "London"
                                },
                                {
                                    "ID": "101",
                                    "Name": "Pam",
                                    "Gender": "Female",
                                    "Salary": "3000",
                                    "City": "New York"
                                },
                                {
                                    "ID": "108",
                                    "Name": "Sara",
                                    "Gender": "Female",
                                    "Salary": "100000",
                                    "City": "London"
                                },
                                {
                                    "ID": "106",
                                    "Name": "Sneha",
                                    "Gender": "Female",
                                    "Salary": "100000",
                                    "City": "Sydney"
                                }
                            ]
                        },
                        "text/html": "<table><tr><th>ID</th><th>Name</th><th>Gender</th><th>Salary</th><th>City</th></tr><tr><td>104</td><td>Todd</td><td>Male</td><td>2800</td><td>Sydney</td></tr><tr><td>102</td><td>John</td><td>Male</td><td>3500</td><td>London</td></tr><tr><td>100</td><td>Tom</td><td>Male</td><td>4000</td><td>London</td></tr><tr><td>103</td><td>Sam</td><td>Male</td><td>4500</td><td>London</td></tr><tr><td>110</td><td>Ben</td><td>Male</td><td>4800</td><td>London</td></tr><tr><td>105</td><td>Ben</td><td>Male</td><td>7000</td><td>New York</td></tr><tr><td>109</td><td>Russell</td><td>Male</td><td>8800</td><td>London</td></tr><tr><td>101</td><td>Pam</td><td>Female</td><td>3000</td><td>New York</td></tr><tr><td>108</td><td>Sara</td><td>Female</td><td>100000</td><td>London</td></tr><tr><td>106</td><td>Sneha</td><td>Female</td><td>100000</td><td>Sydney</td></tr></table>"
                    },
                    "metadata": {}
                },
                {
                    "output_type": "execute_result",
                    "execution_count": 25,
                    "data": {
                        "application/vnd.dataresource+json": {
                            "schema": {
                                "fields": [
                                    {
                                        "name": "Id"
                                    },
                                    {
                                        "name": "AuditData"
                                    }
                                ]
                            },
                            "data": [
                                {
                                    "Id": "1",
                                    "AuditData": "New Employee added with Id = 110 at Jan 15 2024 12:50AM"
                                },
                                {
                                    "Id": "2",
                                    "AuditData": "An existing employee deleted with Id = 107 is deleted at Jan 15 2024  7:04AM"
                                },
                                {
                                    "Id": "3",
                                    "AuditData": "Employee with ID = 106 changed "
                                },
                                {
                                    "Id": "4",
                                    "AuditData": "Employee with ID = 106 changed "
                                },
                                {
                                    "Id": "5",
                                    "AuditData": "Employee with ID = 106 changed "
                                },
                                {
                                    "Id": "6",
                                    "AuditData": "Employee with ID = 106 changed Name from Sara Ali to Sara Ali Sara"
                                },
                                {
                                    "Id": "7",
                                    "AuditData": "Employee with ID = 106 changed "
                                },
                                {
                                    "Id": "8",
                                    "AuditData": "Employee with ID = 108 changed Name from James to SaraGender from Male to FemaleSalary from 6500 to 100000"
                                },
                                {
                                    "Id": "9",
                                    "AuditData": "Employee with ID = 106 changed Name from Sara Ali Sara to Sneha Salary from 4800 to 100000"
                                }
                            ]
                        },
                        "text/html": "<table><tr><th>Id</th><th>AuditData</th></tr><tr><td>1</td><td>New Employee added with Id = 110 at Jan 15 2024 12:50AM</td></tr><tr><td>2</td><td>An existing employee deleted with Id = 107 is deleted at Jan 15 2024  7:04AM</td></tr><tr><td>3</td><td>Employee with ID = 106 changed </td></tr><tr><td>4</td><td>Employee with ID = 106 changed </td></tr><tr><td>5</td><td>Employee with ID = 106 changed </td></tr><tr><td>6</td><td>Employee with ID = 106 changed Name from Sara Ali to Sara Ali Sara</td></tr><tr><td>7</td><td>Employee with ID = 106 changed </td></tr><tr><td>8</td><td>Employee with ID = 108 changed Name from James to SaraGender from Male to FemaleSalary from 6500 to 100000</td></tr><tr><td>9</td><td>Employee with ID = 106 changed Name from Sara Ali Sara to Sneha Salary from 4800 to 100000</td></tr></table>"
                    },
                    "metadata": {}
                }
            ],
            "execution_count": 25
        },
        {
            "cell_type": "markdown",
            "source": [
                "## After Update Trigger\r\n",
                "Note: The After trigger for UPDATE event, makes use of both ***inserted and deleted*** tables. The ***Inserted*** table contains the updated data and the ***deleted*** table contains the old data."
            ],
            "metadata": {
                "azdata_cell_guid": "1c5e91cb-c8ea-4a32-bbb1-973411655fca"
            },
            "attachments": {}
        },
        {
            "cell_type": "code",
            "source": [
                "CREATE TRIGGER tr_tblEmployee_ForUpdate\r\n",
                "on tblEmployee\r\n",
                "for UPDATE\r\n",
                "as\r\n",
                "BEGIN   \r\n",
                "    -- Logic\r\n",
                "    -- Declare Fields\r\n",
                "        DECLARE @Id INT\r\n",
                "        \r\n",
                "    \r\n",
                "        DECLARE @OldName NVARCHAR(20), @NewName NVARCHAR(20)\r\n",
                "        DECLARE @OldGender NVARCHAR(20), @NewGender NVARCHAR(20)\r\n",
                "        DECLARE @OldSalary NVARCHAR(20), @NewSalary NVARCHAR(20)\r\n",
                "        DECLARE @OldCity NVARCHAR(20), @NewCity NVARCHAR(20)\r\n",
                "\r\n",
                "        DECLARE @AuditString NVARCHAR(1000)\r\n",
                "\r\n",
                "    -- Store the updated data into temp table for creating the log\r\n",
                "        SELECT * INTO #TempTable1 From inserted\r\n",
                "\r\n",
                "    -- Iterate through each row\r\n",
                "        WHILE (exists(SELECT @Id FROM #TempTable1))\r\n",
                "        BEGIN\r\n",
                "            SET @AuditString = ''\r\n",
                "\r\n",
                "            SELECT TOP 1 @Id = ID, @NewName = Name,\r\n",
                "            @NewGender = Gender, @NewSalary = Salary,\r\n",
                "            @NewCity = City\r\n",
                "            FROM #TempTable1\r\n",
                "\r\n",
                "            SELECT @OldName = Name, @OldGender = Gender, \r\n",
                "            @OldSalary = Salary, @OldCity = City\r\n",
                "            FROM deleted where ID = @Id\r\n",
                "\r\n",
                "        -- Create the AUDITSTRING for the log...\r\n",
                "            SET @AuditString = 'Employee with ID = ' + CAST(@Id as nvarchar(4)) + ' changed '\r\n",
                "\r\n",
                "            if (@OldName <> @NewName)\r\n",
                "                SET @AuditString = @AuditString + 'Name from ' + @OldName + ' to ' + @NewName\r\n",
                "\r\n",
                "            if (@OldGender <> @NewGender)\r\n",
                "                SET @AuditString = @AuditString + ' Gender from ' + @OldGender + ' to ' + @NewGender\r\n",
                "\r\n",
                "            if (@OldSalary <> @NewSalary)\r\n",
                "                SET @AuditString = @AuditString + ' Salary from ' + @OldSalary + ' to ' + @NewSalary\r\n",
                "\r\n",
                "            if (@OldCity <> @NewCity)\r\n",
                "                SET @AuditString = @AuditString + ' City from ' + @OldSalary + ' to ' + @NewSalary\r\n",
                "\r\n",
                "        -- Insert into tblAudit\r\n",
                "            INSERT INTO tblAudit VALUES(@AuditString)\r\n",
                "\r\n",
                "        -- Delete the row from the tempTable, So next Iteration will proceed accordingly\r\n",
                "            DELETE FROM #TempTable1 WHERE ID = @Id\r\n",
                "        END\r\n",
                "END"
            ],
            "metadata": {
                "azdata_cell_guid": "c239deac-6079-44b8-9f87-bc68a87dccfc",
                "language": "sql"
            },
            "outputs": [
                {
                    "output_type": "display_data",
                    "data": {
                        "text/html": "Commands completed successfully."
                    },
                    "metadata": {}
                },
                {
                    "output_type": "display_data",
                    "data": {
                        "text/html": "Total execution time: 00:00:00.005"
                    },
                    "metadata": {}
                }
            ],
            "execution_count": 26
        },
        {
            "cell_type": "code",
            "source": [
                "UPDATE tblEmployee SET NAME = 'Summit', Gender='Male', Salary= '100090' WHERE ID = 101"
            ],
            "metadata": {
                "azdata_cell_guid": "457264fa-7138-4eac-a907-702b708bb202",
                "language": "sql"
            },
            "outputs": [],
            "execution_count": null
        },
        {
            "cell_type": "markdown",
            "source": [
                "## Instead Of Triggers"
            ],
            "metadata": {
                "azdata_cell_guid": "8853614c-6c8e-4b9d-b9b6-4c996bdb81bc"
            },
            "attachments": {}
        },
        {
            "cell_type": "code",
            "source": [
                "select * from tblEmployee1;\r\n",
                "select * from tblDepartment;"
            ],
            "metadata": {
                "azdata_cell_guid": "daed6a13-b07f-40fb-8bc3-a141bfe04554",
                "language": "sql"
            },
            "outputs": [
                {
                    "output_type": "display_data",
                    "data": {
                        "text/html": "(10 rows affected)"
                    },
                    "metadata": {}
                },
                {
                    "output_type": "display_data",
                    "data": {
                        "text/html": "(4 rows affected)"
                    },
                    "metadata": {}
                },
                {
                    "output_type": "display_data",
                    "data": {
                        "text/html": "Total execution time: 00:00:00.015"
                    },
                    "metadata": {}
                },
                {
                    "output_type": "execute_result",
                    "execution_count": 36,
                    "data": {
                        "application/vnd.dataresource+json": {
                            "schema": {
                                "fields": [
                                    {
                                        "name": "ID"
                                    },
                                    {
                                        "name": "Name"
                                    },
                                    {
                                        "name": "Gender"
                                    },
                                    {
                                        "name": "Salary"
                                    },
                                    {
                                        "name": "DepartmentId"
                                    }
                                ]
                            },
                            "data": [
                                {
                                    "ID": "102",
                                    "Name": "Mikey",
                                    "Gender": "Male",
                                    "Salary": "4000",
                                    "DepartmentId": "1"
                                },
                                {
                                    "ID": "103",
                                    "Name": "Pam",
                                    "Gender": "Female",
                                    "Salary": "3000",
                                    "DepartmentId": "3"
                                },
                                {
                                    "ID": "104",
                                    "Name": "John",
                                    "Gender": "Male",
                                    "Salary": "3500",
                                    "DepartmentId": "1"
                                },
                                {
                                    "ID": "105",
                                    "Name": "Sam",
                                    "Gender": "Male",
                                    "Salary": "4500",
                                    "DepartmentId": "2"
                                },
                                {
                                    "ID": "106",
                                    "Name": "Todd",
                                    "Gender": "Male",
                                    "Salary": "2800",
                                    "DepartmentId": "2"
                                },
                                {
                                    "ID": "107",
                                    "Name": "Ben",
                                    "Gender": "Male",
                                    "Salary": "7000",
                                    "DepartmentId": "1"
                                },
                                {
                                    "ID": "108",
                                    "Name": "Sara",
                                    "Gender": "Female",
                                    "Salary": "4800",
                                    "DepartmentId": "3"
                                },
                                {
                                    "ID": "110",
                                    "Name": "James",
                                    "Gender": "Male",
                                    "Salary": "6500",
                                    "DepartmentId": "NULL"
                                },
                                {
                                    "ID": "111",
                                    "Name": "Russell",
                                    "Gender": "Male",
                                    "Salary": "8800",
                                    "DepartmentId": "NULL"
                                },
                                {
                                    "ID": "112",
                                    "Name": "Tom",
                                    "Gender": "Male",
                                    "Salary": "NULL",
                                    "DepartmentId": "2"
                                }
                            ]
                        },
                        "text/html": "<table><tr><th>ID</th><th>Name</th><th>Gender</th><th>Salary</th><th>DepartmentId</th></tr><tr><td>102</td><td>Mikey</td><td>Male</td><td>4000</td><td>1</td></tr><tr><td>103</td><td>Pam</td><td>Female</td><td>3000</td><td>3</td></tr><tr><td>104</td><td>John</td><td>Male</td><td>3500</td><td>1</td></tr><tr><td>105</td><td>Sam</td><td>Male</td><td>4500</td><td>2</td></tr><tr><td>106</td><td>Todd</td><td>Male</td><td>2800</td><td>2</td></tr><tr><td>107</td><td>Ben</td><td>Male</td><td>7000</td><td>1</td></tr><tr><td>108</td><td>Sara</td><td>Female</td><td>4800</td><td>3</td></tr><tr><td>110</td><td>James</td><td>Male</td><td>6500</td><td>NULL</td></tr><tr><td>111</td><td>Russell</td><td>Male</td><td>8800</td><td>NULL</td></tr><tr><td>112</td><td>Tom</td><td>Male</td><td>NULL</td><td>2</td></tr></table>"
                    },
                    "metadata": {}
                },
                {
                    "output_type": "execute_result",
                    "execution_count": 36,
                    "data": {
                        "application/vnd.dataresource+json": {
                            "schema": {
                                "fields": [
                                    {
                                        "name": "Id"
                                    },
                                    {
                                        "name": "DepartmentName"
                                    },
                                    {
                                        "name": "Location"
                                    },
                                    {
                                        "name": "DepartmentHead"
                                    }
                                ]
                            },
                            "data": [
                                {
                                    "Id": "1",
                                    "DepartmentName": "HR",
                                    "Location": "London",
                                    "DepartmentHead": "Rick"
                                },
                                {
                                    "Id": "2",
                                    "DepartmentName": "Payroll",
                                    "Location": "Delhi",
                                    "DepartmentHead": "Ron"
                                },
                                {
                                    "Id": "3",
                                    "DepartmentName": "HR",
                                    "Location": "New York",
                                    "DepartmentHead": "Christie"
                                },
                                {
                                    "Id": "4",
                                    "DepartmentName": "Other Department",
                                    "Location": "Sydney",
                                    "DepartmentHead": "Cindrella"
                                }
                            ]
                        },
                        "text/html": "<table><tr><th>Id</th><th>DepartmentName</th><th>Location</th><th>DepartmentHead</th></tr><tr><td>1</td><td>HR</td><td>London</td><td>Rick</td></tr><tr><td>2</td><td>Payroll</td><td>Delhi</td><td>Ron</td></tr><tr><td>3</td><td>HR</td><td>New York</td><td>Christie</td></tr><tr><td>4</td><td>Other Department</td><td>Sydney</td><td>Cindrella</td></tr></table>"
                    },
                    "metadata": {}
                }
            ],
            "execution_count": 36
        },
        {
            "cell_type": "code",
            "source": [
                "select * from vwEmployeesByDepartment;"
            ],
            "metadata": {
                "azdata_cell_guid": "f3b5ec56-d4fe-4559-9b23-f9f8a4bd766d",
                "language": "sql"
            },
            "outputs": [
                {
                    "output_type": "display_data",
                    "data": {
                        "text/html": "(10 rows affected)"
                    },
                    "metadata": {}
                },
                {
                    "output_type": "display_data",
                    "data": {
                        "text/html": "Total execution time: 00:00:00.016"
                    },
                    "metadata": {}
                },
                {
                    "output_type": "execute_result",
                    "execution_count": 49,
                    "data": {
                        "application/vnd.dataresource+json": {
                            "schema": {
                                "fields": [
                                    {
                                        "name": "Id"
                                    },
                                    {
                                        "name": "Name"
                                    },
                                    {
                                        "name": "Salary"
                                    },
                                    {
                                        "name": "Gender"
                                    },
                                    {
                                        "name": "DepartmentName"
                                    }
                                ]
                            },
                            "data": [
                                {
                                    "Id": "102",
                                    "Name": "Mikey",
                                    "Salary": "4000",
                                    "Gender": "Male",
                                    "DepartmentName": "HR"
                                },
                                {
                                    "Id": "103",
                                    "Name": "Pam",
                                    "Salary": "3000",
                                    "Gender": "Female",
                                    "DepartmentName": "HR"
                                },
                                {
                                    "Id": "104",
                                    "Name": "John",
                                    "Salary": "3500",
                                    "Gender": "Male",
                                    "DepartmentName": "HR"
                                },
                                {
                                    "Id": "105",
                                    "Name": "Sam",
                                    "Salary": "4500",
                                    "Gender": "Male",
                                    "DepartmentName": "Payroll"
                                },
                                {
                                    "Id": "106",
                                    "Name": "Todd",
                                    "Salary": "2800",
                                    "Gender": "Male",
                                    "DepartmentName": "Payroll"
                                },
                                {
                                    "Id": "107",
                                    "Name": "Ben",
                                    "Salary": "7000",
                                    "Gender": "Male",
                                    "DepartmentName": "HR"
                                },
                                {
                                    "Id": "108",
                                    "Name": "Sara",
                                    "Salary": "4800",
                                    "Gender": "Female",
                                    "DepartmentName": "HR"
                                },
                                {
                                    "Id": "112",
                                    "Name": "Tom",
                                    "Salary": "NULL",
                                    "Gender": "Male",
                                    "DepartmentName": "Payroll"
                                },
                                {
                                    "Id": "113",
                                    "Name": "Sneha",
                                    "Salary": "100099",
                                    "Gender": "Female",
                                    "DepartmentName": "HR"
                                },
                                {
                                    "Id": "114",
                                    "Name": "Pam Sara",
                                    "Salary": "10009999",
                                    "Gender": "Female",
                                    "DepartmentName": "Other Department"
                                }
                            ]
                        },
                        "text/html": "<table><tr><th>Id</th><th>Name</th><th>Salary</th><th>Gender</th><th>DepartmentName</th></tr><tr><td>102</td><td>Mikey</td><td>4000</td><td>Male</td><td>HR</td></tr><tr><td>103</td><td>Pam</td><td>3000</td><td>Female</td><td>HR</td></tr><tr><td>104</td><td>John</td><td>3500</td><td>Male</td><td>HR</td></tr><tr><td>105</td><td>Sam</td><td>4500</td><td>Male</td><td>Payroll</td></tr><tr><td>106</td><td>Todd</td><td>2800</td><td>Male</td><td>Payroll</td></tr><tr><td>107</td><td>Ben</td><td>7000</td><td>Male</td><td>HR</td></tr><tr><td>108</td><td>Sara</td><td>4800</td><td>Female</td><td>HR</td></tr><tr><td>112</td><td>Tom</td><td>NULL</td><td>Male</td><td>Payroll</td></tr><tr><td>113</td><td>Sneha</td><td>100099</td><td>Female</td><td>HR</td></tr><tr><td>114</td><td>Pam Sara</td><td>10009999</td><td>Female</td><td>Other Department</td></tr></table>"
                    },
                    "metadata": {}
                }
            ],
            "execution_count": 49
        },
        {
            "cell_type": "markdown",
            "source": [
                "## Instead of Insert trigger\r\n",
                "    Here we perfrom the insert operation using the INstEAD OF trigger.\r\n",
                "    We created this trigger on VIEW - which returns the list of Employees by their department."
            ],
            "metadata": {
                "language": "sql",
                "azdata_cell_guid": "6641d22d-e676-4dcc-87bd-55eb68fcd930"
            },
            "attachments": {}
        },
        {
            "cell_type": "code",
            "source": [
                "CREATE TRIGGER tr_vwEmployeesByDepartment_InsteadOfInsert\r\n",
                "on vwEmployeesByDepartment\r\n",
                "INSTEAD OF INSERT\r\n",
                "as \r\n",
                "BEGIN\r\n",
                "    -- Declare fields\r\n",
                "        DECLARE @DeptId INT\r\n",
                "\r\n",
                "    -- check if there is a valid DepartmentId for the given DepartmentName\r\n",
                "        SELECT @DeptId = t.Id\r\n",
                "        FROM tblDepartment t\r\n",
                "        JOIN inserted\r\n",
                "        ON inserted.DepartmentName = t.DepartmentName\r\n",
                "\r\n",
                "    -- IF DepartmentID is null throw an error and stop processing\r\n",
                "        if (@DeptId is null)\r\n",
                "        BEGIN\r\n",
                "            RAISERROR('Invalid Department Name. Statement terminated', 16, 1)\r\n",
                "            RETURN\r\n",
                "        END\r\n",
                "    \r\n",
                "    -- Finally insert into tblEmployee1 table\r\n",
                "        INSERT INTO tblEmployee1(Name,Gender,Salary,DepartmentId)\r\n",
                "        SELECT Name, Gender, Salary, @DeptId\r\n",
                "        FROM inserted\r\n",
                "END"
            ],
            "metadata": {
                "azdata_cell_guid": "47b7b959-35a7-4eca-8d71-29a5274b2152",
                "language": "sql",
                "tags": []
            },
            "outputs": [
                {
                    "output_type": "display_data",
                    "data": {
                        "text/html": "Commands completed successfully."
                    },
                    "metadata": {}
                },
                {
                    "output_type": "display_data",
                    "data": {
                        "text/html": "Total execution time: 00:00:00.006"
                    },
                    "metadata": {}
                }
            ],
            "execution_count": 46
        },
        {
            "cell_type": "code",
            "source": [
                "INSERT INTO vwEmployeesByDepartment (Name, Gender, Salary, DepartmentName) VALUES('Pam Sara','Female',10009999,'Other Department')"
            ],
            "metadata": {
                "azdata_cell_guid": "a809f8c2-0aea-4262-b159-722a0206e69d",
                "language": "sql"
            },
            "outputs": [
                {
                    "output_type": "display_data",
                    "data": {
                        "text/html": "(1 row affected)"
                    },
                    "metadata": {}
                },
                {
                    "output_type": "display_data",
                    "data": {
                        "text/html": "(1 row affected)"
                    },
                    "metadata": {}
                },
                {
                    "output_type": "display_data",
                    "data": {
                        "text/html": "Total execution time: 00:00:00.007"
                    },
                    "metadata": {}
                }
            ],
            "execution_count": 48
        },
        {
            "cell_type": "markdown",
            "source": [
                "## Instead of Update trigger"
            ],
            "metadata": {
                "language": "sql",
                "azdata_cell_guid": "e4a07fec-db31-457f-b049-b709bfc202a0"
            },
            "attachments": {}
        },
        {
            "cell_type": "code",
            "source": [
                "-- Create Insead Of Update trigger...\r\n",
                "CREATE TRIGGER tr_vwEmployeesByDepartment_InsteadOfUpdate\r\n",
                "on vwEmployeesByDepartment\r\n",
                "INSTEAD OF UPDATE\r\n",
                "AS\r\n",
                "BEGIN\r\n",
                "    -- if EmployeeId is updated\r\n",
                "        if (UPDATE(ID))\r\n",
                "        BEGIN\r\n",
                "            RAISERROR('ID cannot be changed', 16,1);\r\n",
                "            RETURN\r\n",
                "        END\r\n",
                "\r\n",
                "    -- if DpetName is updated\r\n",
                "        if (UPDATE(DepartmentName))\r\n",
                "        BEGIN\r\n",
                "            DECLARE @DeptId INT\r\n",
                "\r\n",
                "            SELECT @DeptId = t.Id\r\n",
                "            from tblDepartment as t\r\n",
                "            JOIN inserted\r\n",
                "            on inserted.DepartmentName = t.DepartmentName\r\n",
                "\r\n",
                "\t\t\tif (@DeptId is NULL)\r\n",
                "\t\t\tbegin\r\n",
                "\t\t\t\tRaiserror('Invalid department name',16,1)\r\n",
                "\t\t\t\treturn\r\n",
                "\t\t\tEND\r\n",
                "\r\n",
                "\t\t\tupdate tblEmployee1 set DepartmentId = @DeptId\r\n",
                "\t\t\tfrom inserted\r\n",
                "\t\t\tjoin tblEmployee1\r\n",
                "\t\t\ton tblEmployee1.ID = inserted.Id\r\n",
                "\t\tEND\r\n",
                "\r\n",
                "\t-- if name is updated\r\n",
                "\t\tif (UPDATE(Name))\r\n",
                "\t\tBegin\r\n",
                "\t\t\tupdate tblEmployee1 set Name = inserted.Name\r\n",
                "\t\t\tfrom inserted\r\n",
                "\t\t\tjoin tblEmployee1\r\n",
                "\t\t\ton tblEmployee1.ID = inserted.Id \r\n",
                "\t\tEND\r\n",
                "\r\n",
                "\t-- if gender is updated\r\n",
                "\t\tif (UPDATE(Gender))\r\n",
                "\t\tBegin\r\n",
                "\t\t\tupdate tblEmployee1 set Gender = inserted.Gender\r\n",
                "\t\t\tfrom inserted\r\n",
                "\t\t\tjoin tblEmployee1\r\n",
                "\t\t\ton tblEmployee1.ID = inserted.Id \r\n",
                "\t\tEND\r\n",
                "\r\n",
                "\t-- if salary is updated\r\n",
                "\t\tif (UPDATE(Salary))\r\n",
                "\t\tBegin\r\n",
                "\t\t\tupdate tblEmployee1 set Salary = inserted.Salary\r\n",
                "\t\t\tfrom inserted\r\n",
                "\t\t\tjoin tblEmployee1\r\n",
                "\t\t\ton tblEmployee1.ID = inserted.Id \r\n",
                "\t\tEND\r\n",
                "END"
            ],
            "metadata": {
                "azdata_cell_guid": "b5755726-2ef2-4c38-be80-c1079154d800",
                "language": "sql"
            },
            "outputs": [
                {
                    "output_type": "display_data",
                    "data": {
                        "text/html": "Commands completed successfully."
                    },
                    "metadata": {}
                },
                {
                    "output_type": "display_data",
                    "data": {
                        "text/html": "Total execution time: 00:00:00.010"
                    },
                    "metadata": {}
                }
            ],
            "execution_count": 10
        },
        {
            "cell_type": "code",
            "source": [
                "SELECT * FROM vwEmployeesByDepartment"
            ],
            "metadata": {
                "azdata_cell_guid": "3ddf3f23-29c6-4b1b-94a8-a0c2e1c7d48e",
                "language": "sql"
            },
            "outputs": [
                {
                    "output_type": "display_data",
                    "data": {
                        "text/html": "(10 rows affected)"
                    },
                    "metadata": {}
                },
                {
                    "output_type": "display_data",
                    "data": {
                        "text/html": "Total execution time: 00:00:00.012"
                    },
                    "metadata": {}
                },
                {
                    "output_type": "execute_result",
                    "execution_count": 9,
                    "data": {
                        "application/vnd.dataresource+json": {
                            "schema": {
                                "fields": [
                                    {
                                        "name": "Id"
                                    },
                                    {
                                        "name": "Name"
                                    },
                                    {
                                        "name": "Salary"
                                    },
                                    {
                                        "name": "Gender"
                                    },
                                    {
                                        "name": "DepartmentName"
                                    }
                                ]
                            },
                            "data": [
                                {
                                    "Id": "102",
                                    "Name": "Mikey Miley",
                                    "Salary": "100099",
                                    "Gender": "Female",
                                    "DepartmentName": "Other Department"
                                },
                                {
                                    "Id": "103",
                                    "Name": "Pam",
                                    "Salary": "3000",
                                    "Gender": "Female",
                                    "DepartmentName": "HR"
                                },
                                {
                                    "Id": "104",
                                    "Name": "John",
                                    "Salary": "3500",
                                    "Gender": "Male",
                                    "DepartmentName": "HR"
                                },
                                {
                                    "Id": "105",
                                    "Name": "Sam",
                                    "Salary": "4500",
                                    "Gender": "Male",
                                    "DepartmentName": "Payroll"
                                },
                                {
                                    "Id": "106",
                                    "Name": "Todd",
                                    "Salary": "2800",
                                    "Gender": "Male",
                                    "DepartmentName": "Payroll"
                                },
                                {
                                    "Id": "107",
                                    "Name": "Ben",
                                    "Salary": "7000",
                                    "Gender": "Male",
                                    "DepartmentName": "HR"
                                },
                                {
                                    "Id": "108",
                                    "Name": "Sara",
                                    "Salary": "4800",
                                    "Gender": "Female",
                                    "DepartmentName": "HR"
                                },
                                {
                                    "Id": "112",
                                    "Name": "Tom",
                                    "Salary": "NULL",
                                    "Gender": "Male",
                                    "DepartmentName": "Payroll"
                                },
                                {
                                    "Id": "113",
                                    "Name": "Sneha",
                                    "Salary": "100099",
                                    "Gender": "Female",
                                    "DepartmentName": "HR"
                                },
                                {
                                    "Id": "114",
                                    "Name": "Pam Sara",
                                    "Salary": "10009999",
                                    "Gender": "Female",
                                    "DepartmentName": "Other Department"
                                }
                            ]
                        },
                        "text/html": "<table><tr><th>Id</th><th>Name</th><th>Salary</th><th>Gender</th><th>DepartmentName</th></tr><tr><td>102</td><td>Mikey Miley</td><td>100099</td><td>Female</td><td>Other Department</td></tr><tr><td>103</td><td>Pam</td><td>3000</td><td>Female</td><td>HR</td></tr><tr><td>104</td><td>John</td><td>3500</td><td>Male</td><td>HR</td></tr><tr><td>105</td><td>Sam</td><td>4500</td><td>Male</td><td>Payroll</td></tr><tr><td>106</td><td>Todd</td><td>2800</td><td>Male</td><td>Payroll</td></tr><tr><td>107</td><td>Ben</td><td>7000</td><td>Male</td><td>HR</td></tr><tr><td>108</td><td>Sara</td><td>4800</td><td>Female</td><td>HR</td></tr><tr><td>112</td><td>Tom</td><td>NULL</td><td>Male</td><td>Payroll</td></tr><tr><td>113</td><td>Sneha</td><td>100099</td><td>Female</td><td>HR</td></tr><tr><td>114</td><td>Pam Sara</td><td>10009999</td><td>Female</td><td>Other Department</td></tr></table>"
                    },
                    "metadata": {}
                }
            ],
            "execution_count": 9
        },
        {
            "cell_type": "code",
            "source": [
                "UPDATE vwEmployeesByDepartment SET DepartmentName = 'Other Department', Name='Mikey Miley', Gender='Female', Salary=100099 WHERE Id = 102"
            ],
            "metadata": {
                "azdata_cell_guid": "0c2c8215-8cf8-4e87-8eea-83786a968eb7",
                "language": "sql"
            },
            "outputs": [
                {
                    "output_type": "display_data",
                    "data": {
                        "text/html": "(1 row affected)"
                    },
                    "metadata": {}
                },
                {
                    "output_type": "display_data",
                    "data": {
                        "text/html": "(1 row affected)"
                    },
                    "metadata": {}
                },
                {
                    "output_type": "display_data",
                    "data": {
                        "text/html": "(1 row affected)"
                    },
                    "metadata": {}
                },
                {
                    "output_type": "display_data",
                    "data": {
                        "text/html": "(1 row affected)"
                    },
                    "metadata": {}
                },
                {
                    "output_type": "display_data",
                    "data": {
                        "text/html": "(1 row affected)"
                    },
                    "metadata": {}
                },
                {
                    "output_type": "display_data",
                    "data": {
                        "text/html": "Total execution time: 00:00:00.023"
                    },
                    "metadata": {}
                }
            ],
            "execution_count": 8
        },
        {
            "cell_type": "markdown",
            "source": [
                "## Instead Of Delete trigger\r\n",
                "\r\n",
                "    Trigger             |       INSERTED OR DELETED\r\n",
                "    Instead of Insert   |       DELETED table is always empty and the INSERTED table contains the newly inserted data.\r\n",
                "    Instead of Delete   |       INSERTED table is always empty and the DELETED table contains the rows deleted\r\n",
                "    Instead of Update   |       DELETED table contains OLD data (before update), and inserted table contains NEW data(Updated data)\r\n",
                "\r\n",
                "\r\n",
                "**Note:** In most cases JOINS are faster than SUB-QUERIES. However, in cases, where you only need a subset of records from a table that you are joining with, sub-queries can be faster."
            ],
            "metadata": {
                "language": "sql",
                "azdata_cell_guid": "ec670389-2362-4fb7-89c1-a36f35fe5258"
            },
            "attachments": {}
        },
        {
            "cell_type": "code",
            "source": [
                "DELETE from vwEmployeesByDepartment WHERE Id = 102"
            ],
            "metadata": {
                "azdata_cell_guid": "f710ecbf-7738-43d3-b2a9-b13b37471db7",
                "language": "sql"
            },
            "outputs": [
                {
                    "output_type": "error",
                    "ename": "",
                    "evalue": "Msg 4405, Level 16, State 1, Line 1\r\nView or function 'vwEmployeesByDepartment' is not updatable because the modification affects multiple base tables.",
                    "traceback": []
                },
                {
                    "output_type": "display_data",
                    "data": {
                        "text/html": "Total execution time: 00:00:00.041"
                    },
                    "metadata": {}
                }
            ],
            "execution_count": 11
        },
        {
            "cell_type": "code",
            "source": [
                "CREATE Trigger tr_vwEmployeesByDepartment_InsteadOfDelete\r\n",
                "on vwEmployeesByDepartment\r\n",
                "INSTEAD OF DELETE\r\n",
                "as \r\n",
                "BEGIN\r\n",
                "    DELETE tblEmployee1\r\n",
                "    FROM tblEmployee1\r\n",
                "    join deleted\r\n",
                "    on tblEmployee1.ID = deleted.Id\r\n",
                "END"
            ],
            "metadata": {
                "azdata_cell_guid": "f8716139-de63-4a65-bd4a-1810530f8929",
                "language": "sql"
            },
            "outputs": [
                {
                    "output_type": "display_data",
                    "data": {
                        "text/html": "Commands completed successfully."
                    },
                    "metadata": {}
                },
                {
                    "output_type": "display_data",
                    "data": {
                        "text/html": "Total execution time: 00:00:00.003"
                    },
                    "metadata": {}
                }
            ],
            "execution_count": 13
        },
        {
            "cell_type": "code",
            "source": [
                "DELETE from vwEmployeesByDepartment WHERE Id = 102"
            ],
            "metadata": {
                "azdata_cell_guid": "6a3e7b6d-16ba-4f64-965c-965eff578385",
                "language": "sql"
            },
            "outputs": [
                {
                    "output_type": "display_data",
                    "data": {
                        "text/html": "(1 row affected)"
                    },
                    "metadata": {}
                },
                {
                    "output_type": "display_data",
                    "data": {
                        "text/html": "(1 row affected)"
                    },
                    "metadata": {}
                },
                {
                    "output_type": "display_data",
                    "data": {
                        "text/html": "Total execution time: 00:00:00.006"
                    },
                    "metadata": {}
                }
            ],
            "execution_count": 14
        },
        {
            "cell_type": "code",
            "source": [
                "SELECT * FROM vwEmployeesByDepartment"
            ],
            "metadata": {
                "azdata_cell_guid": "c3a289c5-a756-435f-a4a5-be9c61e98862",
                "language": "sql"
            },
            "outputs": [
                {
                    "output_type": "display_data",
                    "data": {
                        "text/html": "(9 rows affected)"
                    },
                    "metadata": {}
                },
                {
                    "output_type": "display_data",
                    "data": {
                        "text/html": "Total execution time: 00:00:00.071"
                    },
                    "metadata": {}
                },
                {
                    "output_type": "execute_result",
                    "execution_count": 15,
                    "data": {
                        "application/vnd.dataresource+json": {
                            "schema": {
                                "fields": [
                                    {
                                        "name": "Id"
                                    },
                                    {
                                        "name": "Name"
                                    },
                                    {
                                        "name": "Salary"
                                    },
                                    {
                                        "name": "Gender"
                                    },
                                    {
                                        "name": "DepartmentName"
                                    }
                                ]
                            },
                            "data": [
                                {
                                    "Id": "103",
                                    "Name": "Pam",
                                    "Salary": "3000",
                                    "Gender": "Female",
                                    "DepartmentName": "HR"
                                },
                                {
                                    "Id": "104",
                                    "Name": "John",
                                    "Salary": "3500",
                                    "Gender": "Male",
                                    "DepartmentName": "HR"
                                },
                                {
                                    "Id": "105",
                                    "Name": "Sam",
                                    "Salary": "4500",
                                    "Gender": "Male",
                                    "DepartmentName": "Payroll"
                                },
                                {
                                    "Id": "106",
                                    "Name": "Todd",
                                    "Salary": "2800",
                                    "Gender": "Male",
                                    "DepartmentName": "Payroll"
                                },
                                {
                                    "Id": "107",
                                    "Name": "Ben",
                                    "Salary": "7000",
                                    "Gender": "Male",
                                    "DepartmentName": "HR"
                                },
                                {
                                    "Id": "108",
                                    "Name": "Sara",
                                    "Salary": "4800",
                                    "Gender": "Female",
                                    "DepartmentName": "HR"
                                },
                                {
                                    "Id": "112",
                                    "Name": "Tom",
                                    "Salary": "NULL",
                                    "Gender": "Male",
                                    "DepartmentName": "Payroll"
                                },
                                {
                                    "Id": "113",
                                    "Name": "Sneha",
                                    "Salary": "100099",
                                    "Gender": "Female",
                                    "DepartmentName": "HR"
                                },
                                {
                                    "Id": "114",
                                    "Name": "Pam Sara",
                                    "Salary": "10009999",
                                    "Gender": "Female",
                                    "DepartmentName": "Other Department"
                                }
                            ]
                        },
                        "text/html": "<table><tr><th>Id</th><th>Name</th><th>Salary</th><th>Gender</th><th>DepartmentName</th></tr><tr><td>103</td><td>Pam</td><td>3000</td><td>Female</td><td>HR</td></tr><tr><td>104</td><td>John</td><td>3500</td><td>Male</td><td>HR</td></tr><tr><td>105</td><td>Sam</td><td>4500</td><td>Male</td><td>Payroll</td></tr><tr><td>106</td><td>Todd</td><td>2800</td><td>Male</td><td>Payroll</td></tr><tr><td>107</td><td>Ben</td><td>7000</td><td>Male</td><td>HR</td></tr><tr><td>108</td><td>Sara</td><td>4800</td><td>Female</td><td>HR</td></tr><tr><td>112</td><td>Tom</td><td>NULL</td><td>Male</td><td>Payroll</td></tr><tr><td>113</td><td>Sneha</td><td>100099</td><td>Female</td><td>HR</td></tr><tr><td>114</td><td>Pam Sara</td><td>10009999</td><td>Female</td><td>Other Department</td></tr></table>"
                    },
                    "metadata": {}
                }
            ],
            "execution_count": 15
        },
        {
            "cell_type": "markdown",
            "source": [
                "## Derived Tables and Common Table Expression (CTE)\r\n",
                "    Derived tables and common table expressions Compare with - Views, Table Variable, Local and Global Temp Tables\r\n",
                "\r\n",
                "---\r\n",
                "We have the View below which returns the summarized data of the Employees and their department.\r\n",
                "\r\n",
                ""
            ],
            "metadata": {
                "azdata_cell_guid": "14de5d4f-bcbf-44f8-bc48-4b062ed9ed3d"
            },
            "attachments": {}
        },
        {
            "cell_type": "code",
            "source": [
                "sp_helptext vwSummarizedData"
            ],
            "metadata": {
                "azdata_cell_guid": "4d8fbe3e-40fe-4627-93c7-2d46a6e53fa7",
                "language": "sql"
            },
            "outputs": [
                {
                    "output_type": "display_data",
                    "data": {
                        "text/html": "Commands completed successfully."
                    },
                    "metadata": {}
                },
                {
                    "output_type": "display_data",
                    "data": {
                        "text/html": "Total execution time: 00:00:00.095"
                    },
                    "metadata": {}
                },
                {
                    "output_type": "execute_result",
                    "metadata": {},
                    "execution_count": 7,
                    "data": {
                        "application/vnd.dataresource+json": {
                            "schema": {
                                "fields": [
                                    {
                                        "name": "Text"
                                    }
                                ]
                            },
                            "data": [
                                {
                                    "Text": "CREATE VIEW vwSummarizedData\r\n"
                                },
                                {
                                    "Text": "as\r\n"
                                },
                                {
                                    "Text": "SELECT      DepartmentName, Count(*) as TotalEmployees \r\n"
                                },
                                {
                                    "Text": "from        tblEmployee1\r\n"
                                },
                                {
                                    "Text": "JOIN        tblDepartment \r\n"
                                },
                                {
                                    "Text": "ON          tblEmployee1.DepartmentId = tblDepartment.Id \r\n"
                                },
                                {
                                    "Text": "GROUP By    DepartmentName"
                                }
                            ]
                        },
                        "text/html": [
                            "<table>",
                            "<tr><th>Text</th></tr>",
                            "<tr><td>CREATE VIEW vwSummarizedData\r\n</td></tr>",
                            "<tr><td>as\r\n</td></tr>",
                            "<tr><td>SELECT      DepartmentName, Count(*) as TotalEmployees \r\n</td></tr>",
                            "<tr><td>from        tblEmployee1\r\n</td></tr>",
                            "<tr><td>JOIN        tblDepartment \r\n</td></tr>",
                            "<tr><td>ON          tblEmployee1.DepartmentId = tblDepartment.Id \r\n</td></tr>",
                            "<tr><td>GROUP By    DepartmentName</td></tr>",
                            "</table>"
                        ]
                    }
                }
            ],
            "execution_count": 7
        },
        {
            "cell_type": "code",
            "source": [
                "select * from vwSummarizedData"
            ],
            "metadata": {
                "azdata_cell_guid": "bf62ad8a-552f-4347-949d-240f37812e0a",
                "language": "sql"
            },
            "outputs": [
                {
                    "output_type": "display_data",
                    "data": {
                        "text/html": "(3 rows affected)"
                    },
                    "metadata": {}
                },
                {
                    "output_type": "display_data",
                    "data": {
                        "text/html": "Total execution time: 00:00:00.012"
                    },
                    "metadata": {}
                },
                {
                    "output_type": "execute_result",
                    "metadata": {},
                    "execution_count": 9,
                    "data": {
                        "application/vnd.dataresource+json": {
                            "schema": {
                                "fields": [
                                    {
                                        "name": "DepartmentName"
                                    },
                                    {
                                        "name": "TotalEmployees"
                                    }
                                ]
                            },
                            "data": [
                                {
                                    "DepartmentName": "HR",
                                    "TotalEmployees": "5"
                                },
                                {
                                    "DepartmentName": "Other Department",
                                    "TotalEmployees": "1"
                                },
                                {
                                    "DepartmentName": "Payroll",
                                    "TotalEmployees": "3"
                                }
                            ]
                        },
                        "text/html": [
                            "<table>",
                            "<tr><th>DepartmentName</th><th>TotalEmployees</th></tr>",
                            "<tr><td>HR</td><td>5</td></tr>",
                            "<tr><td>Other Department</td><td>1</td></tr>",
                            "<tr><td>Payroll</td><td>3</td></tr>",
                            "</table>"
                        ]
                    }
                }
            ],
            "execution_count": 9
        },
        {
            "cell_type": "markdown",
            "source": [
                "<span style=\"color: #569cd6;font-weight: bold;\">**Note:**</span> Views get saved in the database, and can be available to other queries and stored procedures. However, if this view is only used at this one place, it can be easily eliominated using other options, like CTE, Derived Tables, Temp Tables, Table Variable etc."
            ],
            "metadata": {
                "azdata_cell_guid": "c51744f5-8112-449f-a1c9-837ed5e9a599"
            },
            "attachments": {}
        },
        {
            "cell_type": "markdown",
            "source": [
                "## Above we can achieve with the Temp Tables"
            ],
            "metadata": {
                "azdata_cell_guid": "95b7b03f-314c-40f6-a8a5-85116cc1ef41"
            },
            "attachments": {}
        },
        {
            "cell_type": "code",
            "source": [
                "SELECT      DepartmentName, Count(*) as TotalEmployees  \r\n",
                "into        #TempEmployeeCount\r\n",
                "from        tblEmployee1 \r\n",
                "JOIN        tblDepartment  \r\n",
                "ON          tblEmployee1.DepartmentId = tblDepartment.Id  \r\n",
                "GROUP By    DepartmentName\r\n",
                "\r\n",
                "SELECT      DepartmentName, TotalEMployees\r\n",
                "FROM        #TempEmployeeCount\r\n",
                "\r\n",
                "\r\n",
                "-- It is always best practice to drop the TempTable after use...\r\n",
                "--DROP Table #TempEmployeeCount"
            ],
            "metadata": {
                "azdata_cell_guid": "977c3061-0441-447c-a45b-5a0675b9fcfd",
                "language": "sql"
            },
            "outputs": [
                {
                    "output_type": "display_data",
                    "data": {
                        "text/html": "(3 rows affected)"
                    },
                    "metadata": {}
                },
                {
                    "output_type": "display_data",
                    "data": {
                        "text/html": "(3 rows affected)"
                    },
                    "metadata": {}
                },
                {
                    "output_type": "display_data",
                    "data": {
                        "text/html": "Total execution time: 00:00:00.009"
                    },
                    "metadata": {}
                },
                {
                    "output_type": "execute_result",
                    "metadata": {},
                    "execution_count": 10,
                    "data": {
                        "application/vnd.dataresource+json": {
                            "schema": {
                                "fields": [
                                    {
                                        "name": "DepartmentName"
                                    },
                                    {
                                        "name": "TotalEMployees"
                                    }
                                ]
                            },
                            "data": [
                                {
                                    "DepartmentName": "HR",
                                    "TotalEMployees": "5"
                                },
                                {
                                    "DepartmentName": "Other Department",
                                    "TotalEMployees": "1"
                                },
                                {
                                    "DepartmentName": "Payroll",
                                    "TotalEMployees": "3"
                                }
                            ]
                        },
                        "text/html": [
                            "<table>",
                            "<tr><th>DepartmentName</th><th>TotalEMployees</th></tr>",
                            "<tr><td>HR</td><td>5</td></tr>",
                            "<tr><td>Other Department</td><td>1</td></tr>",
                            "<tr><td>Payroll</td><td>3</td></tr>",
                            "</table>"
                        ]
                    }
                }
            ],
            "execution_count": 10
        },
        {
            "cell_type": "markdown",
            "source": [
                "**Note:** Temporary tables are stored in TEmpDB. Local temporary tables are visible only in the current session, and can be shared b/w nested stored prcedure calls. Global temprary tables are visible to other sessions and are detroyed, when the last connection referencing the table is closed."
            ],
            "metadata": {
                "azdata_cell_guid": "106215bd-e0ab-4483-8ce3-e09c0d09a62b"
            },
            "attachments": {}
        },
        {
            "cell_type": "markdown",
            "source": [
                "## Above we can achieve with the Table Variable\r\n",
                ""
            ],
            "metadata": {
                "azdata_cell_guid": "2eedbc48-fa8e-47c8-9a86-7ffa7e75415e"
            },
            "attachments": {}
        },
        {
            "cell_type": "code",
            "source": [
                "DECLARE     @tblEmployeeCOunt table(DepartmentName nvarchar(30), TotalEmployees int)\r\n",
                "\r\n",
                "Insert      @tblEmployeeCount\r\n",
                "SELECT      DepartmentName, Count(*) as TotalEmployees  \r\n",
                "from        tblEmployee1 \r\n",
                "JOIN        tblDepartment  \r\n",
                "ON          tblEmployee1.DepartmentId = tblDepartment.Id  \r\n",
                "GROUP By    DepartmentName\r\n",
                "\r\n",
                "SELECT      DepartmentName, TotalEMployees\r\n",
                "FROM        @tblEmployeeCount"
            ],
            "metadata": {
                "azdata_cell_guid": "83a09237-d216-4cb6-acb8-6c8226c96bcd",
                "language": "sql"
            },
            "outputs": [
                {
                    "output_type": "display_data",
                    "data": {
                        "text/html": "(3 rows affected)"
                    },
                    "metadata": {}
                },
                {
                    "output_type": "display_data",
                    "data": {
                        "text/html": "(3 rows affected)"
                    },
                    "metadata": {}
                },
                {
                    "output_type": "display_data",
                    "data": {
                        "text/html": "Total execution time: 00:00:00.070"
                    },
                    "metadata": {}
                },
                {
                    "output_type": "execute_result",
                    "metadata": {},
                    "execution_count": 14,
                    "data": {
                        "application/vnd.dataresource+json": {
                            "schema": {
                                "fields": [
                                    {
                                        "name": "DepartmentName"
                                    },
                                    {
                                        "name": "TotalEMployees"
                                    }
                                ]
                            },
                            "data": [
                                {
                                    "DepartmentName": "HR",
                                    "TotalEMployees": "5"
                                },
                                {
                                    "DepartmentName": "Other Department",
                                    "TotalEMployees": "1"
                                },
                                {
                                    "DepartmentName": "Payroll",
                                    "TotalEMployees": "3"
                                }
                            ]
                        },
                        "text/html": [
                            "<table>",
                            "<tr><th>DepartmentName</th><th>TotalEMployees</th></tr>",
                            "<tr><td>HR</td><td>5</td></tr>",
                            "<tr><td>Other Department</td><td>1</td></tr>",
                            "<tr><td>Payroll</td><td>3</td></tr>",
                            "</table>"
                        ]
                    }
                }
            ],
            "execution_count": 14
        },
        {
            "cell_type": "markdown",
            "source": [
                "**Note** Just like TempTables, a table vari"
            ],
            "metadata": {
                "azdata_cell_guid": "346294ac-4e44-4296-ba57-18086ffd8e64"
            },
            "attachments": {}
        },
        {
            "cell_type": "code",
            "source": [
                "SELECT      DepartmentName, TotalEMployees\r\n",
                "FROM        @tblEmployeeCount"
            ],
            "metadata": {
                "azdata_cell_guid": "4f1c2be2-ad06-4686-9426-19957c03c50c",
                "language": "sql"
            },
            "outputs": [
                {
                    "output_type": "error",
                    "evalue": "Msg 1087, Level 15, State 2, Line 2\r\nMust declare the table variable \"@tblEmployeeCount\".",
                    "ename": "",
                    "traceback": []
                },
                {
                    "output_type": "display_data",
                    "data": {
                        "text/html": "Total execution time: 00:00:00.001"
                    },
                    "metadata": {}
                }
            ],
            "execution_count": 15
        },
        {
            "cell_type": "markdown",
            "source": [
                "**Note:** Just like TempTables, a table variable is also created in TempDB. The scope of a table variable is the batch, stored procedure, or statement block in which it is declared. They can be passed as parameters b/w procedures."
            ],
            "metadata": {
                "azdata_cell_guid": "327a6a70-92a7-401e-b513-9f9d0f486cd9"
            },
            "attachments": {}
        },
        {
            "cell_type": "markdown",
            "source": [
                "## Above we can achieve with the Derived Tables\r\n",
                ""
            ],
            "metadata": {
                "azdata_cell_guid": "7d0092ba-ff45-42d8-a399-98673fdfb4be"
            },
            "attachments": {}
        },
        {
            "cell_type": "code",
            "source": [
                "SELECT      DepartmentName, TotalEmployees\r\n",
                "FROM (\r\n",
                "        SELECT      DepartmentName, Count(*) as TotalEmployees  \r\n",
                "        from        tblEmployee1 \r\n",
                "        JOIN        tblDepartment  \r\n",
                "        ON          tblEmployee1.DepartmentId = tblDepartment.Id  \r\n",
                "        GROUP By    DepartmentName\r\n",
                "    )\r\n",
                "as EmployeeCount\r\n",
                "\r\n",
                "-- EmployeeCount is the derived table"
            ],
            "metadata": {
                "azdata_cell_guid": "0ab82114-b3e8-4c1a-9b16-1dbe144b3bdb",
                "language": "sql"
            },
            "outputs": [
                {
                    "output_type": "display_data",
                    "data": {
                        "text/html": "(3 rows affected)"
                    },
                    "metadata": {}
                },
                {
                    "output_type": "display_data",
                    "data": {
                        "text/html": "Total execution time: 00:00:00.012"
                    },
                    "metadata": {}
                },
                {
                    "output_type": "execute_result",
                    "metadata": {},
                    "execution_count": 16,
                    "data": {
                        "application/vnd.dataresource+json": {
                            "schema": {
                                "fields": [
                                    {
                                        "name": "DepartmentName"
                                    },
                                    {
                                        "name": "TotalEmployees"
                                    }
                                ]
                            },
                            "data": [
                                {
                                    "DepartmentName": "HR",
                                    "TotalEmployees": "5"
                                },
                                {
                                    "DepartmentName": "Other Department",
                                    "TotalEmployees": "1"
                                },
                                {
                                    "DepartmentName": "Payroll",
                                    "TotalEmployees": "3"
                                }
                            ]
                        },
                        "text/html": [
                            "<table>",
                            "<tr><th>DepartmentName</th><th>TotalEmployees</th></tr>",
                            "<tr><td>HR</td><td>5</td></tr>",
                            "<tr><td>Other Department</td><td>1</td></tr>",
                            "<tr><td>Payroll</td><td>3</td></tr>",
                            "</table>"
                        ]
                    }
                }
            ],
            "execution_count": 16
        },
        {
            "cell_type": "markdown",
            "source": [
                "**Note:** Derived tables are available only in the context of the current query."
            ],
            "metadata": {
                "azdata_cell_guid": "c989095e-ac7d-4e38-a3c8-373a8d0a8a11"
            },
            "attachments": {}
        },
        {
            "cell_type": "markdown",
            "source": [
                "## Above we can achieve with the CTE - COMMON TABLE EXPRESSION\r\n",
                ""
            ],
            "metadata": {
                "azdata_cell_guid": "847c2199-8e66-4c4c-a82b-59ef5dff2f23"
            },
            "attachments": {}
        },
        {
            "cell_type": "code",
            "source": [
                "WITH EmployeeCount(DepartmentName, TotalEmployees)\r\n",
                "as\r\n",
                "(\r\n",
                "    SELECT      DepartmentName, Count(*) as TotalEmployees  \r\n",
                "    from        tblEmployee1 \r\n",
                "    JOIN        tblDepartment  \r\n",
                "    ON          tblEmployee1.DepartmentId = tblDepartment.Id  \r\n",
                "    GROUP By    DepartmentName\r\n",
                ")\r\n",
                "\r\n",
                "SELECT DepartmentName, TotalEmployees FROM EmployeeCount"
            ],
            "metadata": {
                "azdata_cell_guid": "bebb79d3-2474-4c94-a348-441948720d8e",
                "language": "sql"
            },
            "outputs": [
                {
                    "output_type": "display_data",
                    "data": {
                        "text/html": "(3 rows affected)"
                    },
                    "metadata": {}
                },
                {
                    "output_type": "display_data",
                    "data": {
                        "text/html": "Total execution time: 00:00:00.007"
                    },
                    "metadata": {}
                },
                {
                    "output_type": "execute_result",
                    "metadata": {},
                    "execution_count": 17,
                    "data": {
                        "application/vnd.dataresource+json": {
                            "schema": {
                                "fields": [
                                    {
                                        "name": "DepartmentName"
                                    },
                                    {
                                        "name": "TotalEmployees"
                                    }
                                ]
                            },
                            "data": [
                                {
                                    "DepartmentName": "HR",
                                    "TotalEmployees": "5"
                                },
                                {
                                    "DepartmentName": "Other Department",
                                    "TotalEmployees": "1"
                                },
                                {
                                    "DepartmentName": "Payroll",
                                    "TotalEmployees": "3"
                                }
                            ]
                        },
                        "text/html": [
                            "<table>",
                            "<tr><th>DepartmentName</th><th>TotalEmployees</th></tr>",
                            "<tr><td>HR</td><td>5</td></tr>",
                            "<tr><td>Other Department</td><td>1</td></tr>",
                            "<tr><td>Payroll</td><td>3</td></tr>",
                            "</table>"
                        ]
                    }
                }
            ],
            "execution_count": 17
        },
        {
            "cell_type": "markdown",
            "source": [
                "**Note:** A CTE can be thought of as a temporary result set that is defined within the execution scope of a single SELECT, INSER, UPDATE, DELETE, or CREATE VIEW statement. A CTE is similar to a derived table in that it is not stored as an object and lasts only for the duration of the query."
            ],
            "metadata": {
                "azdata_cell_guid": "ddf3072d-1fd9-4066-9ddf-cdc650da1f49"
            },
            "attachments": {}
        },
        {
            "cell_type": "markdown",
            "source": [
                "## CTE - Common Table Expression\r\n",
                "***Common table expression (CTE)*** is introduced in SQL server 2005. A CTE is a temporary result set, that can be referenced within a SELECT, INSERT, UPDATE, or DELETE statement, that immediately follows the CTE.\r\n",
                "\r\n",
                "---\r\n",
                "\r\n",
                "### Syntax\r\n",
                "    WITH cte_name (Column1, Column2,.....) \r\n",
                "    as \r\n",
                "    (\r\n",
                "        CTE_query\r\n",
                "    )\r\n",
                "\r\n",
                ""
            ],
            "metadata": {
                "azdata_cell_guid": "ed586ad9-f434-4069-aad9-bebe5b80c737"
            },
            "attachments": {}
        },
        {
            "cell_type": "code",
            "source": [
                "WITH EmployeeCount(DepartmentId, TotalEmployees)\r\n",
                "as\r\n",
                "(\r\n",
                "    SELECT      DepartmentId, Count(*) as TotalEmployees  \r\n",
                "    from        tblEmployee1\r\n",
                "    GROUP By    DepartmentId\r\n",
                ")\r\n",
                "\r\n",
                "SELECT      DepartmentName, TotalEmployees \r\n",
                "FROM        tblDepartment\r\n",
                "JOIN        EmployeeCount\r\n",
                "ON          tblDepartment.Id = EmployeeCount.DepartmentId\r\n",
                "ORDER BY    TotalEmployees"
            ],
            "metadata": {
                "azdata_cell_guid": "dfe3dc11-864a-4ca0-b52f-eefff20af2d1",
                "language": "sql"
            },
            "outputs": [
                {
                    "output_type": "display_data",
                    "data": {
                        "text/html": "(4 rows affected)"
                    },
                    "metadata": {}
                },
                {
                    "output_type": "display_data",
                    "data": {
                        "text/html": "Total execution time: 00:00:00.012"
                    },
                    "metadata": {}
                },
                {
                    "output_type": "execute_result",
                    "metadata": {},
                    "execution_count": 19,
                    "data": {
                        "application/vnd.dataresource+json": {
                            "schema": {
                                "fields": [
                                    {
                                        "name": "DepartmentName"
                                    },
                                    {
                                        "name": "TotalEmployees"
                                    }
                                ]
                            },
                            "data": [
                                {
                                    "DepartmentName": "Other Department",
                                    "TotalEmployees": "1"
                                },
                                {
                                    "DepartmentName": "HR",
                                    "TotalEmployees": "2"
                                },
                                {
                                    "DepartmentName": "Payroll",
                                    "TotalEmployees": "3"
                                },
                                {
                                    "DepartmentName": "IT",
                                    "TotalEmployees": "3"
                                }
                            ]
                        },
                        "text/html": [
                            "<table>",
                            "<tr><th>DepartmentName</th><th>TotalEmployees</th></tr>",
                            "<tr><td>Other Department</td><td>1</td></tr>",
                            "<tr><td>HR</td><td>2</td></tr>",
                            "<tr><td>Payroll</td><td>3</td></tr>",
                            "<tr><td>IT</td><td>3</td></tr>",
                            "</table>"
                        ]
                    }
                }
            ],
            "execution_count": 19
        },
        {
            "cell_type": "markdown",
            "source": [
                "### A CTE can only be referenced by a SELECT, INSERT, UPDATE, or DELETE statement, that immediately follows the CTE."
            ],
            "metadata": {
                "azdata_cell_guid": "0d22d301-9bab-4ea1-81e6-8bf0a4e689bb"
            },
            "attachments": {}
        },
        {
            "cell_type": "code",
            "source": [
                "WITH EmployeeCount(DepartmentId, TotalEmployees)\r\n",
                "as\r\n",
                "(\r\n",
                "    SELECT      DepartmentId, Count(*) as TotalEmployees  \r\n",
                "    from        tblEmployee1\r\n",
                "    GROUP By    DepartmentId\r\n",
                ")\r\n",
                "\r\n",
                "SELECT 'Say Hello'\r\n",
                "\r\n",
                "SELECT      DepartmentName, TotalEmployees \r\n",
                "FROM        tblDepartment\r\n",
                "JOIN        EmployeeCount\r\n",
                "ON          tblDepartment.Id = EmployeeCount.DepartmentId\r\n",
                "ORDER BY    TotalEmployees"
            ],
            "metadata": {
                "azdata_cell_guid": "f7804728-183e-4fe8-8779-0fe83619f9d8",
                "language": "sql"
            },
            "outputs": [
                {
                    "output_type": "error",
                    "evalue": "Msg 422, Level 16, State 4, Line 11\r\nCommon table expression defined but not used.",
                    "ename": "",
                    "traceback": []
                },
                {
                    "output_type": "display_data",
                    "data": {
                        "text/html": "Total execution time: 00:00:00.003"
                    },
                    "metadata": {}
                }
            ],
            "execution_count": 20
        },
        {
            "cell_type": "markdown",
            "source": [
                "## Creating multiple CTE's using a single WITH clause"
            ],
            "metadata": {
                "azdata_cell_guid": "00b39c37-9dca-451b-9864-1c6988bd8941"
            },
            "attachments": {}
        },
        {
            "cell_type": "code",
            "source": [
                "WITH EmployeesCountBy_Payroll_IT_Dept (DepartmentName, Total)\r\n",
                "AS\r\n",
                "(\r\n",
                "    SELECT t2.DepartmentName, COUNT(t1.ID) as TotalEmployees\r\n",
                "    FROM tblEmployee1 as t1\r\n",
                "    JOIN tblDepartment as t2 ON t1.DepartmentId = t2.Id \r\n",
                "    WHERE t2.DepartmentName IN ('Payroll', 'IT') \r\n",
                "    GROUP BY t2.DepartmentName\r\n",
                "),\r\n",
                "EmployeesCountBy_HR_OtherDept (DepartmentName, Total)\r\n",
                "AS\r\n",
                "(\r\n",
                "    SELECT DepartmentName, COUNT(t1.ID) as TotalEmployees\r\n",
                "    FROM tblEmployee1 as t1\r\n",
                "    JOIN tblDepartment as t2 ON t1.DepartmentId = t2.Id \r\n",
                "    WHERE t2.DepartmentName IN ('HR', 'Other Department')\r\n",
                "    GROUP BY t2.DepartmentName\r\n",
                ")\r\n",
                "    \r\n",
                "SELECT * FROM EmployeesCountBy_Payroll_IT_Dept\r\n",
                "UNION\r\n",
                "SELECT * FROM EmployeesCountBy_HR_OtherDept\r\n",
                "--ORDER BY Total;\r\n",
                ""
            ],
            "metadata": {
                "azdata_cell_guid": "4c825562-39ea-4dad-8d0d-69c8a983d188",
                "language": "sql",
                "tags": []
            },
            "outputs": [
                {
                    "output_type": "display_data",
                    "data": {
                        "text/html": "(4 rows affected)"
                    },
                    "metadata": {}
                },
                {
                    "output_type": "display_data",
                    "data": {
                        "text/html": "Total execution time: 00:00:00.009"
                    },
                    "metadata": {}
                },
                {
                    "output_type": "execute_result",
                    "metadata": {},
                    "execution_count": 36,
                    "data": {
                        "application/vnd.dataresource+json": {
                            "schema": {
                                "fields": [
                                    {
                                        "name": "DepartmentName"
                                    },
                                    {
                                        "name": "Total"
                                    }
                                ]
                            },
                            "data": [
                                {
                                    "DepartmentName": "HR",
                                    "Total": "2"
                                },
                                {
                                    "DepartmentName": "IT",
                                    "Total": "3"
                                },
                                {
                                    "DepartmentName": "Other Department",
                                    "Total": "1"
                                },
                                {
                                    "DepartmentName": "Payroll",
                                    "Total": "3"
                                }
                            ]
                        },
                        "text/html": [
                            "<table>",
                            "<tr><th>DepartmentName</th><th>Total</th></tr>",
                            "<tr><td>HR</td><td>2</td></tr>",
                            "<tr><td>IT</td><td>3</td></tr>",
                            "<tr><td>Other Department</td><td>1</td></tr>",
                            "<tr><td>Payroll</td><td>3</td></tr>",
                            "</table>"
                        ]
                    }
                }
            ],
            "execution_count": 36
        }
    ]
}