{
    "metadata": {
        "kernelspec": {
            "name": "SQL",
            "display_name": "SQL",
            "language": "sql"
        },
        "language_info": {
            "name": "sql",
            "version": ""
        }
    },
    "nbformat_minor": 2,
    "nbformat": 4,
    "cells": [
        {
            "cell_type": "markdown",
            "source": [
                "## Notebook - 3 - SQL Server"
            ],
            "metadata": {
                "azdata_cell_guid": "393cb9a3-b45f-4d04-a978-e49e07c8eb1a"
            },
            "attachments": {}
        },
        {
            "cell_type": "code",
            "source": [
                "USE kudvenkatdb_master;"
            ],
            "metadata": {
                "azdata_cell_guid": "a0b1deb9-5316-4b01-85a9-2d1dcb38249c",
                "language": "sql"
            },
            "outputs": [
                {
                    "output_type": "display_data",
                    "data": {
                        "text/html": "Commands completed successfully."
                    },
                    "metadata": {}
                },
                {
                    "output_type": "display_data",
                    "data": {
                        "text/html": "Total execution time: 00:00:00.008"
                    },
                    "metadata": {}
                }
            ],
            "execution_count": 1
        },
        {
            "cell_type": "code",
            "source": [
                "SELECT * FROM tblEmployee;\r\n",
                "SELECT * FROM tblAudit;\r\n",
                "\r\n",
                "-- INSERT INTO tblEmployee VALUES ('Ben', 'Male',4800,'London')"
            ],
            "metadata": {
                "azdata_cell_guid": "00556c6c-9f67-4622-a8c4-13b08742348a",
                "language": "sql"
            },
            "outputs": [
                {
                    "output_type": "display_data",
                    "data": {
                        "text/html": "(11 rows affected)"
                    },
                    "metadata": {}
                },
                {
                    "output_type": "display_data",
                    "data": {
                        "text/html": "(1 row affected)"
                    },
                    "metadata": {}
                },
                {
                    "output_type": "display_data",
                    "data": {
                        "text/html": "Total execution time: 00:00:00.024"
                    },
                    "metadata": {}
                },
                {
                    "output_type": "execute_result",
                    "metadata": {},
                    "execution_count": 17,
                    "data": {
                        "application/vnd.dataresource+json": {
                            "schema": {
                                "fields": [
                                    {
                                        "name": "ID"
                                    },
                                    {
                                        "name": "Name"
                                    },
                                    {
                                        "name": "Gender"
                                    },
                                    {
                                        "name": "Salary"
                                    },
                                    {
                                        "name": "City"
                                    }
                                ]
                            },
                            "data": [
                                {
                                    "ID": "104",
                                    "Name": "Todd",
                                    "Gender": "Male",
                                    "Salary": "2800",
                                    "City": "Sydney"
                                },
                                {
                                    "ID": "102",
                                    "Name": "John",
                                    "Gender": "Male",
                                    "Salary": "3500",
                                    "City": "London"
                                },
                                {
                                    "ID": "100",
                                    "Name": "Tom",
                                    "Gender": "Male",
                                    "Salary": "4000",
                                    "City": "London"
                                },
                                {
                                    "ID": "103",
                                    "Name": "Sam",
                                    "Gender": "Male",
                                    "Salary": "4500",
                                    "City": "London"
                                },
                                {
                                    "ID": "110",
                                    "Name": "Ben",
                                    "Gender": "Male",
                                    "Salary": "4800",
                                    "City": "London"
                                },
                                {
                                    "ID": "108",
                                    "Name": "James",
                                    "Gender": "Male",
                                    "Salary": "6500",
                                    "City": "London"
                                },
                                {
                                    "ID": "105",
                                    "Name": "Ben",
                                    "Gender": "Male",
                                    "Salary": "7000",
                                    "City": "New York"
                                },
                                {
                                    "ID": "109",
                                    "Name": "Russell",
                                    "Gender": "Male",
                                    "Salary": "8800",
                                    "City": "London"
                                },
                                {
                                    "ID": "101",
                                    "Name": "Pam",
                                    "Gender": "Female",
                                    "Salary": "3000",
                                    "City": "New York"
                                },
                                {
                                    "ID": "106",
                                    "Name": "Sara",
                                    "Gender": "Female",
                                    "Salary": "4800",
                                    "City": "Sydney"
                                },
                                {
                                    "ID": "107",
                                    "Name": "Valarie",
                                    "Gender": "Female",
                                    "Salary": "5500",
                                    "City": "New York"
                                }
                            ]
                        },
                        "text/html": [
                            "<table>",
                            "<tr><th>ID</th><th>Name</th><th>Gender</th><th>Salary</th><th>City</th></tr>",
                            "<tr><td>104</td><td>Todd</td><td>Male</td><td>2800</td><td>Sydney</td></tr>",
                            "<tr><td>102</td><td>John</td><td>Male</td><td>3500</td><td>London</td></tr>",
                            "<tr><td>100</td><td>Tom</td><td>Male</td><td>4000</td><td>London</td></tr>",
                            "<tr><td>103</td><td>Sam</td><td>Male</td><td>4500</td><td>London</td></tr>",
                            "<tr><td>110</td><td>Ben</td><td>Male</td><td>4800</td><td>London</td></tr>",
                            "<tr><td>108</td><td>James</td><td>Male</td><td>6500</td><td>London</td></tr>",
                            "<tr><td>105</td><td>Ben</td><td>Male</td><td>7000</td><td>New York</td></tr>",
                            "<tr><td>109</td><td>Russell</td><td>Male</td><td>8800</td><td>London</td></tr>",
                            "<tr><td>101</td><td>Pam</td><td>Female</td><td>3000</td><td>New York</td></tr>",
                            "<tr><td>106</td><td>Sara</td><td>Female</td><td>4800</td><td>Sydney</td></tr>",
                            "<tr><td>107</td><td>Valarie</td><td>Female</td><td>5500</td><td>New York</td></tr>",
                            "</table>"
                        ]
                    }
                },
                {
                    "output_type": "execute_result",
                    "metadata": {},
                    "execution_count": 17,
                    "data": {
                        "application/vnd.dataresource+json": {
                            "schema": {
                                "fields": [
                                    {
                                        "name": "Id"
                                    },
                                    {
                                        "name": "AuditData"
                                    }
                                ]
                            },
                            "data": [
                                {
                                    "Id": "1",
                                    "AuditData": "New Employee added with Id = 110 at Jan 15 2024 12:50AM"
                                }
                            ]
                        },
                        "text/html": [
                            "<table>",
                            "<tr><th>Id</th><th>AuditData</th></tr>",
                            "<tr><td>1</td><td>New Employee added with Id = 110 at Jan 15 2024 12:50AM</td></tr>",
                            "</table>"
                        ]
                    }
                }
            ],
            "execution_count": 17
        },
        {
            "cell_type": "code",
            "source": [
                "CREATE table tblAudit(\r\n",
                "    Id INT IDENTITY(1,1) PRIMARY KEY,\r\n",
                "    AuditData NVARCHAR(255)\r\n",
                ");\r\n",
                ""
            ],
            "metadata": {
                "language": "sql",
                "azdata_cell_guid": "71327e4f-3889-41b2-bf98-ff477454193e"
            },
            "outputs": [
                {
                    "output_type": "display_data",
                    "data": {
                        "text/html": "Commands completed successfully."
                    },
                    "metadata": {}
                },
                {
                    "output_type": "display_data",
                    "data": {
                        "text/html": "Total execution time: 00:00:00.002"
                    },
                    "metadata": {}
                }
            ],
            "execution_count": 11
        },
        {
            "cell_type": "code",
            "source": [
                "CREATE TRIGGER tr_tblEmployee_ForInsert\r\n",
                "ON tblEmployee\r\n",
                "FOR INSERT\r\n",
                "AS\r\n",
                "BEGIN\r\n",
                "    DECLARE @Id INT\r\n",
                "    SELECT @Id = Id FROM inserted\r\n",
                "\r\n",
                "    INSERT into tblAudit\r\n",
                "    VALUES ('New Employee added with Id = '+CAST(@Id as nvarchar(5)) + ' at ' + CAST(GETDATE() as nvarchar(20)))\r\n",
                "END"
            ],
            "metadata": {
                "azdata_cell_guid": "9538699a-7df0-4f44-86be-776fe533bbf0",
                "language": "sql"
            },
            "outputs": [
                {
                    "output_type": "display_data",
                    "data": {
                        "text/html": "Commands completed successfully."
                    },
                    "metadata": {}
                },
                {
                    "output_type": "display_data",
                    "data": {
                        "text/html": "Total execution time: 00:00:00.003"
                    },
                    "metadata": {}
                }
            ],
            "execution_count": 14
        }
    ]
}