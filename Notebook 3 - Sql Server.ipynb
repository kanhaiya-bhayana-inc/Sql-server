{
    "metadata": {
        "kernelspec": {
            "name": "SQL",
            "display_name": "SQL",
            "language": "sql"
        },
        "language_info": {
            "name": "sql",
            "version": ""
        }
    },
    "nbformat_minor": 2,
    "nbformat": 4,
    "cells": [
        {
            "cell_type": "markdown",
            "source": [
                "## Notebook - 3 - SQL Server"
            ],
            "metadata": {
                "azdata_cell_guid": "393cb9a3-b45f-4d04-a978-e49e07c8eb1a"
            },
            "attachments": {}
        },
        {
            "cell_type": "markdown",
            "source": [
                "## Topics Covered in this notebook\r\n",
                "\r\n",
                "1. DML Triggers in SQL Server"
            ],
            "metadata": {
                "azdata_cell_guid": "95628133-4e7e-48fe-ad04-0a01d5d336d5"
            },
            "attachments": {}
        },
        {
            "cell_type": "markdown",
            "source": [
                "## Triggers in SQL Server\r\n",
                "In SQL server there are **3 types** of triggers\r\n",
                "1. DML triggers\r\n",
                "2. DDL triggers\r\n",
                "3. Logon trigger\r\n",
                "\r\n",
                "DML triggers are fired automatically in response to DML events ***(INSERT, UPDATE & DELETE)***\r\n",
                "\r\n",
                "**DML triggers can be again classified into 2 types**\r\n",
                "1. After triggers (Sometimes called as FOR triggers)\r\n",
                "2. Instead of triggers\r\n",
                "\r\n",
                "**After triggers, fires after the triggering action.** The INSERT, UPDATE, and DELETE statements, causes an after trigger to fire after the respective statements complete execution.\r\n",
                "\r\n",
                "**INSTEAD of triggers, fires instead of the triggering action.** The INSERT, UPDATE, and DELETE statements, causes an INSTEAD OF trigger to fire INSTEAD OF the respective statement execution."
            ],
            "metadata": {
                "azdata_cell_guid": "fed51ff5-24be-4159-b0bf-9d6f60cdb8d0"
            },
            "attachments": {}
        },
        {
            "cell_type": "code",
            "source": [
                "USE kudvenkatdb_master;"
            ],
            "metadata": {
                "azdata_cell_guid": "a0b1deb9-5316-4b01-85a9-2d1dcb38249c",
                "language": "sql"
            },
            "outputs": [
                {
                    "output_type": "display_data",
                    "data": {
                        "text/html": "Commands completed successfully."
                    },
                    "metadata": {}
                },
                {
                    "output_type": "display_data",
                    "data": {
                        "text/html": "Total execution time: 00:00:00.014"
                    },
                    "metadata": {}
                }
            ],
            "execution_count": 1
        },
        {
            "cell_type": "code",
            "source": [
                "INSERT INTO tblEmployee VALUES ('Ben', 'Male',4800,'London')\r\n",
                "DELETE FROM tblEmployee WHERE ID = 107;"
            ],
            "metadata": {
                "azdata_cell_guid": "00556c6c-9f67-4622-a8c4-13b08742348a",
                "language": "sql"
            },
            "outputs": [],
            "execution_count": null
        },
        {
            "cell_type": "code",
            "source": [
                "CREATE table tblAudit(\r\n",
                "    Id INT IDENTITY(1,1) PRIMARY KEY,\r\n",
                "    AuditData NVARCHAR(255)\r\n",
                ");\r\n",
                ""
            ],
            "metadata": {
                "language": "sql",
                "azdata_cell_guid": "71327e4f-3889-41b2-bf98-ff477454193e"
            },
            "outputs": [
                {
                    "output_type": "display_data",
                    "data": {
                        "text/html": "Commands completed successfully."
                    },
                    "metadata": {}
                },
                {
                    "output_type": "display_data",
                    "data": {
                        "text/html": "Total execution time: 00:00:00.002"
                    },
                    "metadata": {}
                }
            ],
            "execution_count": 11
        },
        {
            "cell_type": "code",
            "source": [
                "CREATE TRIGGER tr_tblEmployee_ForInsert\r\n",
                "ON tblEmployee\r\n",
                "FOR INSERT\r\n",
                "AS\r\n",
                "BEGIN\r\n",
                "    DECLARE @Id INT\r\n",
                "    SELECT @Id = Id FROM inserted\r\n",
                "\r\n",
                "    INSERT into tblAudit\r\n",
                "    VALUES ('New Employee added with Id = '+CAST(@Id as nvarchar(5)) + ' at ' + CAST(GETDATE() as nvarchar(20)))\r\n",
                "END"
            ],
            "metadata": {
                "azdata_cell_guid": "9538699a-7df0-4f44-86be-776fe533bbf0",
                "language": "sql"
            },
            "outputs": [
                {
                    "output_type": "display_data",
                    "data": {
                        "text/html": "Commands completed successfully."
                    },
                    "metadata": {}
                },
                {
                    "output_type": "display_data",
                    "data": {
                        "text/html": "Total execution time: 00:00:00.003"
                    },
                    "metadata": {}
                }
            ],
            "execution_count": 14
        },
        {
            "cell_type": "code",
            "source": [
                "CREATE TRIGGER tr_tblEmployee_ForDelete\r\n",
                "ON tblEmployee\r\n",
                "FOR DELETE\r\n",
                "AS\r\n",
                "BEGIN\r\n",
                "    DECLARE @Id INT\r\n",
                "    SELECT @Id = Id FROM deleted\r\n",
                "\r\n",
                "    INSERT into tblAudit\r\n",
                "    VALUES ('An existing employee deleted with Id = '+CAST(@Id as nvarchar(5)) + ' is deleted at ' + CAST(GETDATE() as nvarchar(20)))\r\n",
                "END"
            ],
            "metadata": {
                "azdata_cell_guid": "1759109f-ec4e-4907-aa1f-abcf5f546261",
                "language": "sql"
            },
            "outputs": [
                {
                    "output_type": "display_data",
                    "data": {
                        "text/html": "Commands completed successfully."
                    },
                    "metadata": {}
                },
                {
                    "output_type": "display_data",
                    "data": {
                        "text/html": "Total execution time: 00:00:00.005"
                    },
                    "metadata": {}
                }
            ],
            "execution_count": 2
        },
        {
            "cell_type": "code",
            "source": [
                "SELECT * FROM tblEmployee;\r\n",
                "SELECT * FROM tblAudit;"
            ],
            "metadata": {
                "azdata_cell_guid": "8a62b993-a135-41cb-9e33-0a99a8a449fa",
                "language": "sql"
            },
            "outputs": [
                {
                    "output_type": "display_data",
                    "data": {
                        "text/html": "(10 rows affected)"
                    },
                    "metadata": {}
                },
                {
                    "output_type": "display_data",
                    "data": {
                        "text/html": "(9 rows affected)"
                    },
                    "metadata": {}
                },
                {
                    "output_type": "display_data",
                    "data": {
                        "text/html": "Total execution time: 00:00:00.029"
                    },
                    "metadata": {}
                },
                {
                    "output_type": "execute_result",
                    "metadata": {},
                    "execution_count": 25,
                    "data": {
                        "application/vnd.dataresource+json": {
                            "schema": {
                                "fields": [
                                    {
                                        "name": "ID"
                                    },
                                    {
                                        "name": "Name"
                                    },
                                    {
                                        "name": "Gender"
                                    },
                                    {
                                        "name": "Salary"
                                    },
                                    {
                                        "name": "City"
                                    }
                                ]
                            },
                            "data": [
                                {
                                    "ID": "104",
                                    "Name": "Todd",
                                    "Gender": "Male",
                                    "Salary": "2800",
                                    "City": "Sydney"
                                },
                                {
                                    "ID": "102",
                                    "Name": "John",
                                    "Gender": "Male",
                                    "Salary": "3500",
                                    "City": "London"
                                },
                                {
                                    "ID": "100",
                                    "Name": "Tom",
                                    "Gender": "Male",
                                    "Salary": "4000",
                                    "City": "London"
                                },
                                {
                                    "ID": "103",
                                    "Name": "Sam",
                                    "Gender": "Male",
                                    "Salary": "4500",
                                    "City": "London"
                                },
                                {
                                    "ID": "110",
                                    "Name": "Ben",
                                    "Gender": "Male",
                                    "Salary": "4800",
                                    "City": "London"
                                },
                                {
                                    "ID": "105",
                                    "Name": "Ben",
                                    "Gender": "Male",
                                    "Salary": "7000",
                                    "City": "New York"
                                },
                                {
                                    "ID": "109",
                                    "Name": "Russell",
                                    "Gender": "Male",
                                    "Salary": "8800",
                                    "City": "London"
                                },
                                {
                                    "ID": "101",
                                    "Name": "Pam",
                                    "Gender": "Female",
                                    "Salary": "3000",
                                    "City": "New York"
                                },
                                {
                                    "ID": "108",
                                    "Name": "Sara",
                                    "Gender": "Female",
                                    "Salary": "100000",
                                    "City": "London"
                                },
                                {
                                    "ID": "106",
                                    "Name": "Sneha",
                                    "Gender": "Female",
                                    "Salary": "100000",
                                    "City": "Sydney"
                                }
                            ]
                        },
                        "text/html": [
                            "<table>",
                            "<tr><th>ID</th><th>Name</th><th>Gender</th><th>Salary</th><th>City</th></tr>",
                            "<tr><td>104</td><td>Todd</td><td>Male</td><td>2800</td><td>Sydney</td></tr>",
                            "<tr><td>102</td><td>John</td><td>Male</td><td>3500</td><td>London</td></tr>",
                            "<tr><td>100</td><td>Tom</td><td>Male</td><td>4000</td><td>London</td></tr>",
                            "<tr><td>103</td><td>Sam</td><td>Male</td><td>4500</td><td>London</td></tr>",
                            "<tr><td>110</td><td>Ben</td><td>Male</td><td>4800</td><td>London</td></tr>",
                            "<tr><td>105</td><td>Ben</td><td>Male</td><td>7000</td><td>New York</td></tr>",
                            "<tr><td>109</td><td>Russell</td><td>Male</td><td>8800</td><td>London</td></tr>",
                            "<tr><td>101</td><td>Pam</td><td>Female</td><td>3000</td><td>New York</td></tr>",
                            "<tr><td>108</td><td>Sara</td><td>Female</td><td>100000</td><td>London</td></tr>",
                            "<tr><td>106</td><td>Sneha</td><td>Female</td><td>100000</td><td>Sydney</td></tr>",
                            "</table>"
                        ]
                    }
                },
                {
                    "output_type": "execute_result",
                    "metadata": {},
                    "execution_count": 25,
                    "data": {
                        "application/vnd.dataresource+json": {
                            "schema": {
                                "fields": [
                                    {
                                        "name": "Id"
                                    },
                                    {
                                        "name": "AuditData"
                                    }
                                ]
                            },
                            "data": [
                                {
                                    "Id": "1",
                                    "AuditData": "New Employee added with Id = 110 at Jan 15 2024 12:50AM"
                                },
                                {
                                    "Id": "2",
                                    "AuditData": "An existing employee deleted with Id = 107 is deleted at Jan 15 2024  7:04AM"
                                },
                                {
                                    "Id": "3",
                                    "AuditData": "Employee with ID = 106 changed "
                                },
                                {
                                    "Id": "4",
                                    "AuditData": "Employee with ID = 106 changed "
                                },
                                {
                                    "Id": "5",
                                    "AuditData": "Employee with ID = 106 changed "
                                },
                                {
                                    "Id": "6",
                                    "AuditData": "Employee with ID = 106 changed Name from Sara Ali to Sara Ali Sara"
                                },
                                {
                                    "Id": "7",
                                    "AuditData": "Employee with ID = 106 changed "
                                },
                                {
                                    "Id": "8",
                                    "AuditData": "Employee with ID = 108 changed Name from James to SaraGender from Male to FemaleSalary from 6500 to 100000"
                                },
                                {
                                    "Id": "9",
                                    "AuditData": "Employee with ID = 106 changed Name from Sara Ali Sara to Sneha Salary from 4800 to 100000"
                                }
                            ]
                        },
                        "text/html": [
                            "<table>",
                            "<tr><th>Id</th><th>AuditData</th></tr>",
                            "<tr><td>1</td><td>New Employee added with Id = 110 at Jan 15 2024 12:50AM</td></tr>",
                            "<tr><td>2</td><td>An existing employee deleted with Id = 107 is deleted at Jan 15 2024  7:04AM</td></tr>",
                            "<tr><td>3</td><td>Employee with ID = 106 changed </td></tr>",
                            "<tr><td>4</td><td>Employee with ID = 106 changed </td></tr>",
                            "<tr><td>5</td><td>Employee with ID = 106 changed </td></tr>",
                            "<tr><td>6</td><td>Employee with ID = 106 changed Name from Sara Ali to Sara Ali Sara</td></tr>",
                            "<tr><td>7</td><td>Employee with ID = 106 changed </td></tr>",
                            "<tr><td>8</td><td>Employee with ID = 108 changed Name from James to SaraGender from Male to FemaleSalary from 6500 to 100000</td></tr>",
                            "<tr><td>9</td><td>Employee with ID = 106 changed Name from Sara Ali Sara to Sneha Salary from 4800 to 100000</td></tr>",
                            "</table>"
                        ]
                    }
                }
            ],
            "execution_count": 25
        },
        {
            "cell_type": "markdown",
            "source": [
                "## After Update Trigger\r\n",
                "Note: The After trigger for UPDATE event, makes use of both ***inserted and deleted*** tables. The ***Inserted*** table contains the updated data and the ***deleted*** table contains the old data."
            ],
            "metadata": {
                "azdata_cell_guid": "1c5e91cb-c8ea-4a32-bbb1-973411655fca"
            },
            "attachments": {}
        },
        {
            "cell_type": "code",
            "source": [
                "CREATE TRIGGER tr_tblEmployee_ForUpdate\r\n",
                "on tblEmployee\r\n",
                "for UPDATE\r\n",
                "as\r\n",
                "BEGIN   \r\n",
                "    -- Logic\r\n",
                "    -- Declare Fields\r\n",
                "        DECLARE @Id INT\r\n",
                "        \r\n",
                "    \r\n",
                "        DECLARE @OldName NVARCHAR(20), @NewName NVARCHAR(20)\r\n",
                "        DECLARE @OldGender NVARCHAR(20), @NewGender NVARCHAR(20)\r\n",
                "        DECLARE @OldSalary NVARCHAR(20), @NewSalary NVARCHAR(20)\r\n",
                "        DECLARE @OldCity NVARCHAR(20), @NewCity NVARCHAR(20)\r\n",
                "\r\n",
                "        DECLARE @AuditString NVARCHAR(1000)\r\n",
                "\r\n",
                "    -- Store the updated data into temp table for creating the log\r\n",
                "        SELECT * INTO #TempTable1 From inserted\r\n",
                "\r\n",
                "    -- Iterate through each row\r\n",
                "        WHILE (exists(SELECT @Id FROM #TempTable1))\r\n",
                "        BEGIN\r\n",
                "            SET @AuditString = ''\r\n",
                "\r\n",
                "            SELECT TOP 1 @Id = ID, @NewName = Name,\r\n",
                "            @NewGender = Gender, @NewSalary = Salary,\r\n",
                "            @NewCity = City\r\n",
                "            FROM #TempTable1\r\n",
                "\r\n",
                "            SELECT @OldName = Name, @OldGender = Gender, \r\n",
                "            @OldSalary = Salary, @OldCity = City\r\n",
                "            FROM deleted where ID = @Id\r\n",
                "\r\n",
                "        -- Create the AUDITSTRING for the log...\r\n",
                "            SET @AuditString = 'Employee with ID = ' + CAST(@Id as nvarchar(4)) + ' changed '\r\n",
                "\r\n",
                "            if (@OldName <> @NewName)\r\n",
                "                SET @AuditString = @AuditString + 'Name from ' + @OldName + ' to ' + @NewName\r\n",
                "\r\n",
                "            if (@OldGender <> @NewGender)\r\n",
                "                SET @AuditString = @AuditString + ' Gender from ' + @OldGender + ' to ' + @NewGender\r\n",
                "\r\n",
                "            if (@OldSalary <> @NewSalary)\r\n",
                "                SET @AuditString = @AuditString + ' Salary from ' + @OldSalary + ' to ' + @NewSalary\r\n",
                "\r\n",
                "            if (@OldCity <> @NewCity)\r\n",
                "                SET @AuditString = @AuditString + ' City from ' + @OldSalary + ' to ' + @NewSalary\r\n",
                "\r\n",
                "        -- Insert into tblAudit\r\n",
                "            INSERT INTO tblAudit VALUES(@AuditString)\r\n",
                "\r\n",
                "        -- Delete the row from the tempTable, So next Iteration will proceed accordingly\r\n",
                "            DELETE FROM #TempTable1 WHERE ID = @Id\r\n",
                "        END\r\n",
                "END"
            ],
            "metadata": {
                "azdata_cell_guid": "c239deac-6079-44b8-9f87-bc68a87dccfc",
                "language": "sql"
            },
            "outputs": [
                {
                    "output_type": "display_data",
                    "data": {
                        "text/html": "Commands completed successfully."
                    },
                    "metadata": {}
                },
                {
                    "output_type": "display_data",
                    "data": {
                        "text/html": "Total execution time: 00:00:00.005"
                    },
                    "metadata": {}
                }
            ],
            "execution_count": 26
        },
        {
            "cell_type": "code",
            "source": [
                "UPDATE tblEmployee SET NAME = 'Summit', Gender='Male', Salary= '100090' WHERE ID = 101"
            ],
            "metadata": {
                "azdata_cell_guid": "457264fa-7138-4eac-a907-702b708bb202",
                "language": "sql"
            },
            "outputs": [],
            "execution_count": null
        },
        {
            "cell_type": "markdown",
            "source": [
                "## Instead Of Triggers"
            ],
            "metadata": {
                "azdata_cell_guid": "8853614c-6c8e-4b9d-b9b6-4c996bdb81bc"
            },
            "attachments": {}
        },
        {
            "cell_type": "code",
            "source": [
                "select * from tblEmployee1;\r\n",
                "select * from tblDepartment;"
            ],
            "metadata": {
                "azdata_cell_guid": "daed6a13-b07f-40fb-8bc3-a141bfe04554",
                "language": "sql"
            },
            "outputs": [
                {
                    "output_type": "display_data",
                    "data": {
                        "text/html": "(10 rows affected)"
                    },
                    "metadata": {}
                },
                {
                    "output_type": "display_data",
                    "data": {
                        "text/html": "(4 rows affected)"
                    },
                    "metadata": {}
                },
                {
                    "output_type": "display_data",
                    "data": {
                        "text/html": "Total execution time: 00:00:00.015"
                    },
                    "metadata": {}
                },
                {
                    "output_type": "execute_result",
                    "metadata": {},
                    "execution_count": 36,
                    "data": {
                        "application/vnd.dataresource+json": {
                            "schema": {
                                "fields": [
                                    {
                                        "name": "ID"
                                    },
                                    {
                                        "name": "Name"
                                    },
                                    {
                                        "name": "Gender"
                                    },
                                    {
                                        "name": "Salary"
                                    },
                                    {
                                        "name": "DepartmentId"
                                    }
                                ]
                            },
                            "data": [
                                {
                                    "ID": "102",
                                    "Name": "Mikey",
                                    "Gender": "Male",
                                    "Salary": "4000",
                                    "DepartmentId": "1"
                                },
                                {
                                    "ID": "103",
                                    "Name": "Pam",
                                    "Gender": "Female",
                                    "Salary": "3000",
                                    "DepartmentId": "3"
                                },
                                {
                                    "ID": "104",
                                    "Name": "John",
                                    "Gender": "Male",
                                    "Salary": "3500",
                                    "DepartmentId": "1"
                                },
                                {
                                    "ID": "105",
                                    "Name": "Sam",
                                    "Gender": "Male",
                                    "Salary": "4500",
                                    "DepartmentId": "2"
                                },
                                {
                                    "ID": "106",
                                    "Name": "Todd",
                                    "Gender": "Male",
                                    "Salary": "2800",
                                    "DepartmentId": "2"
                                },
                                {
                                    "ID": "107",
                                    "Name": "Ben",
                                    "Gender": "Male",
                                    "Salary": "7000",
                                    "DepartmentId": "1"
                                },
                                {
                                    "ID": "108",
                                    "Name": "Sara",
                                    "Gender": "Female",
                                    "Salary": "4800",
                                    "DepartmentId": "3"
                                },
                                {
                                    "ID": "110",
                                    "Name": "James",
                                    "Gender": "Male",
                                    "Salary": "6500",
                                    "DepartmentId": "NULL"
                                },
                                {
                                    "ID": "111",
                                    "Name": "Russell",
                                    "Gender": "Male",
                                    "Salary": "8800",
                                    "DepartmentId": "NULL"
                                },
                                {
                                    "ID": "112",
                                    "Name": "Tom",
                                    "Gender": "Male",
                                    "Salary": "NULL",
                                    "DepartmentId": "2"
                                }
                            ]
                        },
                        "text/html": [
                            "<table>",
                            "<tr><th>ID</th><th>Name</th><th>Gender</th><th>Salary</th><th>DepartmentId</th></tr>",
                            "<tr><td>102</td><td>Mikey</td><td>Male</td><td>4000</td><td>1</td></tr>",
                            "<tr><td>103</td><td>Pam</td><td>Female</td><td>3000</td><td>3</td></tr>",
                            "<tr><td>104</td><td>John</td><td>Male</td><td>3500</td><td>1</td></tr>",
                            "<tr><td>105</td><td>Sam</td><td>Male</td><td>4500</td><td>2</td></tr>",
                            "<tr><td>106</td><td>Todd</td><td>Male</td><td>2800</td><td>2</td></tr>",
                            "<tr><td>107</td><td>Ben</td><td>Male</td><td>7000</td><td>1</td></tr>",
                            "<tr><td>108</td><td>Sara</td><td>Female</td><td>4800</td><td>3</td></tr>",
                            "<tr><td>110</td><td>James</td><td>Male</td><td>6500</td><td>NULL</td></tr>",
                            "<tr><td>111</td><td>Russell</td><td>Male</td><td>8800</td><td>NULL</td></tr>",
                            "<tr><td>112</td><td>Tom</td><td>Male</td><td>NULL</td><td>2</td></tr>",
                            "</table>"
                        ]
                    }
                },
                {
                    "output_type": "execute_result",
                    "metadata": {},
                    "execution_count": 36,
                    "data": {
                        "application/vnd.dataresource+json": {
                            "schema": {
                                "fields": [
                                    {
                                        "name": "Id"
                                    },
                                    {
                                        "name": "DepartmentName"
                                    },
                                    {
                                        "name": "Location"
                                    },
                                    {
                                        "name": "DepartmentHead"
                                    }
                                ]
                            },
                            "data": [
                                {
                                    "Id": "1",
                                    "DepartmentName": "HR",
                                    "Location": "London",
                                    "DepartmentHead": "Rick"
                                },
                                {
                                    "Id": "2",
                                    "DepartmentName": "Payroll",
                                    "Location": "Delhi",
                                    "DepartmentHead": "Ron"
                                },
                                {
                                    "Id": "3",
                                    "DepartmentName": "HR",
                                    "Location": "New York",
                                    "DepartmentHead": "Christie"
                                },
                                {
                                    "Id": "4",
                                    "DepartmentName": "Other Department",
                                    "Location": "Sydney",
                                    "DepartmentHead": "Cindrella"
                                }
                            ]
                        },
                        "text/html": [
                            "<table>",
                            "<tr><th>Id</th><th>DepartmentName</th><th>Location</th><th>DepartmentHead</th></tr>",
                            "<tr><td>1</td><td>HR</td><td>London</td><td>Rick</td></tr>",
                            "<tr><td>2</td><td>Payroll</td><td>Delhi</td><td>Ron</td></tr>",
                            "<tr><td>3</td><td>HR</td><td>New York</td><td>Christie</td></tr>",
                            "<tr><td>4</td><td>Other Department</td><td>Sydney</td><td>Cindrella</td></tr>",
                            "</table>"
                        ]
                    }
                }
            ],
            "execution_count": 36
        },
        {
            "cell_type": "code",
            "source": [
                "select * from vwEmployeesByDepartment;"
            ],
            "metadata": {
                "azdata_cell_guid": "f3b5ec56-d4fe-4559-9b23-f9f8a4bd766d",
                "language": "sql"
            },
            "outputs": [
                {
                    "output_type": "display_data",
                    "data": {
                        "text/html": "(10 rows affected)"
                    },
                    "metadata": {}
                },
                {
                    "output_type": "display_data",
                    "data": {
                        "text/html": "Total execution time: 00:00:00.016"
                    },
                    "metadata": {}
                },
                {
                    "output_type": "execute_result",
                    "metadata": {},
                    "execution_count": 49,
                    "data": {
                        "application/vnd.dataresource+json": {
                            "schema": {
                                "fields": [
                                    {
                                        "name": "Id"
                                    },
                                    {
                                        "name": "Name"
                                    },
                                    {
                                        "name": "Salary"
                                    },
                                    {
                                        "name": "Gender"
                                    },
                                    {
                                        "name": "DepartmentName"
                                    }
                                ]
                            },
                            "data": [
                                {
                                    "Id": "102",
                                    "Name": "Mikey",
                                    "Salary": "4000",
                                    "Gender": "Male",
                                    "DepartmentName": "HR"
                                },
                                {
                                    "Id": "103",
                                    "Name": "Pam",
                                    "Salary": "3000",
                                    "Gender": "Female",
                                    "DepartmentName": "HR"
                                },
                                {
                                    "Id": "104",
                                    "Name": "John",
                                    "Salary": "3500",
                                    "Gender": "Male",
                                    "DepartmentName": "HR"
                                },
                                {
                                    "Id": "105",
                                    "Name": "Sam",
                                    "Salary": "4500",
                                    "Gender": "Male",
                                    "DepartmentName": "Payroll"
                                },
                                {
                                    "Id": "106",
                                    "Name": "Todd",
                                    "Salary": "2800",
                                    "Gender": "Male",
                                    "DepartmentName": "Payroll"
                                },
                                {
                                    "Id": "107",
                                    "Name": "Ben",
                                    "Salary": "7000",
                                    "Gender": "Male",
                                    "DepartmentName": "HR"
                                },
                                {
                                    "Id": "108",
                                    "Name": "Sara",
                                    "Salary": "4800",
                                    "Gender": "Female",
                                    "DepartmentName": "HR"
                                },
                                {
                                    "Id": "112",
                                    "Name": "Tom",
                                    "Salary": "NULL",
                                    "Gender": "Male",
                                    "DepartmentName": "Payroll"
                                },
                                {
                                    "Id": "113",
                                    "Name": "Sneha",
                                    "Salary": "100099",
                                    "Gender": "Female",
                                    "DepartmentName": "HR"
                                },
                                {
                                    "Id": "114",
                                    "Name": "Pam Sara",
                                    "Salary": "10009999",
                                    "Gender": "Female",
                                    "DepartmentName": "Other Department"
                                }
                            ]
                        },
                        "text/html": [
                            "<table>",
                            "<tr><th>Id</th><th>Name</th><th>Salary</th><th>Gender</th><th>DepartmentName</th></tr>",
                            "<tr><td>102</td><td>Mikey</td><td>4000</td><td>Male</td><td>HR</td></tr>",
                            "<tr><td>103</td><td>Pam</td><td>3000</td><td>Female</td><td>HR</td></tr>",
                            "<tr><td>104</td><td>John</td><td>3500</td><td>Male</td><td>HR</td></tr>",
                            "<tr><td>105</td><td>Sam</td><td>4500</td><td>Male</td><td>Payroll</td></tr>",
                            "<tr><td>106</td><td>Todd</td><td>2800</td><td>Male</td><td>Payroll</td></tr>",
                            "<tr><td>107</td><td>Ben</td><td>7000</td><td>Male</td><td>HR</td></tr>",
                            "<tr><td>108</td><td>Sara</td><td>4800</td><td>Female</td><td>HR</td></tr>",
                            "<tr><td>112</td><td>Tom</td><td>NULL</td><td>Male</td><td>Payroll</td></tr>",
                            "<tr><td>113</td><td>Sneha</td><td>100099</td><td>Female</td><td>HR</td></tr>",
                            "<tr><td>114</td><td>Pam Sara</td><td>10009999</td><td>Female</td><td>Other Department</td></tr>",
                            "</table>"
                        ]
                    }
                }
            ],
            "execution_count": 49
        },
        {
            "cell_type": "code",
            "source": [
                "Alter TRIGGER tr_vwEmployeesByDepartment_InsteadOfInsert\r\n",
                "on vwEmployeesByDepartment\r\n",
                "INSTEAD OF INSERT\r\n",
                "as \r\n",
                "BEGIN\r\n",
                "    -- Declare fields\r\n",
                "        DECLARE @DeptId INT\r\n",
                "\r\n",
                "    -- check if there is a valid DepartmentId for the given DepartmentName\r\n",
                "        SELECT @DeptId = t.Id\r\n",
                "        FROM tblDepartment t\r\n",
                "        JOIN inserted\r\n",
                "        ON inserted.DepartmentName = t.DepartmentName\r\n",
                "\r\n",
                "    -- IF DepartmentID is null throw an error and stop processing\r\n",
                "        if (@DeptId is null)\r\n",
                "        BEGIN\r\n",
                "            RAISERROR('Invalid Department Name. Statement terminated', 16, 1)\r\n",
                "            RETURN\r\n",
                "        END\r\n",
                "    \r\n",
                "    -- Finally insert into tblEmployee1 table\r\n",
                "        INSERT INTO tblEmployee1(Name,Gender,Salary,DepartmentId)\r\n",
                "        SELECT Name, Gender, Salary, @DeptId\r\n",
                "        FROM inserted\r\n",
                "END"
            ],
            "metadata": {
                "azdata_cell_guid": "47b7b959-35a7-4eca-8d71-29a5274b2152",
                "language": "sql",
                "tags": []
            },
            "outputs": [
                {
                    "output_type": "display_data",
                    "data": {
                        "text/html": "Commands completed successfully."
                    },
                    "metadata": {}
                },
                {
                    "output_type": "display_data",
                    "data": {
                        "text/html": "Total execution time: 00:00:00.006"
                    },
                    "metadata": {}
                }
            ],
            "execution_count": 46
        },
        {
            "cell_type": "code",
            "source": [
                "INSERT INTO vwEmployeesByDepartment (Name, Gender, Salary, DepartmentName) VALUES('Pam Sara','Female',10009999,'Other Department')"
            ],
            "metadata": {
                "azdata_cell_guid": "a809f8c2-0aea-4262-b159-722a0206e69d",
                "language": "sql"
            },
            "outputs": [
                {
                    "output_type": "display_data",
                    "data": {
                        "text/html": "(1 row affected)"
                    },
                    "metadata": {}
                },
                {
                    "output_type": "display_data",
                    "data": {
                        "text/html": "(1 row affected)"
                    },
                    "metadata": {}
                },
                {
                    "output_type": "display_data",
                    "data": {
                        "text/html": "Total execution time: 00:00:00.007"
                    },
                    "metadata": {}
                }
            ],
            "execution_count": 48
        }
    ]
}