{
    "metadata": {
        "kernelspec": {
            "name": "SQL",
            "display_name": "SQL",
            "language": "sql"
        },
        "language_info": {
            "name": "sql",
            "version": ""
        }
    },
    "nbformat_minor": 2,
    "nbformat": 4,
    "cells": [
        {
            "cell_type": "markdown",
            "source": [
                "- ## Notebook 2 - Sql Server"
            ],
            "metadata": {
                "language": "sql",
                "azdata_cell_guid": "56aa53ef-8860-4292-8e69-ccafb0123cff"
            },
            "attachments": {}
        },
        {
            "cell_type": "markdown",
            "source": [
                "## Topics Covered in this notebook\r\n",
                "    1. Comonly used Built in string functions in sql server"
            ],
            "metadata": {
                "language": "sql",
                "azdata_cell_guid": "609ad7dd-8924-4f85-bb9a-078eab9334f7"
            },
            "attachments": {}
        },
        {
            "cell_type": "code",
            "source": [
                "Use kudvenkatdb_master;"
            ],
            "metadata": {
                "azdata_cell_guid": "6d737a65-efe4-4909-97db-d96f5e87851b",
                "language": "sql"
            },
            "outputs": [
                {
                    "output_type": "display_data",
                    "data": {
                        "text/html": "Commands completed successfully."
                    },
                    "metadata": {}
                },
                {
                    "output_type": "display_data",
                    "data": {
                        "text/html": "Total execution time: 00:00:00.001"
                    },
                    "metadata": {}
                }
            ],
            "execution_count": 30
        },
        {
            "cell_type": "markdown",
            "source": [
                "## Commonly used Built in string functions in sql server\n",
                "\n",
                "```\n",
                "1. ASCII(Character_Expression) - Returns the ASCII code of the given character.\n",
                "2. CHAR(Integer_Expression)  - Converts an int ASCII code to a character. The Integer_Expression, should be between 0 and 255.\n",
                "3. LTRIM(Character_Expression) - Removes blank on the left handside of the given character expression.\n",
                "4. RTRIM(Character_Expression) - Removes blank on the right handside of the given character expression.\n",
                "5. LOWER(Character_Expression) - Converts all the characters in the given Character_Expression, to lowercase letters.\n",
                "6. UPPER(Character_Expression) - Converts all the characters in the given Character_Expression, to uppercase letters.\n",
                "7. REVERSE('Any_String_Expression') - Reverse all the characters in the given string expression.\n",
                "8. LEN(String_Expression) - Returns the count of total characters, in the given string expression, excluding the blanks at the end of the expression.\n",
                "8. LEFT(string,no_of_chars) - The LEFT() function extracts a number of characters from a string (starting from left).\n",
                "9. RIGHT(string,no_of_chars) - The LEFT() function extracts a number of characters from a string (starting from right).\n",
                "10. CHARINDEX('Expression_To_Find','Expression_To_Search','Start_Location')  - Returns the starting position of the expression in a character string.\n",
                "11. SUBSTRING('Expression','Start','Length') - Returns substring (part of the string), from the given expression.\n",
                "12. REPLICATE(String_To_Be_Replicated,Number_Of_Times) - Repeats the given string, for the specified number of times.\n",
                "13. SPACE(Number_Of_Spaces) - Returns number of spaces, specified by the Number_Of_Spaces argument.\n",
                "14. PATINDEX('%Pattern%',Expression) - Returns the starting position of the first occurrence of a pattern in a specified expression. It takes two arguments, the pattern to be searched and the expression. PATINDEX() is similar to CHARINDEX().\n",
                "    WITH CHARINDEX() we cannot use wildcards, where as PATINDEX() provides this capability. If the specified pattern is not found, PATINDEX() returns ZERO.\n",
                "\n",
                "15. REPLACE(String_Expression,Pattern,Replacement_Value) - Replaces all occurrences of a specified string value with another string value.\n",
                "\n",
                "16. STUFF(Original_Expression,Start,Length,Replacement-Expression) - Inserts the Replacement_Expression, at the start position specified, along with removing the characters specified using Length parameter.\n",
                "\n",
                "```"
            ],
            "metadata": {
                "azdata_cell_guid": "58092d31-5452-46fb-8010-37927975abb4"
            },
            "attachments": {}
        },
        {
            "cell_type": "code",
            "source": [
                "SELECT ASCII('A')\r\n",
                "\r\n",
                "SELECT CHAR(65)\r\n",
                "\r\n",
                "SELECT LEFT('ABCDEF',3)\r\n",
                "SELECT RIGHT('ABCDEF',3)\r\n",
                "\r\n",
                "SELECT CHARINDEX('@','sara@aaa.com',1) -- if you want to find the location of the '@' in the email, and the last parameter is where you need to define the starting lcoation of the serach and It is optional\r\n",
                "\r\n",
                "SELECT SUBSTRING('sara@aaa.com',6,7)\r\n",
                "\r\n",
                "SELECT SUBSTRING('aaa@aaa.com',CHARINDEX('@','aaa@aaa.com'),LEN('aaa@aaa.com') -CHARINDEX('@','aaa@aaa.com')+1)\r\n",
                "\r\n",
                "DECLARE @Start INT, @Result NVARCHAR(100)\r\n",
                "Set @Start = 65\r\n",
                "SET @Result = ''\r\n",
                "WHILE (@Start <= 90)\r\n",
                "BEGIN\r\n",
                "    SET @Result = @Result +  CHAR(@Start) + ', '\r\n",
                "    SET @Start = @Start + 1\r\n",
                "END\r\n",
                "SET @Result = LEFT(@Result,LEN(@Result)-1)\r\n",
                "PRINT @Result"
            ],
            "metadata": {
                "azdata_cell_guid": "3af42c78-f729-4b0f-821d-7436eea61d11",
                "language": "sql"
            },
            "outputs": [],
            "execution_count": null
        },
        {
            "cell_type": "code",
            "source": [
                "SELECT* FROM tblPerson\r\n",
                "\r\n",
                "SELECT SUBSTRING(Email,CHARINDEX('@',Email),LEN('aaa@aaa.com') -CHARINDEX('@',Email)+1) as Email,\r\n",
                "COUNT(Email)\r\n",
                "from tblPerson\r\n",
                "GROUP BY SUBSTRING(Email,CHARINDEX('@',Email),LEN('aaa@aaa.com') -CHARINDEX('@',Email)+1)\r\n",
                ""
            ],
            "metadata": {
                "azdata_cell_guid": "8b53bef6-846e-4a5d-bee7-ae0e498abf79",
                "language": "sql"
            },
            "outputs": [
                {
                    "output_type": "display_data",
                    "data": {
                        "text/html": "(10 rows affected)"
                    },
                    "metadata": {}
                },
                {
                    "output_type": "display_data",
                    "data": {
                        "text/html": "(7 rows affected)"
                    },
                    "metadata": {}
                },
                {
                    "output_type": "display_data",
                    "data": {
                        "text/html": "Total execution time: 00:00:00.009"
                    },
                    "metadata": {}
                },
                {
                    "output_type": "execute_result",
                    "metadata": {},
                    "execution_count": 36,
                    "data": {
                        "application/vnd.dataresource+json": {
                            "schema": {
                                "fields": [
                                    {
                                        "name": "ID"
                                    },
                                    {
                                        "name": "Name"
                                    },
                                    {
                                        "name": "Email"
                                    },
                                    {
                                        "name": "GenderID"
                                    },
                                    {
                                        "name": "Age"
                                    }
                                ]
                            },
                            "data": [
                                {
                                    "ID": "1",
                                    "Name": "Jade",
                                    "Email": "j@j.com",
                                    "GenderID": "2",
                                    "Age": "NULL"
                                },
                                {
                                    "ID": "2",
                                    "Name": "Mary",
                                    "Email": "m@m.com",
                                    "GenderID": "3",
                                    "Age": "NULL"
                                },
                                {
                                    "ID": "3",
                                    "Name": "Martin",
                                    "Email": "ma@ma.com",
                                    "GenderID": "1",
                                    "Age": "NULL"
                                },
                                {
                                    "ID": "4",
                                    "Name": "Rob",
                                    "Email": "r@r.com",
                                    "GenderID": "NULL",
                                    "Age": "NULL"
                                },
                                {
                                    "ID": "5",
                                    "Name": "May",
                                    "Email": "may@may.com",
                                    "GenderID": "2",
                                    "Age": "NULL"
                                },
                                {
                                    "ID": "7",
                                    "Name": "Rich",
                                    "Email": "ri@ri.com",
                                    "GenderID": "2",
                                    "Age": "NULL"
                                },
                                {
                                    "ID": "8",
                                    "Name": "Mike",
                                    "Email": "mi@mi.com",
                                    "GenderID": "NULL",
                                    "Age": "NULL"
                                },
                                {
                                    "ID": "10",
                                    "Name": "Rock",
                                    "Email": "Rock@r.com",
                                    "GenderID": "3",
                                    "Age": "2"
                                },
                                {
                                    "ID": "11",
                                    "Name": "Sam",
                                    "Email": "sam@r.com",
                                    "GenderID": "3",
                                    "Age": "100"
                                },
                                {
                                    "ID": "12",
                                    "Name": "Rock",
                                    "Email": "r1@r.com",
                                    "GenderID": "1",
                                    "Age": "25"
                                }
                            ]
                        },
                        "text/html": [
                            "<table>",
                            "<tr><th>ID</th><th>Name</th><th>Email</th><th>GenderID</th><th>Age</th></tr>",
                            "<tr><td>1</td><td>Jade</td><td>j@j.com</td><td>2</td><td>NULL</td></tr>",
                            "<tr><td>2</td><td>Mary</td><td>m@m.com</td><td>3</td><td>NULL</td></tr>",
                            "<tr><td>3</td><td>Martin</td><td>ma@ma.com</td><td>1</td><td>NULL</td></tr>",
                            "<tr><td>4</td><td>Rob</td><td>r@r.com</td><td>NULL</td><td>NULL</td></tr>",
                            "<tr><td>5</td><td>May</td><td>may@may.com</td><td>2</td><td>NULL</td></tr>",
                            "<tr><td>7</td><td>Rich</td><td>ri@ri.com</td><td>2</td><td>NULL</td></tr>",
                            "<tr><td>8</td><td>Mike</td><td>mi@mi.com</td><td>NULL</td><td>NULL</td></tr>",
                            "<tr><td>10</td><td>Rock</td><td>Rock@r.com</td><td>3</td><td>2</td></tr>",
                            "<tr><td>11</td><td>Sam</td><td>sam@r.com</td><td>3</td><td>100</td></tr>",
                            "<tr><td>12</td><td>Rock</td><td>r1@r.com</td><td>1</td><td>25</td></tr>",
                            "</table>"
                        ]
                    }
                },
                {
                    "output_type": "execute_result",
                    "metadata": {},
                    "execution_count": 36,
                    "data": {
                        "application/vnd.dataresource+json": {
                            "schema": {
                                "fields": [
                                    {
                                        "name": "Email"
                                    },
                                    {
                                        "name": "(No column name)"
                                    }
                                ]
                            },
                            "data": [
                                {
                                    "Email": "@j.com",
                                    "(No column name)": "1"
                                },
                                {
                                    "Email": "@m.com",
                                    "(No column name)": "1"
                                },
                                {
                                    "Email": "@ma.com",
                                    "(No column name)": "1"
                                },
                                {
                                    "Email": "@may.com",
                                    "(No column name)": "1"
                                },
                                {
                                    "Email": "@mi.com",
                                    "(No column name)": "1"
                                },
                                {
                                    "Email": "@r.com",
                                    "(No column name)": "4"
                                },
                                {
                                    "Email": "@ri.com",
                                    "(No column name)": "1"
                                }
                            ]
                        },
                        "text/html": [
                            "<table>",
                            "<tr><th>Email</th><th>(No column name)</th></tr>",
                            "<tr><td>@j.com</td><td>1</td></tr>",
                            "<tr><td>@m.com</td><td>1</td></tr>",
                            "<tr><td>@ma.com</td><td>1</td></tr>",
                            "<tr><td>@may.com</td><td>1</td></tr>",
                            "<tr><td>@mi.com</td><td>1</td></tr>",
                            "<tr><td>@r.com</td><td>4</td></tr>",
                            "<tr><td>@ri.com</td><td>1</td></tr>",
                            "</table>"
                        ]
                    }
                }
            ],
            "execution_count": 36
        },
        {
            "cell_type": "code",
            "source": [
                "CREATE TABLE  tblAGENTS \r\n",
                "   (\t\r\n",
                "    \"AGENT_CODE\" CHAR(6) NOT NULL PRIMARY KEY, \r\n",
                "\t\"AGENT_NAME\" CHAR(40), \r\n",
                "    \"AGENT_EMAIL\" NVARCHAR(50),\r\n",
                "\t\"WORKING_AREA\" CHAR(35), \r\n",
                "\t\"COMMISSION\" FLOAT, \r\n",
                "\t\"PHONE_NO\" CHAR(15), \r\n",
                "\t\"COUNTRY\" VARCHAR(25) \r\n",
                "\t );"
            ],
            "metadata": {
                "azdata_cell_guid": "365053a4-28c5-4746-8ab5-c3af636d6c99",
                "language": "sql"
            },
            "outputs": [
                {
                    "output_type": "display_data",
                    "data": {
                        "text/html": "Commands completed successfully."
                    },
                    "metadata": {}
                },
                {
                    "output_type": "display_data",
                    "data": {
                        "text/html": "Total execution time: 00:00:00.003"
                    },
                    "metadata": {}
                }
            ],
            "execution_count": 53
        },
        {
            "cell_type": "code",
            "source": [
                "INSERT INTO tblAGENTS VALUES ('A007', 'Arvind','arvind@aaa.com', 'Bangalore', '0.15', '077-25814763', '');\r\n",
                "INSERT INTO tblAGENTS VALUES ('A003', 'Alex ', 'arvind@aaa.com', 'London', '0.13', '075-12458969', '');\r\n",
                "INSERT INTO tblAGENTS VALUES ('A008', 'Alford','arvind@aaa.com',  'New York', '0.12', '044-25874365', '');\r\n",
                "INSERT INTO tblAGENTS VALUES ('A011', 'Ravi Kumar','arvind@aaa.com',  'Bangalore', '0.15', '077-45625874', '');\r\n",
                "INSERT INTO tblAGENTS VALUES ('A010', 'Santakumar','arvind@aaa.com',  'Chennai', '0.14', '007-22388644', '');\r\n",
                "INSERT INTO tblAGENTS VALUES ('A012', 'Lucida','arvind@aaa.com',  'San Jose', '0.12', '044-52981425', '');\r\n",
                "INSERT INTO tblAGENTS VALUES ('A005', 'Anderson','anderson@aaa.com',  'Brisban', '0.13', '045-21447739', '');\r\n",
                "INSERT INTO tblAGENTS VALUES ('A001', 'Subbarao','subbaroa@sss.com',  'Bangalore', '0.14', '077-12346674', '');\r\n",
                "INSERT INTO tblAGENTS VALUES ('A002', 'Mukesh','mukesh@mmm.com',  'Mumbai', '0.11', '029-12358964', '');\r\n",
                "INSERT INTO tblAGENTS VALUES ('A006', 'McDen','mcdean@mmm.com',  'London', '0.15', '078-22255588', '');\r\n",
                "INSERT INTO tblAGENTS VALUES ('A004', 'Ivan', 'ivan@iii.com', 'Torento', '0.15', '008-22544166', '');\r\n",
                "INSERT INTO tblAGENTS VALUES ('A009', 'Benjamin','benjamin@bbb.com',  'Hampshair', '0.11', '008-22536178', '');"
            ],
            "metadata": {
                "azdata_cell_guid": "342b05ca-3cb6-4309-ad83-8979c0788b17",
                "language": "sql"
            },
            "outputs": [
                {
                    "output_type": "display_data",
                    "data": {
                        "text/html": "(1 row affected)"
                    },
                    "metadata": {}
                },
                {
                    "output_type": "display_data",
                    "data": {
                        "text/html": "(1 row affected)"
                    },
                    "metadata": {}
                },
                {
                    "output_type": "display_data",
                    "data": {
                        "text/html": "(1 row affected)"
                    },
                    "metadata": {}
                },
                {
                    "output_type": "display_data",
                    "data": {
                        "text/html": "(1 row affected)"
                    },
                    "metadata": {}
                },
                {
                    "output_type": "display_data",
                    "data": {
                        "text/html": "(1 row affected)"
                    },
                    "metadata": {}
                },
                {
                    "output_type": "display_data",
                    "data": {
                        "text/html": "(1 row affected)"
                    },
                    "metadata": {}
                },
                {
                    "output_type": "display_data",
                    "data": {
                        "text/html": "(1 row affected)"
                    },
                    "metadata": {}
                },
                {
                    "output_type": "display_data",
                    "data": {
                        "text/html": "(1 row affected)"
                    },
                    "metadata": {}
                },
                {
                    "output_type": "display_data",
                    "data": {
                        "text/html": "(1 row affected)"
                    },
                    "metadata": {}
                },
                {
                    "output_type": "display_data",
                    "data": {
                        "text/html": "(1 row affected)"
                    },
                    "metadata": {}
                },
                {
                    "output_type": "display_data",
                    "data": {
                        "text/html": "(1 row affected)"
                    },
                    "metadata": {}
                },
                {
                    "output_type": "display_data",
                    "data": {
                        "text/html": "(1 row affected)"
                    },
                    "metadata": {}
                },
                {
                    "output_type": "display_data",
                    "data": {
                        "text/html": "Total execution time: 00:00:00.007"
                    },
                    "metadata": {}
                }
            ],
            "execution_count": 54
        },
        {
            "cell_type": "markdown",
            "source": [
                "## Wrap the email with ***** like-> iam*******@gmail.com"
            ],
            "metadata": {
                "language": "sql",
                "azdata_cell_guid": "7593acd1-78cc-4344-8675-613c87c1e502"
            },
            "attachments": {}
        },
        {
            "cell_type": "code",
            "source": [
                "SELECT * FROM tblAGENTS;\r\n",
                "\r\n",
                "-- Wrap the email with the *******\r\n",
                "\r\n",
                "SELECT AGENT_NAME, SUBSTRING(AGENT_EMAIL,1,2)+REPLICATE('*',5)+SUBSTRING(AGENT_EMAIL,CHARINDEX('@',AGENT_EMAIL),LEN(AGENT_EMAIL) -CHARINDEX('@',AGENT_EMAIL)+1)AS AGENT_EMAIL, WORKING_AREA, COMMISSION FROM tblAGENTS;"
            ],
            "metadata": {
                "azdata_cell_guid": "de9fc923-f103-42f8-8fa0-5b027a1f3b85",
                "language": "sql",
                "tags": []
            },
            "outputs": [
                {
                    "output_type": "display_data",
                    "data": {
                        "text/html": "(12 rows affected)"
                    },
                    "metadata": {}
                },
                {
                    "output_type": "display_data",
                    "data": {
                        "text/html": "(12 rows affected)"
                    },
                    "metadata": {}
                },
                {
                    "output_type": "display_data",
                    "data": {
                        "text/html": "Total execution time: 00:00:00.009"
                    },
                    "metadata": {}
                },
                {
                    "output_type": "execute_result",
                    "metadata": {},
                    "execution_count": 58,
                    "data": {
                        "application/vnd.dataresource+json": {
                            "schema": {
                                "fields": [
                                    {
                                        "name": "AGENT_CODE"
                                    },
                                    {
                                        "name": "AGENT_NAME"
                                    },
                                    {
                                        "name": "AGENT_EMAIL"
                                    },
                                    {
                                        "name": "WORKING_AREA"
                                    },
                                    {
                                        "name": "COMMISSION"
                                    },
                                    {
                                        "name": "PHONE_NO"
                                    },
                                    {
                                        "name": "COUNTRY"
                                    }
                                ]
                            },
                            "data": [
                                {
                                    "AGENT_CODE": "A001  ",
                                    "AGENT_NAME": "Subbarao                                ",
                                    "AGENT_EMAIL": "subbaroa@sss.com",
                                    "WORKING_AREA": "Bangalore                          ",
                                    "COMMISSION": "0.14",
                                    "PHONE_NO": "077-12346674   ",
                                    "COUNTRY": ""
                                },
                                {
                                    "AGENT_CODE": "A002  ",
                                    "AGENT_NAME": "Mukesh                                  ",
                                    "AGENT_EMAIL": "mukesh@mmm.com",
                                    "WORKING_AREA": "Mumbai                             ",
                                    "COMMISSION": "0.11",
                                    "PHONE_NO": "029-12358964   ",
                                    "COUNTRY": ""
                                },
                                {
                                    "AGENT_CODE": "A003  ",
                                    "AGENT_NAME": "Alex                                    ",
                                    "AGENT_EMAIL": "arvind@aaa.com",
                                    "WORKING_AREA": "London                             ",
                                    "COMMISSION": "0.13",
                                    "PHONE_NO": "075-12458969   ",
                                    "COUNTRY": ""
                                },
                                {
                                    "AGENT_CODE": "A004  ",
                                    "AGENT_NAME": "Ivan                                    ",
                                    "AGENT_EMAIL": "ivan@iii.com",
                                    "WORKING_AREA": "Torento                            ",
                                    "COMMISSION": "0.15",
                                    "PHONE_NO": "008-22544166   ",
                                    "COUNTRY": ""
                                },
                                {
                                    "AGENT_CODE": "A005  ",
                                    "AGENT_NAME": "Anderson                                ",
                                    "AGENT_EMAIL": "anderson@aaa.com",
                                    "WORKING_AREA": "Brisban                            ",
                                    "COMMISSION": "0.13",
                                    "PHONE_NO": "045-21447739   ",
                                    "COUNTRY": ""
                                },
                                {
                                    "AGENT_CODE": "A006  ",
                                    "AGENT_NAME": "McDen                                   ",
                                    "AGENT_EMAIL": "mcdean@mmm.com",
                                    "WORKING_AREA": "London                             ",
                                    "COMMISSION": "0.15",
                                    "PHONE_NO": "078-22255588   ",
                                    "COUNTRY": ""
                                },
                                {
                                    "AGENT_CODE": "A007  ",
                                    "AGENT_NAME": "Arvind                                  ",
                                    "AGENT_EMAIL": "arvind@aaa.com",
                                    "WORKING_AREA": "Bangalore                          ",
                                    "COMMISSION": "0.15",
                                    "PHONE_NO": "077-25814763   ",
                                    "COUNTRY": ""
                                },
                                {
                                    "AGENT_CODE": "A008  ",
                                    "AGENT_NAME": "Alford                                  ",
                                    "AGENT_EMAIL": "arvind@aaa.com",
                                    "WORKING_AREA": "New York                           ",
                                    "COMMISSION": "0.12",
                                    "PHONE_NO": "044-25874365   ",
                                    "COUNTRY": ""
                                },
                                {
                                    "AGENT_CODE": "A009  ",
                                    "AGENT_NAME": "Benjamin                                ",
                                    "AGENT_EMAIL": "benjamin@bbb.com",
                                    "WORKING_AREA": "Hampshair                          ",
                                    "COMMISSION": "0.11",
                                    "PHONE_NO": "008-22536178   ",
                                    "COUNTRY": ""
                                },
                                {
                                    "AGENT_CODE": "A010  ",
                                    "AGENT_NAME": "Santakumar                              ",
                                    "AGENT_EMAIL": "arvind@aaa.com",
                                    "WORKING_AREA": "Chennai                            ",
                                    "COMMISSION": "0.14",
                                    "PHONE_NO": "007-22388644   ",
                                    "COUNTRY": ""
                                },
                                {
                                    "AGENT_CODE": "A011  ",
                                    "AGENT_NAME": "Ravi Kumar                              ",
                                    "AGENT_EMAIL": "arvind@aaa.com",
                                    "WORKING_AREA": "Bangalore                          ",
                                    "COMMISSION": "0.15",
                                    "PHONE_NO": "077-45625874   ",
                                    "COUNTRY": ""
                                },
                                {
                                    "AGENT_CODE": "A012  ",
                                    "AGENT_NAME": "Lucida                                  ",
                                    "AGENT_EMAIL": "arvind@aaa.com",
                                    "WORKING_AREA": "San Jose                           ",
                                    "COMMISSION": "0.12",
                                    "PHONE_NO": "044-52981425   ",
                                    "COUNTRY": ""
                                }
                            ]
                        },
                        "text/html": [
                            "<table>",
                            "<tr><th>AGENT_CODE</th><th>AGENT_NAME</th><th>AGENT_EMAIL</th><th>WORKING_AREA</th><th>COMMISSION</th><th>PHONE_NO</th><th>COUNTRY</th></tr>",
                            "<tr><td>A001  </td><td>Subbarao                                </td><td>subbaroa@sss.com</td><td>Bangalore                          </td><td>0.14</td><td>077-12346674   </td><td></td></tr>",
                            "<tr><td>A002  </td><td>Mukesh                                  </td><td>mukesh@mmm.com</td><td>Mumbai                             </td><td>0.11</td><td>029-12358964   </td><td></td></tr>",
                            "<tr><td>A003  </td><td>Alex                                    </td><td>arvind@aaa.com</td><td>London                             </td><td>0.13</td><td>075-12458969   </td><td></td></tr>",
                            "<tr><td>A004  </td><td>Ivan                                    </td><td>ivan@iii.com</td><td>Torento                            </td><td>0.15</td><td>008-22544166   </td><td></td></tr>",
                            "<tr><td>A005  </td><td>Anderson                                </td><td>anderson@aaa.com</td><td>Brisban                            </td><td>0.13</td><td>045-21447739   </td><td></td></tr>",
                            "<tr><td>A006  </td><td>McDen                                   </td><td>mcdean@mmm.com</td><td>London                             </td><td>0.15</td><td>078-22255588   </td><td></td></tr>",
                            "<tr><td>A007  </td><td>Arvind                                  </td><td>arvind@aaa.com</td><td>Bangalore                          </td><td>0.15</td><td>077-25814763   </td><td></td></tr>",
                            "<tr><td>A008  </td><td>Alford                                  </td><td>arvind@aaa.com</td><td>New York                           </td><td>0.12</td><td>044-25874365   </td><td></td></tr>",
                            "<tr><td>A009  </td><td>Benjamin                                </td><td>benjamin@bbb.com</td><td>Hampshair                          </td><td>0.11</td><td>008-22536178   </td><td></td></tr>",
                            "<tr><td>A010  </td><td>Santakumar                              </td><td>arvind@aaa.com</td><td>Chennai                            </td><td>0.14</td><td>007-22388644   </td><td></td></tr>",
                            "<tr><td>A011  </td><td>Ravi Kumar                              </td><td>arvind@aaa.com</td><td>Bangalore                          </td><td>0.15</td><td>077-45625874   </td><td></td></tr>",
                            "<tr><td>A012  </td><td>Lucida                                  </td><td>arvind@aaa.com</td><td>San Jose                           </td><td>0.12</td><td>044-52981425   </td><td></td></tr>",
                            "</table>"
                        ]
                    }
                },
                {
                    "output_type": "execute_result",
                    "metadata": {},
                    "execution_count": 58,
                    "data": {
                        "application/vnd.dataresource+json": {
                            "schema": {
                                "fields": [
                                    {
                                        "name": "AGENT_NAME"
                                    },
                                    {
                                        "name": "AGENT_EMAIL"
                                    },
                                    {
                                        "name": "WORKING_AREA"
                                    },
                                    {
                                        "name": "COMMISSION"
                                    }
                                ]
                            },
                            "data": [
                                {
                                    "AGENT_NAME": "Subbarao                                ",
                                    "AGENT_EMAIL": "su*****@sss.com",
                                    "WORKING_AREA": "Bangalore                          ",
                                    "COMMISSION": "0.14"
                                },
                                {
                                    "AGENT_NAME": "Mukesh                                  ",
                                    "AGENT_EMAIL": "mu*****@mmm.com",
                                    "WORKING_AREA": "Mumbai                             ",
                                    "COMMISSION": "0.11"
                                },
                                {
                                    "AGENT_NAME": "Alex                                    ",
                                    "AGENT_EMAIL": "ar*****@aaa.com",
                                    "WORKING_AREA": "London                             ",
                                    "COMMISSION": "0.13"
                                },
                                {
                                    "AGENT_NAME": "Ivan                                    ",
                                    "AGENT_EMAIL": "iv*****@iii.com",
                                    "WORKING_AREA": "Torento                            ",
                                    "COMMISSION": "0.15"
                                },
                                {
                                    "AGENT_NAME": "Anderson                                ",
                                    "AGENT_EMAIL": "an*****@aaa.com",
                                    "WORKING_AREA": "Brisban                            ",
                                    "COMMISSION": "0.13"
                                },
                                {
                                    "AGENT_NAME": "McDen                                   ",
                                    "AGENT_EMAIL": "mc*****@mmm.com",
                                    "WORKING_AREA": "London                             ",
                                    "COMMISSION": "0.15"
                                },
                                {
                                    "AGENT_NAME": "Arvind                                  ",
                                    "AGENT_EMAIL": "ar*****@aaa.com",
                                    "WORKING_AREA": "Bangalore                          ",
                                    "COMMISSION": "0.15"
                                },
                                {
                                    "AGENT_NAME": "Alford                                  ",
                                    "AGENT_EMAIL": "ar*****@aaa.com",
                                    "WORKING_AREA": "New York                           ",
                                    "COMMISSION": "0.12"
                                },
                                {
                                    "AGENT_NAME": "Benjamin                                ",
                                    "AGENT_EMAIL": "be*****@bbb.com",
                                    "WORKING_AREA": "Hampshair                          ",
                                    "COMMISSION": "0.11"
                                },
                                {
                                    "AGENT_NAME": "Santakumar                              ",
                                    "AGENT_EMAIL": "ar*****@aaa.com",
                                    "WORKING_AREA": "Chennai                            ",
                                    "COMMISSION": "0.14"
                                },
                                {
                                    "AGENT_NAME": "Ravi Kumar                              ",
                                    "AGENT_EMAIL": "ar*****@aaa.com",
                                    "WORKING_AREA": "Bangalore                          ",
                                    "COMMISSION": "0.15"
                                },
                                {
                                    "AGENT_NAME": "Lucida                                  ",
                                    "AGENT_EMAIL": "ar*****@aaa.com",
                                    "WORKING_AREA": "San Jose                           ",
                                    "COMMISSION": "0.12"
                                }
                            ]
                        },
                        "text/html": [
                            "<table>",
                            "<tr><th>AGENT_NAME</th><th>AGENT_EMAIL</th><th>WORKING_AREA</th><th>COMMISSION</th></tr>",
                            "<tr><td>Subbarao                                </td><td>su*****@sss.com</td><td>Bangalore                          </td><td>0.14</td></tr>",
                            "<tr><td>Mukesh                                  </td><td>mu*****@mmm.com</td><td>Mumbai                             </td><td>0.11</td></tr>",
                            "<tr><td>Alex                                    </td><td>ar*****@aaa.com</td><td>London                             </td><td>0.13</td></tr>",
                            "<tr><td>Ivan                                    </td><td>iv*****@iii.com</td><td>Torento                            </td><td>0.15</td></tr>",
                            "<tr><td>Anderson                                </td><td>an*****@aaa.com</td><td>Brisban                            </td><td>0.13</td></tr>",
                            "<tr><td>McDen                                   </td><td>mc*****@mmm.com</td><td>London                             </td><td>0.15</td></tr>",
                            "<tr><td>Arvind                                  </td><td>ar*****@aaa.com</td><td>Bangalore                          </td><td>0.15</td></tr>",
                            "<tr><td>Alford                                  </td><td>ar*****@aaa.com</td><td>New York                           </td><td>0.12</td></tr>",
                            "<tr><td>Benjamin                                </td><td>be*****@bbb.com</td><td>Hampshair                          </td><td>0.11</td></tr>",
                            "<tr><td>Santakumar                              </td><td>ar*****@aaa.com</td><td>Chennai                            </td><td>0.14</td></tr>",
                            "<tr><td>Ravi Kumar                              </td><td>ar*****@aaa.com</td><td>Bangalore                          </td><td>0.15</td></tr>",
                            "<tr><td>Lucida                                  </td><td>ar*****@aaa.com</td><td>San Jose                           </td><td>0.12</td></tr>",
                            "</table>"
                        ]
                    }
                }
            ],
            "execution_count": 58
        },
        {
            "cell_type": "code",
            "source": [
                "-- PATINDEX()\r\n",
                "\r\n",
                "SELECT AGENT_EMAIL, PATINDEX('%aaa.com',AGENT_EMAIL) as FirstOccurrencec\r\n",
                "FROM tblAGENTS\r\n",
                "WHERE PATINDEX('%aaa.com',AGENT_EMAIL) > 0\r\n",
                "\r\n",
                "\r\n",
                "-- REPLACE()\r\n",
                "\r\n",
                "SELECT AGENT_EMAIL, REPLACE(AGENT_EMAIL,'.com','.net') as ConvertedEmail \r\n",
                "FROM tblAGENTS\r\n",
                "\r\n",
                "-- STUFF()\r\n",
                "\r\n",
                "SELECT AGENT_EMAIL, STUFF(AGENT_EMAIL,2,5,'*****') as StuffedEmail\r\n",
                "FROM tblAGENTS"
            ],
            "metadata": {
                "azdata_cell_guid": "6536b9af-142e-41a4-a952-3e27c29b01ab",
                "language": "sql"
            },
            "outputs": [
                {
                    "output_type": "display_data",
                    "data": {
                        "text/html": "(7 rows affected)"
                    },
                    "metadata": {}
                },
                {
                    "output_type": "display_data",
                    "data": {
                        "text/html": "(12 rows affected)"
                    },
                    "metadata": {}
                },
                {
                    "output_type": "display_data",
                    "data": {
                        "text/html": "(12 rows affected)"
                    },
                    "metadata": {}
                },
                {
                    "output_type": "display_data",
                    "data": {
                        "text/html": "Total execution time: 00:00:00.021"
                    },
                    "metadata": {}
                },
                {
                    "output_type": "execute_result",
                    "metadata": {},
                    "execution_count": 65,
                    "data": {
                        "application/vnd.dataresource+json": {
                            "schema": {
                                "fields": [
                                    {
                                        "name": "AGENT_EMAIL"
                                    },
                                    {
                                        "name": "FirstOccurrencec"
                                    }
                                ]
                            },
                            "data": [
                                {
                                    "AGENT_EMAIL": "arvind@aaa.com",
                                    "FirstOccurrencec": "8"
                                },
                                {
                                    "AGENT_EMAIL": "anderson@aaa.com",
                                    "FirstOccurrencec": "10"
                                },
                                {
                                    "AGENT_EMAIL": "arvind@aaa.com",
                                    "FirstOccurrencec": "8"
                                },
                                {
                                    "AGENT_EMAIL": "arvind@aaa.com",
                                    "FirstOccurrencec": "8"
                                },
                                {
                                    "AGENT_EMAIL": "arvind@aaa.com",
                                    "FirstOccurrencec": "8"
                                },
                                {
                                    "AGENT_EMAIL": "arvind@aaa.com",
                                    "FirstOccurrencec": "8"
                                },
                                {
                                    "AGENT_EMAIL": "arvind@aaa.com",
                                    "FirstOccurrencec": "8"
                                }
                            ]
                        },
                        "text/html": [
                            "<table>",
                            "<tr><th>AGENT_EMAIL</th><th>FirstOccurrencec</th></tr>",
                            "<tr><td>arvind@aaa.com</td><td>8</td></tr>",
                            "<tr><td>anderson@aaa.com</td><td>10</td></tr>",
                            "<tr><td>arvind@aaa.com</td><td>8</td></tr>",
                            "<tr><td>arvind@aaa.com</td><td>8</td></tr>",
                            "<tr><td>arvind@aaa.com</td><td>8</td></tr>",
                            "<tr><td>arvind@aaa.com</td><td>8</td></tr>",
                            "<tr><td>arvind@aaa.com</td><td>8</td></tr>",
                            "</table>"
                        ]
                    }
                },
                {
                    "output_type": "execute_result",
                    "metadata": {},
                    "execution_count": 65,
                    "data": {
                        "application/vnd.dataresource+json": {
                            "schema": {
                                "fields": [
                                    {
                                        "name": "AGENT_EMAIL"
                                    },
                                    {
                                        "name": "ConvertedEmail"
                                    }
                                ]
                            },
                            "data": [
                                {
                                    "AGENT_EMAIL": "subbaroa@sss.com",
                                    "ConvertedEmail": "subbaroa@sss.net"
                                },
                                {
                                    "AGENT_EMAIL": "mukesh@mmm.com",
                                    "ConvertedEmail": "mukesh@mmm.net"
                                },
                                {
                                    "AGENT_EMAIL": "arvind@aaa.com",
                                    "ConvertedEmail": "arvind@aaa.net"
                                },
                                {
                                    "AGENT_EMAIL": "ivan@iii.com",
                                    "ConvertedEmail": "ivan@iii.net"
                                },
                                {
                                    "AGENT_EMAIL": "anderson@aaa.com",
                                    "ConvertedEmail": "anderson@aaa.net"
                                },
                                {
                                    "AGENT_EMAIL": "mcdean@mmm.com",
                                    "ConvertedEmail": "mcdean@mmm.net"
                                },
                                {
                                    "AGENT_EMAIL": "arvind@aaa.com",
                                    "ConvertedEmail": "arvind@aaa.net"
                                },
                                {
                                    "AGENT_EMAIL": "arvind@aaa.com",
                                    "ConvertedEmail": "arvind@aaa.net"
                                },
                                {
                                    "AGENT_EMAIL": "benjamin@bbb.com",
                                    "ConvertedEmail": "benjamin@bbb.net"
                                },
                                {
                                    "AGENT_EMAIL": "arvind@aaa.com",
                                    "ConvertedEmail": "arvind@aaa.net"
                                },
                                {
                                    "AGENT_EMAIL": "arvind@aaa.com",
                                    "ConvertedEmail": "arvind@aaa.net"
                                },
                                {
                                    "AGENT_EMAIL": "arvind@aaa.com",
                                    "ConvertedEmail": "arvind@aaa.net"
                                }
                            ]
                        },
                        "text/html": [
                            "<table>",
                            "<tr><th>AGENT_EMAIL</th><th>ConvertedEmail</th></tr>",
                            "<tr><td>subbaroa@sss.com</td><td>subbaroa@sss.net</td></tr>",
                            "<tr><td>mukesh@mmm.com</td><td>mukesh@mmm.net</td></tr>",
                            "<tr><td>arvind@aaa.com</td><td>arvind@aaa.net</td></tr>",
                            "<tr><td>ivan@iii.com</td><td>ivan@iii.net</td></tr>",
                            "<tr><td>anderson@aaa.com</td><td>anderson@aaa.net</td></tr>",
                            "<tr><td>mcdean@mmm.com</td><td>mcdean@mmm.net</td></tr>",
                            "<tr><td>arvind@aaa.com</td><td>arvind@aaa.net</td></tr>",
                            "<tr><td>arvind@aaa.com</td><td>arvind@aaa.net</td></tr>",
                            "<tr><td>benjamin@bbb.com</td><td>benjamin@bbb.net</td></tr>",
                            "<tr><td>arvind@aaa.com</td><td>arvind@aaa.net</td></tr>",
                            "<tr><td>arvind@aaa.com</td><td>arvind@aaa.net</td></tr>",
                            "<tr><td>arvind@aaa.com</td><td>arvind@aaa.net</td></tr>",
                            "</table>"
                        ]
                    }
                },
                {
                    "output_type": "execute_result",
                    "metadata": {},
                    "execution_count": 65,
                    "data": {
                        "application/vnd.dataresource+json": {
                            "schema": {
                                "fields": [
                                    {
                                        "name": "AGENT_EMAIL"
                                    },
                                    {
                                        "name": "StuffedEmail"
                                    }
                                ]
                            },
                            "data": [
                                {
                                    "AGENT_EMAIL": "subbaroa@sss.com",
                                    "StuffedEmail": "s*****oa@sss.com"
                                },
                                {
                                    "AGENT_EMAIL": "mukesh@mmm.com",
                                    "StuffedEmail": "m*****@mmm.com"
                                },
                                {
                                    "AGENT_EMAIL": "arvind@aaa.com",
                                    "StuffedEmail": "a*****@aaa.com"
                                },
                                {
                                    "AGENT_EMAIL": "ivan@iii.com",
                                    "StuffedEmail": "i*****ii.com"
                                },
                                {
                                    "AGENT_EMAIL": "anderson@aaa.com",
                                    "StuffedEmail": "a*****on@aaa.com"
                                },
                                {
                                    "AGENT_EMAIL": "mcdean@mmm.com",
                                    "StuffedEmail": "m*****@mmm.com"
                                },
                                {
                                    "AGENT_EMAIL": "arvind@aaa.com",
                                    "StuffedEmail": "a*****@aaa.com"
                                },
                                {
                                    "AGENT_EMAIL": "arvind@aaa.com",
                                    "StuffedEmail": "a*****@aaa.com"
                                },
                                {
                                    "AGENT_EMAIL": "benjamin@bbb.com",
                                    "StuffedEmail": "b*****in@bbb.com"
                                },
                                {
                                    "AGENT_EMAIL": "arvind@aaa.com",
                                    "StuffedEmail": "a*****@aaa.com"
                                },
                                {
                                    "AGENT_EMAIL": "arvind@aaa.com",
                                    "StuffedEmail": "a*****@aaa.com"
                                },
                                {
                                    "AGENT_EMAIL": "arvind@aaa.com",
                                    "StuffedEmail": "a*****@aaa.com"
                                }
                            ]
                        },
                        "text/html": [
                            "<table>",
                            "<tr><th>AGENT_EMAIL</th><th>StuffedEmail</th></tr>",
                            "<tr><td>subbaroa@sss.com</td><td>s*****oa@sss.com</td></tr>",
                            "<tr><td>mukesh@mmm.com</td><td>m*****@mmm.com</td></tr>",
                            "<tr><td>arvind@aaa.com</td><td>a*****@aaa.com</td></tr>",
                            "<tr><td>ivan@iii.com</td><td>i*****ii.com</td></tr>",
                            "<tr><td>anderson@aaa.com</td><td>a*****on@aaa.com</td></tr>",
                            "<tr><td>mcdean@mmm.com</td><td>m*****@mmm.com</td></tr>",
                            "<tr><td>arvind@aaa.com</td><td>a*****@aaa.com</td></tr>",
                            "<tr><td>arvind@aaa.com</td><td>a*****@aaa.com</td></tr>",
                            "<tr><td>benjamin@bbb.com</td><td>b*****in@bbb.com</td></tr>",
                            "<tr><td>arvind@aaa.com</td><td>a*****@aaa.com</td></tr>",
                            "<tr><td>arvind@aaa.com</td><td>a*****@aaa.com</td></tr>",
                            "<tr><td>arvind@aaa.com</td><td>a*****@aaa.com</td></tr>",
                            "</table>"
                        ]
                    }
                }
            ],
            "execution_count": 65
        }
    ]
}