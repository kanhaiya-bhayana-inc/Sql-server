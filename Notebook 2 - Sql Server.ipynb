{
    "metadata": {
        "kernelspec": {
            "name": "SQL",
            "display_name": "SQL",
            "language": "sql"
        },
        "language_info": {
            "name": "sql",
            "version": ""
        }
    },
    "nbformat_minor": 2,
    "nbformat": 4,
    "cells": [
        {
            "cell_type": "markdown",
            "source": [
                "- ## Notebook 2 - Sql Server"
            ],
            "metadata": {
                "language": "sql",
                "azdata_cell_guid": "56aa53ef-8860-4292-8e69-ccafb0123cff"
            },
            "attachments": {}
        },
        {
            "cell_type": "markdown",
            "source": [
                "## Topics Covered in this notebook\n",
                "\n",
                "```\n",
                "1. Commonly used Built-in string functions in SQL server\n",
                "2. Date Time functions in SQL Server\n",
                "3. Cast and Convert\n",
                "4. Mathematical functions in SQL Server\n",
                "5. Scalar user-defined functions\n",
                "6. Inline table-valued functions\n",
                "7. Multi statement table-valued functions\n",
                "8. Important concepts related to functions\n",
                "```"
            ],
            "metadata": {
                "language": "sql",
                "azdata_cell_guid": "609ad7dd-8924-4f85-bb9a-078eab9334f7"
            },
            "attachments": {}
        },
        {
            "cell_type": "code",
            "source": [
                "Use kudvenkatdb_master;"
            ],
            "metadata": {
                "azdata_cell_guid": "6d737a65-efe4-4909-97db-d96f5e87851b",
                "language": "sql"
            },
            "outputs": [
                {
                    "output_type": "display_data",
                    "data": {
                        "text/html": "Commands completed successfully."
                    },
                    "metadata": {}
                },
                {
                    "output_type": "display_data",
                    "data": {
                        "text/html": "Total execution time: 00:00:00.010"
                    },
                    "metadata": {}
                }
            ],
            "execution_count": 1
        },
        {
            "cell_type": "markdown",
            "source": [
                "## Commonly used Built in string functions in sql server\n",
                "\n",
                "```\n",
                "1. ASCII(Character_Expression) - Returns the ASCII code of the given character.\n",
                "2. CHAR(Integer_Expression)  - Converts an int ASCII code to a character. The Integer_Expression, should be between 0 and 255.\n",
                "3. LTRIM(Character_Expression) - Removes blank on the left handside of the given character expression.\n",
                "4. RTRIM(Character_Expression) - Removes blank on the right handside of the given character expression.\n",
                "5. LOWER(Character_Expression) - Converts all the characters in the given Character_Expression, to lowercase letters.\n",
                "6. UPPER(Character_Expression) - Converts all the characters in the given Character_Expression, to uppercase letters.\n",
                "7. REVERSE('Any_String_Expression') - Reverse all the characters in the given string expression.\n",
                "8. LEN(String_Expression) - Returns the count of total characters, in the given string expression, excluding the blanks at the end of the expression.\n",
                "8. LEFT(string,no_of_chars) - The LEFT() function extracts a number of characters from a string (starting from left).\n",
                "9. RIGHT(string,no_of_chars) - The LEFT() function extracts a number of characters from a string (starting from right).\n",
                "10. CHARINDEX('Expression_To_Find','Expression_To_Search','Start_Location')  - Returns the starting position of the expression in a character string.\n",
                "11. SUBSTRING('Expression','Start','Length') - Returns substring (part of the string), from the given expression.\n",
                "12. REPLICATE(String_To_Be_Replicated,Number_Of_Times) - Repeats the given string, for the specified number of times.\n",
                "13. SPACE(Number_Of_Spaces) - Returns number of spaces, specified by the Number_Of_Spaces argument.\n",
                "14. PATINDEX('%Pattern%',Expression) - Returns the starting position of the first occurrence of a pattern in a specified expression. It takes two arguments, the pattern to be searched and the expression. PATINDEX() is similar to CHARINDEX().\n",
                "    WITH CHARINDEX() we cannot use wildcards, where as PATINDEX() provides this capability. If the specified pattern is not found, PATINDEX() returns ZERO.\n",
                "\n",
                "15. REPLACE(String_Expression,Pattern,Replacement_Value) - Replaces all occurrences of a specified string value with another string value.\n",
                "\n",
                "16. STUFF(Original_Expression,Start,Length,Replacement-Expression) - Inserts the Replacement_Expression, at the start position specified, along with removing the characters specified using Length parameter.\n",
                "\n",
                "```"
            ],
            "metadata": {
                "azdata_cell_guid": "58092d31-5452-46fb-8010-37927975abb4"
            },
            "attachments": {}
        },
        {
            "cell_type": "code",
            "source": [
                "SELECT ASCII('A')\r\n",
                "\r\n",
                "SELECT CHAR(65)\r\n",
                "\r\n",
                "SELECT LEFT('ABCDEF',3)\r\n",
                "SELECT RIGHT('ABCDEF',3)\r\n",
                "\r\n",
                "SELECT CHARINDEX('@','sara@aaa.com',1) -- if you want to find the location of the '@' in the email, and the last parameter is where you need to define the starting lcoation of the serach and It is optional\r\n",
                "\r\n",
                "SELECT SUBSTRING('sara@aaa.com',6,7)\r\n",
                "\r\n",
                "SELECT SUBSTRING('aaa@aaa.com',CHARINDEX('@','aaa@aaa.com'),LEN('aaa@aaa.com') -CHARINDEX('@','aaa@aaa.com')+1)\r\n",
                "\r\n",
                "DECLARE @Start INT, @Result NVARCHAR(100)\r\n",
                "Set @Start = 65\r\n",
                "SET @Result = ''\r\n",
                "WHILE (@Start <= 90)\r\n",
                "BEGIN\r\n",
                "    SET @Result = @Result +  CHAR(@Start) + ', '\r\n",
                "    SET @Start = @Start + 1\r\n",
                "END\r\n",
                "SET @Result = LEFT(@Result,LEN(@Result)-1)\r\n",
                "PRINT @Result"
            ],
            "metadata": {
                "azdata_cell_guid": "3af42c78-f729-4b0f-821d-7436eea61d11",
                "language": "sql"
            },
            "outputs": [],
            "execution_count": null
        },
        {
            "cell_type": "code",
            "source": [
                "SELECT* FROM tblPerson\r\n",
                "\r\n",
                "SELECT SUBSTRING(Email,CHARINDEX('@',Email),LEN('aaa@aaa.com') -CHARINDEX('@',Email)+1) as Email,\r\n",
                "COUNT(Email)\r\n",
                "from tblPerson\r\n",
                "GROUP BY SUBSTRING(Email,CHARINDEX('@',Email),LEN('aaa@aaa.com') -CHARINDEX('@',Email)+1)\r\n",
                ""
            ],
            "metadata": {
                "azdata_cell_guid": "8b53bef6-846e-4a5d-bee7-ae0e498abf79",
                "language": "sql"
            },
            "outputs": [
                {
                    "output_type": "display_data",
                    "data": {
                        "text/html": "(10 rows affected)"
                    },
                    "metadata": {}
                },
                {
                    "output_type": "display_data",
                    "data": {
                        "text/html": "(7 rows affected)"
                    },
                    "metadata": {}
                },
                {
                    "output_type": "display_data",
                    "data": {
                        "text/html": "Total execution time: 00:00:00.009"
                    },
                    "metadata": {}
                },
                {
                    "output_type": "execute_result",
                    "execution_count": 36,
                    "data": {
                        "application/vnd.dataresource+json": {
                            "schema": {
                                "fields": [
                                    {
                                        "name": "ID"
                                    },
                                    {
                                        "name": "Name"
                                    },
                                    {
                                        "name": "Email"
                                    },
                                    {
                                        "name": "GenderID"
                                    },
                                    {
                                        "name": "Age"
                                    }
                                ]
                            },
                            "data": [
                                {
                                    "ID": "1",
                                    "Name": "Jade",
                                    "Email": "j@j.com",
                                    "GenderID": "2",
                                    "Age": "NULL"
                                },
                                {
                                    "ID": "2",
                                    "Name": "Mary",
                                    "Email": "m@m.com",
                                    "GenderID": "3",
                                    "Age": "NULL"
                                },
                                {
                                    "ID": "3",
                                    "Name": "Martin",
                                    "Email": "ma@ma.com",
                                    "GenderID": "1",
                                    "Age": "NULL"
                                },
                                {
                                    "ID": "4",
                                    "Name": "Rob",
                                    "Email": "r@r.com",
                                    "GenderID": "NULL",
                                    "Age": "NULL"
                                },
                                {
                                    "ID": "5",
                                    "Name": "May",
                                    "Email": "may@may.com",
                                    "GenderID": "2",
                                    "Age": "NULL"
                                },
                                {
                                    "ID": "7",
                                    "Name": "Rich",
                                    "Email": "ri@ri.com",
                                    "GenderID": "2",
                                    "Age": "NULL"
                                },
                                {
                                    "ID": "8",
                                    "Name": "Mike",
                                    "Email": "mi@mi.com",
                                    "GenderID": "NULL",
                                    "Age": "NULL"
                                },
                                {
                                    "ID": "10",
                                    "Name": "Rock",
                                    "Email": "Rock@r.com",
                                    "GenderID": "3",
                                    "Age": "2"
                                },
                                {
                                    "ID": "11",
                                    "Name": "Sam",
                                    "Email": "sam@r.com",
                                    "GenderID": "3",
                                    "Age": "100"
                                },
                                {
                                    "ID": "12",
                                    "Name": "Rock",
                                    "Email": "r1@r.com",
                                    "GenderID": "1",
                                    "Age": "25"
                                }
                            ]
                        },
                        "text/html": "<table><tr><th>ID</th><th>Name</th><th>Email</th><th>GenderID</th><th>Age</th></tr><tr><td>1</td><td>Jade</td><td>j@j.com</td><td>2</td><td>NULL</td></tr><tr><td>2</td><td>Mary</td><td>m@m.com</td><td>3</td><td>NULL</td></tr><tr><td>3</td><td>Martin</td><td>ma@ma.com</td><td>1</td><td>NULL</td></tr><tr><td>4</td><td>Rob</td><td>r@r.com</td><td>NULL</td><td>NULL</td></tr><tr><td>5</td><td>May</td><td>may@may.com</td><td>2</td><td>NULL</td></tr><tr><td>7</td><td>Rich</td><td>ri@ri.com</td><td>2</td><td>NULL</td></tr><tr><td>8</td><td>Mike</td><td>mi@mi.com</td><td>NULL</td><td>NULL</td></tr><tr><td>10</td><td>Rock</td><td>Rock@r.com</td><td>3</td><td>2</td></tr><tr><td>11</td><td>Sam</td><td>sam@r.com</td><td>3</td><td>100</td></tr><tr><td>12</td><td>Rock</td><td>r1@r.com</td><td>1</td><td>25</td></tr></table>"
                    },
                    "metadata": {}
                },
                {
                    "output_type": "execute_result",
                    "execution_count": 36,
                    "data": {
                        "application/vnd.dataresource+json": {
                            "schema": {
                                "fields": [
                                    {
                                        "name": "Email"
                                    },
                                    {
                                        "name": "(No column name)"
                                    }
                                ]
                            },
                            "data": [
                                {
                                    "Email": "@j.com",
                                    "(No column name)": "1"
                                },
                                {
                                    "Email": "@m.com",
                                    "(No column name)": "1"
                                },
                                {
                                    "Email": "@ma.com",
                                    "(No column name)": "1"
                                },
                                {
                                    "Email": "@may.com",
                                    "(No column name)": "1"
                                },
                                {
                                    "Email": "@mi.com",
                                    "(No column name)": "1"
                                },
                                {
                                    "Email": "@r.com",
                                    "(No column name)": "4"
                                },
                                {
                                    "Email": "@ri.com",
                                    "(No column name)": "1"
                                }
                            ]
                        },
                        "text/html": "<table><tr><th>Email</th><th>(No column name)</th></tr><tr><td>@j.com</td><td>1</td></tr><tr><td>@m.com</td><td>1</td></tr><tr><td>@ma.com</td><td>1</td></tr><tr><td>@may.com</td><td>1</td></tr><tr><td>@mi.com</td><td>1</td></tr><tr><td>@r.com</td><td>4</td></tr><tr><td>@ri.com</td><td>1</td></tr></table>"
                    },
                    "metadata": {}
                }
            ],
            "execution_count": 36
        },
        {
            "cell_type": "code",
            "source": [
                "CREATE TABLE  tblAGENTS \r\n",
                "   (\t\r\n",
                "    \"AGENT_CODE\" CHAR(6) NOT NULL PRIMARY KEY, \r\n",
                "\t\"AGENT_NAME\" CHAR(40), \r\n",
                "    \"AGENT_EMAIL\" NVARCHAR(50),\r\n",
                "\t\"WORKING_AREA\" CHAR(35), \r\n",
                "\t\"COMMISSION\" FLOAT, \r\n",
                "\t\"PHONE_NO\" CHAR(15), \r\n",
                "\t\"COUNTRY\" VARCHAR(25) \r\n",
                "\t );"
            ],
            "metadata": {
                "azdata_cell_guid": "365053a4-28c5-4746-8ab5-c3af636d6c99",
                "language": "sql"
            },
            "outputs": [
                {
                    "output_type": "display_data",
                    "data": {
                        "text/html": "Commands completed successfully."
                    },
                    "metadata": {}
                },
                {
                    "output_type": "display_data",
                    "data": {
                        "text/html": "Total execution time: 00:00:00.003"
                    },
                    "metadata": {}
                }
            ],
            "execution_count": 53
        },
        {
            "cell_type": "code",
            "source": [
                "INSERT INTO tblAGENTS VALUES ('A007', 'Arvind','arvind@aaa.com', 'Bangalore', '0.15', '077-25814763', '');\r\n",
                "INSERT INTO tblAGENTS VALUES ('A003', 'Alex ', 'arvind@aaa.com', 'London', '0.13', '075-12458969', '');\r\n",
                "INSERT INTO tblAGENTS VALUES ('A008', 'Alford','arvind@aaa.com',  'New York', '0.12', '044-25874365', '');\r\n",
                "INSERT INTO tblAGENTS VALUES ('A011', 'Ravi Kumar','arvind@aaa.com',  'Bangalore', '0.15', '077-45625874', '');\r\n",
                "INSERT INTO tblAGENTS VALUES ('A010', 'Santakumar','arvind@aaa.com',  'Chennai', '0.14', '007-22388644', '');\r\n",
                "INSERT INTO tblAGENTS VALUES ('A012', 'Lucida','arvind@aaa.com',  'San Jose', '0.12', '044-52981425', '');\r\n",
                "INSERT INTO tblAGENTS VALUES ('A005', 'Anderson','anderson@aaa.com',  'Brisban', '0.13', '045-21447739', '');\r\n",
                "INSERT INTO tblAGENTS VALUES ('A001', 'Subbarao','subbaroa@sss.com',  'Bangalore', '0.14', '077-12346674', '');\r\n",
                "INSERT INTO tblAGENTS VALUES ('A002', 'Mukesh','mukesh@mmm.com',  'Mumbai', '0.11', '029-12358964', '');\r\n",
                "INSERT INTO tblAGENTS VALUES ('A006', 'McDen','mcdean@mmm.com',  'London', '0.15', '078-22255588', '');\r\n",
                "INSERT INTO tblAGENTS VALUES ('A004', 'Ivan', 'ivan@iii.com', 'Torento', '0.15', '008-22544166', '');\r\n",
                "INSERT INTO tblAGENTS VALUES ('A009', 'Benjamin','benjamin@bbb.com',  'Hampshair', '0.11', '008-22536178', '');"
            ],
            "metadata": {
                "azdata_cell_guid": "342b05ca-3cb6-4309-ad83-8979c0788b17",
                "language": "sql"
            },
            "outputs": [
                {
                    "output_type": "display_data",
                    "data": {
                        "text/html": "(1 row affected)"
                    },
                    "metadata": {}
                },
                {
                    "output_type": "display_data",
                    "data": {
                        "text/html": "(1 row affected)"
                    },
                    "metadata": {}
                },
                {
                    "output_type": "display_data",
                    "data": {
                        "text/html": "(1 row affected)"
                    },
                    "metadata": {}
                },
                {
                    "output_type": "display_data",
                    "data": {
                        "text/html": "(1 row affected)"
                    },
                    "metadata": {}
                },
                {
                    "output_type": "display_data",
                    "data": {
                        "text/html": "(1 row affected)"
                    },
                    "metadata": {}
                },
                {
                    "output_type": "display_data",
                    "data": {
                        "text/html": "(1 row affected)"
                    },
                    "metadata": {}
                },
                {
                    "output_type": "display_data",
                    "data": {
                        "text/html": "(1 row affected)"
                    },
                    "metadata": {}
                },
                {
                    "output_type": "display_data",
                    "data": {
                        "text/html": "(1 row affected)"
                    },
                    "metadata": {}
                },
                {
                    "output_type": "display_data",
                    "data": {
                        "text/html": "(1 row affected)"
                    },
                    "metadata": {}
                },
                {
                    "output_type": "display_data",
                    "data": {
                        "text/html": "(1 row affected)"
                    },
                    "metadata": {}
                },
                {
                    "output_type": "display_data",
                    "data": {
                        "text/html": "(1 row affected)"
                    },
                    "metadata": {}
                },
                {
                    "output_type": "display_data",
                    "data": {
                        "text/html": "(1 row affected)"
                    },
                    "metadata": {}
                },
                {
                    "output_type": "display_data",
                    "data": {
                        "text/html": "Total execution time: 00:00:00.007"
                    },
                    "metadata": {}
                }
            ],
            "execution_count": 54
        },
        {
            "cell_type": "markdown",
            "source": [
                "## Wrap the email with ***** like-> iam*******@gmail.com"
            ],
            "metadata": {
                "language": "sql",
                "azdata_cell_guid": "7593acd1-78cc-4344-8675-613c87c1e502"
            },
            "attachments": {}
        },
        {
            "cell_type": "code",
            "source": [
                "SELECT * FROM tblAGENTS;\r\n",
                "\r\n",
                "-- Wrap the email with the *******\r\n",
                "\r\n",
                "SELECT AGENT_NAME, SUBSTRING(AGENT_EMAIL,1,2)+REPLICATE('*',5)+SUBSTRING(AGENT_EMAIL,CHARINDEX('@',AGENT_EMAIL),LEN(AGENT_EMAIL) -CHARINDEX('@',AGENT_EMAIL)+1)AS AGENT_EMAIL, WORKING_AREA, COMMISSION FROM tblAGENTS;"
            ],
            "metadata": {
                "azdata_cell_guid": "de9fc923-f103-42f8-8fa0-5b027a1f3b85",
                "language": "sql",
                "tags": []
            },
            "outputs": [
                {
                    "output_type": "display_data",
                    "data": {
                        "text/html": "(12 rows affected)"
                    },
                    "metadata": {}
                },
                {
                    "output_type": "display_data",
                    "data": {
                        "text/html": "(12 rows affected)"
                    },
                    "metadata": {}
                },
                {
                    "output_type": "display_data",
                    "data": {
                        "text/html": "Total execution time: 00:00:00.009"
                    },
                    "metadata": {}
                },
                {
                    "output_type": "execute_result",
                    "execution_count": 58,
                    "data": {
                        "application/vnd.dataresource+json": {
                            "schema": {
                                "fields": [
                                    {
                                        "name": "AGENT_CODE"
                                    },
                                    {
                                        "name": "AGENT_NAME"
                                    },
                                    {
                                        "name": "AGENT_EMAIL"
                                    },
                                    {
                                        "name": "WORKING_AREA"
                                    },
                                    {
                                        "name": "COMMISSION"
                                    },
                                    {
                                        "name": "PHONE_NO"
                                    },
                                    {
                                        "name": "COUNTRY"
                                    }
                                ]
                            },
                            "data": [
                                {
                                    "AGENT_CODE": "A001  ",
                                    "AGENT_NAME": "Subbarao                                ",
                                    "AGENT_EMAIL": "subbaroa@sss.com",
                                    "WORKING_AREA": "Bangalore                          ",
                                    "COMMISSION": "0.14",
                                    "PHONE_NO": "077-12346674   ",
                                    "COUNTRY": ""
                                },
                                {
                                    "AGENT_CODE": "A002  ",
                                    "AGENT_NAME": "Mukesh                                  ",
                                    "AGENT_EMAIL": "mukesh@mmm.com",
                                    "WORKING_AREA": "Mumbai                             ",
                                    "COMMISSION": "0.11",
                                    "PHONE_NO": "029-12358964   ",
                                    "COUNTRY": ""
                                },
                                {
                                    "AGENT_CODE": "A003  ",
                                    "AGENT_NAME": "Alex                                    ",
                                    "AGENT_EMAIL": "arvind@aaa.com",
                                    "WORKING_AREA": "London                             ",
                                    "COMMISSION": "0.13",
                                    "PHONE_NO": "075-12458969   ",
                                    "COUNTRY": ""
                                },
                                {
                                    "AGENT_CODE": "A004  ",
                                    "AGENT_NAME": "Ivan                                    ",
                                    "AGENT_EMAIL": "ivan@iii.com",
                                    "WORKING_AREA": "Torento                            ",
                                    "COMMISSION": "0.15",
                                    "PHONE_NO": "008-22544166   ",
                                    "COUNTRY": ""
                                },
                                {
                                    "AGENT_CODE": "A005  ",
                                    "AGENT_NAME": "Anderson                                ",
                                    "AGENT_EMAIL": "anderson@aaa.com",
                                    "WORKING_AREA": "Brisban                            ",
                                    "COMMISSION": "0.13",
                                    "PHONE_NO": "045-21447739   ",
                                    "COUNTRY": ""
                                },
                                {
                                    "AGENT_CODE": "A006  ",
                                    "AGENT_NAME": "McDen                                   ",
                                    "AGENT_EMAIL": "mcdean@mmm.com",
                                    "WORKING_AREA": "London                             ",
                                    "COMMISSION": "0.15",
                                    "PHONE_NO": "078-22255588   ",
                                    "COUNTRY": ""
                                },
                                {
                                    "AGENT_CODE": "A007  ",
                                    "AGENT_NAME": "Arvind                                  ",
                                    "AGENT_EMAIL": "arvind@aaa.com",
                                    "WORKING_AREA": "Bangalore                          ",
                                    "COMMISSION": "0.15",
                                    "PHONE_NO": "077-25814763   ",
                                    "COUNTRY": ""
                                },
                                {
                                    "AGENT_CODE": "A008  ",
                                    "AGENT_NAME": "Alford                                  ",
                                    "AGENT_EMAIL": "arvind@aaa.com",
                                    "WORKING_AREA": "New York                           ",
                                    "COMMISSION": "0.12",
                                    "PHONE_NO": "044-25874365   ",
                                    "COUNTRY": ""
                                },
                                {
                                    "AGENT_CODE": "A009  ",
                                    "AGENT_NAME": "Benjamin                                ",
                                    "AGENT_EMAIL": "benjamin@bbb.com",
                                    "WORKING_AREA": "Hampshair                          ",
                                    "COMMISSION": "0.11",
                                    "PHONE_NO": "008-22536178   ",
                                    "COUNTRY": ""
                                },
                                {
                                    "AGENT_CODE": "A010  ",
                                    "AGENT_NAME": "Santakumar                              ",
                                    "AGENT_EMAIL": "arvind@aaa.com",
                                    "WORKING_AREA": "Chennai                            ",
                                    "COMMISSION": "0.14",
                                    "PHONE_NO": "007-22388644   ",
                                    "COUNTRY": ""
                                },
                                {
                                    "AGENT_CODE": "A011  ",
                                    "AGENT_NAME": "Ravi Kumar                              ",
                                    "AGENT_EMAIL": "arvind@aaa.com",
                                    "WORKING_AREA": "Bangalore                          ",
                                    "COMMISSION": "0.15",
                                    "PHONE_NO": "077-45625874   ",
                                    "COUNTRY": ""
                                },
                                {
                                    "AGENT_CODE": "A012  ",
                                    "AGENT_NAME": "Lucida                                  ",
                                    "AGENT_EMAIL": "arvind@aaa.com",
                                    "WORKING_AREA": "San Jose                           ",
                                    "COMMISSION": "0.12",
                                    "PHONE_NO": "044-52981425   ",
                                    "COUNTRY": ""
                                }
                            ]
                        },
                        "text/html": "<table><tr><th>AGENT_CODE</th><th>AGENT_NAME</th><th>AGENT_EMAIL</th><th>WORKING_AREA</th><th>COMMISSION</th><th>PHONE_NO</th><th>COUNTRY</th></tr><tr><td>A001  </td><td>Subbarao                                </td><td>subbaroa@sss.com</td><td>Bangalore                          </td><td>0.14</td><td>077-12346674   </td><td></td></tr><tr><td>A002  </td><td>Mukesh                                  </td><td>mukesh@mmm.com</td><td>Mumbai                             </td><td>0.11</td><td>029-12358964   </td><td></td></tr><tr><td>A003  </td><td>Alex                                    </td><td>arvind@aaa.com</td><td>London                             </td><td>0.13</td><td>075-12458969   </td><td></td></tr><tr><td>A004  </td><td>Ivan                                    </td><td>ivan@iii.com</td><td>Torento                            </td><td>0.15</td><td>008-22544166   </td><td></td></tr><tr><td>A005  </td><td>Anderson                                </td><td>anderson@aaa.com</td><td>Brisban                            </td><td>0.13</td><td>045-21447739   </td><td></td></tr><tr><td>A006  </td><td>McDen                                   </td><td>mcdean@mmm.com</td><td>London                             </td><td>0.15</td><td>078-22255588   </td><td></td></tr><tr><td>A007  </td><td>Arvind                                  </td><td>arvind@aaa.com</td><td>Bangalore                          </td><td>0.15</td><td>077-25814763   </td><td></td></tr><tr><td>A008  </td><td>Alford                                  </td><td>arvind@aaa.com</td><td>New York                           </td><td>0.12</td><td>044-25874365   </td><td></td></tr><tr><td>A009  </td><td>Benjamin                                </td><td>benjamin@bbb.com</td><td>Hampshair                          </td><td>0.11</td><td>008-22536178   </td><td></td></tr><tr><td>A010  </td><td>Santakumar                              </td><td>arvind@aaa.com</td><td>Chennai                            </td><td>0.14</td><td>007-22388644   </td><td></td></tr><tr><td>A011  </td><td>Ravi Kumar                              </td><td>arvind@aaa.com</td><td>Bangalore                          </td><td>0.15</td><td>077-45625874   </td><td></td></tr><tr><td>A012  </td><td>Lucida                                  </td><td>arvind@aaa.com</td><td>San Jose                           </td><td>0.12</td><td>044-52981425   </td><td></td></tr></table>"
                    },
                    "metadata": {}
                },
                {
                    "output_type": "execute_result",
                    "execution_count": 58,
                    "data": {
                        "application/vnd.dataresource+json": {
                            "schema": {
                                "fields": [
                                    {
                                        "name": "AGENT_NAME"
                                    },
                                    {
                                        "name": "AGENT_EMAIL"
                                    },
                                    {
                                        "name": "WORKING_AREA"
                                    },
                                    {
                                        "name": "COMMISSION"
                                    }
                                ]
                            },
                            "data": [
                                {
                                    "AGENT_NAME": "Subbarao                                ",
                                    "AGENT_EMAIL": "su*****@sss.com",
                                    "WORKING_AREA": "Bangalore                          ",
                                    "COMMISSION": "0.14"
                                },
                                {
                                    "AGENT_NAME": "Mukesh                                  ",
                                    "AGENT_EMAIL": "mu*****@mmm.com",
                                    "WORKING_AREA": "Mumbai                             ",
                                    "COMMISSION": "0.11"
                                },
                                {
                                    "AGENT_NAME": "Alex                                    ",
                                    "AGENT_EMAIL": "ar*****@aaa.com",
                                    "WORKING_AREA": "London                             ",
                                    "COMMISSION": "0.13"
                                },
                                {
                                    "AGENT_NAME": "Ivan                                    ",
                                    "AGENT_EMAIL": "iv*****@iii.com",
                                    "WORKING_AREA": "Torento                            ",
                                    "COMMISSION": "0.15"
                                },
                                {
                                    "AGENT_NAME": "Anderson                                ",
                                    "AGENT_EMAIL": "an*****@aaa.com",
                                    "WORKING_AREA": "Brisban                            ",
                                    "COMMISSION": "0.13"
                                },
                                {
                                    "AGENT_NAME": "McDen                                   ",
                                    "AGENT_EMAIL": "mc*****@mmm.com",
                                    "WORKING_AREA": "London                             ",
                                    "COMMISSION": "0.15"
                                },
                                {
                                    "AGENT_NAME": "Arvind                                  ",
                                    "AGENT_EMAIL": "ar*****@aaa.com",
                                    "WORKING_AREA": "Bangalore                          ",
                                    "COMMISSION": "0.15"
                                },
                                {
                                    "AGENT_NAME": "Alford                                  ",
                                    "AGENT_EMAIL": "ar*****@aaa.com",
                                    "WORKING_AREA": "New York                           ",
                                    "COMMISSION": "0.12"
                                },
                                {
                                    "AGENT_NAME": "Benjamin                                ",
                                    "AGENT_EMAIL": "be*****@bbb.com",
                                    "WORKING_AREA": "Hampshair                          ",
                                    "COMMISSION": "0.11"
                                },
                                {
                                    "AGENT_NAME": "Santakumar                              ",
                                    "AGENT_EMAIL": "ar*****@aaa.com",
                                    "WORKING_AREA": "Chennai                            ",
                                    "COMMISSION": "0.14"
                                },
                                {
                                    "AGENT_NAME": "Ravi Kumar                              ",
                                    "AGENT_EMAIL": "ar*****@aaa.com",
                                    "WORKING_AREA": "Bangalore                          ",
                                    "COMMISSION": "0.15"
                                },
                                {
                                    "AGENT_NAME": "Lucida                                  ",
                                    "AGENT_EMAIL": "ar*****@aaa.com",
                                    "WORKING_AREA": "San Jose                           ",
                                    "COMMISSION": "0.12"
                                }
                            ]
                        },
                        "text/html": "<table><tr><th>AGENT_NAME</th><th>AGENT_EMAIL</th><th>WORKING_AREA</th><th>COMMISSION</th></tr><tr><td>Subbarao                                </td><td>su*****@sss.com</td><td>Bangalore                          </td><td>0.14</td></tr><tr><td>Mukesh                                  </td><td>mu*****@mmm.com</td><td>Mumbai                             </td><td>0.11</td></tr><tr><td>Alex                                    </td><td>ar*****@aaa.com</td><td>London                             </td><td>0.13</td></tr><tr><td>Ivan                                    </td><td>iv*****@iii.com</td><td>Torento                            </td><td>0.15</td></tr><tr><td>Anderson                                </td><td>an*****@aaa.com</td><td>Brisban                            </td><td>0.13</td></tr><tr><td>McDen                                   </td><td>mc*****@mmm.com</td><td>London                             </td><td>0.15</td></tr><tr><td>Arvind                                  </td><td>ar*****@aaa.com</td><td>Bangalore                          </td><td>0.15</td></tr><tr><td>Alford                                  </td><td>ar*****@aaa.com</td><td>New York                           </td><td>0.12</td></tr><tr><td>Benjamin                                </td><td>be*****@bbb.com</td><td>Hampshair                          </td><td>0.11</td></tr><tr><td>Santakumar                              </td><td>ar*****@aaa.com</td><td>Chennai                            </td><td>0.14</td></tr><tr><td>Ravi Kumar                              </td><td>ar*****@aaa.com</td><td>Bangalore                          </td><td>0.15</td></tr><tr><td>Lucida                                  </td><td>ar*****@aaa.com</td><td>San Jose                           </td><td>0.12</td></tr></table>"
                    },
                    "metadata": {}
                }
            ],
            "execution_count": 58
        },
        {
            "cell_type": "code",
            "source": [
                "-- PATINDEX()\r\n",
                "\r\n",
                "SELECT AGENT_EMAIL, PATINDEX('%aaa.com',AGENT_EMAIL) as FirstOccurrencec\r\n",
                "FROM tblAGENTS\r\n",
                "WHERE PATINDEX('%aaa.com',AGENT_EMAIL) > 0\r\n",
                "\r\n",
                "\r\n",
                "-- REPLACE()\r\n",
                "\r\n",
                "SELECT AGENT_EMAIL, REPLACE(AGENT_EMAIL,'.com','.net') as ConvertedEmail \r\n",
                "FROM tblAGENTS\r\n",
                "\r\n",
                "-- STUFF()\r\n",
                "\r\n",
                "SELECT AGENT_EMAIL, STUFF(AGENT_EMAIL,2,5,'*****') as StuffedEmail\r\n",
                "FROM tblAGENTS"
            ],
            "metadata": {
                "azdata_cell_guid": "6536b9af-142e-41a4-a952-3e27c29b01ab",
                "language": "sql"
            },
            "outputs": [
                {
                    "output_type": "display_data",
                    "data": {
                        "text/html": "(7 rows affected)"
                    },
                    "metadata": {}
                },
                {
                    "output_type": "display_data",
                    "data": {
                        "text/html": "(12 rows affected)"
                    },
                    "metadata": {}
                },
                {
                    "output_type": "display_data",
                    "data": {
                        "text/html": "(12 rows affected)"
                    },
                    "metadata": {}
                },
                {
                    "output_type": "display_data",
                    "data": {
                        "text/html": "Total execution time: 00:00:00.021"
                    },
                    "metadata": {}
                },
                {
                    "output_type": "execute_result",
                    "execution_count": 65,
                    "data": {
                        "application/vnd.dataresource+json": {
                            "schema": {
                                "fields": [
                                    {
                                        "name": "AGENT_EMAIL"
                                    },
                                    {
                                        "name": "FirstOccurrencec"
                                    }
                                ]
                            },
                            "data": [
                                {
                                    "AGENT_EMAIL": "arvind@aaa.com",
                                    "FirstOccurrencec": "8"
                                },
                                {
                                    "AGENT_EMAIL": "anderson@aaa.com",
                                    "FirstOccurrencec": "10"
                                },
                                {
                                    "AGENT_EMAIL": "arvind@aaa.com",
                                    "FirstOccurrencec": "8"
                                },
                                {
                                    "AGENT_EMAIL": "arvind@aaa.com",
                                    "FirstOccurrencec": "8"
                                },
                                {
                                    "AGENT_EMAIL": "arvind@aaa.com",
                                    "FirstOccurrencec": "8"
                                },
                                {
                                    "AGENT_EMAIL": "arvind@aaa.com",
                                    "FirstOccurrencec": "8"
                                },
                                {
                                    "AGENT_EMAIL": "arvind@aaa.com",
                                    "FirstOccurrencec": "8"
                                }
                            ]
                        },
                        "text/html": "<table><tr><th>AGENT_EMAIL</th><th>FirstOccurrencec</th></tr><tr><td>arvind@aaa.com</td><td>8</td></tr><tr><td>anderson@aaa.com</td><td>10</td></tr><tr><td>arvind@aaa.com</td><td>8</td></tr><tr><td>arvind@aaa.com</td><td>8</td></tr><tr><td>arvind@aaa.com</td><td>8</td></tr><tr><td>arvind@aaa.com</td><td>8</td></tr><tr><td>arvind@aaa.com</td><td>8</td></tr></table>"
                    },
                    "metadata": {}
                },
                {
                    "output_type": "execute_result",
                    "execution_count": 65,
                    "data": {
                        "application/vnd.dataresource+json": {
                            "schema": {
                                "fields": [
                                    {
                                        "name": "AGENT_EMAIL"
                                    },
                                    {
                                        "name": "ConvertedEmail"
                                    }
                                ]
                            },
                            "data": [
                                {
                                    "AGENT_EMAIL": "subbaroa@sss.com",
                                    "ConvertedEmail": "subbaroa@sss.net"
                                },
                                {
                                    "AGENT_EMAIL": "mukesh@mmm.com",
                                    "ConvertedEmail": "mukesh@mmm.net"
                                },
                                {
                                    "AGENT_EMAIL": "arvind@aaa.com",
                                    "ConvertedEmail": "arvind@aaa.net"
                                },
                                {
                                    "AGENT_EMAIL": "ivan@iii.com",
                                    "ConvertedEmail": "ivan@iii.net"
                                },
                                {
                                    "AGENT_EMAIL": "anderson@aaa.com",
                                    "ConvertedEmail": "anderson@aaa.net"
                                },
                                {
                                    "AGENT_EMAIL": "mcdean@mmm.com",
                                    "ConvertedEmail": "mcdean@mmm.net"
                                },
                                {
                                    "AGENT_EMAIL": "arvind@aaa.com",
                                    "ConvertedEmail": "arvind@aaa.net"
                                },
                                {
                                    "AGENT_EMAIL": "arvind@aaa.com",
                                    "ConvertedEmail": "arvind@aaa.net"
                                },
                                {
                                    "AGENT_EMAIL": "benjamin@bbb.com",
                                    "ConvertedEmail": "benjamin@bbb.net"
                                },
                                {
                                    "AGENT_EMAIL": "arvind@aaa.com",
                                    "ConvertedEmail": "arvind@aaa.net"
                                },
                                {
                                    "AGENT_EMAIL": "arvind@aaa.com",
                                    "ConvertedEmail": "arvind@aaa.net"
                                },
                                {
                                    "AGENT_EMAIL": "arvind@aaa.com",
                                    "ConvertedEmail": "arvind@aaa.net"
                                }
                            ]
                        },
                        "text/html": "<table><tr><th>AGENT_EMAIL</th><th>ConvertedEmail</th></tr><tr><td>subbaroa@sss.com</td><td>subbaroa@sss.net</td></tr><tr><td>mukesh@mmm.com</td><td>mukesh@mmm.net</td></tr><tr><td>arvind@aaa.com</td><td>arvind@aaa.net</td></tr><tr><td>ivan@iii.com</td><td>ivan@iii.net</td></tr><tr><td>anderson@aaa.com</td><td>anderson@aaa.net</td></tr><tr><td>mcdean@mmm.com</td><td>mcdean@mmm.net</td></tr><tr><td>arvind@aaa.com</td><td>arvind@aaa.net</td></tr><tr><td>arvind@aaa.com</td><td>arvind@aaa.net</td></tr><tr><td>benjamin@bbb.com</td><td>benjamin@bbb.net</td></tr><tr><td>arvind@aaa.com</td><td>arvind@aaa.net</td></tr><tr><td>arvind@aaa.com</td><td>arvind@aaa.net</td></tr><tr><td>arvind@aaa.com</td><td>arvind@aaa.net</td></tr></table>"
                    },
                    "metadata": {}
                },
                {
                    "output_type": "execute_result",
                    "execution_count": 65,
                    "data": {
                        "application/vnd.dataresource+json": {
                            "schema": {
                                "fields": [
                                    {
                                        "name": "AGENT_EMAIL"
                                    },
                                    {
                                        "name": "StuffedEmail"
                                    }
                                ]
                            },
                            "data": [
                                {
                                    "AGENT_EMAIL": "subbaroa@sss.com",
                                    "StuffedEmail": "s*****oa@sss.com"
                                },
                                {
                                    "AGENT_EMAIL": "mukesh@mmm.com",
                                    "StuffedEmail": "m*****@mmm.com"
                                },
                                {
                                    "AGENT_EMAIL": "arvind@aaa.com",
                                    "StuffedEmail": "a*****@aaa.com"
                                },
                                {
                                    "AGENT_EMAIL": "ivan@iii.com",
                                    "StuffedEmail": "i*****ii.com"
                                },
                                {
                                    "AGENT_EMAIL": "anderson@aaa.com",
                                    "StuffedEmail": "a*****on@aaa.com"
                                },
                                {
                                    "AGENT_EMAIL": "mcdean@mmm.com",
                                    "StuffedEmail": "m*****@mmm.com"
                                },
                                {
                                    "AGENT_EMAIL": "arvind@aaa.com",
                                    "StuffedEmail": "a*****@aaa.com"
                                },
                                {
                                    "AGENT_EMAIL": "arvind@aaa.com",
                                    "StuffedEmail": "a*****@aaa.com"
                                },
                                {
                                    "AGENT_EMAIL": "benjamin@bbb.com",
                                    "StuffedEmail": "b*****in@bbb.com"
                                },
                                {
                                    "AGENT_EMAIL": "arvind@aaa.com",
                                    "StuffedEmail": "a*****@aaa.com"
                                },
                                {
                                    "AGENT_EMAIL": "arvind@aaa.com",
                                    "StuffedEmail": "a*****@aaa.com"
                                },
                                {
                                    "AGENT_EMAIL": "arvind@aaa.com",
                                    "StuffedEmail": "a*****@aaa.com"
                                }
                            ]
                        },
                        "text/html": "<table><tr><th>AGENT_EMAIL</th><th>StuffedEmail</th></tr><tr><td>subbaroa@sss.com</td><td>s*****oa@sss.com</td></tr><tr><td>mukesh@mmm.com</td><td>m*****@mmm.com</td></tr><tr><td>arvind@aaa.com</td><td>a*****@aaa.com</td></tr><tr><td>ivan@iii.com</td><td>i*****ii.com</td></tr><tr><td>anderson@aaa.com</td><td>a*****on@aaa.com</td></tr><tr><td>mcdean@mmm.com</td><td>m*****@mmm.com</td></tr><tr><td>arvind@aaa.com</td><td>a*****@aaa.com</td></tr><tr><td>arvind@aaa.com</td><td>a*****@aaa.com</td></tr><tr><td>benjamin@bbb.com</td><td>b*****in@bbb.com</td></tr><tr><td>arvind@aaa.com</td><td>a*****@aaa.com</td></tr><tr><td>arvind@aaa.com</td><td>a*****@aaa.com</td></tr><tr><td>arvind@aaa.com</td><td>a*****@aaa.com</td></tr></table>"
                    },
                    "metadata": {}
                }
            ],
            "execution_count": 65
        },
        {
            "cell_type": "markdown",
            "source": [
                "## DateTime\n",
                "\n",
                "![](data:image/png;base64,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)\n",
                "\n",
                "### UTC stands for Coordinated Universal Time, based on which, the world regulates clocks and time. There are slight differences between GMT and UTC, but for most common purposes, UTC is synonymous with GMT.\n",
                "\n",
                "## DateTime Functions\n",
                "\n",
                "![](data:image/png;base64,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)\n",
                "\n",
                "![](data:image/png;base64,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)  \n",
                "![](data:image/png;base64,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)\n",
                "\n",
                "![](data:image/png;base64,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)  \n",
                "\n",
                "![](data:image/png;base64,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)"
            ],
            "metadata": {
                "azdata_cell_guid": "d49f4134-9ad1-42a7-a5d2-109c943ef543"
            },
            "attachments": {}
        },
        {
            "cell_type": "code",
            "source": [
                "CREATE TABLE tblDateTime(\r\n",
                "    C_TIME TIME(7) NULL,\r\n",
                "    C_DATE DATE NULL,\r\n",
                "    C_SMALLDATETIME SMALLDATETIME NULL,\r\n",
                "    C_DATETIME DATETIME NULL,\r\n",
                "    C_DATETIME2 DATETIME2(7) NULL,\r\n",
                "    C_DATETIMEOFFSET DATETIMEOFFSET(7) NULL\r\n",
                ");"
            ],
            "metadata": {
                "azdata_cell_guid": "df23fcef-c59e-4891-bb0f-8fc3ce0bf2a3",
                "language": "sql"
            },
            "outputs": [
                {
                    "output_type": "display_data",
                    "data": {
                        "text/html": "Commands completed successfully."
                    },
                    "metadata": {}
                },
                {
                    "output_type": "display_data",
                    "data": {
                        "text/html": "Total execution time: 00:00:00.005"
                    },
                    "metadata": {}
                }
            ],
            "execution_count": 2
        },
        {
            "cell_type": "code",
            "source": [
                "-- INSERT INTO tblDateTime VALUES (GETDATE(), GETDATE(), GETDATE(), GETDATE(), GETDATE(), GETDATE())\r\n",
                "SELECT * FROM tblDateTime;\r\n",
                "\r\n",
                "SELECT DATENAME(MONTH,'2024-06-12')\r\n",
                "SELECT DATENAME(DAY,'2024-06-12')\r\n",
                "SELECT DATENAME(YEAR,'2024-06-12')\r\n",
                "SELECT DATENAME(WEEKDAY,'2024-08-03')"
            ],
            "metadata": {
                "azdata_cell_guid": "b44aab33-f292-42fc-b265-1a83b7b5ac79",
                "language": "sql"
            },
            "outputs": [
                {
                    "output_type": "display_data",
                    "data": {
                        "text/html": "(2 rows affected)"
                    },
                    "metadata": {}
                },
                {
                    "output_type": "display_data",
                    "data": {
                        "text/html": "(1 row affected)"
                    },
                    "metadata": {}
                },
                {
                    "output_type": "display_data",
                    "data": {
                        "text/html": "(1 row affected)"
                    },
                    "metadata": {}
                },
                {
                    "output_type": "display_data",
                    "data": {
                        "text/html": "(1 row affected)"
                    },
                    "metadata": {}
                },
                {
                    "output_type": "display_data",
                    "data": {
                        "text/html": "(1 row affected)"
                    },
                    "metadata": {}
                },
                {
                    "output_type": "display_data",
                    "data": {
                        "text/html": "Total execution time: 00:00:00.032"
                    },
                    "metadata": {}
                },
                {
                    "output_type": "execute_result",
                    "execution_count": 11,
                    "data": {
                        "application/vnd.dataresource+json": {
                            "schema": {
                                "fields": [
                                    {
                                        "name": "C_TIME"
                                    },
                                    {
                                        "name": "C_DATE"
                                    },
                                    {
                                        "name": "C_SMALLDATETIME"
                                    },
                                    {
                                        "name": "C_DATETIME"
                                    },
                                    {
                                        "name": "C_DATETIME2"
                                    },
                                    {
                                        "name": "C_DATETIMEOFFSET"
                                    }
                                ]
                            },
                            "data": [
                                {
                                    "C_TIME": "05:26:10.3133333",
                                    "C_DATE": "2024-01-05",
                                    "C_SMALLDATETIME": "2024-01-05 05:26:00",
                                    "C_DATETIME": "2024-01-05 05:26:10.313",
                                    "C_DATETIME2": "2024-01-05 05:26:10.3133333",
                                    "C_DATETIMEOFFSET": "2024-01-05 05:26:10.3133333 +00:00"
                                },
                                {
                                    "C_TIME": "05:46:07.0333333",
                                    "C_DATE": "2024-01-05",
                                    "C_SMALLDATETIME": "2024-01-05 05:46:00",
                                    "C_DATETIME": "2024-01-05 05:46:07.033",
                                    "C_DATETIME2": "2024-01-05 05:46:07.0333333",
                                    "C_DATETIMEOFFSET": "2024-01-05 05:46:07.0333333 +00:00"
                                }
                            ]
                        },
                        "text/html": "<table><tr><th>C_TIME</th><th>C_DATE</th><th>C_SMALLDATETIME</th><th>C_DATETIME</th><th>C_DATETIME2</th><th>C_DATETIMEOFFSET</th></tr><tr><td>05:26:10.3133333</td><td>2024-01-05</td><td>2024-01-05 05:26:00</td><td>2024-01-05 05:26:10.313</td><td>2024-01-05 05:26:10.3133333</td><td>2024-01-05 05:26:10.3133333 +00:00</td></tr><tr><td>05:46:07.0333333</td><td>2024-01-05</td><td>2024-01-05 05:46:00</td><td>2024-01-05 05:46:07.033</td><td>2024-01-05 05:46:07.0333333</td><td>2024-01-05 05:46:07.0333333 +00:00</td></tr></table>"
                    },
                    "metadata": {}
                },
                {
                    "output_type": "execute_result",
                    "execution_count": 11,
                    "data": {
                        "application/vnd.dataresource+json": {
                            "schema": {
                                "fields": [
                                    {
                                        "name": "(No column name)"
                                    }
                                ]
                            },
                            "data": [
                                {
                                    "(No column name)": "June"
                                }
                            ]
                        },
                        "text/html": "<table><tr><th>(No column name)</th></tr><tr><td>June</td></tr></table>"
                    },
                    "metadata": {}
                },
                {
                    "output_type": "execute_result",
                    "execution_count": 11,
                    "data": {
                        "application/vnd.dataresource+json": {
                            "schema": {
                                "fields": [
                                    {
                                        "name": "(No column name)"
                                    }
                                ]
                            },
                            "data": [
                                {
                                    "(No column name)": "12"
                                }
                            ]
                        },
                        "text/html": "<table><tr><th>(No column name)</th></tr><tr><td>12</td></tr></table>"
                    },
                    "metadata": {}
                },
                {
                    "output_type": "execute_result",
                    "execution_count": 11,
                    "data": {
                        "application/vnd.dataresource+json": {
                            "schema": {
                                "fields": [
                                    {
                                        "name": "(No column name)"
                                    }
                                ]
                            },
                            "data": [
                                {
                                    "(No column name)": "2024"
                                }
                            ]
                        },
                        "text/html": "<table><tr><th>(No column name)</th></tr><tr><td>2024</td></tr></table>"
                    },
                    "metadata": {}
                },
                {
                    "output_type": "execute_result",
                    "execution_count": 11,
                    "data": {
                        "application/vnd.dataresource+json": {
                            "schema": {
                                "fields": [
                                    {
                                        "name": "(No column name)"
                                    }
                                ]
                            },
                            "data": [
                                {
                                    "(No column name)": "Saturday"
                                }
                            ]
                        },
                        "text/html": "<table><tr><th>(No column name)</th></tr><tr><td>Saturday</td></tr></table>"
                    },
                    "metadata": {}
                }
            ],
            "execution_count": 11
        },
        {
            "cell_type": "code",
            "source": [
                "DECLARE @DOB DATETIME, @tmpDate DATETIME, @years INT, @months INT, @days INT\r\n",
                "SET @DOB = '06/12/1999' -- mm/dd/yy\r\n",
                "\r\n",
                "SELECT @tmpDate = @DOB\r\n",
                "\r\n",
                "SELECT @years = DATEDIFF(YEAR,@tmpDate,GETDATE()) - \r\n",
                "                CASE \r\n",
                "                    WHEN ((MONTH(@DOB) > MONTH(GETDATE())) OR \r\n",
                "                    (MONTH(@DOB) = MONTH(GETDATE())) AND DAY(@DOB) > DAY(GETDATE()))\r\n",
                "                    THEN 1 ELSE 0\r\n",
                "                END\r\n",
                "SELECT @tmpDate = DATEADD(YEAR, @years,@tmpDate)\r\n",
                "\r\n",
                "SELECT @months = DATEDIFF(MONTH, @tmpDate, GETDATE()) - \r\n",
                "                CASE\r\n",
                "                    WHEN DAY(@DOB) > DAY(GETDATE())\r\n",
                "                    THEN 1 ELSE 0\r\n",
                "                END\r\n",
                "\r\n",
                "SELECT @tmpDate = DATEADD(MONTH,@months,@tmpDate)\r\n",
                "\r\n",
                "SELECT @days = DATEDIFF(DAY, @tmpDate, GETDATE())\r\n",
                "\r\n",
                "SELECT @years AS Years, @months AS Months, @days as Days"
            ],
            "metadata": {
                "azdata_cell_guid": "30654931-4a1b-456b-ac63-ee27b636dd18",
                "language": "sql"
            },
            "outputs": [
                {
                    "output_type": "display_data",
                    "data": {
                        "text/html": "(1 row affected)"
                    },
                    "metadata": {}
                },
                {
                    "output_type": "display_data",
                    "data": {
                        "text/html": "Total execution time: 00:00:00.002"
                    },
                    "metadata": {}
                },
                {
                    "output_type": "execute_result",
                    "execution_count": 19,
                    "data": {
                        "application/vnd.dataresource+json": {
                            "schema": {
                                "fields": [
                                    {
                                        "name": "Years"
                                    },
                                    {
                                        "name": "Months"
                                    },
                                    {
                                        "name": "Days"
                                    }
                                ]
                            },
                            "data": [
                                {
                                    "Years": "24",
                                    "Months": "6",
                                    "Days": "25"
                                }
                            ]
                        },
                        "text/html": "<table><tr><th>Years</th><th>Months</th><th>Days</th></tr><tr><td>24</td><td>6</td><td>25</td></tr></table>"
                    },
                    "metadata": {}
                }
            ],
            "execution_count": 19
        },
        {
            "cell_type": "code",
            "source": [
                "-- Create a function of the above, calculating age...\\\r\n",
                "CREATE FUNCTION fnCalculateAge(@DOB DATETIME)\r\n",
                "    RETURNS NVARCHAR(50)\r\n",
                "    AS\r\n",
                "    BEGIN\r\n",
                "    DECLARE @tmpDate DATETIME, @years INT, @months INT, @days INT\r\n",
                "\r\n",
                "    SELECT @tmpDate = @DOB\r\n",
                "\r\n",
                "    SELECT @years = DATEDIFF(YEAR,@tmpDate,GETDATE()) - \r\n",
                "                    CASE \r\n",
                "                        WHEN ((MONTH(@DOB) > MONTH(GETDATE())) OR \r\n",
                "                        (MONTH(@DOB) = MONTH(GETDATE())) AND DAY(@DOB) > DAY(GETDATE()))\r\n",
                "                        THEN 1 ELSE 0\r\n",
                "                    END\r\n",
                "    SELECT @tmpDate = DATEADD(YEAR, @years,@tmpDate)\r\n",
                "\r\n",
                "    SELECT @months = DATEDIFF(MONTH, @tmpDate, GETDATE()) - \r\n",
                "                    CASE\r\n",
                "                        WHEN DAY(@DOB) > DAY(GETDATE())\r\n",
                "                        THEN 1 ELSE 0\r\n",
                "                    END\r\n",
                "\r\n",
                "    SELECT @tmpDate = DATEADD(MONTH,@months,@tmpDate)\r\n",
                "\r\n",
                "    SELECT @days = DATEDIFF(DAY, @tmpDate, GETDATE())\r\n",
                "\r\n",
                "    DECLARE @Age NVARCHAR(50)\r\n",
                "    SET @Age =  CAST(@years as nvarchar(4)) + ' Years ' + CAST(@months as nvarchar(2)) + ' Months ' + CAST(@days as nvarchar(2)) + ' Days Old '     \r\n",
                "    RETURN @Age\r\n",
                "END\r\n",
                ""
            ],
            "metadata": {
                "azdata_cell_guid": "3cdb0752-07bd-4ee5-aadc-fc8b81c61e9d",
                "language": "sql"
            },
            "outputs": [
                {
                    "output_type": "display_data",
                    "data": {
                        "text/html": "Commands completed successfully."
                    },
                    "metadata": {}
                },
                {
                    "output_type": "display_data",
                    "data": {
                        "text/html": "Total execution time: 00:00:00.001"
                    },
                    "metadata": {}
                }
            ],
            "execution_count": 28
        },
        {
            "cell_type": "code",
            "source": [
                "SELECT dbo.fnCalculateAge('03/27/2001') -- mm/dd/yy"
            ],
            "metadata": {
                "azdata_cell_guid": "b1c11dcf-7e9a-41c5-b674-b7ac9badbdda",
                "language": "sql"
            },
            "outputs": [
                {
                    "output_type": "display_data",
                    "data": {
                        "text/html": "(1 row affected)"
                    },
                    "metadata": {}
                },
                {
                    "output_type": "display_data",
                    "data": {
                        "text/html": "Total execution time: 00:00:00.005"
                    },
                    "metadata": {}
                },
                {
                    "output_type": "execute_result",
                    "execution_count": 31,
                    "data": {
                        "application/vnd.dataresource+json": {
                            "schema": {
                                "fields": [
                                    {
                                        "name": "(No column name)"
                                    }
                                ]
                            },
                            "data": [
                                {
                                    "(No column name)": "22 Years 9 Months 10 Days Old "
                                }
                            ]
                        },
                        "text/html": "<table><tr><th>(No column name)</th></tr><tr><td>22 Years 9 Months 10 Days Old </td></tr></table>"
                    },
                    "metadata": {}
                }
            ],
            "execution_count": 31
        },
        {
            "cell_type": "markdown",
            "source": [
                "## Cast & Convert functions\n",
                "\n",
                "```\n",
                "To convert one data type to another, CAST and CONVERT functions can be used.\n",
                "\n",
                "CAST ( expression AS data_type [ ( length ) ] )\n",
                "CONVERT ( data_type [ ( length ) ] , expression [ , style ] )\n",
                "\n",
                "**Note: We can use the style which we want as date, for more: https://learn.microsoft.com/en-us/sql/t-sql/functions/cast-and-convert-transact-sql?view=sql-server-ver16\n",
                "\n",
                "- Style only works with CONVERT()\n",
                "\n",
                "Style       |       DateFormat\n",
                "101         |       mm/dd/yyyy\n",
                "102         |       yyyy.mm.dd\n",
                "103         |       dd/mm/yyyy\n",
                "104         |       dd.mm.yyyy\n",
                "105         |       dd-mm-yyyy\n",
                "\n",
                "## Difference b/w CAST - CONVERT    \n",
                "\n",
                "    1. Cast is based on ANSI standard and Convert is specific to SQL Server. So, if portability is a concern and if you want to use the script with other database applications, use CAST().\n",
                "\n",
                "    2. Convert provides more flexibility than Cast. For example, It's possible to control how you want DateTime datatypes to be converted using styles with convert function.\n",
                "\n",
                "**Note: The general guideline is to use CAST(), unless you want to take advantage of the style functionality in CONVERT().\n",
                "\n",
                "```"
            ],
            "metadata": {
                "azdata_cell_guid": "8a3aad99-1b1d-4837-9c75-4f4a3eb59a39"
            },
            "attachments": {}
        },
        {
            "cell_type": "code",
            "source": [
                "CREATE TABLE  tblEvent \r\n",
                "   (\t\r\n",
                "    \"AGENT_CODE\" CHAR(6) NOT NULL PRIMARY KEY, \r\n",
                "\t\"AGENT_NAME\" CHAR(40), \r\n",
                "    \"AGENT_EMAIL\" NVARCHAR(50),\r\n",
                "\t\"WORKING_AREA\" CHAR(35), \r\n",
                "\t\"COMMISSION\" FLOAT, \r\n",
                "\t\"PHONE_NO\" CHAR(15), \r\n",
                "\t\"COUNTRY\" VARCHAR(25),\r\n",
                "    \"REGISTRATION_DATE\" DATETIME  \r\n",
                "\t );"
            ],
            "metadata": {
                "azdata_cell_guid": "5fd29bb4-e0c8-46b3-b300-2ac5f898bd46",
                "language": "sql"
            },
            "outputs": [
                {
                    "output_type": "display_data",
                    "data": {
                        "text/html": "Commands completed successfully."
                    },
                    "metadata": {}
                },
                {
                    "output_type": "display_data",
                    "data": {
                        "text/html": "Total execution time: 00:00:00.004"
                    },
                    "metadata": {}
                }
            ],
            "execution_count": 32
        },
        {
            "cell_type": "code",
            "source": [
                "-- INSERT INTO tblEvent VALUES ('A007', 'Arvind','arvind@aaa.com', 'Bangalore', '0.15', '077-25814763', '', GETDATE());\r\n",
                "-- INSERT INTO tblEvent VALUES ('A003', 'Alex ', 'arvind@aaa.com', 'London', '0.13', '075-12458969', '', '2024-01-02 23:27:24.013');\r\n",
                "-- INSERT INTO tblEvent VALUES ('A008', 'Alford','arvind@aaa.com',  'New York', '0.12', '044-25874365', '', GETDATE());\r\n",
                "-- INSERT INTO tblEvent VALUES ('A011', 'Ravi Kumar','arvind@aaa.com',  'Bangalore', '0.15', '077-45625874', '', GETDATE());\r\n",
                "-- INSERT INTO tblEvent VALUES ('A010', 'Santakumar','arvind@aaa.com',  'Chennai', '0.14', '007-22388644', '', '2024-01-06 23:27:24.013');\r\n",
                "-- INSERT INTO tblEvent VALUES ('A012', 'Lucida','arvind@aaa.com',  'San Jose', '0.12', '044-52981425', '', GETDATE());\r\n",
                "-- INSERT INTO tblEvent VALUES ('A005', 'Anderson','anderson@aaa.com',  'Brisban', '0.13', '045-21447739', '', GETDATE());\r\n",
                "-- INSERT INTO tblEvent VALUES ('A001', 'Subbarao','subbaroa@sss.com',  'Bangalore', '0.14', '077-12346674', '', GETDATE());\r\n",
                "-- INSERT INTO tblEvent VALUES ('A002', 'Mukesh','mukesh@mmm.com',  'Mumbai', '0.11', '029-12358964', '', '2024-01-02 23:27:24.013');\r\n",
                "-- INSERT INTO tblEvent VALUES ('A006', 'McDen','mcdean@mmm.com',  'London', '0.15', '078-22255588', '', GETDATE());\r\n",
                "-- INSERT INTO tblEvent VALUES ('A004', 'Ivan', 'ivan@iii.com', 'Torento', '0.15', '008-22544166', '', '2024-01-01 23:27:24.013');\r\n",
                "-- INSERT INTO tblEvent VALUES ('A009', 'Benjamin','benjamin@bbb.com',  'Hampshair', '0.11', '008-22536178', '', '2024-01-01 23:27:24.013');"
            ],
            "metadata": {
                "azdata_cell_guid": "a84706ee-dbfd-4b58-97bf-5c5f7d5ef78d",
                "language": "sql"
            },
            "outputs": [
                {
                    "output_type": "display_data",
                    "data": {
                        "text/html": "(1 row affected)"
                    },
                    "metadata": {}
                },
                {
                    "output_type": "display_data",
                    "data": {
                        "text/html": "Total execution time: 00:00:00"
                    },
                    "metadata": {}
                }
            ],
            "execution_count": 46
        },
        {
            "cell_type": "code",
            "source": [
                "-- SELECT * FROM tblEvent\r\n",
                "\r\n",
                "SELECT AGENT_CODE, REGISTRATION_DATE FROM tblEvent;\r\n",
                "SELECT AGENT_CODE, CAST(REGISTRATION_DATE AS date) AS REGISTERATION_DATE FROM tblEvent;\r\n",
                "SELECT AGENT_CODE, CONVERT(nvarchar, REGISTRATION_DATE, 101) AS REGISTERATION_DATE FROM tblEvent;"
            ],
            "metadata": {
                "azdata_cell_guid": "9cea6f1c-b0d8-477d-8942-c347f60f4f1c",
                "language": "sql"
            },
            "outputs": [
                {
                    "output_type": "display_data",
                    "data": {
                        "text/html": "(12 rows affected)"
                    },
                    "metadata": {}
                },
                {
                    "output_type": "display_data",
                    "data": {
                        "text/html": "(12 rows affected)"
                    },
                    "metadata": {}
                },
                {
                    "output_type": "display_data",
                    "data": {
                        "text/html": "(12 rows affected)"
                    },
                    "metadata": {}
                },
                {
                    "output_type": "display_data",
                    "data": {
                        "text/html": "Total execution time: 00:00:00.009"
                    },
                    "metadata": {}
                },
                {
                    "output_type": "execute_result",
                    "execution_count": 56,
                    "data": {
                        "application/vnd.dataresource+json": {
                            "schema": {
                                "fields": [
                                    {
                                        "name": "AGENT_CODE"
                                    },
                                    {
                                        "name": "REGISTRATION_DATE"
                                    }
                                ]
                            },
                            "data": [
                                {
                                    "AGENT_CODE": "A001  ",
                                    "REGISTRATION_DATE": "2024-01-06 23:30:37.307"
                                },
                                {
                                    "AGENT_CODE": "A002  ",
                                    "REGISTRATION_DATE": "2024-01-02 23:27:24.013"
                                },
                                {
                                    "AGENT_CODE": "A003  ",
                                    "REGISTRATION_DATE": "2024-01-02 23:27:24.013"
                                },
                                {
                                    "AGENT_CODE": "A004  ",
                                    "REGISTRATION_DATE": "2024-01-01 23:27:24.013"
                                },
                                {
                                    "AGENT_CODE": "A005  ",
                                    "REGISTRATION_DATE": "2024-01-06 23:30:33.760"
                                },
                                {
                                    "AGENT_CODE": "A006  ",
                                    "REGISTRATION_DATE": "2024-01-06 23:30:56.200"
                                },
                                {
                                    "AGENT_CODE": "A007  ",
                                    "REGISTRATION_DATE": "2024-01-06 23:27:24.013"
                                },
                                {
                                    "AGENT_CODE": "A008  ",
                                    "REGISTRATION_DATE": "2024-01-06 23:29:41.217"
                                },
                                {
                                    "AGENT_CODE": "A009  ",
                                    "REGISTRATION_DATE": "2024-01-01 23:27:24.013"
                                },
                                {
                                    "AGENT_CODE": "A010  ",
                                    "REGISTRATION_DATE": "2024-01-06 23:27:24.013"
                                },
                                {
                                    "AGENT_CODE": "A011  ",
                                    "REGISTRATION_DATE": "2024-01-06 23:29:55.090"
                                },
                                {
                                    "AGENT_CODE": "A012  ",
                                    "REGISTRATION_DATE": "2024-01-06 23:30:28.777"
                                }
                            ]
                        },
                        "text/html": "<table><tr><th>AGENT_CODE</th><th>REGISTRATION_DATE</th></tr><tr><td>A001  </td><td>2024-01-06 23:30:37.307</td></tr><tr><td>A002  </td><td>2024-01-02 23:27:24.013</td></tr><tr><td>A003  </td><td>2024-01-02 23:27:24.013</td></tr><tr><td>A004  </td><td>2024-01-01 23:27:24.013</td></tr><tr><td>A005  </td><td>2024-01-06 23:30:33.760</td></tr><tr><td>A006  </td><td>2024-01-06 23:30:56.200</td></tr><tr><td>A007  </td><td>2024-01-06 23:27:24.013</td></tr><tr><td>A008  </td><td>2024-01-06 23:29:41.217</td></tr><tr><td>A009  </td><td>2024-01-01 23:27:24.013</td></tr><tr><td>A010  </td><td>2024-01-06 23:27:24.013</td></tr><tr><td>A011  </td><td>2024-01-06 23:29:55.090</td></tr><tr><td>A012  </td><td>2024-01-06 23:30:28.777</td></tr></table>"
                    },
                    "metadata": {}
                },
                {
                    "output_type": "execute_result",
                    "execution_count": 56,
                    "data": {
                        "application/vnd.dataresource+json": {
                            "schema": {
                                "fields": [
                                    {
                                        "name": "AGENT_CODE"
                                    },
                                    {
                                        "name": "REGISTERATION_DATE"
                                    }
                                ]
                            },
                            "data": [
                                {
                                    "AGENT_CODE": "A001  ",
                                    "REGISTERATION_DATE": "2024-01-06"
                                },
                                {
                                    "AGENT_CODE": "A002  ",
                                    "REGISTERATION_DATE": "2024-01-02"
                                },
                                {
                                    "AGENT_CODE": "A003  ",
                                    "REGISTERATION_DATE": "2024-01-02"
                                },
                                {
                                    "AGENT_CODE": "A004  ",
                                    "REGISTERATION_DATE": "2024-01-01"
                                },
                                {
                                    "AGENT_CODE": "A005  ",
                                    "REGISTERATION_DATE": "2024-01-06"
                                },
                                {
                                    "AGENT_CODE": "A006  ",
                                    "REGISTERATION_DATE": "2024-01-06"
                                },
                                {
                                    "AGENT_CODE": "A007  ",
                                    "REGISTERATION_DATE": "2024-01-06"
                                },
                                {
                                    "AGENT_CODE": "A008  ",
                                    "REGISTERATION_DATE": "2024-01-06"
                                },
                                {
                                    "AGENT_CODE": "A009  ",
                                    "REGISTERATION_DATE": "2024-01-01"
                                },
                                {
                                    "AGENT_CODE": "A010  ",
                                    "REGISTERATION_DATE": "2024-01-06"
                                },
                                {
                                    "AGENT_CODE": "A011  ",
                                    "REGISTERATION_DATE": "2024-01-06"
                                },
                                {
                                    "AGENT_CODE": "A012  ",
                                    "REGISTERATION_DATE": "2024-01-06"
                                }
                            ]
                        },
                        "text/html": "<table><tr><th>AGENT_CODE</th><th>REGISTERATION_DATE</th></tr><tr><td>A001  </td><td>2024-01-06</td></tr><tr><td>A002  </td><td>2024-01-02</td></tr><tr><td>A003  </td><td>2024-01-02</td></tr><tr><td>A004  </td><td>2024-01-01</td></tr><tr><td>A005  </td><td>2024-01-06</td></tr><tr><td>A006  </td><td>2024-01-06</td></tr><tr><td>A007  </td><td>2024-01-06</td></tr><tr><td>A008  </td><td>2024-01-06</td></tr><tr><td>A009  </td><td>2024-01-01</td></tr><tr><td>A010  </td><td>2024-01-06</td></tr><tr><td>A011  </td><td>2024-01-06</td></tr><tr><td>A012  </td><td>2024-01-06</td></tr></table>"
                    },
                    "metadata": {}
                },
                {
                    "output_type": "execute_result",
                    "execution_count": 56,
                    "data": {
                        "application/vnd.dataresource+json": {
                            "schema": {
                                "fields": [
                                    {
                                        "name": "AGENT_CODE"
                                    },
                                    {
                                        "name": "REGISTERATION_DATE"
                                    }
                                ]
                            },
                            "data": [
                                {
                                    "AGENT_CODE": "A001  ",
                                    "REGISTERATION_DATE": "01/06/2024"
                                },
                                {
                                    "AGENT_CODE": "A002  ",
                                    "REGISTERATION_DATE": "01/02/2024"
                                },
                                {
                                    "AGENT_CODE": "A003  ",
                                    "REGISTERATION_DATE": "01/02/2024"
                                },
                                {
                                    "AGENT_CODE": "A004  ",
                                    "REGISTERATION_DATE": "01/01/2024"
                                },
                                {
                                    "AGENT_CODE": "A005  ",
                                    "REGISTERATION_DATE": "01/06/2024"
                                },
                                {
                                    "AGENT_CODE": "A006  ",
                                    "REGISTERATION_DATE": "01/06/2024"
                                },
                                {
                                    "AGENT_CODE": "A007  ",
                                    "REGISTERATION_DATE": "01/06/2024"
                                },
                                {
                                    "AGENT_CODE": "A008  ",
                                    "REGISTERATION_DATE": "01/06/2024"
                                },
                                {
                                    "AGENT_CODE": "A009  ",
                                    "REGISTERATION_DATE": "01/01/2024"
                                },
                                {
                                    "AGENT_CODE": "A010  ",
                                    "REGISTERATION_DATE": "01/06/2024"
                                },
                                {
                                    "AGENT_CODE": "A011  ",
                                    "REGISTERATION_DATE": "01/06/2024"
                                },
                                {
                                    "AGENT_CODE": "A012  ",
                                    "REGISTERATION_DATE": "01/06/2024"
                                }
                            ]
                        },
                        "text/html": "<table><tr><th>AGENT_CODE</th><th>REGISTERATION_DATE</th></tr><tr><td>A001  </td><td>01/06/2024</td></tr><tr><td>A002  </td><td>01/02/2024</td></tr><tr><td>A003  </td><td>01/02/2024</td></tr><tr><td>A004  </td><td>01/01/2024</td></tr><tr><td>A005  </td><td>01/06/2024</td></tr><tr><td>A006  </td><td>01/06/2024</td></tr><tr><td>A007  </td><td>01/06/2024</td></tr><tr><td>A008  </td><td>01/06/2024</td></tr><tr><td>A009  </td><td>01/01/2024</td></tr><tr><td>A010  </td><td>01/06/2024</td></tr><tr><td>A011  </td><td>01/06/2024</td></tr><tr><td>A012  </td><td>01/06/2024</td></tr></table>"
                    },
                    "metadata": {}
                }
            ],
            "execution_count": 56
        },
        {
            "cell_type": "code",
            "source": [
                "-- Write a query to count the no. of registerations on the date wise\r\n",
                "\r\n",
                "SELECT      REGISTRATION_DATE, COUNT(AGENT_CODE) AS ID\r\n",
                "FROM        tblEvent\r\n",
                "GROUP BY    REGISTRATION_DATE\r\n",
                "\r\n",
                "SELECT      CAST(REGISTRATION_DATE AS DATE), COUNT(AGENT_CODE) AS ID\r\n",
                "FROM        tblEvent\r\n",
                "GROUP BY    CAST(REGISTRATION_DATE AS DATE)"
            ],
            "metadata": {
                "azdata_cell_guid": "fab1fda4-cc0c-4179-9676-3b8f24724c9a",
                "language": "sql"
            },
            "outputs": [
                {
                    "output_type": "display_data",
                    "data": {
                        "text/html": "(9 rows affected)"
                    },
                    "metadata": {}
                },
                {
                    "output_type": "display_data",
                    "data": {
                        "text/html": "(3 rows affected)"
                    },
                    "metadata": {}
                },
                {
                    "output_type": "display_data",
                    "data": {
                        "text/html": "Total execution time: 00:00:00.016"
                    },
                    "metadata": {}
                },
                {
                    "output_type": "execute_result",
                    "execution_count": 57,
                    "data": {
                        "application/vnd.dataresource+json": {
                            "schema": {
                                "fields": [
                                    {
                                        "name": "REGISTRATION_DATE"
                                    },
                                    {
                                        "name": "ID"
                                    }
                                ]
                            },
                            "data": [
                                {
                                    "REGISTRATION_DATE": "2024-01-01 23:27:24.013",
                                    "ID": "2"
                                },
                                {
                                    "REGISTRATION_DATE": "2024-01-02 23:27:24.013",
                                    "ID": "2"
                                },
                                {
                                    "REGISTRATION_DATE": "2024-01-06 23:27:24.013",
                                    "ID": "2"
                                },
                                {
                                    "REGISTRATION_DATE": "2024-01-06 23:29:41.217",
                                    "ID": "1"
                                },
                                {
                                    "REGISTRATION_DATE": "2024-01-06 23:29:55.090",
                                    "ID": "1"
                                },
                                {
                                    "REGISTRATION_DATE": "2024-01-06 23:30:28.777",
                                    "ID": "1"
                                },
                                {
                                    "REGISTRATION_DATE": "2024-01-06 23:30:33.760",
                                    "ID": "1"
                                },
                                {
                                    "REGISTRATION_DATE": "2024-01-06 23:30:37.307",
                                    "ID": "1"
                                },
                                {
                                    "REGISTRATION_DATE": "2024-01-06 23:30:56.200",
                                    "ID": "1"
                                }
                            ]
                        },
                        "text/html": "<table><tr><th>REGISTRATION_DATE</th><th>ID</th></tr><tr><td>2024-01-01 23:27:24.013</td><td>2</td></tr><tr><td>2024-01-02 23:27:24.013</td><td>2</td></tr><tr><td>2024-01-06 23:27:24.013</td><td>2</td></tr><tr><td>2024-01-06 23:29:41.217</td><td>1</td></tr><tr><td>2024-01-06 23:29:55.090</td><td>1</td></tr><tr><td>2024-01-06 23:30:28.777</td><td>1</td></tr><tr><td>2024-01-06 23:30:33.760</td><td>1</td></tr><tr><td>2024-01-06 23:30:37.307</td><td>1</td></tr><tr><td>2024-01-06 23:30:56.200</td><td>1</td></tr></table>"
                    },
                    "metadata": {}
                },
                {
                    "output_type": "execute_result",
                    "execution_count": 57,
                    "data": {
                        "application/vnd.dataresource+json": {
                            "schema": {
                                "fields": [
                                    {
                                        "name": "(No column name)"
                                    },
                                    {
                                        "name": "ID"
                                    }
                                ]
                            },
                            "data": [
                                {
                                    "(No column name)": "2024-01-01",
                                    "ID": "2"
                                },
                                {
                                    "(No column name)": "2024-01-02",
                                    "ID": "2"
                                },
                                {
                                    "(No column name)": "2024-01-06",
                                    "ID": "8"
                                }
                            ]
                        },
                        "text/html": "<table><tr><th>(No column name)</th><th>ID</th></tr><tr><td>2024-01-01</td><td>2</td></tr><tr><td>2024-01-02</td><td>2</td></tr><tr><td>2024-01-06</td><td>8</td></tr></table>"
                    },
                    "metadata": {}
                }
            ],
            "execution_count": 57
        },
        {
            "cell_type": "markdown",
            "source": [
                "## Mathematical functions in SQL Server\r\n",
                "    The following scalar functions perform a calculation, usually based on input values that are provided as arguments, and return a numeric value:\r\n",
                "\r\n",
                "    ABS\r\n",
                "    ACOS\r\n",
                "    ASIN\r\n",
                "    ATAN\r\n",
                "    ATN2\r\n",
                "    CEILING\r\n",
                "    COS\r\n",
                "    COT\r\n",
                "    DEGREES\r\n",
                "    EXP\r\n",
                "    FLOOR\r\n",
                "    LOG\r\n",
                "    LOG10\r\n",
                "    PI\r\n",
                "    POWER\r\n",
                "    RADIANS  \r\n",
                "    RAND  \r\n",
                "    ROUND  \r\n",
                "    SIGN  \r\n",
                "    SIN  \r\n",
                "    SQRT  \r\n",
                "    SQUARE  \r\n",
                "    TAN\r\n",
                ""
            ],
            "metadata": {
                "azdata_cell_guid": "fe5d92ed-c8d6-4356-b233-f2efb47cfe28"
            },
            "attachments": {}
        },
        {
            "cell_type": "markdown",
            "source": [
                "## Scalar User-deined functions\r\n",
                "### In Sql server there are 3 types of User Defined functions\r\n",
                "    1. Scalar functions\r\n",
                "    2. Inline table-valued functions\r\n",
                "    3. Multi-statement table-valued functions\r\n",
                "\r\n",
                "***Scalar functions*** may or may not have parameters, but always return a single (scalar) value. The returned value can be of any data type, except ***text, ntext, image, cursor, and timestamp***\r\n",
                "\r\n",
                "### Syntax to create a function\"\r\n",
                "    CREATE FUNCTION Function_Name(@Param1 DataType, @Param2 DataType,......@paramN DataType)\r\n",
                "    RETURNS Return_DataType\r\n",
                "    AS\r\n",
                "    BEGIN\r\n",
                "        -- Function Body\r\n",
                "        Return Return_DataType\r\n",
                "    END\r\n",
                "***A stored procedure*** also can accept DateOfBirth and return Age, but you cannot use stored procedures in a select or where clause. this is just one difference b/w in a function and a stored procedure."
            ],
            "metadata": {
                "azdata_cell_guid": "977c2cd2-ba10-4c72-8588-c68ec7d3ccdd"
            },
            "attachments": {}
        },
        {
            "cell_type": "code",
            "source": [
                "-- Create a function to calculate the age of the person...\r\n",
                "CREATE FUNCTION CalculateAGE(@DOB DATE)\r\n",
                "    RETURNS NVARCHAR(50)\r\n",
                "    AS\r\n",
                "    BEGIN\r\n",
                "    DECLARE @tmpDate DATETIME, @years INT, @months INT, @days INT\r\n",
                "\r\n",
                "    SELECT @tmpDate = @DOB\r\n",
                "\r\n",
                "    SELECT @years = DATEDIFF(YEAR,@tmpDate,GETDATE()) - \r\n",
                "                    CASE \r\n",
                "                        WHEN ((MONTH(@DOB) > MONTH(GETDATE())) OR \r\n",
                "                        (MONTH(@DOB) = MONTH(GETDATE())) AND DAY(@DOB) > DAY(GETDATE()))\r\n",
                "                        THEN 1 ELSE 0\r\n",
                "                    END\r\n",
                "    SELECT @tmpDate = DATEADD(YEAR, @years,@tmpDate)\r\n",
                "\r\n",
                "    SELECT @months = DATEDIFF(MONTH, @tmpDate, GETDATE()) - \r\n",
                "                    CASE\r\n",
                "                        WHEN DAY(@DOB) > DAY(GETDATE())\r\n",
                "                        THEN 1 ELSE 0\r\n",
                "                    END\r\n",
                "\r\n",
                "    SELECT @tmpDate = DATEADD(MONTH,@months,@tmpDate)\r\n",
                "\r\n",
                "    SELECT @days = DATEDIFF(DAY, @tmpDate, GETDATE())\r\n",
                "\r\n",
                "    DECLARE @Age NVARCHAR(50)\r\n",
                "    SET @Age =  CAST(@years as nvarchar(4)) + ' Years ' + CAST(@months as nvarchar(2)) + ' Months ' + CAST(@days as nvarchar(2)) + ' Days Old '     \r\n",
                "    RETURN @Age\r\n",
                "END\r\n",
                ""
            ],
            "metadata": {
                "azdata_cell_guid": "c80ce516-b8c7-4eb9-85c3-1d3f83534d01",
                "language": "sql"
            },
            "outputs": [
                {
                    "output_type": "display_data",
                    "data": {
                        "text/html": "Commands completed successfully."
                    },
                    "metadata": {}
                },
                {
                    "output_type": "display_data",
                    "data": {
                        "text/html": "Total execution time: 00:00:00.003"
                    },
                    "metadata": {}
                }
            ],
            "execution_count": 2
        },
        {
            "cell_type": "code",
            "source": [
                "SELECT AGENT_CODE, REGISTRATION_DATE, dbo.CalculateAGE(REGISTRATION_DATE) as Age FROM tblEvent;\r\n",
                ""
            ],
            "metadata": {
                "azdata_cell_guid": "8df3a414-18ea-4bc5-80ed-008f24c725fd",
                "language": "sql",
                "tags": [
                    "hide_input"
                ]
            },
            "outputs": [
                {
                    "output_type": "display_data",
                    "data": {
                        "text/html": "(12 rows affected)"
                    },
                    "metadata": {}
                },
                {
                    "output_type": "display_data",
                    "data": {
                        "text/html": "Total execution time: 00:00:00.007"
                    },
                    "metadata": {}
                },
                {
                    "output_type": "execute_result",
                    "execution_count": 5,
                    "data": {
                        "application/vnd.dataresource+json": {
                            "schema": {
                                "fields": [
                                    {
                                        "name": "AGENT_CODE"
                                    },
                                    {
                                        "name": "REGISTRATION_DATE"
                                    },
                                    {
                                        "name": "Age"
                                    }
                                ]
                            },
                            "data": [
                                {
                                    "AGENT_CODE": "A001  ",
                                    "REGISTRATION_DATE": "2024-01-06 23:30:37.307",
                                    "Age": "0 Years 0 Months 1 Days Old "
                                },
                                {
                                    "AGENT_CODE": "A002  ",
                                    "REGISTRATION_DATE": "2024-01-02 23:27:24.013",
                                    "Age": "0 Years 0 Months 5 Days Old "
                                },
                                {
                                    "AGENT_CODE": "A003  ",
                                    "REGISTRATION_DATE": "2024-01-02 23:27:24.013",
                                    "Age": "0 Years 0 Months 5 Days Old "
                                },
                                {
                                    "AGENT_CODE": "A004  ",
                                    "REGISTRATION_DATE": "2024-01-01 23:27:24.013",
                                    "Age": "0 Years 0 Months 6 Days Old "
                                },
                                {
                                    "AGENT_CODE": "A005  ",
                                    "REGISTRATION_DATE": "2024-01-06 23:30:33.760",
                                    "Age": "0 Years 0 Months 1 Days Old "
                                },
                                {
                                    "AGENT_CODE": "A006  ",
                                    "REGISTRATION_DATE": "2024-01-06 23:30:56.200",
                                    "Age": "0 Years 0 Months 1 Days Old "
                                },
                                {
                                    "AGENT_CODE": "A007  ",
                                    "REGISTRATION_DATE": "2024-01-06 23:27:24.013",
                                    "Age": "0 Years 0 Months 1 Days Old "
                                },
                                {
                                    "AGENT_CODE": "A008  ",
                                    "REGISTRATION_DATE": "2024-01-06 23:29:41.217",
                                    "Age": "0 Years 0 Months 1 Days Old "
                                },
                                {
                                    "AGENT_CODE": "A009  ",
                                    "REGISTRATION_DATE": "2024-01-01 23:27:24.013",
                                    "Age": "0 Years 0 Months 6 Days Old "
                                },
                                {
                                    "AGENT_CODE": "A010  ",
                                    "REGISTRATION_DATE": "2024-01-06 23:27:24.013",
                                    "Age": "0 Years 0 Months 1 Days Old "
                                },
                                {
                                    "AGENT_CODE": "A011  ",
                                    "REGISTRATION_DATE": "2024-01-06 23:29:55.090",
                                    "Age": "0 Years 0 Months 1 Days Old "
                                },
                                {
                                    "AGENT_CODE": "A012  ",
                                    "REGISTRATION_DATE": "2024-01-06 23:30:28.777",
                                    "Age": "0 Years 0 Months 1 Days Old "
                                }
                            ]
                        },
                        "text/html": "<table><tr><th>AGENT_CODE</th><th>REGISTRATION_DATE</th><th>Age</th></tr><tr><td>A001  </td><td>2024-01-06 23:30:37.307</td><td>0 Years 0 Months 1 Days Old </td></tr><tr><td>A002  </td><td>2024-01-02 23:27:24.013</td><td>0 Years 0 Months 5 Days Old </td></tr><tr><td>A003  </td><td>2024-01-02 23:27:24.013</td><td>0 Years 0 Months 5 Days Old </td></tr><tr><td>A004  </td><td>2024-01-01 23:27:24.013</td><td>0 Years 0 Months 6 Days Old </td></tr><tr><td>A005  </td><td>2024-01-06 23:30:33.760</td><td>0 Years 0 Months 1 Days Old </td></tr><tr><td>A006  </td><td>2024-01-06 23:30:56.200</td><td>0 Years 0 Months 1 Days Old </td></tr><tr><td>A007  </td><td>2024-01-06 23:27:24.013</td><td>0 Years 0 Months 1 Days Old </td></tr><tr><td>A008  </td><td>2024-01-06 23:29:41.217</td><td>0 Years 0 Months 1 Days Old </td></tr><tr><td>A009  </td><td>2024-01-01 23:27:24.013</td><td>0 Years 0 Months 6 Days Old </td></tr><tr><td>A010  </td><td>2024-01-06 23:27:24.013</td><td>0 Years 0 Months 1 Days Old </td></tr><tr><td>A011  </td><td>2024-01-06 23:29:55.090</td><td>0 Years 0 Months 1 Days Old </td></tr><tr><td>A012  </td><td>2024-01-06 23:30:28.777</td><td>0 Years 0 Months 1 Days Old </td></tr></table>"
                    },
                    "metadata": {}
                }
            ],
            "execution_count": 5
        },
        {
            "cell_type": "markdown",
            "source": [
                "## Inline table valued functions\r\n",
                "***Scalar***Function - returns a scalar value\r\n",
                "\r\n",
                "***Inline*** Table Valued function - returns a table\r\n",
                "\r\n",
                "### Syntax:\r\n",
                "    CREATE FUNCTION FunctionName(@Param DataType)\r\n",
                "    RETURNS TABLE\r\n",
                "    AS\r\n",
                "    RETURN (SELECT <Specify the columns> from <tableName>)\r\n",
                "\r\n",
                "### 3 Points keep in mind while using INLINE TABLE VALUED FUNCTIONS:\r\n",
                "    1. We specify TABLE as the return type, instead of nay scalar data type.\r\n",
                "    2. The function body is not enclosed b/w BEGIN and END block.\r\n",
                "    3. The structure of the table that gets returned, is determined by the SELECT statement with in the function.\r\n",
                "\r\n",
                "### Calling the function\r\n",
                "    SELECT * FROM <Function_name>\r\n",
                "\r\n",
                "### Where can we use Inline Table Valued functions\r\n",
                "    1. Inline Table Valued functions can be used to achieve the functionality of parameterized views.\r\n",
                "    2. The table returned by the table valued function, can also be used in joins with other tables."
            ],
            "metadata": {
                "azdata_cell_guid": "07b4f79c-87a9-413d-adc7-b8e8608f956b"
            },
            "attachments": {}
        },
        {
            "cell_type": "code",
            "source": [
                "\r\n",
                "CREATE TABLE tblEmployee(\r\n",
                "    ID INT IDENTITY(100,1) PRIMARY KEY,\r\n",
                "    Name NVARCHAR(50),\r\n",
                "    Gender NVARCHAR(50),\r\n",
                "    Salary FLOAT,\r\n",
                "    City NVARCHAR(50)\r\n",
                ");"
            ],
            "metadata": {
                "azdata_cell_guid": "cd3be5bd-7ab5-470e-baac-1526b8bb4381",
                "language": "sql"
            },
            "outputs": [
                {
                    "output_type": "display_data",
                    "data": {
                        "text/html": "Commands completed successfully."
                    },
                    "metadata": {}
                },
                {
                    "output_type": "display_data",
                    "data": {
                        "text/html": "Total execution time: 00:00:00.004"
                    },
                    "metadata": {}
                }
            ],
            "execution_count": 7
        },
        {
            "cell_type": "code",
            "source": [
                "\r\n",
                "\r\n",
                "INSERT INTO tblEmployee VALUES \r\n",
                "                ('Tom','Male',4000,'London'),\r\n",
                "                ('Pam','Female',3000,'New York'),\r\n",
                "                ('John','Male',3500,'London'),\r\n",
                "                ('Sam','Male',4500,'London'),\r\n",
                "                ('Todd','Male',2800,'Sydney'),\r\n",
                "                ('Ben','Male',7000,'New York'),\r\n",
                "                ('Sara','Female',4800,'Sydney'),\r\n",
                "                ('Valarie','Female',5500,'New York'),\r\n",
                "                ('James','Male',6500,'London'),\r\n",
                "                ('Russell','Male',8800,'London')\r\n",
                "     \r\n",
                ""
            ],
            "metadata": {
                "azdata_cell_guid": "d6b082b6-5f51-4e97-8218-b2935ff43785",
                "language": "sql"
            },
            "outputs": [
                {
                    "output_type": "display_data",
                    "data": {
                        "text/html": "(10 rows affected)"
                    },
                    "metadata": {}
                },
                {
                    "output_type": "display_data",
                    "data": {
                        "text/html": "Total execution time: 00:00:00.004"
                    },
                    "metadata": {}
                }
            ],
            "execution_count": 8
        },
        {
            "cell_type": "code",
            "source": [
                "-- Create Inline table valued...\r\n",
                "CREATE FUNCTION fn_EmployeesByGender(@Gender nvarchar(10))\r\n",
                "RETURNS TABLE\r\n",
                "AS\r\n",
                "RETURN (SELECT ID, Name, Gender FROM tblEmployee WHERE Gender = @Gender)"
            ],
            "metadata": {
                "azdata_cell_guid": "b7dbcc02-7cbd-4566-95bf-a4ff9b55ef74",
                "language": "sql"
            },
            "outputs": [
                {
                    "output_type": "display_data",
                    "data": {
                        "text/html": "Commands completed successfully."
                    },
                    "metadata": {}
                },
                {
                    "output_type": "display_data",
                    "data": {
                        "text/html": "Total execution time: 00:00:00.002"
                    },
                    "metadata": {}
                }
            ],
            "execution_count": 10
        },
        {
            "cell_type": "code",
            "source": [
                "SELECT * FROM tblEmployee\r\n",
                "\r\n",
                "SELECT * FROM fn_EmployeesByGender('Female')"
            ],
            "metadata": {
                "azdata_cell_guid": "a3e50819-dc5f-484a-ba4c-f4d0176d38db",
                "language": "sql"
            },
            "outputs": [
                {
                    "output_type": "display_data",
                    "data": {
                        "text/html": "(10 rows affected)"
                    },
                    "metadata": {}
                },
                {
                    "output_type": "display_data",
                    "data": {
                        "text/html": "(3 rows affected)"
                    },
                    "metadata": {}
                },
                {
                    "output_type": "display_data",
                    "data": {
                        "text/html": "Total execution time: 00:00:00.008"
                    },
                    "metadata": {}
                },
                {
                    "output_type": "execute_result",
                    "execution_count": 14,
                    "data": {
                        "application/vnd.dataresource+json": {
                            "schema": {
                                "fields": [
                                    {
                                        "name": "ID"
                                    },
                                    {
                                        "name": "Name"
                                    },
                                    {
                                        "name": "Gender"
                                    },
                                    {
                                        "name": "Salary"
                                    },
                                    {
                                        "name": "City"
                                    }
                                ]
                            },
                            "data": [
                                {
                                    "ID": "100",
                                    "Name": "Tom",
                                    "Gender": "Male",
                                    "Salary": "4000",
                                    "City": "London"
                                },
                                {
                                    "ID": "101",
                                    "Name": "Pam",
                                    "Gender": "Female",
                                    "Salary": "3000",
                                    "City": "New York"
                                },
                                {
                                    "ID": "102",
                                    "Name": "John",
                                    "Gender": "Male",
                                    "Salary": "3500",
                                    "City": "London"
                                },
                                {
                                    "ID": "103",
                                    "Name": "Sam",
                                    "Gender": "Male",
                                    "Salary": "4500",
                                    "City": "London"
                                },
                                {
                                    "ID": "104",
                                    "Name": "Todd",
                                    "Gender": "Male",
                                    "Salary": "2800",
                                    "City": "Sydney"
                                },
                                {
                                    "ID": "105",
                                    "Name": "Ben",
                                    "Gender": "Male",
                                    "Salary": "7000",
                                    "City": "New York"
                                },
                                {
                                    "ID": "106",
                                    "Name": "Sara",
                                    "Gender": "Female",
                                    "Salary": "4800",
                                    "City": "Sydney"
                                },
                                {
                                    "ID": "107",
                                    "Name": "Valarie",
                                    "Gender": "Female",
                                    "Salary": "5500",
                                    "City": "New York"
                                },
                                {
                                    "ID": "108",
                                    "Name": "James",
                                    "Gender": "Male",
                                    "Salary": "6500",
                                    "City": "London"
                                },
                                {
                                    "ID": "109",
                                    "Name": "Russell",
                                    "Gender": "Male",
                                    "Salary": "8800",
                                    "City": "London"
                                }
                            ]
                        },
                        "text/html": "<table><tr><th>ID</th><th>Name</th><th>Gender</th><th>Salary</th><th>City</th></tr><tr><td>100</td><td>Tom</td><td>Male</td><td>4000</td><td>London</td></tr><tr><td>101</td><td>Pam</td><td>Female</td><td>3000</td><td>New York</td></tr><tr><td>102</td><td>John</td><td>Male</td><td>3500</td><td>London</td></tr><tr><td>103</td><td>Sam</td><td>Male</td><td>4500</td><td>London</td></tr><tr><td>104</td><td>Todd</td><td>Male</td><td>2800</td><td>Sydney</td></tr><tr><td>105</td><td>Ben</td><td>Male</td><td>7000</td><td>New York</td></tr><tr><td>106</td><td>Sara</td><td>Female</td><td>4800</td><td>Sydney</td></tr><tr><td>107</td><td>Valarie</td><td>Female</td><td>5500</td><td>New York</td></tr><tr><td>108</td><td>James</td><td>Male</td><td>6500</td><td>London</td></tr><tr><td>109</td><td>Russell</td><td>Male</td><td>8800</td><td>London</td></tr></table>"
                    },
                    "metadata": {}
                },
                {
                    "output_type": "execute_result",
                    "execution_count": 14,
                    "data": {
                        "application/vnd.dataresource+json": {
                            "schema": {
                                "fields": [
                                    {
                                        "name": "ID"
                                    },
                                    {
                                        "name": "Name"
                                    },
                                    {
                                        "name": "Gender"
                                    }
                                ]
                            },
                            "data": [
                                {
                                    "ID": "101",
                                    "Name": "Pam",
                                    "Gender": "Female"
                                },
                                {
                                    "ID": "106",
                                    "Name": "Sara",
                                    "Gender": "Female"
                                },
                                {
                                    "ID": "107",
                                    "Name": "Valarie",
                                    "Gender": "Female"
                                }
                            ]
                        },
                        "text/html": "<table><tr><th>ID</th><th>Name</th><th>Gender</th></tr><tr><td>101</td><td>Pam</td><td>Female</td></tr><tr><td>106</td><td>Sara</td><td>Female</td></tr><tr><td>107</td><td>Valarie</td><td>Female</td></tr></table>"
                    },
                    "metadata": {}
                }
            ],
            "execution_count": 14
        },
        {
            "cell_type": "markdown",
            "source": [
                "## Multi-Statement Table Valued Functions \r\n",
                "***Multi statement table valued functions*** are very similar to Inline Table valued functions, with a few differences.\r\n",
                "\r\n",
                "### Differences\r\n",
                "    1. In an Inline Table Valued function, the RETURNS clause cannot contain the structure of the table, the function returns. Where as, with the multi-statement table valued funciton, we specify the structure of the table that gets returned.\r\n",
                "\r\n",
                "    2. Inline Table Valued function cannot have BEGIN and END block, where as the multi-statement function can have.\r\n",
                "\r\n",
                "    3. Inline Table Valued functions are better for performance, than multi-statement table valued functions. If the given task, can be achieved using an Inline table valued function, always prefer to use them, over multi-statement table valued functions.\r\n",
                "\r\n",
                "    4. It's possible to update the underlying table, using an inliine talbe valued function, but not possible using multi-statement table valued function.\r\n",
                "\r\n",
                "***Reason for improved performance of an Inline table valued function:***\r\n",
                "    Internally, SQL Server treats an inline table valued function much like it would a view and treats a multi-statement table valued function similar to how it would a stored procedure."
            ],
            "metadata": {
                "azdata_cell_guid": "cc29898b-9c83-4b7f-8307-48fb9d9f14aa"
            },
            "attachments": {}
        },
        {
            "cell_type": "code",
            "source": [
                "-- Multi-statement Table Valued Function\r\n",
                "CREATE FUNCTION fn_MSTVF_GetEmployeed()\r\n",
                "RETURNS @Table TABLE (Id INT, Name nvarchar(20), City nvarchar(50))\r\n",
                "as\r\n",
                "BEGIN\r\n",
                "    INSERT into @Table\r\n",
                "    SELECT ID, Name, City FROM tblEmployee\r\n",
                "\r\n",
                "    RETURN\r\n",
                "END"
            ],
            "metadata": {
                "azdata_cell_guid": "3146c43f-a1a5-45a5-b3e2-d147762ad12b",
                "language": "sql"
            },
            "outputs": [
                {
                    "output_type": "display_data",
                    "data": {
                        "text/html": "Commands completed successfully."
                    },
                    "metadata": {}
                },
                {
                    "output_type": "display_data",
                    "data": {
                        "text/html": "Total execution time: 00:00:00.004"
                    },
                    "metadata": {}
                }
            ],
            "execution_count": 16
        },
        {
            "cell_type": "code",
            "source": [
                "SELECT * FROM fn_MSTVF_GetEmployeed()"
            ],
            "metadata": {
                "azdata_cell_guid": "0551fe19-fb7f-4a59-bc93-4dcb0e6cd40e",
                "language": "sql"
            },
            "outputs": [
                {
                    "output_type": "display_data",
                    "data": {
                        "text/html": "(10 rows affected)"
                    },
                    "metadata": {}
                },
                {
                    "output_type": "display_data",
                    "data": {
                        "text/html": "Total execution time: 00:00:00.016"
                    },
                    "metadata": {}
                },
                {
                    "output_type": "execute_result",
                    "execution_count": 17,
                    "data": {
                        "application/vnd.dataresource+json": {
                            "schema": {
                                "fields": [
                                    {
                                        "name": "Id"
                                    },
                                    {
                                        "name": "Name"
                                    },
                                    {
                                        "name": "City"
                                    }
                                ]
                            },
                            "data": [
                                {
                                    "Id": "100",
                                    "Name": "Tom",
                                    "City": "London"
                                },
                                {
                                    "Id": "101",
                                    "Name": "Pam",
                                    "City": "New York"
                                },
                                {
                                    "Id": "102",
                                    "Name": "John",
                                    "City": "London"
                                },
                                {
                                    "Id": "103",
                                    "Name": "Sam",
                                    "City": "London"
                                },
                                {
                                    "Id": "104",
                                    "Name": "Todd",
                                    "City": "Sydney"
                                },
                                {
                                    "Id": "105",
                                    "Name": "Ben",
                                    "City": "New York"
                                },
                                {
                                    "Id": "106",
                                    "Name": "Sara",
                                    "City": "Sydney"
                                },
                                {
                                    "Id": "107",
                                    "Name": "Valarie",
                                    "City": "New York"
                                },
                                {
                                    "Id": "108",
                                    "Name": "James",
                                    "City": "London"
                                },
                                {
                                    "Id": "109",
                                    "Name": "Russell",
                                    "City": "London"
                                }
                            ]
                        },
                        "text/html": "<table><tr><th>Id</th><th>Name</th><th>City</th></tr><tr><td>100</td><td>Tom</td><td>London</td></tr><tr><td>101</td><td>Pam</td><td>New York</td></tr><tr><td>102</td><td>John</td><td>London</td></tr><tr><td>103</td><td>Sam</td><td>London</td></tr><tr><td>104</td><td>Todd</td><td>Sydney</td></tr><tr><td>105</td><td>Ben</td><td>New York</td></tr><tr><td>106</td><td>Sara</td><td>Sydney</td></tr><tr><td>107</td><td>Valarie</td><td>New York</td></tr><tr><td>108</td><td>James</td><td>London</td></tr><tr><td>109</td><td>Russell</td><td>London</td></tr></table>"
                    },
                    "metadata": {}
                }
            ],
            "execution_count": 17
        },
        {
            "cell_type": "markdown",
            "source": [
                "## Deterministic and Nondeterministic\r\n",
                "***Deterministic functions*** always return the same result any time they are called with a specific set of input values and given the same state of the database.\r\n",
                "\r\n",
                "***Examples:*** Square(), Power(), Sum(), AVG() and Count()\r\n",
                "\r\n",
                "***Note***: All aggregate functions are deterministic functions.\r\n",
                "\r\n",
                "***Nondeterministic functions*** may return different results each time they are called with a specific set of input values even if the database state that they access remains the same.\r\n",
                "\r\n",
                "***Examples:*** GetDate() and CURRENT_TIMESTAMP\r\n",
                "\r\n",
                "***Rand() function*** is a Non-deterministic function, but if you provide the seed value, the function becomes deterministic, as the same value gets returned for the same seed value.\r\n",
                "\r\n",
                "\r\n",
                "## WITH ENCRYPTION and SCHEMABINDING\r\n",
                "***Encryption a function definition using WITH ENCRYPTION***\r\n",
                "\r\n",
                "    We can use WITH ENCRYPTION to encrypt the function, this is same as we encrypt the stored procedure.\r\n",
                "\r\n",
                "## Creating a function WITH SCHEMABINDING option\r\n",
                "\r\n",
                "    Schemabinding, specifies that the function is bound to the database objects that it references. When SCHEMABINDING is specified, the base objects cannot be modified in any way that would affect the function definition. The function definition itself must first be modified or dropped to remove dependencies on the object that is to be modified."
            ],
            "metadata": {
                "azdata_cell_guid": "072f7275-e577-43aa-a33a-0e75c2a862ea"
            },
            "attachments": {}
        },
        {
            "cell_type": "code",
            "source": [
                "-- Create Inline table valued WITH SCHEMABINDING\r\n",
                "CREATE FUNCTION fn_EmployeesByGender1(@Gender nvarchar(10))\r\n",
                "RETURNS TABLE\r\n",
                "WITH SCHEMABINDING\r\n",
                "AS\r\n",
                "RETURN (SELECT ID, Name, Gender FROM Dbo.tblEmployee WHERE Gender = @Gender)"
            ],
            "metadata": {
                "azdata_cell_guid": "e5765528-8c66-4ffe-a363-d1910ee348e3",
                "language": "sql"
            },
            "outputs": [
                {
                    "output_type": "display_data",
                    "data": {
                        "text/html": "Commands completed successfully."
                    },
                    "metadata": {}
                },
                {
                    "output_type": "display_data",
                    "data": {
                        "text/html": "Total execution time: 00:00:00.002"
                    },
                    "metadata": {}
                }
            ],
            "execution_count": 19
        },
        {
            "cell_type": "code",
            "source": [
                "DROP TABLE tblEmployee"
            ],
            "metadata": {
                "azdata_cell_guid": "b78bc611-52dc-4a20-9ef8-01576990b467",
                "language": "sql"
            },
            "outputs": [
                {
                    "output_type": "error",
                    "ename": "",
                    "evalue": "Msg 3729, Level 16, State 1, Line 1\r\nCannot DROP TABLE 'tblEmployee' because it is being referenced by object 'fn_EmployeesByGender1'.",
                    "traceback": []
                },
                {
                    "output_type": "display_data",
                    "data": {
                        "text/html": "Total execution time: 00:00:00.002"
                    },
                    "metadata": {}
                }
            ],
            "execution_count": 20
        },
        {
            "cell_type": "markdown",
            "source": [
                "## Temporary Tables\r\n",
                "    Temporray tables, are very similar to the permanent tables. Permanent tables get created in the database you specify, and reamin in the databse permanently, until you delete(drop) them. On the other hand, temporary tables get created in the TempDB and are automatically deleted, when they are no longer used.\r\n",
                "\r\n",
                "## Different types of temporary tables\r\n",
                "    1. Local Temporary Tables\r\n",
                "    2. Global Temporary tables\r\n",
                "\r\n",
                "### Ways to check the temporary table:\r\n",
                "    1. Graphical: System Databases -> tempDB -> Temporary Tables\r\n",
                "    2. Command\r\n",
                "\r\n",
                "### Imp about temporary table\r\n",
                "    1. A local temporary table is available, only for the connection that has created the table.\r\n",
                "    2. A local temp; table is automatically dropped, when the connection that has created that it, is closed.\r\n",
                "    3. If the user wants to explicitly drop the temporary table, he can do so using DROP TABLE #<table_name>\r\n",
                "    4. If the temp; table, is created inside the stored procedure, It get's dropped automatically upon the completion of stored precedure execution.\r\n",
                "    5. It is also possible for different connections, to create a local temp; table with the same name. For ex; User1 and User2, both can create a local temp; table with the same name"
            ],
            "metadata": {
                "azdata_cell_guid": "466133a1-7a0d-4492-bab3-248e14a8580b"
            },
            "attachments": {}
        },
        {
            "cell_type": "code",
            "source": [
                "CREATE TABLE #PersonData(Id int, Name nvarchar(20));\r\n",
                "\r\n",
                "INSERT into #PersonData VALUES(1, 'Mike')\r\n",
                "INSERT into #PersonData VALUES(2, 'John')\r\n",
                "INSERT into #PersonData VALUES(3, 'Todd')"
            ],
            "metadata": {
                "azdata_cell_guid": "2df6a424-31f5-4e30-8d05-c63b0fed21c7",
                "language": "sql"
            },
            "outputs": [
                {
                    "output_type": "display_data",
                    "data": {
                        "text/html": "(1 row affected)"
                    },
                    "metadata": {}
                },
                {
                    "output_type": "display_data",
                    "data": {
                        "text/html": "(1 row affected)"
                    },
                    "metadata": {}
                },
                {
                    "output_type": "display_data",
                    "data": {
                        "text/html": "(1 row affected)"
                    },
                    "metadata": {}
                },
                {
                    "output_type": "display_data",
                    "data": {
                        "text/html": "Total execution time: 00:00:00.004"
                    },
                    "metadata": {}
                }
            ],
            "execution_count": 2
        },
        {
            "cell_type": "code",
            "source": [
                "SELECT * FROM #PersonData"
            ],
            "metadata": {
                "azdata_cell_guid": "1c06e486-7136-40cf-9741-faa028f861a2",
                "language": "sql"
            },
            "outputs": [
                {
                    "output_type": "display_data",
                    "data": {
                        "text/html": "(3 rows affected)"
                    },
                    "metadata": {}
                },
                {
                    "output_type": "display_data",
                    "data": {
                        "text/html": "Total execution time: 00:00:00.011"
                    },
                    "metadata": {}
                },
                {
                    "output_type": "execute_result",
                    "metadata": {},
                    "execution_count": 5,
                    "data": {
                        "application/vnd.dataresource+json": {
                            "schema": {
                                "fields": [
                                    {
                                        "name": "Id"
                                    },
                                    {
                                        "name": "Name"
                                    }
                                ]
                            },
                            "data": [
                                {
                                    "Id": "1",
                                    "Name": "Mike"
                                },
                                {
                                    "Id": "2",
                                    "Name": "John"
                                },
                                {
                                    "Id": "3",
                                    "Name": "Todd"
                                }
                            ]
                        },
                        "text/html": [
                            "<table>",
                            "<tr><th>Id</th><th>Name</th></tr>",
                            "<tr><td>1</td><td>Mike</td></tr>",
                            "<tr><td>2</td><td>John</td></tr>",
                            "<tr><td>3</td><td>Todd</td></tr>",
                            "</table>"
                        ]
                    }
                }
            ],
            "execution_count": 5
        },
        {
            "cell_type": "code",
            "source": [
                "-- Command to check the temporary table\r\n",
                "SELECT name from tempdb..sysobjects where name like '#PersonData%';"
            ],
            "metadata": {
                "azdata_cell_guid": "40c20d3a-b13a-429d-bf39-439269ff3260",
                "language": "sql"
            },
            "outputs": [
                {
                    "output_type": "display_data",
                    "data": {
                        "text/html": "(1 row affected)"
                    },
                    "metadata": {}
                },
                {
                    "output_type": "display_data",
                    "data": {
                        "text/html": "Total execution time: 00:00:00.020"
                    },
                    "metadata": {}
                },
                {
                    "output_type": "execute_result",
                    "metadata": {},
                    "execution_count": 4,
                    "data": {
                        "application/vnd.dataresource+json": {
                            "schema": {
                                "fields": [
                                    {
                                        "name": "name"
                                    }
                                ]
                            },
                            "data": [
                                {
                                    "name": "#PersonData_________________________________________________________________________________________________________00000000002E"
                                }
                            ]
                        },
                        "text/html": [
                            "<table>",
                            "<tr><th>name</th></tr>",
                            "<tr><td>#PersonData_________________________________________________________________________________________________________00000000002E</td></tr>",
                            "</table>"
                        ]
                    }
                }
            ],
            "execution_count": 4
        },
        {
            "cell_type": "code",
            "source": [
                "-- This temp; table wil be dropped auto after the completion of stored procedure execution\r\n",
                "\r\n",
                "ALTER PROCEDURE spCreateLocalTempTable\r\n",
                "as\r\n",
                "BEGIN\r\n",
                "    CREATE TABLE #PersonDetails(Id int, Name nvarchar(20));\r\n",
                "\r\n",
                "    INSERT into #PersonDetails VALUES(1, 'Mike')\r\n",
                "    INSERT into #PersonDetails VALUES(2, 'John')\r\n",
                "    INSERT into #PersonDetails VALUES(3, 'Todd')\r\n",
                "\r\n",
                "    SELECT * FROM #PersonDetails\r\n",
                "END\r\n",
                "\r\n",
                "-- drop PROCEDURE spCreateLocalTempTable"
            ],
            "metadata": {
                "azdata_cell_guid": "a37b54a2-64ca-49d5-8367-d30292f533c0",
                "language": "sql"
            },
            "outputs": [
                {
                    "output_type": "display_data",
                    "data": {
                        "text/html": "Commands completed successfully."
                    },
                    "metadata": {}
                },
                {
                    "output_type": "display_data",
                    "data": {
                        "text/html": "Total execution time: 00:00:00.005"
                    },
                    "metadata": {}
                }
            ],
            "execution_count": 9
        },
        {
            "cell_type": "code",
            "source": [
                "EXEC spCreateLocalTempTable"
            ],
            "metadata": {
                "azdata_cell_guid": "8d47b603-f7f9-45a7-90b9-6424e9041342",
                "language": "sql"
            },
            "outputs": [
                {
                    "output_type": "display_data",
                    "data": {
                        "text/html": "(1 row affected)"
                    },
                    "metadata": {}
                },
                {
                    "output_type": "display_data",
                    "data": {
                        "text/html": "(1 row affected)"
                    },
                    "metadata": {}
                },
                {
                    "output_type": "display_data",
                    "data": {
                        "text/html": "(1 row affected)"
                    },
                    "metadata": {}
                },
                {
                    "output_type": "display_data",
                    "data": {
                        "text/html": "(3 rows affected)"
                    },
                    "metadata": {}
                },
                {
                    "output_type": "display_data",
                    "data": {
                        "text/html": "Total execution time: 00:00:00.012"
                    },
                    "metadata": {}
                },
                {
                    "output_type": "execute_result",
                    "metadata": {},
                    "execution_count": 10,
                    "data": {
                        "application/vnd.dataresource+json": {
                            "schema": {
                                "fields": [
                                    {
                                        "name": "Id"
                                    },
                                    {
                                        "name": "Name"
                                    }
                                ]
                            },
                            "data": [
                                {
                                    "Id": "1",
                                    "Name": "Mike"
                                },
                                {
                                    "Id": "2",
                                    "Name": "John"
                                },
                                {
                                    "Id": "3",
                                    "Name": "Todd"
                                }
                            ]
                        },
                        "text/html": [
                            "<table>",
                            "<tr><th>Id</th><th>Name</th></tr>",
                            "<tr><td>1</td><td>Mike</td></tr>",
                            "<tr><td>2</td><td>John</td></tr>",
                            "<tr><td>3</td><td>Todd</td></tr>",
                            "</table>"
                        ]
                    }
                }
            ],
            "execution_count": 10
        },
        {
            "cell_type": "code",
            "source": [
                "SELECT * FROM #PersonDetails"
            ],
            "metadata": {
                "azdata_cell_guid": "d11310b2-f588-458a-9c62-fce6e6eaa93a",
                "language": "sql"
            },
            "outputs": [
                {
                    "output_type": "error",
                    "evalue": "Msg 208, Level 16, State 0, Line 1\r\nInvalid object name '#PersonDetails'.",
                    "ename": "",
                    "traceback": []
                },
                {
                    "output_type": "display_data",
                    "data": {
                        "text/html": "Total execution time: 00:00:00.001"
                    },
                    "metadata": {}
                }
            ],
            "execution_count": 11
        },
        {
            "cell_type": "markdown",
            "source": [
                "## Global Temporary Tables\r\n",
                "    To create a global temp; table, prefix the name of the table with 2 pound(##) symbols.\r\n",
                "\r\n",
                "### Syntax\r\n",
                "    CREATE TABLE ##<table_name>\r\n",
                "\r\n",
                "***Global temp; tables are visible to all the connections*** of the sql server, and are only destroyed when the last connection referencing the table is closed.\r\n",
                "\r\n",
                "### Imp about the Global temp; table\r\n",
                "    1. Name must be unique\r\n",
                "    2. There will be no random numbers suffixed at the end of the table name."
            ],
            "metadata": {
                "azdata_cell_guid": "406078cc-1eed-4cf7-aa56-d40018706006"
            },
            "attachments": {}
        },
        {
            "cell_type": "markdown",
            "source": [
                "## Difference b/w Local and Global Temporary Tables\r\n",
                "1. Local Tmep tables are prefixed with single pound (3) symbol, where as global temp tables are prefixed with 2 pound (##) symbols.\r\n",
                "2. Sql server appends some random no.s at the end of the local temp table name, where this is not done for global temp table names.\r\n",
                "3. Local temp tables are only visible to that session of the SQL server which has created it, where as Global tmeporary tables are visible to all the SQL server sessions.\r\n",
                "4. Local temp; tables are automatically dropped, when the session that created the temp; table is closed, where as Global temp tables are destroyed when the last connection that is referencing the global temp table is closed."
            ],
            "metadata": {
                "azdata_cell_guid": "61eda2e2-46ad-4d8d-ba05-ed7914d09d5d"
            },
            "attachments": {}
        },
        {
            "cell_type": "markdown",
            "source": [
                "## Indexes in Sql Server\r\n",
                "* Indexed are used by queries to find data from tables quickly. Indexes are created on tables and views. Index on a table or a view, is very similar to an index that we find in a book.\r\n",
                "\r\n",
                "* If you don't have an index, and I ask you to locate a specific chapter in the book, you will have to look at every page starting from the first page of the book.\r\n",
                "* On, the other hand, if you have the index, you lookup the page number of the chapter in the index, and then directly go to that page number to locate the chapter.\r\n",
                "* Obviously, the book index is helping to drastically reduce the time it takes to find the chapter.\r\n",
                "* In a similar way, Table and View indexes, can help the query to find data quickly.\r\n",
                "* In fact, the existence of the right indexes, can drastically improve the performance of the query. If there is no index to help the query, then the query engine, checks every row in the table from the beginning to the end. This is called as Table Scan. Table scan is bad for performance.\r\n",
                "\r\n",
                "\r\n",
                "### Drop index\r\n",
                "    You can drop the index using the Drop command\r\n",
                "\r\n",
                "    ## Syntax\r\n",
                "        Drop Index <table_name>.<Index_name>\r\n",
                "\r\n",
                "\r\n",
                "### Get the list of indexes on the table\r\n",
                "\r\n",
                "    Command: sp_helpindex <table_name>"
            ],
            "metadata": {
                "azdata_cell_guid": "b7d65c6a-1eac-4f34-b895-998c73d1c7e7"
            },
            "attachments": {}
        },
        {
            "cell_type": "code",
            "source": [
                "CREATE INDEX IX_tblEmplooye_Salary ON tblEmployee (Salary ASC)"
            ],
            "metadata": {
                "azdata_cell_guid": "501cab90-7d3b-4d8c-9368-49f95ee63b71",
                "language": "sql"
            },
            "outputs": [
                {
                    "output_type": "display_data",
                    "data": {
                        "text/html": "Commands completed successfully."
                    },
                    "metadata": {}
                },
                {
                    "output_type": "display_data",
                    "data": {
                        "text/html": "Total execution time: 00:00:00.018"
                    },
                    "metadata": {}
                }
            ],
            "execution_count": 12
        },
        {
            "cell_type": "code",
            "source": [
                "sp_helpindex tblEmployee"
            ],
            "metadata": {
                "azdata_cell_guid": "2f133381-0307-4a13-a391-b29eac344b74",
                "language": "sql"
            },
            "outputs": [
                {
                    "output_type": "display_data",
                    "data": {
                        "text/html": "Commands completed successfully."
                    },
                    "metadata": {}
                },
                {
                    "output_type": "display_data",
                    "data": {
                        "text/html": "Total execution time: 00:00:00.055"
                    },
                    "metadata": {}
                },
                {
                    "output_type": "execute_result",
                    "metadata": {},
                    "execution_count": 13,
                    "data": {
                        "application/vnd.dataresource+json": {
                            "schema": {
                                "fields": [
                                    {
                                        "name": "index_name"
                                    },
                                    {
                                        "name": "index_description"
                                    },
                                    {
                                        "name": "index_keys"
                                    }
                                ]
                            },
                            "data": [
                                {
                                    "index_name": "IX_tblEmplooye_Salary",
                                    "index_description": "nonclustered located on PRIMARY",
                                    "index_keys": "Salary"
                                },
                                {
                                    "index_name": "PK__tblEmplo__3214EC27F6CC4227",
                                    "index_description": "clustered, unique, primary key located on PRIMARY",
                                    "index_keys": "ID"
                                }
                            ]
                        },
                        "text/html": [
                            "<table>",
                            "<tr><th>index_name</th><th>index_description</th><th>index_keys</th></tr>",
                            "<tr><td>IX_tblEmplooye_Salary</td><td>nonclustered located on PRIMARY</td><td>Salary</td></tr>",
                            "<tr><td>PK__tblEmplo__3214EC27F6CC4227</td><td>clustered, unique, primary key located on PRIMARY</td><td>ID</td></tr>",
                            "</table>"
                        ]
                    }
                }
            ],
            "execution_count": 13
        }
    ]
}