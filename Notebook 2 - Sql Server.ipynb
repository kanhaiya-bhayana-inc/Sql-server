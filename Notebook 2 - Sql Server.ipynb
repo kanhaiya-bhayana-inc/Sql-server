{
    "metadata": {
        "kernelspec": {
            "name": "SQL",
            "display_name": "SQL",
            "language": "sql"
        },
        "language_info": {
            "name": "sql",
            "version": ""
        }
    },
    "nbformat_minor": 2,
    "nbformat": 4,
    "cells": [
        {
            "cell_type": "markdown",
            "source": [
                "- ## Notebook 2 - Sql Server"
            ],
            "metadata": {
                "language": "sql",
                "azdata_cell_guid": "56aa53ef-8860-4292-8e69-ccafb0123cff"
            },
            "attachments": {}
        },
        {
            "cell_type": "markdown",
            "source": [
                "## Topics Covered in this notebook\r\n",
                "    1. Mostly used Built in string functions in sql server"
            ],
            "metadata": {
                "language": "sql",
                "azdata_cell_guid": "609ad7dd-8924-4f85-bb9a-078eab9334f7"
            },
            "attachments": {}
        },
        {
            "cell_type": "code",
            "source": [
                "Use kudvenkatdb_master;"
            ],
            "metadata": {
                "azdata_cell_guid": "6d737a65-efe4-4909-97db-d96f5e87851b",
                "language": "sql"
            },
            "outputs": [
                {
                    "output_type": "display_data",
                    "data": {
                        "text/html": "Commands completed successfully."
                    },
                    "metadata": {}
                },
                {
                    "output_type": "display_data",
                    "data": {
                        "text/html": "Total execution time: 00:00:00.001"
                    },
                    "metadata": {}
                }
            ],
            "execution_count": 2
        },
        {
            "cell_type": "markdown",
            "source": [
                "## Mostly used Built in string functions in sql server\n",
                "\n",
                "```\n",
                "1. ASCII(Character_Expression) - Returns the ASCII code of the given character.\n",
                "2. CHAR(Integer_Expression)  - Converts an int ASCII code to a character. The Integer_Expression, should be between 0 and 255.\n",
                "3. LTRIM(Character_Expression) - Removes blank on the left handside of the given character expression.\n",
                "4. RTRIM(Character_Expression) - Removes blank on the right handside of the given character expression.\n",
                "5. LOWER(Character_Expression) - Converts all the characters in the given Character_Expression, to lowercase letters.\n",
                "6. UPPER(Character_Expression) - Converts all the characters in the given Character_Expression, to uppercase letters.\n",
                "7. REVERSE('Any_String_Expression') - Reverse all the characters in the given string expression.\n",
                "8. LEN(String_Expression) - Returns the count of total characters, in the given string expression, excluding the blanks at the end of the expression.\n",
                "8. LEFT(string,no_of_chars) - The LEFT() function extracts a number of characters from a string (starting from left).\n",
                "\n",
                "```"
            ],
            "metadata": {
                "azdata_cell_guid": "58092d31-5452-46fb-8010-37927975abb4"
            },
            "attachments": {}
        },
        {
            "cell_type": "code",
            "source": [
                "SELECT ASCII('A')\r\n",
                "\r\n",
                "SELECT CHAR(65)\r\n",
                "\r\n",
                "DECLARE @Start INT, @Result NVARCHAR(100)\r\n",
                "Set @Start = 65\r\n",
                "SET @Result = ''\r\n",
                "WHILE (@Start <= 90)\r\n",
                "BEGIN\r\n",
                "    SET @Result = @Result +  CHAR(@Start) + ', '\r\n",
                "    SET @Start = @Start + 1\r\n",
                "END\r\n",
                "SET @Result = LEFT(@Result,LEN(@Result)-1)\r\n",
                "PRINT @Result"
            ],
            "metadata": {
                "azdata_cell_guid": "3af42c78-f729-4b0f-821d-7436eea61d11",
                "language": "sql"
            },
            "outputs": [
                {
                    "output_type": "display_data",
                    "data": {
                        "text/html": "A, B, C, D, E, F, G, H, I, J, K, L, M, N, O, P, Q, R, S, T, U, V, W, X, Y, Z"
                    },
                    "metadata": {}
                },
                {
                    "output_type": "display_data",
                    "data": {
                        "text/html": "Total execution time: 00:00:00.001"
                    },
                    "metadata": {}
                }
            ],
            "execution_count": 16
        }
    ]
}