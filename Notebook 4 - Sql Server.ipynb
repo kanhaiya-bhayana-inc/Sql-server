{
    "metadata": {
        "kernelspec": {
            "name": "SQL",
            "display_name": "SQL",
            "language": "sql"
        },
        "language_info": {
            "name": "sql",
            "version": ""
        }
    },
    "nbformat_minor": 2,
    "nbformat": 4,
    "cells": [
        {
            "cell_type": "markdown",
            "source": [
                "# Notebook - 4 - SQL Server\n",
                "\n",
                "### Topics Covered in this notebook\n",
                "\n",
                "1. Transactions in SQL Server\n",
                "2. Transactions ACID Test in SQL Server\n",
                "3. Subqueries in SQL Server\n",
                "4. Correlated Subquery in SQL Server"
            ],
            "metadata": {
                "azdata_cell_guid": "b4fdbc94-ed0b-42f8-a847-b030f6d0e689"
            },
            "attachments": {}
        },
        {
            "cell_type": "code",
            "source": [
                "USE kudvenkatdb_master;"
            ],
            "metadata": {
                "azdata_cell_guid": "3284d537-fc50-42a3-8372-3dc202508718",
                "language": "sql"
            },
            "outputs": [
                {
                    "output_type": "display_data",
                    "data": {
                        "text/html": "Commands completed successfully."
                    },
                    "metadata": {}
                },
                {
                    "output_type": "display_data",
                    "data": {
                        "text/html": "Total execution time: 00:00:00.016"
                    },
                    "metadata": {}
                }
            ],
            "execution_count": 1
        },
        {
            "cell_type": "code",
            "source": [
                "SELECT * FROM INFORMATION_SCHEMA.TABLES"
            ],
            "metadata": {
                "language": "sql",
                "azdata_cell_guid": "11029cae-2e18-4adf-90a6-958b6983bc78"
            },
            "outputs": [
                {
                    "output_type": "display_data",
                    "data": {
                        "text/html": "(27 rows affected)"
                    },
                    "metadata": {}
                },
                {
                    "output_type": "display_data",
                    "data": {
                        "text/html": "Total execution time: 00:00:00.065"
                    },
                    "metadata": {}
                },
                {
                    "output_type": "execute_result",
                    "execution_count": 5,
                    "data": {
                        "application/vnd.dataresource+json": {
                            "schema": {
                                "fields": [
                                    {
                                        "name": "TABLE_CATALOG"
                                    },
                                    {
                                        "name": "TABLE_SCHEMA"
                                    },
                                    {
                                        "name": "TABLE_NAME"
                                    },
                                    {
                                        "name": "TABLE_TYPE"
                                    }
                                ]
                            },
                            "data": [
                                {
                                    "TABLE_CATALOG": "KudvenkatDb_Master",
                                    "TABLE_SCHEMA": "dbo",
                                    "TABLE_NAME": "vwEmployeesByDepartment",
                                    "TABLE_TYPE": "VIEW"
                                },
                                {
                                    "TABLE_CATALOG": "KudvenkatDb_Master",
                                    "TABLE_SCHEMA": "dbo",
                                    "TABLE_NAME": "vwSummarizedData",
                                    "TABLE_TYPE": "VIEW"
                                },
                                {
                                    "TABLE_CATALOG": "KudvenkatDb_Master",
                                    "TABLE_SCHEMA": "dbo",
                                    "TABLE_NAME": "vwEmployeesDataExceptSalary",
                                    "TABLE_TYPE": "VIEW"
                                },
                                {
                                    "TABLE_CATALOG": "KudvenkatDb_Master",
                                    "TABLE_SCHEMA": "dbo",
                                    "TABLE_NAME": "tblProduct",
                                    "TABLE_TYPE": "BASE TABLE"
                                },
                                {
                                    "TABLE_CATALOG": "KudvenkatDb_Master",
                                    "TABLE_SCHEMA": "dbo",
                                    "TABLE_NAME": "tblProductSales",
                                    "TABLE_TYPE": "BASE TABLE"
                                },
                                {
                                    "TABLE_CATALOG": "KudvenkatDb_Master",
                                    "TABLE_SCHEMA": "dbo",
                                    "TABLE_NAME": "vwTotalSalesByproduct",
                                    "TABLE_TYPE": "VIEW"
                                },
                                {
                                    "TABLE_CATALOG": "KudvenkatDb_Master",
                                    "TABLE_SCHEMA": "dbo",
                                    "TABLE_NAME": "tblAudit",
                                    "TABLE_TYPE": "BASE TABLE"
                                },
                                {
                                    "TABLE_CATALOG": "KudvenkatDb_Master",
                                    "TABLE_SCHEMA": "dbo",
                                    "TABLE_NAME": "tblEmployeeManager",
                                    "TABLE_TYPE": "BASE TABLE"
                                },
                                {
                                    "TABLE_CATALOG": "KudvenkatDb_Master",
                                    "TABLE_SCHEMA": "dbo",
                                    "TABLE_NAME": "tblProductSales2",
                                    "TABLE_TYPE": "BASE TABLE"
                                },
                                {
                                    "TABLE_CATALOG": "KudvenkatDb_Master",
                                    "TABLE_SCHEMA": "dbo",
                                    "TABLE_NAME": "tblProductSales3",
                                    "TABLE_TYPE": "BASE TABLE"
                                },
                                {
                                    "TABLE_CATALOG": "KudvenkatDb_Master",
                                    "TABLE_SCHEMA": "dbo",
                                    "TABLE_NAME": "tblProduct2",
                                    "TABLE_TYPE": "BASE TABLE"
                                },
                                {
                                    "TABLE_CATALOG": "KudvenkatDb_Master",
                                    "TABLE_SCHEMA": "dbo",
                                    "TABLE_NAME": "tblProductSales22",
                                    "TABLE_TYPE": "BASE TABLE"
                                },
                                {
                                    "TABLE_CATALOG": "KudvenkatDb_Master",
                                    "TABLE_SCHEMA": "dbo",
                                    "TABLE_NAME": "tblPhysicalAddress",
                                    "TABLE_TYPE": "BASE TABLE"
                                },
                                {
                                    "TABLE_CATALOG": "KudvenkatDb_Master",
                                    "TABLE_SCHEMA": "dbo",
                                    "TABLE_NAME": "tblMailingAddress",
                                    "TABLE_TYPE": "BASE TABLE"
                                },
                                {
                                    "TABLE_CATALOG": "KudvenkatDb_Master",
                                    "TABLE_SCHEMA": "dbo",
                                    "TABLE_NAME": "tblGender",
                                    "TABLE_TYPE": "BASE TABLE"
                                },
                                {
                                    "TABLE_CATALOG": "KudvenkatDb_Master",
                                    "TABLE_SCHEMA": "dbo",
                                    "TABLE_NAME": "tblPerson",
                                    "TABLE_TYPE": "BASE TABLE"
                                },
                                {
                                    "TABLE_CATALOG": "KudvenkatDb_Master",
                                    "TABLE_SCHEMA": "dbo",
                                    "TABLE_NAME": "tblEmployee",
                                    "TABLE_TYPE": "BASE TABLE"
                                },
                                {
                                    "TABLE_CATALOG": "KudvenkatDb_Master",
                                    "TABLE_SCHEMA": "dbo",
                                    "TABLE_NAME": "tblProductsSQ",
                                    "TABLE_TYPE": "BASE TABLE"
                                },
                                {
                                    "TABLE_CATALOG": "KudvenkatDb_Master",
                                    "TABLE_SCHEMA": "dbo",
                                    "TABLE_NAME": "tblEmployee1",
                                    "TABLE_TYPE": "BASE TABLE"
                                },
                                {
                                    "TABLE_CATALOG": "KudvenkatDb_Master",
                                    "TABLE_SCHEMA": "dbo",
                                    "TABLE_NAME": "tblProductSalesSQ",
                                    "TABLE_TYPE": "BASE TABLE"
                                },
                                {
                                    "TABLE_CATALOG": "KudvenkatDb_Master",
                                    "TABLE_SCHEMA": "dbo",
                                    "TABLE_NAME": "tblDepartment",
                                    "TABLE_TYPE": "BASE TABLE"
                                },
                                {
                                    "TABLE_CATALOG": "KudvenkatDb_Master",
                                    "TABLE_SCHEMA": "dbo",
                                    "TABLE_NAME": "tblEmployee2",
                                    "TABLE_TYPE": "BASE TABLE"
                                },
                                {
                                    "TABLE_CATALOG": "KudvenkatDb_Master",
                                    "TABLE_SCHEMA": "dbo",
                                    "TABLE_NAME": "tblEmployee3",
                                    "TABLE_TYPE": "BASE TABLE"
                                },
                                {
                                    "TABLE_CATALOG": "KudvenkatDb_Master",
                                    "TABLE_SCHEMA": "dbo",
                                    "TABLE_NAME": "tblEmployee4",
                                    "TABLE_TYPE": "BASE TABLE"
                                },
                                {
                                    "TABLE_CATALOG": "KudvenkatDb_Master",
                                    "TABLE_SCHEMA": "dbo",
                                    "TABLE_NAME": "tblEmployee5",
                                    "TABLE_TYPE": "BASE TABLE"
                                },
                                {
                                    "TABLE_CATALOG": "KudvenkatDb_Master",
                                    "TABLE_SCHEMA": "dbo",
                                    "TABLE_NAME": "tblAGENTS",
                                    "TABLE_TYPE": "BASE TABLE"
                                },
                                {
                                    "TABLE_CATALOG": "KudvenkatDb_Master",
                                    "TABLE_SCHEMA": "dbo",
                                    "TABLE_NAME": "tblDateTime",
                                    "TABLE_TYPE": "BASE TABLE"
                                }
                            ]
                        },
                        "text/html": "<table><tr><th>TABLE_CATALOG</th><th>TABLE_SCHEMA</th><th>TABLE_NAME</th><th>TABLE_TYPE</th></tr><tr><td>KudvenkatDb_Master</td><td>dbo</td><td>vwEmployeesByDepartment</td><td>VIEW</td></tr><tr><td>KudvenkatDb_Master</td><td>dbo</td><td>vwSummarizedData</td><td>VIEW</td></tr><tr><td>KudvenkatDb_Master</td><td>dbo</td><td>vwEmployeesDataExceptSalary</td><td>VIEW</td></tr><tr><td>KudvenkatDb_Master</td><td>dbo</td><td>tblProduct</td><td>BASE TABLE</td></tr><tr><td>KudvenkatDb_Master</td><td>dbo</td><td>tblProductSales</td><td>BASE TABLE</td></tr><tr><td>KudvenkatDb_Master</td><td>dbo</td><td>vwTotalSalesByproduct</td><td>VIEW</td></tr><tr><td>KudvenkatDb_Master</td><td>dbo</td><td>tblAudit</td><td>BASE TABLE</td></tr><tr><td>KudvenkatDb_Master</td><td>dbo</td><td>tblEmployeeManager</td><td>BASE TABLE</td></tr><tr><td>KudvenkatDb_Master</td><td>dbo</td><td>tblProductSales2</td><td>BASE TABLE</td></tr><tr><td>KudvenkatDb_Master</td><td>dbo</td><td>tblProductSales3</td><td>BASE TABLE</td></tr><tr><td>KudvenkatDb_Master</td><td>dbo</td><td>tblProduct2</td><td>BASE TABLE</td></tr><tr><td>KudvenkatDb_Master</td><td>dbo</td><td>tblProductSales22</td><td>BASE TABLE</td></tr><tr><td>KudvenkatDb_Master</td><td>dbo</td><td>tblPhysicalAddress</td><td>BASE TABLE</td></tr><tr><td>KudvenkatDb_Master</td><td>dbo</td><td>tblMailingAddress</td><td>BASE TABLE</td></tr><tr><td>KudvenkatDb_Master</td><td>dbo</td><td>tblGender</td><td>BASE TABLE</td></tr><tr><td>KudvenkatDb_Master</td><td>dbo</td><td>tblPerson</td><td>BASE TABLE</td></tr><tr><td>KudvenkatDb_Master</td><td>dbo</td><td>tblEmployee</td><td>BASE TABLE</td></tr><tr><td>KudvenkatDb_Master</td><td>dbo</td><td>tblProductsSQ</td><td>BASE TABLE</td></tr><tr><td>KudvenkatDb_Master</td><td>dbo</td><td>tblEmployee1</td><td>BASE TABLE</td></tr><tr><td>KudvenkatDb_Master</td><td>dbo</td><td>tblProductSalesSQ</td><td>BASE TABLE</td></tr><tr><td>KudvenkatDb_Master</td><td>dbo</td><td>tblDepartment</td><td>BASE TABLE</td></tr><tr><td>KudvenkatDb_Master</td><td>dbo</td><td>tblEmployee2</td><td>BASE TABLE</td></tr><tr><td>KudvenkatDb_Master</td><td>dbo</td><td>tblEmployee3</td><td>BASE TABLE</td></tr><tr><td>KudvenkatDb_Master</td><td>dbo</td><td>tblEmployee4</td><td>BASE TABLE</td></tr><tr><td>KudvenkatDb_Master</td><td>dbo</td><td>tblEmployee5</td><td>BASE TABLE</td></tr><tr><td>KudvenkatDb_Master</td><td>dbo</td><td>tblAGENTS</td><td>BASE TABLE</td></tr><tr><td>KudvenkatDb_Master</td><td>dbo</td><td>tblDateTime</td><td>BASE TABLE</td></tr></table>"
                    },
                    "metadata": {}
                }
            ],
            "execution_count": 5
        },
        {
            "cell_type": "markdown",
            "source": [
                "## Transactions\r\n",
                "### What is a Transaction?\r\n",
                "A transaction is a group of commands that change the data stored in a database. A transaction, is treated as a single unit. A transaction ensures that, either all of the commands succeed, or none of them. If one of the commands in the transaction fails, all of the commands fail, and any data that was modified in the database is rolled back. In this way, transactions maintain the integrity of data in a database.\r\n",
                "\r\n",
                "**Transaction processing follows these steps:**\r\n",
                "1. Begin a transaction.\r\n",
                "2. Process database commands.\r\n",
                "3. Check for errors.\r\n",
                "\r\n",
                "        if errors occured,\r\n",
                "            rollback the transaction,\r\n",
                "        else\r\n",
                "            commit the transaction    \r\n",
                "**Note**: NOT able to see the un-committed changes\r\n",
                "\r\n",
                "***SET TRANSACTION ISOLATION LEVEL READ UNCOMMITTED***"
            ],
            "metadata": {
                "azdata_cell_guid": "1a70ff00-9056-40a8-8389-45391e7413f5"
            },
            "attachments": {}
        },
        {
            "cell_type": "code",
            "source": [
                "CREATE TABLE tblPhysicalAddress(\r\n",
                "    AddressId int PRIMARY key,\r\n",
                "    EmployeeNumber int,\r\n",
                "    HouseNumber NVARCHAR(30),\r\n",
                "    StreetAddress NVARCHAR(30),\r\n",
                "    City NVARCHAR(10)\r\n",
                ");\r\n",
                "\r\n",
                "CREATE TABLE tblMailingAddress(\r\n",
                "    AddressId int PRIMARY key,\r\n",
                "    EmployeeNumber int,\r\n",
                "    HouseNumber NVARCHAR(30),\r\n",
                "    StreetAddress NVARCHAR(30),\r\n",
                "    City NVARCHAR(10)\r\n",
                ");"
            ],
            "metadata": {
                "azdata_cell_guid": "7173d3ef-c9b5-44cd-b4c7-f1c3bbae7274",
                "language": "sql"
            },
            "outputs": [
                {
                    "output_type": "display_data",
                    "data": {
                        "text/html": "Commands completed successfully."
                    },
                    "metadata": {}
                },
                {
                    "output_type": "display_data",
                    "data": {
                        "text/html": "Total execution time: 00:00:00.023"
                    },
                    "metadata": {}
                }
            ],
            "execution_count": 2
        },
        {
            "cell_type": "code",
            "source": [
                "INSERT INTO tblMailingAddress VALUES(1,101,'#10','King Street','LONDOON')\r\n",
                "INSERT INTO tblPhysicalAddress VALUES(1,101,'#10','King Street','LONDOON')"
            ],
            "metadata": {
                "azdata_cell_guid": "6ad177e3-4c66-4f05-8089-05c75ea3604f",
                "language": "sql"
            },
            "outputs": [],
            "execution_count": null
        },
        {
            "cell_type": "code",
            "source": [
                "SELECT * FROM tblPhysicalAddress;\r\n",
                "SELECT * FROM tblMailingAddress;"
            ],
            "metadata": {
                "azdata_cell_guid": "3afc7f57-56e6-4b5b-abcf-13c270f320a8",
                "language": "sql"
            },
            "outputs": [
                {
                    "output_type": "display_data",
                    "data": {
                        "text/html": "(1 row affected)"
                    },
                    "metadata": {}
                },
                {
                    "output_type": "display_data",
                    "data": {
                        "text/html": "(1 row affected)"
                    },
                    "metadata": {}
                },
                {
                    "output_type": "display_data",
                    "data": {
                        "text/html": "Total execution time: 00:00:00.043"
                    },
                    "metadata": {}
                },
                {
                    "output_type": "execute_result",
                    "execution_count": 6,
                    "data": {
                        "application/vnd.dataresource+json": {
                            "schema": {
                                "fields": [
                                    {
                                        "name": "AddressId"
                                    },
                                    {
                                        "name": "EmployeeNumber"
                                    },
                                    {
                                        "name": "HouseNumber"
                                    },
                                    {
                                        "name": "StreetAddress"
                                    },
                                    {
                                        "name": "City"
                                    }
                                ]
                            },
                            "data": [
                                {
                                    "AddressId": "1",
                                    "EmployeeNumber": "101",
                                    "HouseNumber": "#10",
                                    "StreetAddress": "King Street",
                                    "City": "LONDOON"
                                }
                            ]
                        },
                        "text/html": "<table><tr><th>AddressId</th><th>EmployeeNumber</th><th>HouseNumber</th><th>StreetAddress</th><th>City</th></tr><tr><td>1</td><td>101</td><td>#10</td><td>King Street</td><td>LONDOON</td></tr></table>"
                    },
                    "metadata": {}
                },
                {
                    "output_type": "execute_result",
                    "execution_count": 6,
                    "data": {
                        "application/vnd.dataresource+json": {
                            "schema": {
                                "fields": [
                                    {
                                        "name": "AddressId"
                                    },
                                    {
                                        "name": "EmployeeNumber"
                                    },
                                    {
                                        "name": "HouseNumber"
                                    },
                                    {
                                        "name": "StreetAddress"
                                    },
                                    {
                                        "name": "City"
                                    }
                                ]
                            },
                            "data": [
                                {
                                    "AddressId": "1",
                                    "EmployeeNumber": "101",
                                    "HouseNumber": "#10",
                                    "StreetAddress": "King Street",
                                    "City": "LONDOON"
                                }
                            ]
                        },
                        "text/html": "<table><tr><th>AddressId</th><th>EmployeeNumber</th><th>HouseNumber</th><th>StreetAddress</th><th>City</th></tr><tr><td>1</td><td>101</td><td>#10</td><td>King Street</td><td>LONDOON</td></tr></table>"
                    },
                    "metadata": {}
                }
            ],
            "execution_count": 6
        },
        {
            "cell_type": "code",
            "source": [
                "-- create a stored procedure for updating the City Column\r\n",
                "\r\n",
                "CREATE PROCEDURE spUpdateAddress\r\n",
                "as\r\n",
                "BEGIN\r\n",
                "    BEGIN TRY\r\n",
                "        BEGIN TRANSACTION\r\n",
                "            UPDATE tblPhysicalAddress SET City = 'London' WHERE AddressId = 1 -- first updating statement\r\n",
                "\r\n",
                "            UPDATE tblMailingAddress SET City = 'London' WHERE AddressId = 1 -- 2nd updating statement\r\n",
                "        COMMIT TRANSACTION\r\n",
                "        PRINT 'Transaction Committed'\r\n",
                "    END TRY\r\n",
                "    BEGIN CATCH\r\n",
                "        ROLLBACK TRANSACTION\r\n",
                "        PRINT 'Transaction Rolled Back'\r\n",
                "    END CATCH\r\n",
                "END\r\n",
                ""
            ],
            "metadata": {
                "azdata_cell_guid": "7306e43b-f0be-40e8-a328-cdfcd8ad71c1",
                "language": "sql"
            },
            "outputs": [
                {
                    "output_type": "display_data",
                    "data": {
                        "text/html": "Commands completed successfully."
                    },
                    "metadata": {}
                },
                {
                    "output_type": "display_data",
                    "data": {
                        "text/html": "Total execution time: 00:00:00.006"
                    },
                    "metadata": {}
                }
            ],
            "execution_count": 7
        },
        {
            "cell_type": "code",
            "source": [
                "EXEC spUpdateAddress"
            ],
            "metadata": {
                "azdata_cell_guid": "e5092f7f-8d88-4ad7-bfb3-f4912658237b",
                "language": "sql"
            },
            "outputs": [
                {
                    "output_type": "display_data",
                    "data": {
                        "text/html": "(1 row affected)"
                    },
                    "metadata": {}
                },
                {
                    "output_type": "display_data",
                    "data": {
                        "text/html": "(1 row affected)"
                    },
                    "metadata": {}
                },
                {
                    "output_type": "display_data",
                    "data": {
                        "text/html": "Transaction Committed"
                    },
                    "metadata": {}
                },
                {
                    "output_type": "display_data",
                    "data": {
                        "text/html": "Total execution time: 00:00:00.010"
                    },
                    "metadata": {}
                }
            ],
            "execution_count": 8
        },
        {
            "cell_type": "code",
            "source": [
                "SELECT * FROM tblPhysicalAddress;\r\n",
                "SELECT * FROM tblMailingAddress;"
            ],
            "metadata": {
                "azdata_cell_guid": "a604b715-03f5-47ab-8481-17a6adc0e390",
                "language": "sql"
            },
            "outputs": [
                {
                    "output_type": "display_data",
                    "data": {
                        "text/html": "(1 row affected)"
                    },
                    "metadata": {}
                },
                {
                    "output_type": "display_data",
                    "data": {
                        "text/html": "(1 row affected)"
                    },
                    "metadata": {}
                },
                {
                    "output_type": "display_data",
                    "data": {
                        "text/html": "Total execution time: 00:00:00.020"
                    },
                    "metadata": {}
                },
                {
                    "output_type": "execute_result",
                    "execution_count": 9,
                    "data": {
                        "application/vnd.dataresource+json": {
                            "schema": {
                                "fields": [
                                    {
                                        "name": "AddressId"
                                    },
                                    {
                                        "name": "EmployeeNumber"
                                    },
                                    {
                                        "name": "HouseNumber"
                                    },
                                    {
                                        "name": "StreetAddress"
                                    },
                                    {
                                        "name": "City"
                                    }
                                ]
                            },
                            "data": [
                                {
                                    "AddressId": "1",
                                    "EmployeeNumber": "101",
                                    "HouseNumber": "#10",
                                    "StreetAddress": "King Street",
                                    "City": "London"
                                }
                            ]
                        },
                        "text/html": "<table><tr><th>AddressId</th><th>EmployeeNumber</th><th>HouseNumber</th><th>StreetAddress</th><th>City</th></tr><tr><td>1</td><td>101</td><td>#10</td><td>King Street</td><td>London</td></tr></table>"
                    },
                    "metadata": {}
                },
                {
                    "output_type": "execute_result",
                    "execution_count": 9,
                    "data": {
                        "application/vnd.dataresource+json": {
                            "schema": {
                                "fields": [
                                    {
                                        "name": "AddressId"
                                    },
                                    {
                                        "name": "EmployeeNumber"
                                    },
                                    {
                                        "name": "HouseNumber"
                                    },
                                    {
                                        "name": "StreetAddress"
                                    },
                                    {
                                        "name": "City"
                                    }
                                ]
                            },
                            "data": [
                                {
                                    "AddressId": "1",
                                    "EmployeeNumber": "101",
                                    "HouseNumber": "#10",
                                    "StreetAddress": "King Street",
                                    "City": "London"
                                }
                            ]
                        },
                        "text/html": "<table><tr><th>AddressId</th><th>EmployeeNumber</th><th>HouseNumber</th><th>StreetAddress</th><th>City</th></tr><tr><td>1</td><td>101</td><td>#10</td><td>King Street</td><td>London</td></tr></table>"
                    },
                    "metadata": {}
                }
            ],
            "execution_count": 9
        },
        {
            "cell_type": "code",
            "source": [
                "-- here we intentionally added the error to watch the status as  'Transaction Rolled Back'\r\n",
                "ALTER PROCEDURE spUpdateAddress\r\n",
                "as\r\n",
                "BEGIN\r\n",
                "    BEGIN TRY\r\n",
                "        BEGIN TRANSACTION\r\n",
                "            UPDATE tblPhysicalAddress SET City = 'London' WHERE AddressId = 1 -- first updating statement\r\n",
                "\r\n",
                "            UPDATE tblMailingAddress SET City = 'London LONDON' WHERE AddressId = 1 -- 2nd updating statement\r\n",
                "        COMMIT TRANSACTION\r\n",
                "        PRINT 'Transaction Committed'\r\n",
                "    END TRY\r\n",
                "    BEGIN CATCH\r\n",
                "        ROLLBACK TRANSACTION\r\n",
                "        PRINT 'Transaction Rolled Back'\r\n",
                "    END CATCH\r\n",
                "END"
            ],
            "metadata": {
                "azdata_cell_guid": "0c417a6e-5864-4cd0-b9fb-c6b414624fd7",
                "language": "sql",
                "tags": []
            },
            "outputs": [
                {
                    "output_type": "display_data",
                    "data": {
                        "text/html": "Commands completed successfully."
                    },
                    "metadata": {}
                },
                {
                    "output_type": "display_data",
                    "data": {
                        "text/html": "Total execution time: 00:00:00.026"
                    },
                    "metadata": {}
                }
            ],
            "execution_count": 10
        },
        {
            "cell_type": "code",
            "source": [
                "EXEC spUpdateAddress"
            ],
            "metadata": {
                "azdata_cell_guid": "509aabc2-b025-4e60-a055-36a167ec0ec9",
                "language": "sql"
            },
            "outputs": [
                {
                    "output_type": "display_data",
                    "data": {
                        "text/html": "(1 row affected)"
                    },
                    "metadata": {}
                },
                {
                    "output_type": "display_data",
                    "data": {
                        "text/html": "(0 rows affected)"
                    },
                    "metadata": {}
                },
                {
                    "output_type": "display_data",
                    "data": {
                        "text/html": "Transaction Rolled Back"
                    },
                    "metadata": {}
                },
                {
                    "output_type": "display_data",
                    "data": {
                        "text/html": "Total execution time: 00:00:00.009"
                    },
                    "metadata": {}
                }
            ],
            "execution_count": 11
        },
        {
            "cell_type": "markdown",
            "source": [
                "## Transaction ACID Test\r\n",
                "\r\n",
                "**A transaction is a group of database commands that are treated as a single unit.** A successful transaction must pass the \"ACID\" test, that is, it must be\r\n",
                "\r\n",
                "\r\n",
                "**Atomic**-All statements in the transaction either completed successfully or they were all rolled back. The task that the set of operations represents is either accomplished or not, but in any case not left half-done.\r\n",
                "\r\n",
                "\r\n",
                "**Consistent** - All data touched by the transaction is left in a logically consistent state. For example, if stock available numbers are decremented from tblProductTable, then, there has to be a related entry in tblProductSales table. The inventory can't just disappear.\r\n",
                "\r\n",
                "**Isolated:** The transaction must affect data without interfering with other concurrent transactions, or being interfered with by them. This prevents transactions from making changes to data based on uncommitted information, for example changes to a record that are subsequently rolled back. Most databases use locking to maintain transaction isolation.\r\n",
                "\r\n",
                "\r\n",
                "**Durable:** Once a change is made, it is permanent. If a system error or power failure occurs before a set of commands is complete, those commands are undone and the data is restored to its original state once the system begins running again."
            ],
            "metadata": {
                "azdata_cell_guid": "46dc57be-af64-4021-af4c-592684410aca"
            },
            "attachments": {}
        },
        {
            "cell_type": "markdown",
            "source": [
                "## Subqueries\r\n",
                "     A subquery is simply a select statement, that returns a single value and can be nested inside a SELECT, UPDATE, INSERT, or DELETE statement. It is also possible to nest a subquery inside another subquery. According to MSDN, subqueries can be nested upto 32 levels.\r\n",
                "\r\n",
                "     Subqueries are always encolsed in paranthesis and are also called as inner queries, and the query containing the subquery is called as outer query. The columns from a table that is present only inside a subquery, cannot be used in the SELECT list of the outer query."
            ],
            "metadata": {
                "azdata_cell_guid": "3ffcf218-1c16-4857-81c5-390bb501cb5c"
            },
            "attachments": {}
        },
        {
            "cell_type": "code",
            "source": [
                "Create Table tblProductsSQ\r\n",
                "(\r\n",
                " [Id] int identity primary key,\r\n",
                " [Name] nvarchar(50),\r\n",
                " [Description] nvarchar(250)\r\n",
                ")\r\n",
                "\r\n",
                "Create Table tblProductSalesSQ\r\n",
                "(\r\n",
                " Id int primary key identity,\r\n",
                " ProductId int foreign key references tblProductsSQ(Id),\r\n",
                " UnitPrice int,\r\n",
                " QuantitySold int\r\n",
                ")"
            ],
            "metadata": {
                "azdata_cell_guid": "aa080da4-e5de-46cb-81e8-13045b36c308",
                "language": "sql"
            },
            "outputs": [
                {
                    "output_type": "display_data",
                    "data": {
                        "text/html": "Commands completed successfully."
                    },
                    "metadata": {}
                },
                {
                    "output_type": "display_data",
                    "data": {
                        "text/html": "Total execution time: 00:00:00.004"
                    },
                    "metadata": {}
                }
            ],
            "execution_count": 2
        },
        {
            "cell_type": "code",
            "source": [
                "Insert into tblProductsSQ values ('TV', '52 inch black color LCD TV')\r\n",
                "Insert into tblProductsSQ values ('Laptop', 'Very thin black color acer laptop')\r\n",
                "Insert into tblProductsSQ values ('Desktop', 'HP high performance desktop')\r\n",
                "\r\n",
                "Insert into tblProductSalesSQ values(3, 450, 5)\r\n",
                "Insert into tblProductSalesSQ values(2, 250, 7)\r\n",
                "Insert into tblProductSalesSQ values(3, 450, 4)\r\n",
                "Insert into tblProductSalesSQ values(3, 450, 9)"
            ],
            "metadata": {
                "azdata_cell_guid": "7fadd3a9-7214-4afa-b112-16fe317477bf",
                "language": "sql"
            },
            "outputs": [],
            "execution_count": null
        },
        {
            "cell_type": "code",
            "source": [
                "-- Write a query to retrieve products that are not at all sold?\r\n",
                "SELECT Id, [Name], [Description]\r\n",
                "FROM\ttblProductsSQ\r\n",
                "WHERE Id NOT IN (SELECT ProductId FROM tblProductSalesSQ)\r\n",
                "\r\n",
                "\r\n",
                "-- Most of the times subqueries can be very easily replaced with joins. \r\n",
                "-- The above query is rewritten using joins and produces the same results. \r\n",
                "\r\n",
                "SELECT tP.Id, tP.Name, tP.Description\r\n",
                "FROM tblProductsSQ AS tP\r\n",
                "LEFT JOIN tblProductSalesSQ as tS\r\n",
                "ON tS.ProductId = tP.Id\r\n",
                "WHERE tS.ProductId IS NULL"
            ],
            "metadata": {
                "azdata_cell_guid": "05a3bb6d-717b-45a8-acb9-a778a9016834",
                "language": "sql"
            },
            "outputs": [
                {
                    "output_type": "display_data",
                    "data": {
                        "text/html": "(1 row affected)"
                    },
                    "metadata": {}
                },
                {
                    "output_type": "display_data",
                    "data": {
                        "text/html": "(1 row affected)"
                    },
                    "metadata": {}
                },
                {
                    "output_type": "display_data",
                    "data": {
                        "text/html": "Total execution time: 00:00:00.069"
                    },
                    "metadata": {}
                },
                {
                    "output_type": "execute_result",
                    "execution_count": 4,
                    "data": {
                        "application/vnd.dataresource+json": {
                            "schema": {
                                "fields": [
                                    {
                                        "name": "Id"
                                    },
                                    {
                                        "name": "Name"
                                    },
                                    {
                                        "name": "Description"
                                    }
                                ]
                            },
                            "data": [
                                {
                                    "Id": "1",
                                    "Name": "TV",
                                    "Description": "52 inch black color LCD TV"
                                }
                            ]
                        },
                        "text/html": "<table><tr><th>Id</th><th>Name</th><th>Description</th></tr><tr><td>1</td><td>TV</td><td>52 inch black color LCD TV</td></tr></table>"
                    },
                    "metadata": {}
                },
                {
                    "output_type": "execute_result",
                    "execution_count": 4,
                    "data": {
                        "application/vnd.dataresource+json": {
                            "schema": {
                                "fields": [
                                    {
                                        "name": "Id"
                                    },
                                    {
                                        "name": "Name"
                                    },
                                    {
                                        "name": "Description"
                                    }
                                ]
                            },
                            "data": [
                                {
                                    "Id": "1",
                                    "Name": "TV",
                                    "Description": "52 inch black color LCD TV"
                                }
                            ]
                        },
                        "text/html": "<table><tr><th>Id</th><th>Name</th><th>Description</th></tr><tr><td>1</td><td>TV</td><td>52 inch black color LCD TV</td></tr></table>"
                    },
                    "metadata": {}
                }
            ],
            "execution_count": 4
        },
        {
            "cell_type": "code",
            "source": [
                "-- Let us now discuss about using a sub query in the SELECT clause. \r\n",
                "-- Write a query to retrieve the NAME and TOTALQUANTITY sold, using a subquery.\r\n",
                "\r\n",
                "SELECT [Name], (SELECT SUM(QuantitySold) from tblProductSalesSQ WHERE ProductId = tblProductsSQ.Id) as TotalQuntySold\r\n",
                "FROM tblProductsSQ ORDER BY NAME\r\n",
                "\r\n",
                "-- Query with an equivalent join that produces the same result.\r\n",
                "\r\n",
                "SELECT [Name], SUM(tS.QuantitySold) as TotalQntySold\r\n",
                "from tblProductsSQ as tP\r\n",
                "Left Join tblProductSalesSQ as tS\r\n",
                "on tP.Id = tS.ProductId\r\n",
                "group by tP.Name"
            ],
            "metadata": {
                "azdata_cell_guid": "b95742cc-3287-4ce1-87f3-8d39205d2d5e",
                "language": "sql"
            },
            "outputs": [
                {
                    "output_type": "display_data",
                    "data": {
                        "text/html": "(3 rows affected)"
                    },
                    "metadata": {}
                },
                {
                    "output_type": "display_data",
                    "data": {
                        "text/html": "Warning: Null value is eliminated by an aggregate or other SET operation."
                    },
                    "metadata": {}
                },
                {
                    "output_type": "display_data",
                    "data": {
                        "text/html": "(3 rows affected)"
                    },
                    "metadata": {}
                },
                {
                    "output_type": "display_data",
                    "data": {
                        "text/html": "Total execution time: 00:00:00.015"
                    },
                    "metadata": {}
                },
                {
                    "output_type": "execute_result",
                    "execution_count": 5,
                    "data": {
                        "application/vnd.dataresource+json": {
                            "schema": {
                                "fields": [
                                    {
                                        "name": "Name"
                                    },
                                    {
                                        "name": "TotalQuntySold"
                                    }
                                ]
                            },
                            "data": [
                                {
                                    "Name": "Desktop",
                                    "TotalQuntySold": "18"
                                },
                                {
                                    "Name": "Laptop",
                                    "TotalQuntySold": "7"
                                },
                                {
                                    "Name": "TV",
                                    "TotalQuntySold": "NULL"
                                }
                            ]
                        },
                        "text/html": "<table><tr><th>Name</th><th>TotalQuntySold</th></tr><tr><td>Desktop</td><td>18</td></tr><tr><td>Laptop</td><td>7</td></tr><tr><td>TV</td><td>NULL</td></tr></table>"
                    },
                    "metadata": {}
                },
                {
                    "output_type": "execute_result",
                    "execution_count": 5,
                    "data": {
                        "application/vnd.dataresource+json": {
                            "schema": {
                                "fields": [
                                    {
                                        "name": "Name"
                                    },
                                    {
                                        "name": "TotalQntySold"
                                    }
                                ]
                            },
                            "data": [
                                {
                                    "Name": "Desktop",
                                    "TotalQntySold": "18"
                                },
                                {
                                    "Name": "Laptop",
                                    "TotalQntySold": "7"
                                },
                                {
                                    "Name": "TV",
                                    "TotalQntySold": "NULL"
                                }
                            ]
                        },
                        "text/html": "<table><tr><th>Name</th><th>TotalQntySold</th></tr><tr><td>Desktop</td><td>18</td></tr><tr><td>Laptop</td><td>7</td></tr><tr><td>TV</td><td>NULL</td></tr></table>"
                    },
                    "metadata": {}
                }
            ],
            "execution_count": 5
        },
        {
            "cell_type": "markdown",
            "source": [
                "## Correlated Subquery\r\n",
                "**If the subquery depends on the outer query for its values,** then that sub query is called as a correlated subquery.\r\n",
                "\r\n",
                "**In the where clause of the subquery below,** \"ProductId\" column get it's value from tblProductsSQ table that is present in the outer query.\r\n",
                "    \r\n",
                "    SELECT [Name], (SELECT SUM(QuantitySold) from tblProductSalesSQ WHERE ProductId = tblProductsSQ.Id) as TotalQuntySold FROM tblProductsSQ ORDER BY NAME\r\n",
                "\r\n",
                "**So, here the subquery is dependent on the outer query for it's value,** hence this subquery is a correlated subquery. \r\n",
                "\r\n",
                "**Correlated subqueries get executed,** once for every row that is selected by the outer query. \r\n",
                "\r\n",
                "**Corelated subquery**, cannot be executed independently of the outer query."
            ],
            "metadata": {
                "azdata_cell_guid": "bafae83f-6cb0-4683-b7b6-2a733b27abe4"
            },
            "attachments": {}
        },
        {
            "cell_type": "markdown",
            "source": [
                "## Inserting Large amount of data for performance testing"
            ],
            "metadata": {
                "azdata_cell_guid": "7b12c7cf-fb7e-422c-ba0d-ed68210f2de8"
            },
            "attachments": {}
        },
        {
            "cell_type": "code",
            "source": [
                "DROP VIEW vwTotalSalesByproduct"
            ],
            "metadata": {
                "azdata_cell_guid": "5500d69c-3e14-4597-981c-57732d36e4f0",
                "language": "sql"
            },
            "outputs": [
                {
                    "output_type": "display_data",
                    "data": {
                        "text/html": "Commands completed successfully."
                    },
                    "metadata": {}
                },
                {
                    "output_type": "display_data",
                    "data": {
                        "text/html": "Total execution time: 00:00:00.023"
                    },
                    "metadata": {}
                }
            ],
            "execution_count": 9
        },
        {
            "cell_type": "code",
            "source": [
                "IF (EXISTS (SELECT * FROM INFORMATION_SCHEMA.TABLES WHERE TABLE_NAME = 'tblProductSales'))\r\n",
                "BEGIN\r\n",
                "    drop TABLE tblProductSales\r\n",
                "END\r\n",
                "\r\n",
                "IF (EXISTS (SELECT * FROM INFORMATION_SCHEMA.TABLES WHERE TABLE_NAME = 'tblProducts'))\r\n",
                "BEGIN\r\n",
                "    drop TABLE tblProducts\r\n",
                "END"
            ],
            "metadata": {
                "azdata_cell_guid": "979018ff-3b29-4772-8030-e8815cc7ec95",
                "language": "sql"
            },
            "outputs": [
                {
                    "output_type": "display_data",
                    "data": {
                        "text/html": "Commands completed successfully."
                    },
                    "metadata": {}
                },
                {
                    "output_type": "display_data",
                    "data": {
                        "text/html": "Total execution time: 00:00:00.006"
                    },
                    "metadata": {}
                }
            ],
            "execution_count": 12
        },
        {
            "cell_type": "code",
            "source": [
                "CREATE TABLE tblProducts(\r\n",
                "    Id int IDENTITY PRIMARY KEY,\r\n",
                "    Name NVARCHAR(50),\r\n",
                "    DESCRIPTION NVARCHAR(250)\r\n",
                ");\r\n",
                "\r\n",
                "CREATE TABLE tblProductSales(\r\n",
                "    Id int PRIMARY KEY IDENTITY,\r\n",
                "    ProductId int FOREIGN KEY REFERENCES tblProducts(Id),\r\n",
                "    UnitPrice INT,\r\n",
                "    QuantitySold INT\r\n",
                ");"
            ],
            "metadata": {
                "azdata_cell_guid": "9de21e89-874c-4755-a9bc-7c688e4d00fb",
                "language": "sql"
            },
            "outputs": [
                {
                    "output_type": "display_data",
                    "data": {
                        "text/html": "Commands completed successfully."
                    },
                    "metadata": {}
                },
                {
                    "output_type": "display_data",
                    "data": {
                        "text/html": "Total execution time: 00:00:00.015"
                    },
                    "metadata": {}
                }
            ],
            "execution_count": 13
        },
        {
            "cell_type": "markdown",
            "source": [
                "Insert Sample data into tblProducts table"
            ],
            "metadata": {
                "azdata_cell_guid": "008693cf-02e8-4b8f-80c1-1ff5bc531ec9"
            },
            "attachments": {}
        },
        {
            "cell_type": "code",
            "source": [
                "Declare @Id INT\r\n",
                "Set @Id = 1\r\n",
                "\r\n",
                "WHILE(@Id <= 50)\r\n",
                "BEGIN\r\n",
                "    Insert into tblProducts values ('Product - ' + CAST(@Id as nvarchar(20)),\r\n",
                "                                    'Product - ' + CAST(@Id as nvarchar(20)) + ' Description')\r\n",
                "    --PRINT @Id\r\n",
                "    Set @Id = @Id + 1\r\n",
                "END"
            ],
            "metadata": {
                "azdata_cell_guid": "836790ed-380d-4190-bf36-96ab50cba507",
                "language": "sql"
            },
            "outputs": [
                {
                    "output_type": "display_data",
                    "data": {
                        "text/html": "(1 row affected)"
                    },
                    "metadata": {}
                },
                {
                    "output_type": "display_data",
                    "data": {
                        "text/html": "(1 row affected)"
                    },
                    "metadata": {}
                },
                {
                    "output_type": "display_data",
                    "data": {
                        "text/html": "(1 row affected)"
                    },
                    "metadata": {}
                },
                {
                    "output_type": "display_data",
                    "data": {
                        "text/html": "(1 row affected)"
                    },
                    "metadata": {}
                },
                {
                    "output_type": "display_data",
                    "data": {
                        "text/html": "(1 row affected)"
                    },
                    "metadata": {}
                },
                {
                    "output_type": "display_data",
                    "data": {
                        "text/html": "(1 row affected)"
                    },
                    "metadata": {}
                },
                {
                    "output_type": "display_data",
                    "data": {
                        "text/html": "(1 row affected)"
                    },
                    "metadata": {}
                },
                {
                    "output_type": "display_data",
                    "data": {
                        "text/html": "(1 row affected)"
                    },
                    "metadata": {}
                },
                {
                    "output_type": "display_data",
                    "data": {
                        "text/html": "(1 row affected)"
                    },
                    "metadata": {}
                },
                {
                    "output_type": "display_data",
                    "data": {
                        "text/html": "(1 row affected)"
                    },
                    "metadata": {}
                },
                {
                    "output_type": "display_data",
                    "data": {
                        "text/html": "(1 row affected)"
                    },
                    "metadata": {}
                },
                {
                    "output_type": "display_data",
                    "data": {
                        "text/html": "(1 row affected)"
                    },
                    "metadata": {}
                },
                {
                    "output_type": "display_data",
                    "data": {
                        "text/html": "(1 row affected)"
                    },
                    "metadata": {}
                },
                {
                    "output_type": "display_data",
                    "data": {
                        "text/html": "(1 row affected)"
                    },
                    "metadata": {}
                },
                {
                    "output_type": "display_data",
                    "data": {
                        "text/html": "(1 row affected)"
                    },
                    "metadata": {}
                },
                {
                    "output_type": "display_data",
                    "data": {
                        "text/html": "(1 row affected)"
                    },
                    "metadata": {}
                },
                {
                    "output_type": "display_data",
                    "data": {
                        "text/html": "(1 row affected)"
                    },
                    "metadata": {}
                },
                {
                    "output_type": "display_data",
                    "data": {
                        "text/html": "(1 row affected)"
                    },
                    "metadata": {}
                },
                {
                    "output_type": "display_data",
                    "data": {
                        "text/html": "(1 row affected)"
                    },
                    "metadata": {}
                },
                {
                    "output_type": "display_data",
                    "data": {
                        "text/html": "(1 row affected)"
                    },
                    "metadata": {}
                },
                {
                    "output_type": "display_data",
                    "data": {
                        "text/html": "(1 row affected)"
                    },
                    "metadata": {}
                },
                {
                    "output_type": "display_data",
                    "data": {
                        "text/html": "(1 row affected)"
                    },
                    "metadata": {}
                },
                {
                    "output_type": "display_data",
                    "data": {
                        "text/html": "(1 row affected)"
                    },
                    "metadata": {}
                },
                {
                    "output_type": "display_data",
                    "data": {
                        "text/html": "(1 row affected)"
                    },
                    "metadata": {}
                },
                {
                    "output_type": "display_data",
                    "data": {
                        "text/html": "(1 row affected)"
                    },
                    "metadata": {}
                },
                {
                    "output_type": "display_data",
                    "data": {
                        "text/html": "(1 row affected)"
                    },
                    "metadata": {}
                },
                {
                    "output_type": "display_data",
                    "data": {
                        "text/html": "(1 row affected)"
                    },
                    "metadata": {}
                },
                {
                    "output_type": "display_data",
                    "data": {
                        "text/html": "(1 row affected)"
                    },
                    "metadata": {}
                },
                {
                    "output_type": "display_data",
                    "data": {
                        "text/html": "(1 row affected)"
                    },
                    "metadata": {}
                },
                {
                    "output_type": "display_data",
                    "data": {
                        "text/html": "(1 row affected)"
                    },
                    "metadata": {}
                },
                {
                    "output_type": "display_data",
                    "data": {
                        "text/html": "(1 row affected)"
                    },
                    "metadata": {}
                },
                {
                    "output_type": "display_data",
                    "data": {
                        "text/html": "(1 row affected)"
                    },
                    "metadata": {}
                },
                {
                    "output_type": "display_data",
                    "data": {
                        "text/html": "(1 row affected)"
                    },
                    "metadata": {}
                },
                {
                    "output_type": "display_data",
                    "data": {
                        "text/html": "(1 row affected)"
                    },
                    "metadata": {}
                },
                {
                    "output_type": "display_data",
                    "data": {
                        "text/html": "(1 row affected)"
                    },
                    "metadata": {}
                },
                {
                    "output_type": "display_data",
                    "data": {
                        "text/html": "(1 row affected)"
                    },
                    "metadata": {}
                },
                {
                    "output_type": "display_data",
                    "data": {
                        "text/html": "(1 row affected)"
                    },
                    "metadata": {}
                },
                {
                    "output_type": "display_data",
                    "data": {
                        "text/html": "(1 row affected)"
                    },
                    "metadata": {}
                },
                {
                    "output_type": "display_data",
                    "data": {
                        "text/html": "(1 row affected)"
                    },
                    "metadata": {}
                },
                {
                    "output_type": "display_data",
                    "data": {
                        "text/html": "(1 row affected)"
                    },
                    "metadata": {}
                },
                {
                    "output_type": "display_data",
                    "data": {
                        "text/html": "(1 row affected)"
                    },
                    "metadata": {}
                },
                {
                    "output_type": "display_data",
                    "data": {
                        "text/html": "(1 row affected)"
                    },
                    "metadata": {}
                },
                {
                    "output_type": "display_data",
                    "data": {
                        "text/html": "(1 row affected)"
                    },
                    "metadata": {}
                },
                {
                    "output_type": "display_data",
                    "data": {
                        "text/html": "(1 row affected)"
                    },
                    "metadata": {}
                },
                {
                    "output_type": "display_data",
                    "data": {
                        "text/html": "(1 row affected)"
                    },
                    "metadata": {}
                },
                {
                    "output_type": "display_data",
                    "data": {
                        "text/html": "(1 row affected)"
                    },
                    "metadata": {}
                },
                {
                    "output_type": "display_data",
                    "data": {
                        "text/html": "(1 row affected)"
                    },
                    "metadata": {}
                },
                {
                    "output_type": "display_data",
                    "data": {
                        "text/html": "(1 row affected)"
                    },
                    "metadata": {}
                },
                {
                    "output_type": "display_data",
                    "data": {
                        "text/html": "(1 row affected)"
                    },
                    "metadata": {}
                },
                {
                    "output_type": "display_data",
                    "data": {
                        "text/html": "(1 row affected)"
                    },
                    "metadata": {}
                },
                {
                    "output_type": "display_data",
                    "data": {
                        "text/html": "Total execution time: 00:00:00.016"
                    },
                    "metadata": {}
                }
            ],
            "execution_count": 4
        },
        {
            "cell_type": "code",
            "source": [
                "--DELETE from tblProducts\r\n",
                "SELECT * FROM tblProducts"
            ],
            "metadata": {
                "azdata_cell_guid": "3c8ef9d6-e3fd-4ead-95bd-161a81b19761",
                "language": "sql"
            },
            "outputs": [
                {
                    "output_type": "display_data",
                    "data": {
                        "text/html": "(50 rows affected)"
                    },
                    "metadata": {}
                },
                {
                    "output_type": "display_data",
                    "data": {
                        "text/html": "Total execution time: 00:00:00.015"
                    },
                    "metadata": {}
                },
                {
                    "output_type": "execute_result",
                    "execution_count": 5,
                    "data": {
                        "application/vnd.dataresource+json": {
                            "schema": {
                                "fields": [
                                    {
                                        "name": "Id"
                                    },
                                    {
                                        "name": "Name"
                                    },
                                    {
                                        "name": "DESCRIPTION"
                                    }
                                ]
                            },
                            "data": [
                                {
                                    "Id": "10051",
                                    "Name": "Product - 1",
                                    "DESCRIPTION": "Product - 1 Description"
                                },
                                {
                                    "Id": "10052",
                                    "Name": "Product - 2",
                                    "DESCRIPTION": "Product - 2 Description"
                                },
                                {
                                    "Id": "10053",
                                    "Name": "Product - 3",
                                    "DESCRIPTION": "Product - 3 Description"
                                },
                                {
                                    "Id": "10054",
                                    "Name": "Product - 4",
                                    "DESCRIPTION": "Product - 4 Description"
                                },
                                {
                                    "Id": "10055",
                                    "Name": "Product - 5",
                                    "DESCRIPTION": "Product - 5 Description"
                                },
                                {
                                    "Id": "10056",
                                    "Name": "Product - 6",
                                    "DESCRIPTION": "Product - 6 Description"
                                },
                                {
                                    "Id": "10057",
                                    "Name": "Product - 7",
                                    "DESCRIPTION": "Product - 7 Description"
                                },
                                {
                                    "Id": "10058",
                                    "Name": "Product - 8",
                                    "DESCRIPTION": "Product - 8 Description"
                                },
                                {
                                    "Id": "10059",
                                    "Name": "Product - 9",
                                    "DESCRIPTION": "Product - 9 Description"
                                },
                                {
                                    "Id": "10060",
                                    "Name": "Product - 10",
                                    "DESCRIPTION": "Product - 10 Description"
                                },
                                {
                                    "Id": "10061",
                                    "Name": "Product - 11",
                                    "DESCRIPTION": "Product - 11 Description"
                                },
                                {
                                    "Id": "10062",
                                    "Name": "Product - 12",
                                    "DESCRIPTION": "Product - 12 Description"
                                },
                                {
                                    "Id": "10063",
                                    "Name": "Product - 13",
                                    "DESCRIPTION": "Product - 13 Description"
                                },
                                {
                                    "Id": "10064",
                                    "Name": "Product - 14",
                                    "DESCRIPTION": "Product - 14 Description"
                                },
                                {
                                    "Id": "10065",
                                    "Name": "Product - 15",
                                    "DESCRIPTION": "Product - 15 Description"
                                },
                                {
                                    "Id": "10066",
                                    "Name": "Product - 16",
                                    "DESCRIPTION": "Product - 16 Description"
                                },
                                {
                                    "Id": "10067",
                                    "Name": "Product - 17",
                                    "DESCRIPTION": "Product - 17 Description"
                                },
                                {
                                    "Id": "10068",
                                    "Name": "Product - 18",
                                    "DESCRIPTION": "Product - 18 Description"
                                },
                                {
                                    "Id": "10069",
                                    "Name": "Product - 19",
                                    "DESCRIPTION": "Product - 19 Description"
                                },
                                {
                                    "Id": "10070",
                                    "Name": "Product - 20",
                                    "DESCRIPTION": "Product - 20 Description"
                                },
                                {
                                    "Id": "10071",
                                    "Name": "Product - 21",
                                    "DESCRIPTION": "Product - 21 Description"
                                },
                                {
                                    "Id": "10072",
                                    "Name": "Product - 22",
                                    "DESCRIPTION": "Product - 22 Description"
                                },
                                {
                                    "Id": "10073",
                                    "Name": "Product - 23",
                                    "DESCRIPTION": "Product - 23 Description"
                                },
                                {
                                    "Id": "10074",
                                    "Name": "Product - 24",
                                    "DESCRIPTION": "Product - 24 Description"
                                },
                                {
                                    "Id": "10075",
                                    "Name": "Product - 25",
                                    "DESCRIPTION": "Product - 25 Description"
                                },
                                {
                                    "Id": "10076",
                                    "Name": "Product - 26",
                                    "DESCRIPTION": "Product - 26 Description"
                                },
                                {
                                    "Id": "10077",
                                    "Name": "Product - 27",
                                    "DESCRIPTION": "Product - 27 Description"
                                },
                                {
                                    "Id": "10078",
                                    "Name": "Product - 28",
                                    "DESCRIPTION": "Product - 28 Description"
                                },
                                {
                                    "Id": "10079",
                                    "Name": "Product - 29",
                                    "DESCRIPTION": "Product - 29 Description"
                                },
                                {
                                    "Id": "10080",
                                    "Name": "Product - 30",
                                    "DESCRIPTION": "Product - 30 Description"
                                },
                                {
                                    "Id": "10081",
                                    "Name": "Product - 31",
                                    "DESCRIPTION": "Product - 31 Description"
                                },
                                {
                                    "Id": "10082",
                                    "Name": "Product - 32",
                                    "DESCRIPTION": "Product - 32 Description"
                                },
                                {
                                    "Id": "10083",
                                    "Name": "Product - 33",
                                    "DESCRIPTION": "Product - 33 Description"
                                },
                                {
                                    "Id": "10084",
                                    "Name": "Product - 34",
                                    "DESCRIPTION": "Product - 34 Description"
                                },
                                {
                                    "Id": "10085",
                                    "Name": "Product - 35",
                                    "DESCRIPTION": "Product - 35 Description"
                                },
                                {
                                    "Id": "10086",
                                    "Name": "Product - 36",
                                    "DESCRIPTION": "Product - 36 Description"
                                },
                                {
                                    "Id": "10087",
                                    "Name": "Product - 37",
                                    "DESCRIPTION": "Product - 37 Description"
                                },
                                {
                                    "Id": "10088",
                                    "Name": "Product - 38",
                                    "DESCRIPTION": "Product - 38 Description"
                                },
                                {
                                    "Id": "10089",
                                    "Name": "Product - 39",
                                    "DESCRIPTION": "Product - 39 Description"
                                },
                                {
                                    "Id": "10090",
                                    "Name": "Product - 40",
                                    "DESCRIPTION": "Product - 40 Description"
                                },
                                {
                                    "Id": "10091",
                                    "Name": "Product - 41",
                                    "DESCRIPTION": "Product - 41 Description"
                                },
                                {
                                    "Id": "10092",
                                    "Name": "Product - 42",
                                    "DESCRIPTION": "Product - 42 Description"
                                },
                                {
                                    "Id": "10093",
                                    "Name": "Product - 43",
                                    "DESCRIPTION": "Product - 43 Description"
                                },
                                {
                                    "Id": "10094",
                                    "Name": "Product - 44",
                                    "DESCRIPTION": "Product - 44 Description"
                                },
                                {
                                    "Id": "10095",
                                    "Name": "Product - 45",
                                    "DESCRIPTION": "Product - 45 Description"
                                },
                                {
                                    "Id": "10096",
                                    "Name": "Product - 46",
                                    "DESCRIPTION": "Product - 46 Description"
                                },
                                {
                                    "Id": "10097",
                                    "Name": "Product - 47",
                                    "DESCRIPTION": "Product - 47 Description"
                                },
                                {
                                    "Id": "10098",
                                    "Name": "Product - 48",
                                    "DESCRIPTION": "Product - 48 Description"
                                },
                                {
                                    "Id": "10099",
                                    "Name": "Product - 49",
                                    "DESCRIPTION": "Product - 49 Description"
                                },
                                {
                                    "Id": "10100",
                                    "Name": "Product - 50",
                                    "DESCRIPTION": "Product - 50 Description"
                                }
                            ]
                        },
                        "text/html": "<table><tr><th>Id</th><th>Name</th><th>DESCRIPTION</th></tr><tr><td>10051</td><td>Product - 1</td><td>Product - 1 Description</td></tr><tr><td>10052</td><td>Product - 2</td><td>Product - 2 Description</td></tr><tr><td>10053</td><td>Product - 3</td><td>Product - 3 Description</td></tr><tr><td>10054</td><td>Product - 4</td><td>Product - 4 Description</td></tr><tr><td>10055</td><td>Product - 5</td><td>Product - 5 Description</td></tr><tr><td>10056</td><td>Product - 6</td><td>Product - 6 Description</td></tr><tr><td>10057</td><td>Product - 7</td><td>Product - 7 Description</td></tr><tr><td>10058</td><td>Product - 8</td><td>Product - 8 Description</td></tr><tr><td>10059</td><td>Product - 9</td><td>Product - 9 Description</td></tr><tr><td>10060</td><td>Product - 10</td><td>Product - 10 Description</td></tr><tr><td>10061</td><td>Product - 11</td><td>Product - 11 Description</td></tr><tr><td>10062</td><td>Product - 12</td><td>Product - 12 Description</td></tr><tr><td>10063</td><td>Product - 13</td><td>Product - 13 Description</td></tr><tr><td>10064</td><td>Product - 14</td><td>Product - 14 Description</td></tr><tr><td>10065</td><td>Product - 15</td><td>Product - 15 Description</td></tr><tr><td>10066</td><td>Product - 16</td><td>Product - 16 Description</td></tr><tr><td>10067</td><td>Product - 17</td><td>Product - 17 Description</td></tr><tr><td>10068</td><td>Product - 18</td><td>Product - 18 Description</td></tr><tr><td>10069</td><td>Product - 19</td><td>Product - 19 Description</td></tr><tr><td>10070</td><td>Product - 20</td><td>Product - 20 Description</td></tr><tr><td>10071</td><td>Product - 21</td><td>Product - 21 Description</td></tr><tr><td>10072</td><td>Product - 22</td><td>Product - 22 Description</td></tr><tr><td>10073</td><td>Product - 23</td><td>Product - 23 Description</td></tr><tr><td>10074</td><td>Product - 24</td><td>Product - 24 Description</td></tr><tr><td>10075</td><td>Product - 25</td><td>Product - 25 Description</td></tr><tr><td>10076</td><td>Product - 26</td><td>Product - 26 Description</td></tr><tr><td>10077</td><td>Product - 27</td><td>Product - 27 Description</td></tr><tr><td>10078</td><td>Product - 28</td><td>Product - 28 Description</td></tr><tr><td>10079</td><td>Product - 29</td><td>Product - 29 Description</td></tr><tr><td>10080</td><td>Product - 30</td><td>Product - 30 Description</td></tr><tr><td>10081</td><td>Product - 31</td><td>Product - 31 Description</td></tr><tr><td>10082</td><td>Product - 32</td><td>Product - 32 Description</td></tr><tr><td>10083</td><td>Product - 33</td><td>Product - 33 Description</td></tr><tr><td>10084</td><td>Product - 34</td><td>Product - 34 Description</td></tr><tr><td>10085</td><td>Product - 35</td><td>Product - 35 Description</td></tr><tr><td>10086</td><td>Product - 36</td><td>Product - 36 Description</td></tr><tr><td>10087</td><td>Product - 37</td><td>Product - 37 Description</td></tr><tr><td>10088</td><td>Product - 38</td><td>Product - 38 Description</td></tr><tr><td>10089</td><td>Product - 39</td><td>Product - 39 Description</td></tr><tr><td>10090</td><td>Product - 40</td><td>Product - 40 Description</td></tr><tr><td>10091</td><td>Product - 41</td><td>Product - 41 Description</td></tr><tr><td>10092</td><td>Product - 42</td><td>Product - 42 Description</td></tr><tr><td>10093</td><td>Product - 43</td><td>Product - 43 Description</td></tr><tr><td>10094</td><td>Product - 44</td><td>Product - 44 Description</td></tr><tr><td>10095</td><td>Product - 45</td><td>Product - 45 Description</td></tr><tr><td>10096</td><td>Product - 46</td><td>Product - 46 Description</td></tr><tr><td>10097</td><td>Product - 47</td><td>Product - 47 Description</td></tr><tr><td>10098</td><td>Product - 48</td><td>Product - 48 Description</td></tr><tr><td>10099</td><td>Product - 49</td><td>Product - 49 Description</td></tr><tr><td>10100</td><td>Product - 50</td><td>Product - 50 Description</td></tr></table>"
                    },
                    "metadata": {}
                }
            ],
            "execution_count": 5
        },
        {
            "cell_type": "code",
            "source": [
                "DECLARE @LL INT\r\n",
                "SET @LL = 1\r\n",
                "\r\n",
                "DECLARE @UL INT\r\n",
                "SET @UL = 5\r\n",
                "\r\n",
                "SELECT ROUND((@UL - @LL) * RAND() + 1, 0)"
            ],
            "metadata": {
                "azdata_cell_guid": "ad36ab6e-615d-4be6-9bea-5c1112014fa0",
                "language": "sql"
            },
            "outputs": [
                {
                    "output_type": "display_data",
                    "data": {
                        "text/html": "(1 row affected)"
                    },
                    "metadata": {}
                },
                {
                    "output_type": "display_data",
                    "data": {
                        "text/html": "Total execution time: 00:00:00.004"
                    },
                    "metadata": {}
                },
                {
                    "output_type": "execute_result",
                    "execution_count": 27,
                    "data": {
                        "application/vnd.dataresource+json": {
                            "schema": {
                                "fields": [
                                    {
                                        "name": "(No column name)"
                                    }
                                ]
                            },
                            "data": [
                                {
                                    "(No column name)": "1"
                                }
                            ]
                        },
                        "text/html": "<table><tr><th>(No column name)</th></tr><tr><td>1</td></tr></table>"
                    },
                    "metadata": {}
                }
            ],
            "execution_count": 27
        },
        {
            "cell_type": "code",
            "source": [
                "-- generate random no's b/w 1-5\r\n",
                "\r\n",
                "DECLARE @LL INT\r\n",
                "SET @LL = 1\r\n",
                "\r\n",
                "DECLARE @UL INT\r\n",
                "SET @UL = 5\r\n",
                "\r\n",
                "DECLARE @Rand int\r\n",
                "while ( 1= 1)\r\n",
                "BEGIN\r\n",
                "    SELECT @Rand = ROUND((@UL - @LL) * RAND() + 1, 0)\r\n",
                "    Print @Rand\r\n",
                "\r\n",
                "    if (@Rand < 1 OR @Rand >= 5)\r\n",
                "    BEGIN   \r\n",
                "        PRINT 'Error - ' + CAST(@Rand as NVARCHAR(4))\r\n",
                "        BREAK\r\n",
                "    END\r\n",
                "END"
            ],
            "metadata": {
                "azdata_cell_guid": "deff3221-9b61-4069-b091-0f5d4f10db34",
                "language": "sql"
            },
            "outputs": [
                {
                    "output_type": "display_data",
                    "data": {
                        "text/html": "3"
                    },
                    "metadata": {}
                },
                {
                    "output_type": "display_data",
                    "data": {
                        "text/html": "5"
                    },
                    "metadata": {}
                },
                {
                    "output_type": "display_data",
                    "data": {
                        "text/html": "Error - 5"
                    },
                    "metadata": {}
                },
                {
                    "output_type": "display_data",
                    "data": {
                        "text/html": "Total execution time: 00:00:00.001"
                    },
                    "metadata": {}
                }
            ],
            "execution_count": 6
        },
        {
            "cell_type": "markdown",
            "source": [
                "## Performance - SubQueries or Joins\r\n",
                "\r\n",
                "**According to MSDN, in most cases,** there is usually no performance difference between queries that uses sub-queries and equivalent queries using joins.\r\n",
                "\r\n",
                "**According to MSDN, in some cases where existence must be checked,** a join produces better performance. Otherwise, the nested query must be processed for each result of the outer query. In such cases, a join approach would yield better results.\r\n",
                "\r\n",
                "**In general joins work faster than sub-queries,** but in reality it all depends on the execution plan that is generated by SQL Server. Id does not matter how we have written the query, SQL Server will always transform it on an execution plan. If it is \"smart\" enough to generate the same plan from both queries, you will get the same result.\r\n",
                "\r\n",
                "**I would say, rather than going by theory, turn on client statistics and execution plan to see the performance of each option, and then make a decision.** In a later video session we will discuss about client statistics and execution plans in detail."
            ],
            "metadata": {
                "azdata_cell_guid": "6f9dd19c-513f-426b-bdaf-e6fa5c82f4c4"
            },
            "attachments": {}
        }
    ]
}