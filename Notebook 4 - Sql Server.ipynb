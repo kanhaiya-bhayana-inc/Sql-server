{
    "metadata": {
        "kernelspec": {
            "name": "SQL",
            "display_name": "SQL",
            "language": "sql"
        },
        "language_info": {
            "name": "sql",
            "version": ""
        }
    },
    "nbformat_minor": 2,
    "nbformat": 4,
    "cells": [
        {
            "cell_type": "markdown",
            "source": [
                "# Notebook - 4 - SQL Server\r\n",
                "### Topics Covered in this notebook\r\n",
                "1. Transactions in SQL Server\r\n",
                "2. Transactions ACID Test in SQL Server"
            ],
            "metadata": {
                "azdata_cell_guid": "b4fdbc94-ed0b-42f8-a847-b030f6d0e689"
            },
            "attachments": {}
        },
        {
            "cell_type": "code",
            "source": [
                "USE kudvenkatdb_master;"
            ],
            "metadata": {
                "azdata_cell_guid": "3284d537-fc50-42a3-8372-3dc202508718",
                "language": "sql"
            },
            "outputs": [
                {
                    "output_type": "display_data",
                    "data": {
                        "text/html": "Commands completed successfully."
                    },
                    "metadata": {}
                },
                {
                    "output_type": "display_data",
                    "data": {
                        "text/html": "Total execution time: 00:00:00.008"
                    },
                    "metadata": {}
                }
            ],
            "execution_count": 1
        },
        {
            "cell_type": "markdown",
            "source": [
                "## Transactions\r\n",
                "### What is a Transaction?\r\n",
                "A transaction is a group of commands that change the data stored in a database. A transaction, is treated as a single unit. A transaction ensures that, either all of the commands succeed, or none of them. If one of the commands in the transaction fails, all of the commands fail, and any data that was modified in the database is rolled back. In this way, transactions maintain the integrity of data in a database.\r\n",
                "\r\n",
                "**Transaction processing follows these steps:**\r\n",
                "1. Begin a transaction.\r\n",
                "2. Process database commands.\r\n",
                "3. Check for errors.\r\n",
                "\r\n",
                "        if errors occured,\r\n",
                "            rollback the transaction,\r\n",
                "        else\r\n",
                "            commit the transaction    \r\n",
                "**Note**: NOT able to see the un-committed changes\r\n",
                "\r\n",
                "***SET TRANSACTION ISOLATION LEVEL READ UNCOMMITTED***"
            ],
            "metadata": {
                "azdata_cell_guid": "1a70ff00-9056-40a8-8389-45391e7413f5"
            },
            "attachments": {}
        },
        {
            "cell_type": "code",
            "source": [
                "CREATE TABLE tblPhysicalAddress(\r\n",
                "    AddressId int PRIMARY key,\r\n",
                "    EmployeeNumber int,\r\n",
                "    HouseNumber NVARCHAR(30),\r\n",
                "    StreetAddress NVARCHAR(30),\r\n",
                "    City NVARCHAR(10)\r\n",
                ");\r\n",
                "\r\n",
                "CREATE TABLE tblMailingAddress(\r\n",
                "    AddressId int PRIMARY key,\r\n",
                "    EmployeeNumber int,\r\n",
                "    HouseNumber NVARCHAR(30),\r\n",
                "    StreetAddress NVARCHAR(30),\r\n",
                "    City NVARCHAR(10)\r\n",
                ");"
            ],
            "metadata": {
                "azdata_cell_guid": "7173d3ef-c9b5-44cd-b4c7-f1c3bbae7274",
                "language": "sql"
            },
            "outputs": [
                {
                    "output_type": "display_data",
                    "data": {
                        "text/html": "Commands completed successfully."
                    },
                    "metadata": {}
                },
                {
                    "output_type": "display_data",
                    "data": {
                        "text/html": "Total execution time: 00:00:00.023"
                    },
                    "metadata": {}
                }
            ],
            "execution_count": 2
        },
        {
            "cell_type": "code",
            "source": [
                "INSERT INTO tblMailingAddress VALUES(1,101,'#10','King Street','LONDOON')\r\n",
                "INSERT INTO tblPhysicalAddress VALUES(1,101,'#10','King Street','LONDOON')"
            ],
            "metadata": {
                "azdata_cell_guid": "6ad177e3-4c66-4f05-8089-05c75ea3604f",
                "language": "sql"
            },
            "outputs": [],
            "execution_count": null
        },
        {
            "cell_type": "code",
            "source": [
                "SELECT * FROM tblPhysicalAddress;\r\n",
                "SELECT * FROM tblMailingAddress;"
            ],
            "metadata": {
                "azdata_cell_guid": "3afc7f57-56e6-4b5b-abcf-13c270f320a8",
                "language": "sql"
            },
            "outputs": [
                {
                    "output_type": "display_data",
                    "data": {
                        "text/html": "(1 row affected)"
                    },
                    "metadata": {}
                },
                {
                    "output_type": "display_data",
                    "data": {
                        "text/html": "(1 row affected)"
                    },
                    "metadata": {}
                },
                {
                    "output_type": "display_data",
                    "data": {
                        "text/html": "Total execution time: 00:00:00.043"
                    },
                    "metadata": {}
                },
                {
                    "output_type": "execute_result",
                    "metadata": {},
                    "execution_count": 6,
                    "data": {
                        "application/vnd.dataresource+json": {
                            "schema": {
                                "fields": [
                                    {
                                        "name": "AddressId"
                                    },
                                    {
                                        "name": "EmployeeNumber"
                                    },
                                    {
                                        "name": "HouseNumber"
                                    },
                                    {
                                        "name": "StreetAddress"
                                    },
                                    {
                                        "name": "City"
                                    }
                                ]
                            },
                            "data": [
                                {
                                    "AddressId": "1",
                                    "EmployeeNumber": "101",
                                    "HouseNumber": "#10",
                                    "StreetAddress": "King Street",
                                    "City": "LONDOON"
                                }
                            ]
                        },
                        "text/html": [
                            "<table>",
                            "<tr><th>AddressId</th><th>EmployeeNumber</th><th>HouseNumber</th><th>StreetAddress</th><th>City</th></tr>",
                            "<tr><td>1</td><td>101</td><td>#10</td><td>King Street</td><td>LONDOON</td></tr>",
                            "</table>"
                        ]
                    }
                },
                {
                    "output_type": "execute_result",
                    "metadata": {},
                    "execution_count": 6,
                    "data": {
                        "application/vnd.dataresource+json": {
                            "schema": {
                                "fields": [
                                    {
                                        "name": "AddressId"
                                    },
                                    {
                                        "name": "EmployeeNumber"
                                    },
                                    {
                                        "name": "HouseNumber"
                                    },
                                    {
                                        "name": "StreetAddress"
                                    },
                                    {
                                        "name": "City"
                                    }
                                ]
                            },
                            "data": [
                                {
                                    "AddressId": "1",
                                    "EmployeeNumber": "101",
                                    "HouseNumber": "#10",
                                    "StreetAddress": "King Street",
                                    "City": "LONDOON"
                                }
                            ]
                        },
                        "text/html": [
                            "<table>",
                            "<tr><th>AddressId</th><th>EmployeeNumber</th><th>HouseNumber</th><th>StreetAddress</th><th>City</th></tr>",
                            "<tr><td>1</td><td>101</td><td>#10</td><td>King Street</td><td>LONDOON</td></tr>",
                            "</table>"
                        ]
                    }
                }
            ],
            "execution_count": 6
        },
        {
            "cell_type": "code",
            "source": [
                "-- create a stored procedure for updating the City Column\r\n",
                "\r\n",
                "CREATE PROCEDURE spUpdateAddress\r\n",
                "as\r\n",
                "BEGIN\r\n",
                "    BEGIN TRY\r\n",
                "        BEGIN TRANSACTION\r\n",
                "            UPDATE tblPhysicalAddress SET City = 'London' WHERE AddressId = 1 -- first updating statement\r\n",
                "\r\n",
                "            UPDATE tblMailingAddress SET City = 'London' WHERE AddressId = 1 -- 2nd updating statement\r\n",
                "        COMMIT TRANSACTION\r\n",
                "        PRINT 'Transaction Committed'\r\n",
                "    END TRY\r\n",
                "    BEGIN CATCH\r\n",
                "        ROLLBACK TRANSACTION\r\n",
                "        PRINT 'Transaction Rolled Back'\r\n",
                "    END CATCH\r\n",
                "END\r\n",
                ""
            ],
            "metadata": {
                "azdata_cell_guid": "7306e43b-f0be-40e8-a328-cdfcd8ad71c1",
                "language": "sql"
            },
            "outputs": [
                {
                    "output_type": "display_data",
                    "data": {
                        "text/html": "Commands completed successfully."
                    },
                    "metadata": {}
                },
                {
                    "output_type": "display_data",
                    "data": {
                        "text/html": "Total execution time: 00:00:00.006"
                    },
                    "metadata": {}
                }
            ],
            "execution_count": 7
        },
        {
            "cell_type": "code",
            "source": [
                "EXEC spUpdateAddress"
            ],
            "metadata": {
                "azdata_cell_guid": "e5092f7f-8d88-4ad7-bfb3-f4912658237b",
                "language": "sql"
            },
            "outputs": [
                {
                    "output_type": "display_data",
                    "data": {
                        "text/html": "(1 row affected)"
                    },
                    "metadata": {}
                },
                {
                    "output_type": "display_data",
                    "data": {
                        "text/html": "(1 row affected)"
                    },
                    "metadata": {}
                },
                {
                    "output_type": "display_data",
                    "data": {
                        "text/html": "Transaction Committed"
                    },
                    "metadata": {}
                },
                {
                    "output_type": "display_data",
                    "data": {
                        "text/html": "Total execution time: 00:00:00.010"
                    },
                    "metadata": {}
                }
            ],
            "execution_count": 8
        },
        {
            "cell_type": "code",
            "source": [
                "SELECT * FROM tblPhysicalAddress;\r\n",
                "SELECT * FROM tblMailingAddress;"
            ],
            "metadata": {
                "azdata_cell_guid": "a604b715-03f5-47ab-8481-17a6adc0e390",
                "language": "sql"
            },
            "outputs": [
                {
                    "output_type": "display_data",
                    "data": {
                        "text/html": "(1 row affected)"
                    },
                    "metadata": {}
                },
                {
                    "output_type": "display_data",
                    "data": {
                        "text/html": "(1 row affected)"
                    },
                    "metadata": {}
                },
                {
                    "output_type": "display_data",
                    "data": {
                        "text/html": "Total execution time: 00:00:00.020"
                    },
                    "metadata": {}
                },
                {
                    "output_type": "execute_result",
                    "metadata": {},
                    "execution_count": 9,
                    "data": {
                        "application/vnd.dataresource+json": {
                            "schema": {
                                "fields": [
                                    {
                                        "name": "AddressId"
                                    },
                                    {
                                        "name": "EmployeeNumber"
                                    },
                                    {
                                        "name": "HouseNumber"
                                    },
                                    {
                                        "name": "StreetAddress"
                                    },
                                    {
                                        "name": "City"
                                    }
                                ]
                            },
                            "data": [
                                {
                                    "AddressId": "1",
                                    "EmployeeNumber": "101",
                                    "HouseNumber": "#10",
                                    "StreetAddress": "King Street",
                                    "City": "London"
                                }
                            ]
                        },
                        "text/html": [
                            "<table>",
                            "<tr><th>AddressId</th><th>EmployeeNumber</th><th>HouseNumber</th><th>StreetAddress</th><th>City</th></tr>",
                            "<tr><td>1</td><td>101</td><td>#10</td><td>King Street</td><td>London</td></tr>",
                            "</table>"
                        ]
                    }
                },
                {
                    "output_type": "execute_result",
                    "metadata": {},
                    "execution_count": 9,
                    "data": {
                        "application/vnd.dataresource+json": {
                            "schema": {
                                "fields": [
                                    {
                                        "name": "AddressId"
                                    },
                                    {
                                        "name": "EmployeeNumber"
                                    },
                                    {
                                        "name": "HouseNumber"
                                    },
                                    {
                                        "name": "StreetAddress"
                                    },
                                    {
                                        "name": "City"
                                    }
                                ]
                            },
                            "data": [
                                {
                                    "AddressId": "1",
                                    "EmployeeNumber": "101",
                                    "HouseNumber": "#10",
                                    "StreetAddress": "King Street",
                                    "City": "London"
                                }
                            ]
                        },
                        "text/html": [
                            "<table>",
                            "<tr><th>AddressId</th><th>EmployeeNumber</th><th>HouseNumber</th><th>StreetAddress</th><th>City</th></tr>",
                            "<tr><td>1</td><td>101</td><td>#10</td><td>King Street</td><td>London</td></tr>",
                            "</table>"
                        ]
                    }
                }
            ],
            "execution_count": 9
        },
        {
            "cell_type": "code",
            "source": [
                "-- here we intentionally added the error to watch the status as  'Transaction Rolled Back'\r\n",
                "ALTER PROCEDURE spUpdateAddress\r\n",
                "as\r\n",
                "BEGIN\r\n",
                "    BEGIN TRY\r\n",
                "        BEGIN TRANSACTION\r\n",
                "            UPDATE tblPhysicalAddress SET City = 'London' WHERE AddressId = 1 -- first updating statement\r\n",
                "\r\n",
                "            UPDATE tblMailingAddress SET City = 'London LONDON' WHERE AddressId = 1 -- 2nd updating statement\r\n",
                "        COMMIT TRANSACTION\r\n",
                "        PRINT 'Transaction Committed'\r\n",
                "    END TRY\r\n",
                "    BEGIN CATCH\r\n",
                "        ROLLBACK TRANSACTION\r\n",
                "        PRINT 'Transaction Rolled Back'\r\n",
                "    END CATCH\r\n",
                "END"
            ],
            "metadata": {
                "azdata_cell_guid": "0c417a6e-5864-4cd0-b9fb-c6b414624fd7",
                "language": "sql",
                "tags": []
            },
            "outputs": [
                {
                    "output_type": "display_data",
                    "data": {
                        "text/html": "Commands completed successfully."
                    },
                    "metadata": {}
                },
                {
                    "output_type": "display_data",
                    "data": {
                        "text/html": "Total execution time: 00:00:00.026"
                    },
                    "metadata": {}
                }
            ],
            "execution_count": 10
        },
        {
            "cell_type": "code",
            "source": [
                "EXEC spUpdateAddress"
            ],
            "metadata": {
                "azdata_cell_guid": "509aabc2-b025-4e60-a055-36a167ec0ec9",
                "language": "sql"
            },
            "outputs": [
                {
                    "output_type": "display_data",
                    "data": {
                        "text/html": "(1 row affected)"
                    },
                    "metadata": {}
                },
                {
                    "output_type": "display_data",
                    "data": {
                        "text/html": "(0 rows affected)"
                    },
                    "metadata": {}
                },
                {
                    "output_type": "display_data",
                    "data": {
                        "text/html": "Transaction Rolled Back"
                    },
                    "metadata": {}
                },
                {
                    "output_type": "display_data",
                    "data": {
                        "text/html": "Total execution time: 00:00:00.009"
                    },
                    "metadata": {}
                }
            ],
            "execution_count": 11
        },
        {
            "cell_type": "markdown",
            "source": [
                "## Transaction ACID Test\r\n",
                "\r\n",
                "**A transaction is a group of database commands that are treated as a single unit.** A successful transaction must pass the \"ACID\" test, that is, it must be\r\n",
                "\r\n",
                "\r\n",
                "**Atomic**-All statements in the transaction either completed successfully or they were all rolled back. The task that the set of operations represents is either accomplished or not, but in any case not left half-done.\r\n",
                "\r\n",
                "\r\n",
                "**Consistent** - All data touched by the transaction is left in a logically consistent state. For example, if stock available numbers are decremented from tblProductTable, then, there has to be a related entry in tblProductSales table. The inventory can't just disappear.\r\n",
                "\r\n",
                "**Isolated:** The transaction must affect data without interfering with other concurrent transactions, or being interfered with by them. This prevents transactions from making changes to data based on uncommitted information, for example changes to a record that are subsequently rolled back. Most databases use locking to maintain transaction isolation.\r\n",
                "\r\n",
                "\r\n",
                "**Durable:** Once a change is made, it is permanent. If a system error or power failure occurs before a set of commands is complete, those commands are undone and the data is restored to its original state once the system begins running again."
            ],
            "metadata": {
                "azdata_cell_guid": "46dc57be-af64-4021-af4c-592684410aca"
            },
            "attachments": {}
        }
    ]
}