{
    "metadata": {
        "kernelspec": {
            "name": "SQL",
            "display_name": "SQL",
            "language": "sql"
        },
        "language_info": {
            "name": "sql",
            "version": ""
        }
    },
    "nbformat_minor": 2,
    "nbformat": 4,
    "cells": [
        {
            "cell_type": "markdown",
            "source": [
                "# SQL SERVER"
            ],
            "metadata": {
                "azdata_cell_guid": "43dc66ec-5ff4-4e18-9ef4-019dfa160140"
            },
            "attachments": {}
        },
        {
            "cell_type": "markdown",
            "source": [
                "### Creating, altering and dropping database"
            ],
            "metadata": {
                "azdata_cell_guid": "7e53a85a-bbb7-41ff-8bb9-dcc0d6ff2078"
            },
            "attachments": {}
        },
        {
            "cell_type": "code",
            "source": [
                "CREATE DATABASE KUDVENKAT;"
            ],
            "metadata": {
                "azdata_cell_guid": "35cc075d-1383-4af7-b51b-186c866467c1",
                "language": "sql"
            },
            "outputs": [],
            "execution_count": null
        },
        {
            "cell_type": "code",
            "source": [
                "ALTER DATABASE KUDVENKAT MODIFY Name = KudvenkatDb"
            ],
            "metadata": {
                "azdata_cell_guid": "f42b9e04-caea-4c75-b360-05e3b6a9492e",
                "language": "sql"
            },
            "outputs": [],
            "execution_count": null
        },
        {
            "cell_type": "markdown",
            "source": [
                "### Rename database using stored procedure..."
            ],
            "metadata": {
                "azdata_cell_guid": "14b4e19c-332a-4988-ae3b-096eda79917e"
            },
            "attachments": {}
        },
        {
            "cell_type": "code",
            "source": [
                "-- sp_renameDB '<oldDbName>', '<newDbName>';\r\n",
                "sp_renameDB 'KudvenkatDb', 'KudvenkatDb_Master';\r\n",
                ""
            ],
            "metadata": {
                "azdata_cell_guid": "25bd5b1c-2a60-427f-8482-d3e5ba0e502c",
                "language": "sql",
                "tags": []
            },
            "outputs": [],
            "execution_count": null
        },
        {
            "cell_type": "code",
            "source": [
                "USE KudvenkatDb_Master;"
            ],
            "metadata": {
                "language": "sql",
                "azdata_cell_guid": "67052668-b0c4-4251-b3df-2f8aa6eded4c"
            },
            "outputs": [
                {
                    "output_type": "display_data",
                    "data": {
                        "text/html": "Commands completed successfully."
                    },
                    "metadata": {}
                },
                {
                    "output_type": "display_data",
                    "data": {
                        "text/html": "Total execution time: 00:00:00.008"
                    },
                    "metadata": {}
                }
            ],
            "execution_count": 1
        },
        {
            "cell_type": "markdown",
            "source": [
                "## Get the list of tables exist in the database..."
            ],
            "metadata": {
                "language": "sql",
                "azdata_cell_guid": "a6f5a397-ebde-45bf-ac96-dde57900b09d"
            },
            "attachments": {}
        },
        {
            "cell_type": "code",
            "source": [
                "SELECT table_name, table_schema, table_type\r\n",
                "FROM information_schema.tables\r\n",
                "ORDER BY table_name ASC;"
            ],
            "metadata": {
                "language": "sql",
                "azdata_cell_guid": "30c945a6-8d76-43dd-b82c-69e15e76bff2",
                "tags": []
            },
            "outputs": [
                {
                    "output_type": "display_data",
                    "data": {
                        "text/html": "(2 rows affected)"
                    },
                    "metadata": {}
                },
                {
                    "output_type": "display_data",
                    "data": {
                        "text/html": "Total execution time: 00:00:00.156"
                    },
                    "metadata": {}
                },
                {
                    "output_type": "execute_result",
                    "execution_count": 3,
                    "data": {
                        "application/vnd.dataresource+json": {
                            "schema": {
                                "fields": [
                                    {
                                        "name": "table_name"
                                    },
                                    {
                                        "name": "table_schema"
                                    },
                                    {
                                        "name": "table_type"
                                    }
                                ]
                            },
                            "data": [
                                {
                                    "table_name": "tblGender",
                                    "table_schema": "dbo",
                                    "table_type": "BASE TABLE"
                                },
                                {
                                    "table_name": "tblPerson",
                                    "table_schema": "dbo",
                                    "table_type": "BASE TABLE"
                                }
                            ]
                        },
                        "text/html": "<table><tr><th>table_name</th><th>table_schema</th><th>table_type</th></tr><tr><td>tblGender</td><td>dbo</td><td>BASE TABLE</td></tr><tr><td>tblPerson</td><td>dbo</td><td>BASE TABLE</td></tr></table>"
                    },
                    "metadata": {}
                }
            ],
            "execution_count": 3
        },
        {
            "cell_type": "markdown",
            "source": [
                "## Drop a database..."
            ],
            "metadata": {
                "azdata_cell_guid": "b021f419-1b33-4a5f-a015-a27dd33a4de9"
            },
            "attachments": {}
        },
        {
            "cell_type": "code",
            "source": [
                "-- DROP DATABASE KudvenkatDb_Master;"
            ],
            "metadata": {
                "azdata_cell_guid": "80a12554-6d3a-433b-9c50-3dbcdc1f2561",
                "language": "sql"
            },
            "outputs": [],
            "execution_count": null
        },
        {
            "cell_type": "markdown",
            "source": [
                "## Creating and working with tables"
            ],
            "metadata": {
                "azdata_cell_guid": "376c26a0-4979-4785-ab33-8a60e55b4dcf"
            },
            "attachments": {}
        },
        {
            "cell_type": "code",
            "source": [
                "CREATE TABLE tblGender(\r\n",
                "    ID INT NOT NULL PRIMARY KEY,\r\n",
                "    Gender NVARCHAR(50) NOT NULL\r\n",
                ");"
            ],
            "metadata": {
                "azdata_cell_guid": "89e500d9-3bf5-4c21-8bc8-5e0cebddbd5a",
                "language": "sql"
            },
            "outputs": [],
            "execution_count": null
        },
        {
            "cell_type": "code",
            "source": [
                "CREATE TABLE tblPerson(\r\n",
                "    ID INT NOT NULL PRIMARY KEY,\r\n",
                "    Name NVARCHAR(50) NOT NULL,\r\n",
                "    Email NVARCHAR(50) NOT NULL,\r\n",
                "    GenderID int NULL,\r\n",
                "    Age int NULL\r\n",
                ");"
            ],
            "metadata": {
                "azdata_cell_guid": "b4bb3597-7f73-4ee5-ab58-493de1f4a1b1",
                "language": "sql"
            },
            "outputs": [],
            "execution_count": null
        },
        {
            "cell_type": "markdown",
            "source": [
                "## Drop tables..."
            ],
            "metadata": {
                "language": "sql",
                "azdata_cell_guid": "12085b55-2452-4606-9b11-21939de1e665"
            },
            "attachments": {}
        },
        {
            "cell_type": "code",
            "source": [
                "DROP TABLE tblPerson;\r\n",
                "DROP TABLE tblGender;"
            ],
            "metadata": {
                "language": "sql",
                "azdata_cell_guid": "56c95c94-9571-4229-9366-4612b366f874"
            },
            "outputs": [],
            "execution_count": null
        },
        {
            "cell_type": "markdown",
            "source": [
                "## Insert data..."
            ],
            "metadata": {
                "language": "sql",
                "azdata_cell_guid": "f9eb0a12-c64f-44a4-bd76-d521e7260ea3"
            },
            "attachments": {}
        },
        {
            "cell_type": "code",
            "source": [
                "INSERT INTO tblGender (ID, Gender) VALUES \r\n",
                "            (1, 'Male'),\r\n",
                "            (2,'Female'),\r\n",
                "            (3, 'Unknown')"
            ],
            "metadata": {
                "azdata_cell_guid": "4a16adf0-50c4-4ed8-aa8a-a4bab6ddc2bf",
                "language": "sql"
            },
            "outputs": [],
            "execution_count": null
        },
        {
            "cell_type": "code",
            "source": [
                "INSERT INTO tblPerson (ID, Name, Email, GenderID) VALUES\r\n",
                "            (1, 'Jade','j@j.com',2),\r\n",
                "            (2,'Mary','m@m.com',3),\r\n",
                "            (3,'Martin','ma@ma.com',1),\r\n",
                "            (4,'Rob','r@r.com',NULL),\r\n",
                "            (5,'May','may@may.com',2),\r\n",
                "            (7,'Rich','ri@ri.com',2),\r\n",
                "            (8,'Mike','mi@mi.com',NULL)"
            ],
            "metadata": {
                "azdata_cell_guid": "f95e6bcd-dc56-4377-b322-399541adf0df",
                "language": "sql"
            },
            "outputs": [],
            "execution_count": null
        },
        {
            "cell_type": "markdown",
            "source": [
                "## Fetch data..."
            ],
            "metadata": {
                "language": "sql",
                "azdata_cell_guid": "18149119-b374-4531-aa71-df25abf92a75"
            },
            "attachments": {}
        },
        {
            "cell_type": "code",
            "source": [
                "SELECT * FROM tblGender;\r\n",
                "SELECT * FROM tblPerson;"
            ],
            "metadata": {
                "azdata_cell_guid": "c78466ee-7832-4985-a35c-81d200ddbd9a",
                "language": "sql",
                "tags": []
            },
            "outputs": [],
            "execution_count": null
        },
        {
            "cell_type": "markdown",
            "source": [
                "## Truncate tables..."
            ],
            "metadata": {
                "language": "sql",
                "azdata_cell_guid": "496b7761-b0fe-4ae6-bcb6-eef74629ed87"
            },
            "attachments": {}
        },
        {
            "cell_type": "code",
            "source": [
                "TRUNCATE TABLE tblPerson;"
            ],
            "metadata": {
                "language": "sql",
                "azdata_cell_guid": "e10760de-4124-4fe7-be92-7fd1c2daf6cc"
            },
            "outputs": [],
            "execution_count": null
        },
        {
            "cell_type": "code",
            "source": [
                "TRUNCATE TABLE tblGender;"
            ],
            "metadata": {
                "language": "sql",
                "azdata_cell_guid": "adf00c79-7b93-45ff-b9ab-a98c0012933b"
            },
            "outputs": [],
            "execution_count": null
        },
        {
            "cell_type": "markdown",
            "source": [
                "## Create Foreign Key - constraint"
            ],
            "metadata": {
                "azdata_cell_guid": "cab7c6b7-76f4-4a93-b21d-47efa7c3f4ad"
            },
            "attachments": {}
        },
        {
            "cell_type": "code",
            "source": [
                "ALTER TABLE tblPerson ADD CONSTRAINT tblPerson_GenderID_FK FOREIGN KEY (GenderID) REFERENCES tblGender(ID);"
            ],
            "metadata": {
                "azdata_cell_guid": "1cd0b3ed-9045-4326-9fe2-9c08a92ab4bc",
                "language": "sql"
            },
            "outputs": [],
            "execution_count": null
        },
        {
            "cell_type": "markdown",
            "source": [
                "## Create default constraint"
            ],
            "metadata": {
                "azdata_cell_guid": "19336580-935f-4336-ad12-97d70d7830da"
            },
            "attachments": {}
        },
        {
            "cell_type": "code",
            "source": [
                "-- if value for the GenderID column is not provided then insert the default value \"3\" in the GenderID\r\n",
                "ALTER TABLE tblPerson ADD CONSTRAINT DF_tblPerson_GenderID DEFAULT 3 FOR GenderID;"
            ],
            "metadata": {
                "azdata_cell_guid": "92725321-7389-4fac-b30e-7d56a43c2d67",
                "language": "sql"
            },
            "outputs": [],
            "execution_count": null
        },
        {
            "cell_type": "markdown",
            "source": [
                "## Drop Constraint"
            ],
            "metadata": {
                "language": "sql",
                "azdata_cell_guid": "4f634761-99d5-4d0e-ba5c-18b226fac1b9"
            },
            "attachments": {}
        },
        {
            "cell_type": "code",
            "source": [
                "-- ALTER table <table_name> DROP <CONSTRAINT_NAME>;"
            ],
            "metadata": {
                "language": "sql",
                "azdata_cell_guid": "1aa1fc04-b657-4478-8649-b66034f44be4"
            },
            "outputs": [],
            "execution_count": null
        },
        {
            "cell_type": "markdown",
            "source": [
                "## Cascading referential integrity\r\n",
                "* This constraint allows to define the actions MicrosoftSQL Server should take when a user attemps to delte or update a key to which an existing foreign keys points.\r\n",
                "-  For example, if you delete row with ID =1 from tblGender table, then row with ID = 3 form tblPerson table becomens an opphan record. You will not be able to tell the Gender for this row. So, Cascading referential integrity constraint can be used to define actions MicrosoftSQL Server should take when this happerns. By default, we get an error and the DELETE or UPDATE statement is rolled back.\r\n",
                "\r\n",
                "### Options when setting up Cascading referential integrity constraint:\r\n",
                "    1. No Action: This is the defautl behaviour. It specifies that if an attempt is amde to delete or update a row with the key referenced by foreign keys in existing rows in other tables, an error is raised and the DELETE or UPDATE is rolled back...\r\n",
                "    2. Cascade: Specifies that if an attempt is made to delete or update a row with a key referenced by foreign keys in existing rows in other tables, all rows containing those foreign keys are also deleted or updated...\r\n",
                "    3. Set NULL: Specifies that if an attempt is made to delete or update a row with a key referenced by foreign keys in existing rows in other tables, all rows containing those foreign keys are set to NULL...\r\n",
                "    4. Set Default: Specifies that if an attempt is made to delete or update a row with a key referenced by foreign keys in existing rows in other tables, all rows containing those foreign keys are set to default values... "
            ],
            "metadata": {
                "azdata_cell_guid": "adc320f3-6593-476d-ae94-35283c46349d"
            },
            "attachments": {}
        },
        {
            "cell_type": "code",
            "source": [
                "ALTER TABLE tblPerson ADD CONSTRAINT tblPerson_GenderID_FK FOREIGN KEY (GenderID) REFERENCES tblGender(ID) ON DELETE CASCADE ON UPDATE SET NULL;"
            ],
            "metadata": {
                "azdata_cell_guid": "b6cf3405-6c8b-4e9e-9c5d-3d31208605ea",
                "language": "sql"
            },
            "outputs": [],
            "execution_count": null
        },
        {
            "cell_type": "markdown",
            "source": [
                "## Check constraint\r\n",
                "    * It is used to limit the range of the values, that can be entered for a column...\r\n",
                "    * If the column is nullable, It is possible to pass null for the column, when you will pass the value as NULL, the boolean expression evaluates to UNKNOWN, and allows the value i.e., then it will not give an error because NULL will be cosnidered as unknown, hence It will insert the NULL VALUE..."
            ],
            "metadata": {
                "azdata_cell_guid": "abb1bbc4-d0c9-4ef1-93c8-a444a7ddd10b"
            },
            "attachments": {}
        },
        {
            "cell_type": "code",
            "source": [
                "-- ALTER TABLE <table_name> ADD CONSTRAINT <CONSTRAINT_NAME> CHECK <BOOLEAN_EXPRESSION\r\n",
                "ALTER Table tblPerson ADD CONSTRAINT Chk_tblPerson_Age CHECK (AGE > 0 AND AGE < 150);"
            ],
            "metadata": {
                "azdata_cell_guid": "f8df5edb-1e42-4f1a-9778-d4edb806e6e2",
                "language": "sql",
                "tags": []
            },
            "outputs": [],
            "execution_count": null
        },
        {
            "cell_type": "markdown",
            "source": [
                "## Identity Column\r\n",
                "- IDENTITY(increment_seed, increment_value)\r\n",
                "- If a column is marked as an identity column, then the values for this column are automatically generated, when you insert a new row into the table...\r\n",
                "\r\n",
                "- To Explicitly supply a value for identity column:\r\n",
                "    1. First turn on identity insert -> SET identity_insert <table_name> ON\r\n",
                "    2. In the insert query specifiy the column list - Insert into table_name (col1, col2,....) Values (Val1,Val2,...)\r\n",
                "\r\n",
                "- If you have deleted all the rows in a table, and you want to reset the identity column value, user \"DBCC CHECKIDENT('<table_name>',RESEED,0)\r\n",
                "\r\n",
                "| DBCC - Database Consistancy Check"
            ],
            "metadata": {
                "azdata_cell_guid": "ee90f9bb-99b4-4a59-81e8-895575909653"
            },
            "attachments": {}
        },
        {
            "cell_type": "markdown",
            "source": [
                "## Get the last generated identity column value in SQL Server\r\n",
                "\r\n",
                "    Two ways to  achieve the above:\r\n",
                "    1. The most common wat is to use SCOPE_IDENTITY() built in function...\r\n",
                "    2. You can use @@IDENTITY\r\n",
                "    3. IDENT_CURRENT('<table_name>')\r\n",
                "\r\n",
                "    DIFFERENCE\r\n",
                "    - SCOPE_IDENTITY() -> Same session and the same scope\r\n",
                "    - @@IDENTITY -> Same session and across any scope\r\n",
                "    - IDENT_CURRENT('<table_name>') -> Specifies table across any session and any scope"
            ],
            "metadata": {
                "azdata_cell_guid": "1f30b358-3014-46df-af98-cd19722d462f"
            },
            "attachments": {}
        },
        {
            "cell_type": "code",
            "source": [
                "CREATE TABLE Test1(\r\n",
                "    Id int IDENTITY PRIMARY KEY,\r\n",
                "    Name NVARCHAR(50)\r\n",
                ");\r\n",
                "\r\n",
                "CREATE TABLE Test2(\r\n",
                "    Id int IDENTITY PRIMARY KEY,\r\n",
                "    Name NVARCHAR(50)\r\n",
                ");\r\n",
                "\r\n",
                ""
            ],
            "metadata": {
                "azdata_cell_guid": "03d011a6-0649-4ffe-ba0c-5bf22301ceb0",
                "language": "sql"
            },
            "outputs": [],
            "execution_count": null
        },
        {
            "cell_type": "code",
            "source": [
                "SELECT * FROM Test1;\r\n",
                "SELECT * FROM Test2;"
            ],
            "metadata": {
                "azdata_cell_guid": "e949eac6-826f-4db5-b63f-06558486bb72",
                "language": "sql"
            },
            "outputs": [],
            "execution_count": null
        },
        {
            "cell_type": "code",
            "source": [
                "INSERT INTO Test1 VALUES ('AAAAA1')\r\n",
                "INSERT INTO Test2 VALUES ('AAAAA2')"
            ],
            "metadata": {
                "azdata_cell_guid": "437b7129-3938-4c2d-a18a-d975984f47dc",
                "language": "sql"
            },
            "outputs": [],
            "execution_count": null
        },
        {
            "cell_type": "code",
            "source": [
                "SELECT SCOPE_IDENTITY();\r\n",
                "SELECT @@IDENTITY;\r\n",
                "SELECT IDENT_CURRENT('Test2');"
            ],
            "metadata": {
                "azdata_cell_guid": "00d381ad-260b-44b5-9eae-40cb43eb7d89",
                "language": "sql"
            },
            "outputs": [],
            "execution_count": null
        },
        {
            "cell_type": "markdown",
            "source": [
                "## Unique key constraint\r\n",
                "    - We use UNIQUE constraint to enforce uniqueness of a column i.e., the column shouldn't allow any duplicate values. We can add a Unique constraint through the designer or using a query.\r\n",
                "    \r\n",
                "    - To create the unique key using a query:\r\n",
                "        Alter Table <Table_name>\r\n",
                "        Add Constraint <Constraint_name> Unique(Column_name);\r\n",
                "\r\n",
                "    DIFFERENCE B/W PRIMARY KEY AND UNIQUE KEY CONSTRAINT\r\n",
                "    1. A table can can have only one primary key, but more than one Unique key\r\n",
                "    2. Primary key does not allow nulls, where as unique key allows one null"
            ],
            "metadata": {
                "azdata_cell_guid": "e841f277-e4bb-46c5-b10e-e398709582d1"
            },
            "attachments": {}
        },
        {
            "cell_type": "code",
            "source": [
                "ALTER TABLE tblPerson\r\n",
                "ADD CONSTRAINT UK_tblPerson_Email UNIQUE(Email)"
            ],
            "metadata": {
                "azdata_cell_guid": "ef294e29-4631-428f-aabf-288dd4b8d826",
                "language": "sql"
            },
            "outputs": [],
            "execution_count": null
        },
        {
            "cell_type": "markdown",
            "source": [
                "## Select statement\r\n",
                "\r\n",
                "    Operators and Wild Cards\r\n",
                "    ----------------------------------------------\r\n",
                "    Operator     |     Purpose\r\n",
                "    ----------------------------------------------\r\n",
                "    =            |     Equal to\r\n",
                "    != or <>     |     Not equal to\r\n",
                "    >            |     Greater than\r\n",
                "    >=           |     Greater than or equal to\r\n",
                "    <            |     Less than \r\n",
                "    <=           |     Less than or equal to\r\n",
                "    IN           |     Specify a list of values\r\n",
                "    BETWEEN      |     Specify a range\r\n",
                "    LIKE         |     Specify a pattern\r\n",
                "    NOT          |     Not in a list, range etc...\r\n",
                "    %            |     Specifies zero or more characters\r\n",
                "    -            |     Specifies exactly one characters\r\n",
                "    []           |     Any character with in the brackets\r\n",
                "    [^]          |     Not any character with in the brackets"
            ],
            "metadata": {
                "azdata_cell_guid": "2fd758b8-90d7-46ca-b5d0-0485bce0caa3"
            },
            "attachments": {}
        },
        {
            "cell_type": "code",
            "source": [
                "SELECT DISTINCT Name,GenderID FROM tblPerson;\r\n",
                "SELECT * FROM tblPerson WHERE GenderID <> 1;\r\n",
                "SELECT * FROM tblPerson WHERE GenderID IN(2,3,5);\r\n",
                "\r\n",
                "-- Select all the records whose name starts with any specific character\r\n",
                "SELECT * FROM tblPerson WHERE Name LIKE 'R%';\r\n",
                "\r\n",
                "-- Email validation... which contains @ in the email\r\n",
                "SELECT * FROM tblPerson WHERE Email LIKE '%@%';\r\n",
                "\r\n",
                "-- Fetch all the records where email contains 1 character before @ and one character after @\r\n",
                "SELECT * FROM tblPerson WHERE Email LIKE '_@_.com';\r\n",
                "\r\n",
                "-- Select the records where name starts with the Either M, S, or T\r\n",
                "SELECT * FROM tblPerson WHERE Name LIKE '[MST]%';\r\n",
                ""
            ],
            "metadata": {
                "azdata_cell_guid": "5e6fa5d0-ca6a-4f59-837e-312a12442b7a",
                "language": "sql"
            },
            "outputs": [],
            "execution_count": null
        },
        {
            "cell_type": "code",
            "source": [
                "\r\n",
                "-- Order by for sorting | default order is ascending\r\n",
                "SELECT * FROM tblPerson ORDER BY Name DESC, Age ASC;\r\n",
                "\r\n",
                "SELECT TOP 10 * FROM tblPerson;\r\n",
                "\r\n",
                "-- Select the record whose age is oldest...\r\n",
                "SELECT TOP 1 * FROM tblPerson ORDER BY Age DESC;"
            ],
            "metadata": {
                "azdata_cell_guid": "4c8695a8-7c96-4f75-b511-561944c803eb",
                "language": "sql"
            },
            "outputs": [],
            "execution_count": null
        },
        {
            "cell_type": "markdown",
            "source": [
                "## Group by in SQL Server\r\n",
                "\r\n",
                "- Group by clause is used to group a selected set of rows into a set of summary rows by the values of one or more columns or expressions. \r\n",
                "- It is always used in conjunction with one or more aggregate functions.\r\n",
                "\r\n",
                "    ### Having clause have to after group by...\r\n",
                "\r\n",
                "## Where VS Having\r\n",
                "     - WHERE clause is used to filter rows before aggregation, Where as HAVING caluse is used to filter groups after aggregations.\r\n",
                "     - WHERE clause can be used with - Select, Insert, and Update statemetns, where as HAVING clause can only be used with the Select statement.\r\n",
                "     - WHERE filters rows before aggregation (GROUPING), where as, HAVING filters groups, after the aggregations are performed\r\n",
                "     - Aggregate functions cananot be used in the WHERE clause, unless it is in a sub query contained in a HAVING clause, whereas, aggregate functions can be used in HAVING clause"
            ],
            "metadata": {
                "azdata_cell_guid": "6ae16c10-4d97-4b52-bb47-31e65001369b"
            },
            "attachments": {}
        },
        {
            "cell_type": "code",
            "source": [
                "CREATE TABLE tblEmployee(\r\n",
                "    ID INT IDENTITY(100,1) PRIMARY KEY,\r\n",
                "    Name NVARCHAR(50),\r\n",
                "    Gender NVARCHAR(50),\r\n",
                "    Salary FLOAT,\r\n",
                "    City NVARCHAR(50)\r\n",
                ");"
            ],
            "metadata": {
                "azdata_cell_guid": "af60b72b-5d97-4e71-b9b6-ebe9be46abf6",
                "language": "sql"
            },
            "outputs": [],
            "execution_count": null
        },
        {
            "cell_type": "code",
            "source": [
                "INSERT INTO tblEmployee VALUES \r\n",
                "                ('Tom','Male',4000,'London'),\r\n",
                "                ('Pam','Female',3000,'New York'),\r\n",
                "                ('John','Male',3500,'London'),\r\n",
                "                ('Sam','Male',4500,'London'),\r\n",
                "                ('Todd','Male',2800,'Sydney'),\r\n",
                "                ('Ben','Male',7000,'New York'),\r\n",
                "                ('Sara','Female',4800,'Sydney'),\r\n",
                "                ('Valarie','Female',5500,'New York'),\r\n",
                "                ('James','Male',6500,'London'),\r\n",
                "                ('Russell','Male',8800,'London')"
            ],
            "metadata": {
                "azdata_cell_guid": "e1facdc9-23d5-4142-a84a-bf0150b89cf5",
                "language": "sql"
            },
            "outputs": [],
            "execution_count": null
        },
        {
            "cell_type": "code",
            "source": [
                "SELECT * FROM tblEmployee;"
            ],
            "metadata": {
                "azdata_cell_guid": "ecd1b0be-6a73-4bb4-a776-4fc0ba57ec24",
                "language": "sql"
            },
            "outputs": [],
            "execution_count": null
        },
        {
            "cell_type": "code",
            "source": [
                "SELECT City,Gender, COUNT(ID) AS TotalEmployees, SUM(Salary) AS TotalSalary FROM tblEmployee GROUP BY City, Gender;\r\n",
                "\r\n",
                "-- HAVING...\r\n",
                "SELECT City,Gender, COUNT(ID) AS TotalEmployees, SUM(Salary) AS TotalSalary FROM tblEmployee WHERE Gender = 'Male' GROUP BY City, Gender;\r\n",
                "SELECT City,Gender, COUNT(ID) AS TotalEmployees, SUM(Salary) AS TotalSalary FROM tblEmployee GROUP BY City, Gender HAVING Gender = 'Male';"
            ],
            "metadata": {
                "azdata_cell_guid": "f8426aa8-321b-4803-9e15-b0de6538ef48",
                "language": "sql",
                "tags": []
            },
            "outputs": [],
            "execution_count": null
        },
        {
            "cell_type": "markdown",
            "source": [
                "## Joins in SQL Server\r\n",
                "\r\n",
                "    - Joins in SQL Server are used to retrieve data from 2 or more related tables. IN general tables are realted to each other using foreign key constrainsts.\r\n",
                "\r\n",
                "    ## In SQL Server, there are different types of JOINS\r\n",
                "        1. INNER JOIN\r\n",
                "        2. OUTER JOIN\r\n",
                "        3. CROSS JOIN\r\n",
                "\r\n",
                "     ## Outer Joins are again divided into\r\n",
                "        1. Left Join or Left Outer Join\r\n",
                "        2. Right Join or Right Outer Join\r\n",
                "        3. Full Join or Full Outer Join\r\n",
                "\r\n",
                "\r\n",
                "    ## Generic formula\r\n",
                "        Select      ColumnList\r\n",
                "        From        LeftTable\r\n",
                "        JoinType    RightTable\r\n",
                "        ON          JoinCondition"
            ],
            "metadata": {
                "azdata_cell_guid": "c737f36a-fc6c-4471-a7fe-43bc51b84482"
            },
            "attachments": {}
        },
        {
            "cell_type": "code",
            "source": [
                "CREATE TABLE tblEmployee1(\r\n",
                "    ID INT IDENTITY(101,1) PRIMARY KEY,\r\n",
                "    Name NVARCHAR(50),\r\n",
                "    Gender NVARCHAR(50),\r\n",
                "    Salary FLOAT,\r\n",
                "    DepartmentId INT NULL\r\n",
                ");\r\n",
                "CREATE TABLE tblDepartment(\r\n",
                "    Id INT PRIMARY KEY,\r\n",
                "    DepartmentName NVARCHAR(50),\r\n",
                "    Location NVARCHAR(50),\r\n",
                "    DepartmentHead NVARCHAR(50)\r\n",
                ");"
            ],
            "metadata": {
                "azdata_cell_guid": "86196975-916a-4f73-b8ec-a313189eb9c0",
                "language": "sql"
            },
            "outputs": [
                {
                    "output_type": "display_data",
                    "data": {
                        "text/html": "Commands completed successfully."
                    },
                    "metadata": {}
                },
                {
                    "output_type": "display_data",
                    "data": {
                        "text/html": "Total execution time: 00:00:00.007"
                    },
                    "metadata": {}
                }
            ],
            "execution_count": 29
        },
        {
            "cell_type": "code",
            "source": [
                "ALTER TABLE tblEmployee1 ADD CONSTRAINT FK_tblEmp1_DeptID FOREIGN KEY(DepartmentId) REFERENCES tblDepartment;"
            ],
            "metadata": {
                "azdata_cell_guid": "6836a689-2f0a-482e-ba29-7969ee949c6d",
                "language": "sql"
            },
            "outputs": [
                {
                    "output_type": "display_data",
                    "data": {
                        "text/html": "Commands completed successfully."
                    },
                    "metadata": {}
                },
                {
                    "output_type": "display_data",
                    "data": {
                        "text/html": "Total execution time: 00:00:00.004"
                    },
                    "metadata": {}
                }
            ],
            "execution_count": 31
        },
        {
            "cell_type": "code",
            "source": [
                "INSERT INTO tblEmployee1 Values\r\n",
                "            ('Tom','Male',4000,1),\r\n",
                "                ('Pam','Female',3000,3),\r\n",
                "                ('John','Male',3500,1),\r\n",
                "                ('Sam','Male',4500,2),\r\n",
                "                ('Todd','Male',2800,2),\r\n",
                "                ('Ben','Male',7000,1),\r\n",
                "                ('Sara','Female',4800,3),\r\n",
                "                ('Valarie','Female',5500,1),\r\n",
                "                ('James','Male',6500,NULL),\r\n",
                "                ('Russell','Male',8800,NULL)\r\n",
                "\r\n",
                "INSERT INTO tblDepartment VALUEs\r\n",
                "                (1, 'IT','London','Rick'),\r\n",
                "                (2, 'Payroll','Delhi','Ron'),\r\n",
                "                (3, 'HR','New York','Christie'),\r\n",
                "                (4, 'Other Department','Sydney','Cindrella')\r\n",
                "                "
            ],
            "metadata": {
                "azdata_cell_guid": "d3cd2dfa-cda4-47ff-8721-53570eeec92b",
                "language": "sql"
            },
            "outputs": [
                {
                    "output_type": "display_data",
                    "data": {
                        "text/html": "(10 rows affected)"
                    },
                    "metadata": {}
                },
                {
                    "output_type": "display_data",
                    "data": {
                        "text/html": "Total execution time: 00:00:00.006"
                    },
                    "metadata": {}
                }
            ],
            "execution_count": 34
        },
        {
            "cell_type": "code",
            "source": [
                "SELECT * FROM tblEmployee1;\r\n",
                "SELECT * FROM tblDepartment;"
            ],
            "metadata": {
                "azdata_cell_guid": "44f11645-d34c-46be-8de0-a10242712613",
                "language": "sql"
            },
            "outputs": [
                {
                    "output_type": "display_data",
                    "data": {
                        "text/html": "(10 rows affected)"
                    },
                    "metadata": {}
                },
                {
                    "output_type": "display_data",
                    "data": {
                        "text/html": "(4 rows affected)"
                    },
                    "metadata": {}
                },
                {
                    "output_type": "display_data",
                    "data": {
                        "text/html": "Total execution time: 00:00:00.092"
                    },
                    "metadata": {}
                },
                {
                    "output_type": "execute_result",
                    "metadata": {},
                    "execution_count": 2,
                    "data": {
                        "application/vnd.dataresource+json": {
                            "schema": {
                                "fields": [
                                    {
                                        "name": "ID"
                                    },
                                    {
                                        "name": "Name"
                                    },
                                    {
                                        "name": "Gender"
                                    },
                                    {
                                        "name": "Salary"
                                    },
                                    {
                                        "name": "DepartmentId"
                                    }
                                ]
                            },
                            "data": [
                                {
                                    "ID": "102",
                                    "Name": "Tom",
                                    "Gender": "Male",
                                    "Salary": "4000",
                                    "DepartmentId": "1"
                                },
                                {
                                    "ID": "103",
                                    "Name": "Pam",
                                    "Gender": "Female",
                                    "Salary": "3000",
                                    "DepartmentId": "3"
                                },
                                {
                                    "ID": "104",
                                    "Name": "John",
                                    "Gender": "Male",
                                    "Salary": "3500",
                                    "DepartmentId": "1"
                                },
                                {
                                    "ID": "105",
                                    "Name": "Sam",
                                    "Gender": "Male",
                                    "Salary": "4500",
                                    "DepartmentId": "2"
                                },
                                {
                                    "ID": "106",
                                    "Name": "Todd",
                                    "Gender": "Male",
                                    "Salary": "2800",
                                    "DepartmentId": "2"
                                },
                                {
                                    "ID": "107",
                                    "Name": "Ben",
                                    "Gender": "Male",
                                    "Salary": "7000",
                                    "DepartmentId": "1"
                                },
                                {
                                    "ID": "108",
                                    "Name": "Sara",
                                    "Gender": "Female",
                                    "Salary": "4800",
                                    "DepartmentId": "3"
                                },
                                {
                                    "ID": "109",
                                    "Name": "Valarie",
                                    "Gender": "Female",
                                    "Salary": "5500",
                                    "DepartmentId": "1"
                                },
                                {
                                    "ID": "110",
                                    "Name": "James",
                                    "Gender": "Male",
                                    "Salary": "6500",
                                    "DepartmentId": "NULL"
                                },
                                {
                                    "ID": "111",
                                    "Name": "Russell",
                                    "Gender": "Male",
                                    "Salary": "8800",
                                    "DepartmentId": "NULL"
                                }
                            ]
                        },
                        "text/html": [
                            "<table>",
                            "<tr><th>ID</th><th>Name</th><th>Gender</th><th>Salary</th><th>DepartmentId</th></tr>",
                            "<tr><td>102</td><td>Tom</td><td>Male</td><td>4000</td><td>1</td></tr>",
                            "<tr><td>103</td><td>Pam</td><td>Female</td><td>3000</td><td>3</td></tr>",
                            "<tr><td>104</td><td>John</td><td>Male</td><td>3500</td><td>1</td></tr>",
                            "<tr><td>105</td><td>Sam</td><td>Male</td><td>4500</td><td>2</td></tr>",
                            "<tr><td>106</td><td>Todd</td><td>Male</td><td>2800</td><td>2</td></tr>",
                            "<tr><td>107</td><td>Ben</td><td>Male</td><td>7000</td><td>1</td></tr>",
                            "<tr><td>108</td><td>Sara</td><td>Female</td><td>4800</td><td>3</td></tr>",
                            "<tr><td>109</td><td>Valarie</td><td>Female</td><td>5500</td><td>1</td></tr>",
                            "<tr><td>110</td><td>James</td><td>Male</td><td>6500</td><td>NULL</td></tr>",
                            "<tr><td>111</td><td>Russell</td><td>Male</td><td>8800</td><td>NULL</td></tr>",
                            "</table>"
                        ]
                    }
                },
                {
                    "output_type": "execute_result",
                    "metadata": {},
                    "execution_count": 2,
                    "data": {
                        "application/vnd.dataresource+json": {
                            "schema": {
                                "fields": [
                                    {
                                        "name": "Id"
                                    },
                                    {
                                        "name": "DepartmentName"
                                    },
                                    {
                                        "name": "Location"
                                    },
                                    {
                                        "name": "DepartmentHead"
                                    }
                                ]
                            },
                            "data": [
                                {
                                    "Id": "1",
                                    "DepartmentName": "IT",
                                    "Location": "London",
                                    "DepartmentHead": "Rick"
                                },
                                {
                                    "Id": "2",
                                    "DepartmentName": "Payroll",
                                    "Location": "Delhi",
                                    "DepartmentHead": "Ron"
                                },
                                {
                                    "Id": "3",
                                    "DepartmentName": "HR",
                                    "Location": "New York",
                                    "DepartmentHead": "Christie"
                                },
                                {
                                    "Id": "4",
                                    "DepartmentName": "Other Department",
                                    "Location": "Sydney",
                                    "DepartmentHead": "Cindrella"
                                }
                            ]
                        },
                        "text/html": [
                            "<table>",
                            "<tr><th>Id</th><th>DepartmentName</th><th>Location</th><th>DepartmentHead</th></tr>",
                            "<tr><td>1</td><td>IT</td><td>London</td><td>Rick</td></tr>",
                            "<tr><td>2</td><td>Payroll</td><td>Delhi</td><td>Ron</td></tr>",
                            "<tr><td>3</td><td>HR</td><td>New York</td><td>Christie</td></tr>",
                            "<tr><td>4</td><td>Other Department</td><td>Sydney</td><td>Cindrella</td></tr>",
                            "</table>"
                        ]
                    }
                }
            ],
            "execution_count": 2
        },
        {
            "cell_type": "markdown",
            "source": [
                "## Inner Join\r\n",
                "        ## INNER JOIN - returns only the matching rows between both the tables. Non matching rows are eliminated."
            ],
            "metadata": {
                "azdata_cell_guid": "45e5b107-99cd-4e78-84d0-a6a582c44e5e"
            },
            "attachments": {}
        },
        {
            "cell_type": "code",
            "source": [
                "SELECT      t1.Name, t1.Gender, t1.Salary, t2.DepartmentName \r\n",
                "from        tblEmployee1 AS t1\r\n",
                "INNER JOIN  tblDepartment AS t2\r\n",
                "ON          t1.DepartmentId = t2.Id;"
            ],
            "metadata": {
                "azdata_cell_guid": "d89e4bce-acef-4c10-af04-b00bc71c3bd4",
                "language": "sql"
            },
            "outputs": [
                {
                    "output_type": "display_data",
                    "data": {
                        "text/html": "(8 rows affected)"
                    },
                    "metadata": {}
                },
                {
                    "output_type": "display_data",
                    "data": {
                        "text/html": "Total execution time: 00:00:00.007"
                    },
                    "metadata": {}
                },
                {
                    "output_type": "execute_result",
                    "metadata": {},
                    "execution_count": 4,
                    "data": {
                        "application/vnd.dataresource+json": {
                            "schema": {
                                "fields": [
                                    {
                                        "name": "Name"
                                    },
                                    {
                                        "name": "Gender"
                                    },
                                    {
                                        "name": "Salary"
                                    },
                                    {
                                        "name": "DepartmentName"
                                    }
                                ]
                            },
                            "data": [
                                {
                                    "Name": "Tom",
                                    "Gender": "Male",
                                    "Salary": "4000",
                                    "DepartmentName": "IT"
                                },
                                {
                                    "Name": "Pam",
                                    "Gender": "Female",
                                    "Salary": "3000",
                                    "DepartmentName": "HR"
                                },
                                {
                                    "Name": "John",
                                    "Gender": "Male",
                                    "Salary": "3500",
                                    "DepartmentName": "IT"
                                },
                                {
                                    "Name": "Sam",
                                    "Gender": "Male",
                                    "Salary": "4500",
                                    "DepartmentName": "Payroll"
                                },
                                {
                                    "Name": "Todd",
                                    "Gender": "Male",
                                    "Salary": "2800",
                                    "DepartmentName": "Payroll"
                                },
                                {
                                    "Name": "Ben",
                                    "Gender": "Male",
                                    "Salary": "7000",
                                    "DepartmentName": "IT"
                                },
                                {
                                    "Name": "Sara",
                                    "Gender": "Female",
                                    "Salary": "4800",
                                    "DepartmentName": "HR"
                                },
                                {
                                    "Name": "Valarie",
                                    "Gender": "Female",
                                    "Salary": "5500",
                                    "DepartmentName": "IT"
                                }
                            ]
                        },
                        "text/html": [
                            "<table>",
                            "<tr><th>Name</th><th>Gender</th><th>Salary</th><th>DepartmentName</th></tr>",
                            "<tr><td>Tom</td><td>Male</td><td>4000</td><td>IT</td></tr>",
                            "<tr><td>Pam</td><td>Female</td><td>3000</td><td>HR</td></tr>",
                            "<tr><td>John</td><td>Male</td><td>3500</td><td>IT</td></tr>",
                            "<tr><td>Sam</td><td>Male</td><td>4500</td><td>Payroll</td></tr>",
                            "<tr><td>Todd</td><td>Male</td><td>2800</td><td>Payroll</td></tr>",
                            "<tr><td>Ben</td><td>Male</td><td>7000</td><td>IT</td></tr>",
                            "<tr><td>Sara</td><td>Female</td><td>4800</td><td>HR</td></tr>",
                            "<tr><td>Valarie</td><td>Female</td><td>5500</td><td>IT</td></tr>",
                            "</table>"
                        ]
                    }
                }
            ],
            "execution_count": 4
        },
        {
            "cell_type": "markdown",
            "source": [
                "## Left Join\r\n",
                "        ## LEFT JOIN - returns all the matching rows + non matching rows from the left table"
            ],
            "metadata": {
                "azdata_cell_guid": "ced092c5-76c3-4921-9ef5-587ad25ff7c0"
            },
            "attachments": {}
        },
        {
            "cell_type": "code",
            "source": [
                "SELECT         t1.Name, t1.Gender, t1.Salary, t2.DepartmentName \r\n",
                "from           tblEmployee1 AS t1\r\n",
                "LEFT JOIN      tblDepartment AS t2\r\n",
                "ON             t1.DepartmentId = t2.Id;"
            ],
            "metadata": {
                "azdata_cell_guid": "a9d20fb4-087c-41e9-920d-17c17c935444",
                "language": "sql"
            },
            "outputs": [
                {
                    "output_type": "display_data",
                    "data": {
                        "text/html": "(10 rows affected)"
                    },
                    "metadata": {}
                },
                {
                    "output_type": "display_data",
                    "data": {
                        "text/html": "Total execution time: 00:00:00.017"
                    },
                    "metadata": {}
                },
                {
                    "output_type": "execute_result",
                    "metadata": {},
                    "execution_count": 16,
                    "data": {
                        "application/vnd.dataresource+json": {
                            "schema": {
                                "fields": [
                                    {
                                        "name": "Name"
                                    },
                                    {
                                        "name": "Gender"
                                    },
                                    {
                                        "name": "Salary"
                                    },
                                    {
                                        "name": "DepartmentName"
                                    }
                                ]
                            },
                            "data": [
                                {
                                    "Name": "Tom",
                                    "Gender": "Male",
                                    "Salary": "4000",
                                    "DepartmentName": "IT"
                                },
                                {
                                    "Name": "Pam",
                                    "Gender": "Female",
                                    "Salary": "3000",
                                    "DepartmentName": "HR"
                                },
                                {
                                    "Name": "John",
                                    "Gender": "Male",
                                    "Salary": "3500",
                                    "DepartmentName": "IT"
                                },
                                {
                                    "Name": "Sam",
                                    "Gender": "Male",
                                    "Salary": "4500",
                                    "DepartmentName": "Payroll"
                                },
                                {
                                    "Name": "Todd",
                                    "Gender": "Male",
                                    "Salary": "2800",
                                    "DepartmentName": "Payroll"
                                },
                                {
                                    "Name": "Ben",
                                    "Gender": "Male",
                                    "Salary": "7000",
                                    "DepartmentName": "IT"
                                },
                                {
                                    "Name": "Sara",
                                    "Gender": "Female",
                                    "Salary": "4800",
                                    "DepartmentName": "HR"
                                },
                                {
                                    "Name": "Valarie",
                                    "Gender": "Female",
                                    "Salary": "5500",
                                    "DepartmentName": "IT"
                                },
                                {
                                    "Name": "James",
                                    "Gender": "Male",
                                    "Salary": "6500",
                                    "DepartmentName": "NULL"
                                },
                                {
                                    "Name": "Russell",
                                    "Gender": "Male",
                                    "Salary": "8800",
                                    "DepartmentName": "NULL"
                                }
                            ]
                        },
                        "text/html": [
                            "<table>",
                            "<tr><th>Name</th><th>Gender</th><th>Salary</th><th>DepartmentName</th></tr>",
                            "<tr><td>Tom</td><td>Male</td><td>4000</td><td>IT</td></tr>",
                            "<tr><td>Pam</td><td>Female</td><td>3000</td><td>HR</td></tr>",
                            "<tr><td>John</td><td>Male</td><td>3500</td><td>IT</td></tr>",
                            "<tr><td>Sam</td><td>Male</td><td>4500</td><td>Payroll</td></tr>",
                            "<tr><td>Todd</td><td>Male</td><td>2800</td><td>Payroll</td></tr>",
                            "<tr><td>Ben</td><td>Male</td><td>7000</td><td>IT</td></tr>",
                            "<tr><td>Sara</td><td>Female</td><td>4800</td><td>HR</td></tr>",
                            "<tr><td>Valarie</td><td>Female</td><td>5500</td><td>IT</td></tr>",
                            "<tr><td>James</td><td>Male</td><td>6500</td><td>NULL</td></tr>",
                            "<tr><td>Russell</td><td>Male</td><td>8800</td><td>NULL</td></tr>",
                            "</table>"
                        ]
                    }
                }
            ],
            "execution_count": 16
        },
        {
            "cell_type": "markdown",
            "source": [
                "## Right Join\r\n",
                "        ## RIGHT JOIN - returns all the matching rows + non matching rows from the right table"
            ],
            "metadata": {
                "azdata_cell_guid": "4cec9dff-d62f-4926-b85e-893769949962"
            },
            "attachments": {}
        },
        {
            "cell_type": "code",
            "source": [
                "SELECT      t1.Name, t1.Gender, t1.Salary, t2.DepartmentName \r\n",
                "from        tblEmployee1 AS t1\r\n",
                "RIGHT JOIN  tblDepartment AS t2\r\n",
                "ON          t1.DepartmentId = t2.Id;"
            ],
            "metadata": {
                "azdata_cell_guid": "3b0d983a-4f3f-4583-b267-4dbbc2d7273c",
                "language": "sql"
            },
            "outputs": [
                {
                    "output_type": "display_data",
                    "data": {
                        "text/html": "(9 rows affected)"
                    },
                    "metadata": {}
                },
                {
                    "output_type": "display_data",
                    "data": {
                        "text/html": "Total execution time: 00:00:00.012"
                    },
                    "metadata": {}
                },
                {
                    "output_type": "execute_result",
                    "metadata": {},
                    "execution_count": 6,
                    "data": {
                        "application/vnd.dataresource+json": {
                            "schema": {
                                "fields": [
                                    {
                                        "name": "Name"
                                    },
                                    {
                                        "name": "Gender"
                                    },
                                    {
                                        "name": "Salary"
                                    },
                                    {
                                        "name": "DepartmentName"
                                    }
                                ]
                            },
                            "data": [
                                {
                                    "Name": "Tom",
                                    "Gender": "Male",
                                    "Salary": "4000",
                                    "DepartmentName": "IT"
                                },
                                {
                                    "Name": "John",
                                    "Gender": "Male",
                                    "Salary": "3500",
                                    "DepartmentName": "IT"
                                },
                                {
                                    "Name": "Ben",
                                    "Gender": "Male",
                                    "Salary": "7000",
                                    "DepartmentName": "IT"
                                },
                                {
                                    "Name": "Valarie",
                                    "Gender": "Female",
                                    "Salary": "5500",
                                    "DepartmentName": "IT"
                                },
                                {
                                    "Name": "Sam",
                                    "Gender": "Male",
                                    "Salary": "4500",
                                    "DepartmentName": "Payroll"
                                },
                                {
                                    "Name": "Todd",
                                    "Gender": "Male",
                                    "Salary": "2800",
                                    "DepartmentName": "Payroll"
                                },
                                {
                                    "Name": "Pam",
                                    "Gender": "Female",
                                    "Salary": "3000",
                                    "DepartmentName": "HR"
                                },
                                {
                                    "Name": "Sara",
                                    "Gender": "Female",
                                    "Salary": "4800",
                                    "DepartmentName": "HR"
                                },
                                {
                                    "Name": "NULL",
                                    "Gender": "NULL",
                                    "Salary": "NULL",
                                    "DepartmentName": "Other Department"
                                }
                            ]
                        },
                        "text/html": [
                            "<table>",
                            "<tr><th>Name</th><th>Gender</th><th>Salary</th><th>DepartmentName</th></tr>",
                            "<tr><td>Tom</td><td>Male</td><td>4000</td><td>IT</td></tr>",
                            "<tr><td>John</td><td>Male</td><td>3500</td><td>IT</td></tr>",
                            "<tr><td>Ben</td><td>Male</td><td>7000</td><td>IT</td></tr>",
                            "<tr><td>Valarie</td><td>Female</td><td>5500</td><td>IT</td></tr>",
                            "<tr><td>Sam</td><td>Male</td><td>4500</td><td>Payroll</td></tr>",
                            "<tr><td>Todd</td><td>Male</td><td>2800</td><td>Payroll</td></tr>",
                            "<tr><td>Pam</td><td>Female</td><td>3000</td><td>HR</td></tr>",
                            "<tr><td>Sara</td><td>Female</td><td>4800</td><td>HR</td></tr>",
                            "<tr><td>NULL</td><td>NULL</td><td>NULL</td><td>Other Department</td></tr>",
                            "</table>"
                        ]
                    }
                }
            ],
            "execution_count": 6
        },
        {
            "cell_type": "markdown",
            "source": [
                "## Full Outer Join\r\n",
                "        ## FULL OUTER JOIN - returns all the rows from both the left and right tables, including the non matching rows."
            ],
            "metadata": {
                "azdata_cell_guid": "81493e70-8c40-481f-b20f-c24eb048e3fa"
            },
            "attachments": {}
        },
        {
            "cell_type": "code",
            "source": [
                "SELECT      t1.Name, t1.Gender, t1.Salary, t2.DepartmentName \r\n",
                "from        tblEmployee1 AS t1\r\n",
                "FULL JOIN   tblDepartment AS t2\r\n",
                "ON          t1.DepartmentId = t2.Id;"
            ],
            "metadata": {
                "azdata_cell_guid": "aa5ad7ed-dcd1-4673-9cf2-ce5e27f9340e",
                "language": "sql",
                "tags": []
            },
            "outputs": [
                {
                    "output_type": "display_data",
                    "data": {
                        "text/html": "(11 rows affected)"
                    },
                    "metadata": {}
                },
                {
                    "output_type": "display_data",
                    "data": {
                        "text/html": "Total execution time: 00:00:00.014"
                    },
                    "metadata": {}
                },
                {
                    "output_type": "execute_result",
                    "metadata": {},
                    "execution_count": 7,
                    "data": {
                        "application/vnd.dataresource+json": {
                            "schema": {
                                "fields": [
                                    {
                                        "name": "Name"
                                    },
                                    {
                                        "name": "Gender"
                                    },
                                    {
                                        "name": "Salary"
                                    },
                                    {
                                        "name": "DepartmentName"
                                    }
                                ]
                            },
                            "data": [
                                {
                                    "Name": "Tom",
                                    "Gender": "Male",
                                    "Salary": "4000",
                                    "DepartmentName": "IT"
                                },
                                {
                                    "Name": "Pam",
                                    "Gender": "Female",
                                    "Salary": "3000",
                                    "DepartmentName": "HR"
                                },
                                {
                                    "Name": "John",
                                    "Gender": "Male",
                                    "Salary": "3500",
                                    "DepartmentName": "IT"
                                },
                                {
                                    "Name": "Sam",
                                    "Gender": "Male",
                                    "Salary": "4500",
                                    "DepartmentName": "Payroll"
                                },
                                {
                                    "Name": "Todd",
                                    "Gender": "Male",
                                    "Salary": "2800",
                                    "DepartmentName": "Payroll"
                                },
                                {
                                    "Name": "Ben",
                                    "Gender": "Male",
                                    "Salary": "7000",
                                    "DepartmentName": "IT"
                                },
                                {
                                    "Name": "Sara",
                                    "Gender": "Female",
                                    "Salary": "4800",
                                    "DepartmentName": "HR"
                                },
                                {
                                    "Name": "Valarie",
                                    "Gender": "Female",
                                    "Salary": "5500",
                                    "DepartmentName": "IT"
                                },
                                {
                                    "Name": "James",
                                    "Gender": "Male",
                                    "Salary": "6500",
                                    "DepartmentName": "NULL"
                                },
                                {
                                    "Name": "Russell",
                                    "Gender": "Male",
                                    "Salary": "8800",
                                    "DepartmentName": "NULL"
                                },
                                {
                                    "Name": "NULL",
                                    "Gender": "NULL",
                                    "Salary": "NULL",
                                    "DepartmentName": "Other Department"
                                }
                            ]
                        },
                        "text/html": [
                            "<table>",
                            "<tr><th>Name</th><th>Gender</th><th>Salary</th><th>DepartmentName</th></tr>",
                            "<tr><td>Tom</td><td>Male</td><td>4000</td><td>IT</td></tr>",
                            "<tr><td>Pam</td><td>Female</td><td>3000</td><td>HR</td></tr>",
                            "<tr><td>John</td><td>Male</td><td>3500</td><td>IT</td></tr>",
                            "<tr><td>Sam</td><td>Male</td><td>4500</td><td>Payroll</td></tr>",
                            "<tr><td>Todd</td><td>Male</td><td>2800</td><td>Payroll</td></tr>",
                            "<tr><td>Ben</td><td>Male</td><td>7000</td><td>IT</td></tr>",
                            "<tr><td>Sara</td><td>Female</td><td>4800</td><td>HR</td></tr>",
                            "<tr><td>Valarie</td><td>Female</td><td>5500</td><td>IT</td></tr>",
                            "<tr><td>James</td><td>Male</td><td>6500</td><td>NULL</td></tr>",
                            "<tr><td>Russell</td><td>Male</td><td>8800</td><td>NULL</td></tr>",
                            "<tr><td>NULL</td><td>NULL</td><td>NULL</td><td>Other Department</td></tr>",
                            "</table>"
                        ]
                    }
                }
            ],
            "execution_count": 7
        },
        {
            "cell_type": "markdown",
            "source": [
                "## Cross Join\r\n",
                "        ## CROSS JOIN - produces the Cartesian product of the 2 tables involved in the join. For example, in the Employees table we have 10 rows and in the Departments we have 4 rows. So, a cross join between these 2 tables produces 40 rows.\r\n",
                "\r\n",
                "        ## NOTE: Cross Join shouldn't have ON clause."
            ],
            "metadata": {
                "azdata_cell_guid": "0dfaaddc-4e9b-4bdc-bfba-ad670597fabb"
            },
            "attachments": {}
        },
        {
            "cell_type": "code",
            "source": [
                "SELECT      t1.Name, t1.Gender, t1.Salary, t2.DepartmentName \r\n",
                "from        tblEmployee1 AS t1\r\n",
                "CROSS JOIN  tblDepartment AS t2"
            ],
            "metadata": {
                "azdata_cell_guid": "dba08b75-82c2-4369-8097-1478c8740dea",
                "language": "sql"
            },
            "outputs": [
                {
                    "output_type": "display_data",
                    "data": {
                        "text/html": "(40 rows affected)"
                    },
                    "metadata": {}
                },
                {
                    "output_type": "display_data",
                    "data": {
                        "text/html": "Total execution time: 00:00:00.017"
                    },
                    "metadata": {}
                },
                {
                    "output_type": "execute_result",
                    "metadata": {},
                    "execution_count": 8,
                    "data": {
                        "application/vnd.dataresource+json": {
                            "schema": {
                                "fields": [
                                    {
                                        "name": "Name"
                                    },
                                    {
                                        "name": "Gender"
                                    },
                                    {
                                        "name": "Salary"
                                    },
                                    {
                                        "name": "DepartmentName"
                                    }
                                ]
                            },
                            "data": [
                                {
                                    "Name": "Tom",
                                    "Gender": "Male",
                                    "Salary": "4000",
                                    "DepartmentName": "IT"
                                },
                                {
                                    "Name": "Pam",
                                    "Gender": "Female",
                                    "Salary": "3000",
                                    "DepartmentName": "IT"
                                },
                                {
                                    "Name": "John",
                                    "Gender": "Male",
                                    "Salary": "3500",
                                    "DepartmentName": "IT"
                                },
                                {
                                    "Name": "Sam",
                                    "Gender": "Male",
                                    "Salary": "4500",
                                    "DepartmentName": "IT"
                                },
                                {
                                    "Name": "Todd",
                                    "Gender": "Male",
                                    "Salary": "2800",
                                    "DepartmentName": "IT"
                                },
                                {
                                    "Name": "Ben",
                                    "Gender": "Male",
                                    "Salary": "7000",
                                    "DepartmentName": "IT"
                                },
                                {
                                    "Name": "Sara",
                                    "Gender": "Female",
                                    "Salary": "4800",
                                    "DepartmentName": "IT"
                                },
                                {
                                    "Name": "Valarie",
                                    "Gender": "Female",
                                    "Salary": "5500",
                                    "DepartmentName": "IT"
                                },
                                {
                                    "Name": "James",
                                    "Gender": "Male",
                                    "Salary": "6500",
                                    "DepartmentName": "IT"
                                },
                                {
                                    "Name": "Russell",
                                    "Gender": "Male",
                                    "Salary": "8800",
                                    "DepartmentName": "IT"
                                },
                                {
                                    "Name": "Tom",
                                    "Gender": "Male",
                                    "Salary": "4000",
                                    "DepartmentName": "Payroll"
                                },
                                {
                                    "Name": "Pam",
                                    "Gender": "Female",
                                    "Salary": "3000",
                                    "DepartmentName": "Payroll"
                                },
                                {
                                    "Name": "John",
                                    "Gender": "Male",
                                    "Salary": "3500",
                                    "DepartmentName": "Payroll"
                                },
                                {
                                    "Name": "Sam",
                                    "Gender": "Male",
                                    "Salary": "4500",
                                    "DepartmentName": "Payroll"
                                },
                                {
                                    "Name": "Todd",
                                    "Gender": "Male",
                                    "Salary": "2800",
                                    "DepartmentName": "Payroll"
                                },
                                {
                                    "Name": "Ben",
                                    "Gender": "Male",
                                    "Salary": "7000",
                                    "DepartmentName": "Payroll"
                                },
                                {
                                    "Name": "Sara",
                                    "Gender": "Female",
                                    "Salary": "4800",
                                    "DepartmentName": "Payroll"
                                },
                                {
                                    "Name": "Valarie",
                                    "Gender": "Female",
                                    "Salary": "5500",
                                    "DepartmentName": "Payroll"
                                },
                                {
                                    "Name": "James",
                                    "Gender": "Male",
                                    "Salary": "6500",
                                    "DepartmentName": "Payroll"
                                },
                                {
                                    "Name": "Russell",
                                    "Gender": "Male",
                                    "Salary": "8800",
                                    "DepartmentName": "Payroll"
                                },
                                {
                                    "Name": "Tom",
                                    "Gender": "Male",
                                    "Salary": "4000",
                                    "DepartmentName": "HR"
                                },
                                {
                                    "Name": "Pam",
                                    "Gender": "Female",
                                    "Salary": "3000",
                                    "DepartmentName": "HR"
                                },
                                {
                                    "Name": "John",
                                    "Gender": "Male",
                                    "Salary": "3500",
                                    "DepartmentName": "HR"
                                },
                                {
                                    "Name": "Sam",
                                    "Gender": "Male",
                                    "Salary": "4500",
                                    "DepartmentName": "HR"
                                },
                                {
                                    "Name": "Todd",
                                    "Gender": "Male",
                                    "Salary": "2800",
                                    "DepartmentName": "HR"
                                },
                                {
                                    "Name": "Ben",
                                    "Gender": "Male",
                                    "Salary": "7000",
                                    "DepartmentName": "HR"
                                },
                                {
                                    "Name": "Sara",
                                    "Gender": "Female",
                                    "Salary": "4800",
                                    "DepartmentName": "HR"
                                },
                                {
                                    "Name": "Valarie",
                                    "Gender": "Female",
                                    "Salary": "5500",
                                    "DepartmentName": "HR"
                                },
                                {
                                    "Name": "James",
                                    "Gender": "Male",
                                    "Salary": "6500",
                                    "DepartmentName": "HR"
                                },
                                {
                                    "Name": "Russell",
                                    "Gender": "Male",
                                    "Salary": "8800",
                                    "DepartmentName": "HR"
                                },
                                {
                                    "Name": "Tom",
                                    "Gender": "Male",
                                    "Salary": "4000",
                                    "DepartmentName": "Other Department"
                                },
                                {
                                    "Name": "Pam",
                                    "Gender": "Female",
                                    "Salary": "3000",
                                    "DepartmentName": "Other Department"
                                },
                                {
                                    "Name": "John",
                                    "Gender": "Male",
                                    "Salary": "3500",
                                    "DepartmentName": "Other Department"
                                },
                                {
                                    "Name": "Sam",
                                    "Gender": "Male",
                                    "Salary": "4500",
                                    "DepartmentName": "Other Department"
                                },
                                {
                                    "Name": "Todd",
                                    "Gender": "Male",
                                    "Salary": "2800",
                                    "DepartmentName": "Other Department"
                                },
                                {
                                    "Name": "Ben",
                                    "Gender": "Male",
                                    "Salary": "7000",
                                    "DepartmentName": "Other Department"
                                },
                                {
                                    "Name": "Sara",
                                    "Gender": "Female",
                                    "Salary": "4800",
                                    "DepartmentName": "Other Department"
                                },
                                {
                                    "Name": "Valarie",
                                    "Gender": "Female",
                                    "Salary": "5500",
                                    "DepartmentName": "Other Department"
                                },
                                {
                                    "Name": "James",
                                    "Gender": "Male",
                                    "Salary": "6500",
                                    "DepartmentName": "Other Department"
                                },
                                {
                                    "Name": "Russell",
                                    "Gender": "Male",
                                    "Salary": "8800",
                                    "DepartmentName": "Other Department"
                                }
                            ]
                        },
                        "text/html": [
                            "<table>",
                            "<tr><th>Name</th><th>Gender</th><th>Salary</th><th>DepartmentName</th></tr>",
                            "<tr><td>Tom</td><td>Male</td><td>4000</td><td>IT</td></tr>",
                            "<tr><td>Pam</td><td>Female</td><td>3000</td><td>IT</td></tr>",
                            "<tr><td>John</td><td>Male</td><td>3500</td><td>IT</td></tr>",
                            "<tr><td>Sam</td><td>Male</td><td>4500</td><td>IT</td></tr>",
                            "<tr><td>Todd</td><td>Male</td><td>2800</td><td>IT</td></tr>",
                            "<tr><td>Ben</td><td>Male</td><td>7000</td><td>IT</td></tr>",
                            "<tr><td>Sara</td><td>Female</td><td>4800</td><td>IT</td></tr>",
                            "<tr><td>Valarie</td><td>Female</td><td>5500</td><td>IT</td></tr>",
                            "<tr><td>James</td><td>Male</td><td>6500</td><td>IT</td></tr>",
                            "<tr><td>Russell</td><td>Male</td><td>8800</td><td>IT</td></tr>",
                            "<tr><td>Tom</td><td>Male</td><td>4000</td><td>Payroll</td></tr>",
                            "<tr><td>Pam</td><td>Female</td><td>3000</td><td>Payroll</td></tr>",
                            "<tr><td>John</td><td>Male</td><td>3500</td><td>Payroll</td></tr>",
                            "<tr><td>Sam</td><td>Male</td><td>4500</td><td>Payroll</td></tr>",
                            "<tr><td>Todd</td><td>Male</td><td>2800</td><td>Payroll</td></tr>",
                            "<tr><td>Ben</td><td>Male</td><td>7000</td><td>Payroll</td></tr>",
                            "<tr><td>Sara</td><td>Female</td><td>4800</td><td>Payroll</td></tr>",
                            "<tr><td>Valarie</td><td>Female</td><td>5500</td><td>Payroll</td></tr>",
                            "<tr><td>James</td><td>Male</td><td>6500</td><td>Payroll</td></tr>",
                            "<tr><td>Russell</td><td>Male</td><td>8800</td><td>Payroll</td></tr>",
                            "<tr><td>Tom</td><td>Male</td><td>4000</td><td>HR</td></tr>",
                            "<tr><td>Pam</td><td>Female</td><td>3000</td><td>HR</td></tr>",
                            "<tr><td>John</td><td>Male</td><td>3500</td><td>HR</td></tr>",
                            "<tr><td>Sam</td><td>Male</td><td>4500</td><td>HR</td></tr>",
                            "<tr><td>Todd</td><td>Male</td><td>2800</td><td>HR</td></tr>",
                            "<tr><td>Ben</td><td>Male</td><td>7000</td><td>HR</td></tr>",
                            "<tr><td>Sara</td><td>Female</td><td>4800</td><td>HR</td></tr>",
                            "<tr><td>Valarie</td><td>Female</td><td>5500</td><td>HR</td></tr>",
                            "<tr><td>James</td><td>Male</td><td>6500</td><td>HR</td></tr>",
                            "<tr><td>Russell</td><td>Male</td><td>8800</td><td>HR</td></tr>",
                            "<tr><td>Tom</td><td>Male</td><td>4000</td><td>Other Department</td></tr>",
                            "<tr><td>Pam</td><td>Female</td><td>3000</td><td>Other Department</td></tr>",
                            "<tr><td>John</td><td>Male</td><td>3500</td><td>Other Department</td></tr>",
                            "<tr><td>Sam</td><td>Male</td><td>4500</td><td>Other Department</td></tr>",
                            "<tr><td>Todd</td><td>Male</td><td>2800</td><td>Other Department</td></tr>",
                            "<tr><td>Ben</td><td>Male</td><td>7000</td><td>Other Department</td></tr>",
                            "<tr><td>Sara</td><td>Female</td><td>4800</td><td>Other Department</td></tr>",
                            "<tr><td>Valarie</td><td>Female</td><td>5500</td><td>Other Department</td></tr>",
                            "<tr><td>James</td><td>Male</td><td>6500</td><td>Other Department</td></tr>",
                            "<tr><td>Russell</td><td>Male</td><td>8800</td><td>Other Department</td></tr>",
                            "</table>"
                        ]
                    }
                }
            ],
            "execution_count": 8
        },
        {
            "cell_type": "markdown",
            "source": [
                "## Advanced or Intelligent Joins\r\n",
                "\r\n",
                "    - Retrieve only the non matching rows from the left table\r\n",
                "    - Retrieve only the non matching rows from the right table\r\n",
                "    - Retrieve only the non matching rows from both the left and right table"
            ],
            "metadata": {
                "azdata_cell_guid": "fee5cbb5-a671-48c1-9f76-f20f0a0fceb0"
            },
            "attachments": {}
        },
        {
            "cell_type": "code",
            "source": [
                "-- Retrieve only the non matching rows from the left table\r\n",
                "\r\n",
                "SELECT         t1.Name, t1.Gender, t1.Salary, t2.DepartmentName from tblEmployee1 AS t1\r\n",
                "LEFT JOIN      tblDepartment AS t2\r\n",
                "ON             t1.DepartmentId = t2.Id\r\n",
                "WHERE          t1.DepartmentId IS NULL;"
            ],
            "metadata": {
                "azdata_cell_guid": "514ddd8c-53ad-46d7-8342-0bf202fb30a9",
                "language": "sql"
            },
            "outputs": [
                {
                    "output_type": "display_data",
                    "data": {
                        "text/html": "(2 rows affected)"
                    },
                    "metadata": {}
                },
                {
                    "output_type": "display_data",
                    "data": {
                        "text/html": "Total execution time: 00:00:00.009"
                    },
                    "metadata": {}
                },
                {
                    "output_type": "execute_result",
                    "metadata": {},
                    "execution_count": 19,
                    "data": {
                        "application/vnd.dataresource+json": {
                            "schema": {
                                "fields": [
                                    {
                                        "name": "Name"
                                    },
                                    {
                                        "name": "Gender"
                                    },
                                    {
                                        "name": "Salary"
                                    },
                                    {
                                        "name": "DepartmentName"
                                    }
                                ]
                            },
                            "data": [
                                {
                                    "Name": "James",
                                    "Gender": "Male",
                                    "Salary": "6500",
                                    "DepartmentName": "NULL"
                                },
                                {
                                    "Name": "Russell",
                                    "Gender": "Male",
                                    "Salary": "8800",
                                    "DepartmentName": "NULL"
                                }
                            ]
                        },
                        "text/html": [
                            "<table>",
                            "<tr><th>Name</th><th>Gender</th><th>Salary</th><th>DepartmentName</th></tr>",
                            "<tr><td>James</td><td>Male</td><td>6500</td><td>NULL</td></tr>",
                            "<tr><td>Russell</td><td>Male</td><td>8800</td><td>NULL</td></tr>",
                            "</table>"
                        ]
                    }
                }
            ],
            "execution_count": 19
        },
        {
            "cell_type": "code",
            "source": [
                "-- Retrieve only the non matching rows from the right table\r\n",
                "\r\n",
                "SELECT      t1.Name, t1.Gender, t1.Salary, t2.DepartmentName from tblEmployee1 AS t1\r\n",
                "RIGHT JOIN  tblDepartment AS t2\r\n",
                "ON          t1.DepartmentId = t2.Id\r\n",
                "WHERE       t1.DepartmentId IS NULL;"
            ],
            "metadata": {
                "azdata_cell_guid": "52fb9a9e-6e78-4d83-be61-6ba07ee28a26",
                "language": "sql"
            },
            "outputs": [
                {
                    "output_type": "display_data",
                    "data": {
                        "text/html": "(1 row affected)"
                    },
                    "metadata": {}
                },
                {
                    "output_type": "display_data",
                    "data": {
                        "text/html": "Total execution time: 00:00:00.011"
                    },
                    "metadata": {}
                },
                {
                    "output_type": "execute_result",
                    "metadata": {},
                    "execution_count": 20,
                    "data": {
                        "application/vnd.dataresource+json": {
                            "schema": {
                                "fields": [
                                    {
                                        "name": "Name"
                                    },
                                    {
                                        "name": "Gender"
                                    },
                                    {
                                        "name": "Salary"
                                    },
                                    {
                                        "name": "DepartmentName"
                                    }
                                ]
                            },
                            "data": [
                                {
                                    "Name": "NULL",
                                    "Gender": "NULL",
                                    "Salary": "NULL",
                                    "DepartmentName": "Other Department"
                                }
                            ]
                        },
                        "text/html": [
                            "<table>",
                            "<tr><th>Name</th><th>Gender</th><th>Salary</th><th>DepartmentName</th></tr>",
                            "<tr><td>NULL</td><td>NULL</td><td>NULL</td><td>Other Department</td></tr>",
                            "</table>"
                        ]
                    }
                }
            ],
            "execution_count": 20
        },
        {
            "cell_type": "code",
            "source": [
                "-- Retrieve only the non matching rows from both the left and right table\r\n",
                "SELECT      t1.Name, t1.Gender, t1.Salary, t2.DepartmentName from tblEmployee1 AS t1\r\n",
                "FULL JOIN   tblDepartment AS t2\r\n",
                "ON          t1.DepartmentId = t2.Id\r\n",
                "WHERE       t1.DepartmentId IS NULL\r\n",
                "OR          t2.Id IS NULL;"
            ],
            "metadata": {
                "azdata_cell_guid": "68a7e22b-1989-4290-b152-98455ef5d666",
                "language": "sql"
            },
            "outputs": [
                {
                    "output_type": "display_data",
                    "data": {
                        "text/html": "(3 rows affected)"
                    },
                    "metadata": {}
                },
                {
                    "output_type": "display_data",
                    "data": {
                        "text/html": "Total execution time: 00:00:00.007"
                    },
                    "metadata": {}
                },
                {
                    "output_type": "execute_result",
                    "metadata": {},
                    "execution_count": 23,
                    "data": {
                        "application/vnd.dataresource+json": {
                            "schema": {
                                "fields": [
                                    {
                                        "name": "Name"
                                    },
                                    {
                                        "name": "Gender"
                                    },
                                    {
                                        "name": "Salary"
                                    },
                                    {
                                        "name": "DepartmentName"
                                    }
                                ]
                            },
                            "data": [
                                {
                                    "Name": "James",
                                    "Gender": "Male",
                                    "Salary": "6500",
                                    "DepartmentName": "NULL"
                                },
                                {
                                    "Name": "Russell",
                                    "Gender": "Male",
                                    "Salary": "8800",
                                    "DepartmentName": "NULL"
                                },
                                {
                                    "Name": "NULL",
                                    "Gender": "NULL",
                                    "Salary": "NULL",
                                    "DepartmentName": "Other Department"
                                }
                            ]
                        },
                        "text/html": [
                            "<table>",
                            "<tr><th>Name</th><th>Gender</th><th>Salary</th><th>DepartmentName</th></tr>",
                            "<tr><td>James</td><td>Male</td><td>6500</td><td>NULL</td></tr>",
                            "<tr><td>Russell</td><td>Male</td><td>8800</td><td>NULL</td></tr>",
                            "<tr><td>NULL</td><td>NULL</td><td>NULL</td><td>Other Department</td></tr>",
                            "</table>"
                        ]
                    }
                }
            ],
            "execution_count": 23
        }
    ]
}