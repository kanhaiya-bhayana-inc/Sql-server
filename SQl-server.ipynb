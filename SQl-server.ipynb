{
    "metadata": {
        "kernelspec": {
            "name": "SQL",
            "display_name": "SQL",
            "language": "sql"
        },
        "language_info": {
            "name": "sql",
            "version": ""
        }
    },
    "nbformat_minor": 2,
    "nbformat": 4,
    "cells": [
        {
            "cell_type": "markdown",
            "source": [
                "# SQL SERVER"
            ],
            "metadata": {
                "azdata_cell_guid": "43dc66ec-5ff4-4e18-9ef4-019dfa160140"
            },
            "attachments": {}
        },
        {
            "cell_type": "markdown",
            "source": [
                "### Creating, altering and dropping database"
            ],
            "metadata": {
                "azdata_cell_guid": "7e53a85a-bbb7-41ff-8bb9-dcc0d6ff2078"
            },
            "attachments": {}
        },
        {
            "cell_type": "code",
            "source": [
                "CREATE DATABASE KUDVENKAT;"
            ],
            "metadata": {
                "azdata_cell_guid": "35cc075d-1383-4af7-b51b-186c866467c1",
                "language": "sql"
            },
            "outputs": [],
            "execution_count": null
        },
        {
            "cell_type": "code",
            "source": [
                "ALTER DATABASE KUDVENKAT MODIFY Name = KudvenkatDb"
            ],
            "metadata": {
                "azdata_cell_guid": "f42b9e04-caea-4c75-b360-05e3b6a9492e",
                "language": "sql"
            },
            "outputs": [],
            "execution_count": null
        },
        {
            "cell_type": "markdown",
            "source": [
                "### Rename database using stored procedure..."
            ],
            "metadata": {
                "azdata_cell_guid": "14b4e19c-332a-4988-ae3b-096eda79917e"
            },
            "attachments": {}
        },
        {
            "cell_type": "code",
            "source": [
                "-- sp_renameDB '<oldDbName>', '<newDbName>';\r\n",
                "sp_renameDB 'KudvenkatDb', 'KudvenkatDb_Master';\r\n",
                ""
            ],
            "metadata": {
                "azdata_cell_guid": "25bd5b1c-2a60-427f-8482-d3e5ba0e502c",
                "language": "sql",
                "tags": []
            },
            "outputs": [],
            "execution_count": null
        },
        {
            "cell_type": "code",
            "source": [
                "USE KudvenkatDb_Master;"
            ],
            "metadata": {
                "language": "sql",
                "azdata_cell_guid": "67052668-b0c4-4251-b3df-2f8aa6eded4c"
            },
            "outputs": [
                {
                    "output_type": "display_data",
                    "data": {
                        "text/html": "Commands completed successfully."
                    },
                    "metadata": {}
                },
                {
                    "output_type": "display_data",
                    "data": {
                        "text/html": "Total execution time: 00:00:00.013"
                    },
                    "metadata": {}
                }
            ],
            "execution_count": 1
        },
        {
            "cell_type": "markdown",
            "source": [
                "## Get the list of tables exist in the database..."
            ],
            "metadata": {
                "language": "sql",
                "azdata_cell_guid": "a6f5a397-ebde-45bf-ac96-dde57900b09d"
            },
            "attachments": {}
        },
        {
            "cell_type": "code",
            "source": [
                "SELECT table_name, table_schema, table_type\r\n",
                "FROM information_schema.tables\r\n",
                "ORDER BY table_name ASC;"
            ],
            "metadata": {
                "language": "sql",
                "azdata_cell_guid": "30c945a6-8d76-43dd-b82c-69e15e76bff2",
                "tags": []
            },
            "outputs": [
                {
                    "output_type": "display_data",
                    "data": {
                        "text/html": "(2 rows affected)"
                    },
                    "metadata": {}
                },
                {
                    "output_type": "display_data",
                    "data": {
                        "text/html": "Total execution time: 00:00:00.156"
                    },
                    "metadata": {}
                },
                {
                    "output_type": "execute_result",
                    "metadata": {},
                    "execution_count": 3,
                    "data": {
                        "application/vnd.dataresource+json": {
                            "schema": {
                                "fields": [
                                    {
                                        "name": "table_name"
                                    },
                                    {
                                        "name": "table_schema"
                                    },
                                    {
                                        "name": "table_type"
                                    }
                                ]
                            },
                            "data": [
                                {
                                    "table_name": "tblGender",
                                    "table_schema": "dbo",
                                    "table_type": "BASE TABLE"
                                },
                                {
                                    "table_name": "tblPerson",
                                    "table_schema": "dbo",
                                    "table_type": "BASE TABLE"
                                }
                            ]
                        },
                        "text/html": [
                            "<table>",
                            "<tr><th>table_name</th><th>table_schema</th><th>table_type</th></tr>",
                            "<tr><td>tblGender</td><td>dbo</td><td>BASE TABLE</td></tr>",
                            "<tr><td>tblPerson</td><td>dbo</td><td>BASE TABLE</td></tr>",
                            "</table>"
                        ]
                    }
                }
            ],
            "execution_count": 3
        },
        {
            "cell_type": "markdown",
            "source": [
                "## Drop a database..."
            ],
            "metadata": {
                "azdata_cell_guid": "b021f419-1b33-4a5f-a015-a27dd33a4de9"
            },
            "attachments": {}
        },
        {
            "cell_type": "code",
            "source": [
                "-- DROP DATABASE KudvenkatDb_Master;"
            ],
            "metadata": {
                "azdata_cell_guid": "80a12554-6d3a-433b-9c50-3dbcdc1f2561",
                "language": "sql"
            },
            "outputs": [],
            "execution_count": null
        },
        {
            "cell_type": "markdown",
            "source": [
                "## Creating and working with tables"
            ],
            "metadata": {
                "azdata_cell_guid": "376c26a0-4979-4785-ab33-8a60e55b4dcf"
            },
            "attachments": {}
        },
        {
            "cell_type": "code",
            "source": [
                "CREATE TABLE tblGender(\r\n",
                "    ID INT NOT NULL PRIMARY KEY,\r\n",
                "    Gender NVARCHAR(50) NOT NULL\r\n",
                ");"
            ],
            "metadata": {
                "azdata_cell_guid": "89e500d9-3bf5-4c21-8bc8-5e0cebddbd5a",
                "language": "sql"
            },
            "outputs": [],
            "execution_count": null
        },
        {
            "cell_type": "code",
            "source": [
                "CREATE TABLE tblPerson(\r\n",
                "    ID INT NOT NULL PRIMARY KEY,\r\n",
                "    Name NVARCHAR(50) NOT NULL,\r\n",
                "    Email NVARCHAR(50) NOT NULL,\r\n",
                "    GenderID int NULL,\r\n",
                "    Age int NULL\r\n",
                ");"
            ],
            "metadata": {
                "azdata_cell_guid": "b4bb3597-7f73-4ee5-ab58-493de1f4a1b1",
                "language": "sql"
            },
            "outputs": [],
            "execution_count": null
        },
        {
            "cell_type": "markdown",
            "source": [
                "## Drop tables..."
            ],
            "metadata": {
                "language": "sql",
                "azdata_cell_guid": "12085b55-2452-4606-9b11-21939de1e665"
            },
            "attachments": {}
        },
        {
            "cell_type": "code",
            "source": [
                "DROP TABLE tblPerson;\r\n",
                "DROP TABLE tblGender;"
            ],
            "metadata": {
                "language": "sql",
                "azdata_cell_guid": "56c95c94-9571-4229-9366-4612b366f874"
            },
            "outputs": [],
            "execution_count": null
        },
        {
            "cell_type": "markdown",
            "source": [
                "## Insert data..."
            ],
            "metadata": {
                "language": "sql",
                "azdata_cell_guid": "f9eb0a12-c64f-44a4-bd76-d521e7260ea3"
            },
            "attachments": {}
        },
        {
            "cell_type": "code",
            "source": [
                "INSERT INTO tblGender (ID, Gender) VALUES \r\n",
                "            (1, 'Male'),\r\n",
                "            (2,'Female'),\r\n",
                "            (3, 'Unknown')"
            ],
            "metadata": {
                "azdata_cell_guid": "4a16adf0-50c4-4ed8-aa8a-a4bab6ddc2bf",
                "language": "sql"
            },
            "outputs": [],
            "execution_count": null
        },
        {
            "cell_type": "code",
            "source": [
                "INSERT INTO tblPerson (ID, Name, Email, GenderID) VALUES\r\n",
                "            (1, 'Jade','j@j.com',2),\r\n",
                "            (2,'Mary','m@m.com',3),\r\n",
                "            (3,'Martin','ma@ma.com',1),\r\n",
                "            (4,'Rob','r@r.com',NULL),\r\n",
                "            (5,'May','may@may.com',2),\r\n",
                "            (7,'Rich','ri@ri.com',2),\r\n",
                "            (8,'Mike','mi@mi.com',NULL)"
            ],
            "metadata": {
                "azdata_cell_guid": "f95e6bcd-dc56-4377-b322-399541adf0df",
                "language": "sql"
            },
            "outputs": [],
            "execution_count": null
        },
        {
            "cell_type": "markdown",
            "source": [
                "## Fetch data..."
            ],
            "metadata": {
                "language": "sql",
                "azdata_cell_guid": "18149119-b374-4531-aa71-df25abf92a75"
            },
            "attachments": {}
        },
        {
            "cell_type": "code",
            "source": [
                "SELECT * FROM tblGender;\r\n",
                "SELECT * FROM tblPerson;"
            ],
            "metadata": {
                "azdata_cell_guid": "c78466ee-7832-4985-a35c-81d200ddbd9a",
                "language": "sql",
                "tags": []
            },
            "outputs": [],
            "execution_count": null
        },
        {
            "cell_type": "markdown",
            "source": [
                "## Truncate tables..."
            ],
            "metadata": {
                "language": "sql",
                "azdata_cell_guid": "496b7761-b0fe-4ae6-bcb6-eef74629ed87"
            },
            "attachments": {}
        },
        {
            "cell_type": "code",
            "source": [
                "TRUNCATE TABLE tblPerson;"
            ],
            "metadata": {
                "language": "sql",
                "azdata_cell_guid": "e10760de-4124-4fe7-be92-7fd1c2daf6cc"
            },
            "outputs": [],
            "execution_count": null
        },
        {
            "cell_type": "code",
            "source": [
                "TRUNCATE TABLE tblGender;"
            ],
            "metadata": {
                "language": "sql",
                "azdata_cell_guid": "adf00c79-7b93-45ff-b9ab-a98c0012933b"
            },
            "outputs": [],
            "execution_count": null
        },
        {
            "cell_type": "markdown",
            "source": [
                "## Create Foreign Key - constraint"
            ],
            "metadata": {
                "azdata_cell_guid": "cab7c6b7-76f4-4a93-b21d-47efa7c3f4ad"
            },
            "attachments": {}
        },
        {
            "cell_type": "code",
            "source": [
                "ALTER TABLE tblPerson ADD CONSTRAINT tblPerson_GenderID_FK FOREIGN KEY (GenderID) REFERENCES tblGender(ID);"
            ],
            "metadata": {
                "azdata_cell_guid": "1cd0b3ed-9045-4326-9fe2-9c08a92ab4bc",
                "language": "sql"
            },
            "outputs": [],
            "execution_count": null
        },
        {
            "cell_type": "markdown",
            "source": [
                "## Create default constraint"
            ],
            "metadata": {
                "azdata_cell_guid": "19336580-935f-4336-ad12-97d70d7830da"
            },
            "attachments": {}
        },
        {
            "cell_type": "code",
            "source": [
                "-- if value for the GenderID column is not provided then insert the default value \"3\" in the GenderID\r\n",
                "ALTER TABLE tblPerson ADD CONSTRAINT DF_tblPerson_GenderID DEFAULT 3 FOR GenderID;"
            ],
            "metadata": {
                "azdata_cell_guid": "92725321-7389-4fac-b30e-7d56a43c2d67",
                "language": "sql"
            },
            "outputs": [],
            "execution_count": null
        },
        {
            "cell_type": "markdown",
            "source": [
                "## Drop Constraint"
            ],
            "metadata": {
                "language": "sql",
                "azdata_cell_guid": "4f634761-99d5-4d0e-ba5c-18b226fac1b9"
            },
            "attachments": {}
        },
        {
            "cell_type": "code",
            "source": [
                "-- ALTER table <table_name> DROP <CONSTRAINT_NAME>;"
            ],
            "metadata": {
                "language": "sql",
                "azdata_cell_guid": "1aa1fc04-b657-4478-8649-b66034f44be4"
            },
            "outputs": [],
            "execution_count": null
        },
        {
            "cell_type": "markdown",
            "source": [
                "## Cascading referential integrity\r\n",
                "* This constraint allows to define the actions MicrosoftSQL Server should take when a user attemps to delte or update a key to which an existing foreign keys points.\r\n",
                "-  For example, if you delete row with ID =1 from tblGender table, then row with ID = 3 form tblPerson table becomens an opphan record. You will not be able to tell the Gender for this row. So, Cascading referential integrity constraint can be used to define actions MicrosoftSQL Server should take when this happerns. By default, we get an error and the DELETE or UPDATE statement is rolled back.\r\n",
                "\r\n",
                "### Options when setting up Cascading referential integrity constraint:\r\n",
                "    1. No Action: This is the defautl behaviour. It specifies that if an attempt is amde to delete or update a row with the key referenced by foreign keys in existing rows in other tables, an error is raised and the DELETE or UPDATE is rolled back...\r\n",
                "    2. Cascade: Specifies that if an attempt is made to delete or update a row with a key referenced by foreign keys in existing rows in other tables, all rows containing those foreign keys are also deleted or updated...\r\n",
                "    3. Set NULL: Specifies that if an attempt is made to delete or update a row with a key referenced by foreign keys in existing rows in other tables, all rows containing those foreign keys are set to NULL...\r\n",
                "    4. Set Default: Specifies that if an attempt is made to delete or update a row with a key referenced by foreign keys in existing rows in other tables, all rows containing those foreign keys are set to default values... "
            ],
            "metadata": {
                "azdata_cell_guid": "adc320f3-6593-476d-ae94-35283c46349d"
            },
            "attachments": {}
        },
        {
            "cell_type": "code",
            "source": [
                "ALTER TABLE tblPerson ADD CONSTRAINT tblPerson_GenderID_FK FOREIGN KEY (GenderID) REFERENCES tblGender(ID) ON DELETE CASCADE ON UPDATE SET NULL;"
            ],
            "metadata": {
                "azdata_cell_guid": "b6cf3405-6c8b-4e9e-9c5d-3d31208605ea",
                "language": "sql"
            },
            "outputs": [],
            "execution_count": null
        },
        {
            "cell_type": "markdown",
            "source": [
                "## Check constraint\r\n",
                "    * It is used to limit the range of the values, that can be entered for a column...\r\n",
                "    * If the column is nullable, It is possible to pass null for the column, when you will pass the value as NULL, the boolean expression evaluates to UNKNOWN, and allows the value i.e., then it will not give an error because NULL will be cosnidered as unknown, hence It will insert the NULL VALUE..."
            ],
            "metadata": {
                "azdata_cell_guid": "abb1bbc4-d0c9-4ef1-93c8-a444a7ddd10b"
            },
            "attachments": {}
        },
        {
            "cell_type": "code",
            "source": [
                "-- ALTER TABLE <table_name> ADD CONSTRAINT <CONSTRAINT_NAME> CHECK <BOOLEAN_EXPRESSION\r\n",
                "ALTER Table tblPerson ADD CONSTRAINT Chk_tblPerson_Age CHECK (AGE > 0 AND AGE < 150);"
            ],
            "metadata": {
                "azdata_cell_guid": "f8df5edb-1e42-4f1a-9778-d4edb806e6e2",
                "language": "sql",
                "tags": []
            },
            "outputs": [],
            "execution_count": null
        },
        {
            "cell_type": "markdown",
            "source": [
                "## Identity Column\r\n",
                "- IDENTITY(increment_seed, increment_value)\r\n",
                "- If a column is marked as an identity column, then the values for this column are automatically generated, when you insert a new row into the table...\r\n",
                "\r\n",
                "- To Explicitly supply a value for identity column:\r\n",
                "    1. First turn on identity insert -> SET identity_insert <table_name> ON\r\n",
                "    2. In the insert query specifiy the column list - Insert into table_name (col1, col2,....) Values (Val1,Val2,...)\r\n",
                "\r\n",
                "- If you have deleted all the rows in a table, and you want to reset the identity column value, user \"DBCC CHECKIDENT('<table_name>',RESEED,0)\r\n",
                "\r\n",
                "| DBCC - Database Consistancy Check"
            ],
            "metadata": {
                "azdata_cell_guid": "ee90f9bb-99b4-4a59-81e8-895575909653"
            },
            "attachments": {}
        },
        {
            "cell_type": "markdown",
            "source": [
                "## Get the last generated identity column value in SQL Server\r\n",
                "\r\n",
                "    Two ways to  achieve the above:\r\n",
                "    1. The most common wat is to use SCOPE_IDENTITY() built in function...\r\n",
                "    2. You can use @@IDENTITY\r\n",
                "    3. IDENT_CURRENT('<table_name>')\r\n",
                "\r\n",
                "    DIFFERENCE\r\n",
                "    - SCOPE_IDENTITY() -> Same session and the same scope\r\n",
                "    - @@IDENTITY -> Same session and across any scope\r\n",
                "    - IDENT_CURRENT('<table_name>') -> Specifies table across any session and any scope"
            ],
            "metadata": {
                "azdata_cell_guid": "1f30b358-3014-46df-af98-cd19722d462f"
            },
            "attachments": {}
        },
        {
            "cell_type": "code",
            "source": [
                "CREATE TABLE Test1(\r\n",
                "    Id int IDENTITY PRIMARY KEY,\r\n",
                "    Name NVARCHAR(50)\r\n",
                ");\r\n",
                "\r\n",
                "CREATE TABLE Test2(\r\n",
                "    Id int IDENTITY PRIMARY KEY,\r\n",
                "    Name NVARCHAR(50)\r\n",
                ");\r\n",
                "\r\n",
                ""
            ],
            "metadata": {
                "azdata_cell_guid": "03d011a6-0649-4ffe-ba0c-5bf22301ceb0",
                "language": "sql"
            },
            "outputs": [],
            "execution_count": null
        },
        {
            "cell_type": "code",
            "source": [
                "SELECT * FROM Test1;\r\n",
                "SELECT * FROM Test2;"
            ],
            "metadata": {
                "azdata_cell_guid": "e949eac6-826f-4db5-b63f-06558486bb72",
                "language": "sql"
            },
            "outputs": [],
            "execution_count": null
        },
        {
            "cell_type": "code",
            "source": [
                "INSERT INTO Test1 VALUES ('AAAAA1')\r\n",
                "INSERT INTO Test2 VALUES ('AAAAA2')"
            ],
            "metadata": {
                "azdata_cell_guid": "437b7129-3938-4c2d-a18a-d975984f47dc",
                "language": "sql"
            },
            "outputs": [],
            "execution_count": null
        },
        {
            "cell_type": "code",
            "source": [
                "SELECT SCOPE_IDENTITY();\r\n",
                "SELECT @@IDENTITY;\r\n",
                "SELECT IDENT_CURRENT('Test2');"
            ],
            "metadata": {
                "azdata_cell_guid": "00d381ad-260b-44b5-9eae-40cb43eb7d89",
                "language": "sql"
            },
            "outputs": [],
            "execution_count": null
        },
        {
            "cell_type": "markdown",
            "source": [
                "## Unique key constraint\r\n",
                "    - We use UNIQUE constraint to enforce uniqueness of a column i.e., the column shouldn't allow any duplicate values. We can add a Unique constraint through the designer or using a query.\r\n",
                "    \r\n",
                "    - To create the unique key using a query:\r\n",
                "        Alter Table <Table_name>\r\n",
                "        Add Constraint <Constraint_name> Unique(Column_name);\r\n",
                "\r\n",
                "    DIFFERENCE B/W PRIMARY KEY AND UNIQUE KEY CONSTRAINT\r\n",
                "    1. A table can can have only one primary key, but more than one Unique key\r\n",
                "    2. Primary key does not allow nulls, where as unique key allows one null"
            ],
            "metadata": {
                "azdata_cell_guid": "e841f277-e4bb-46c5-b10e-e398709582d1"
            },
            "attachments": {}
        },
        {
            "cell_type": "code",
            "source": [
                "ALTER TABLE tblPerson\r\n",
                "ADD CONSTRAINT UK_tblPerson_Email UNIQUE(Email)"
            ],
            "metadata": {
                "azdata_cell_guid": "ef294e29-4631-428f-aabf-288dd4b8d826",
                "language": "sql"
            },
            "outputs": [],
            "execution_count": null
        },
        {
            "cell_type": "markdown",
            "source": [
                "## Select statement\r\n",
                "\r\n",
                "    Operators and Wild Cards\r\n",
                "    ----------------------------------------------\r\n",
                "    Operator     |     Purpose\r\n",
                "    ----------------------------------------------\r\n",
                "    =            |     Equal to\r\n",
                "    != or <>     |     Not equal to\r\n",
                "    >            |     Greater than\r\n",
                "    >=           |     Greater than or equal to\r\n",
                "    <            |     Less than \r\n",
                "    <=           |     Less than or equal to\r\n",
                "    IN           |     Specify a list of values\r\n",
                "    BETWEEN      |     Specify a range\r\n",
                "    LIKE         |     Specify a pattern\r\n",
                "    NOT          |     Not in a list, range etc...\r\n",
                "    %            |     Specifies zero or more characters\r\n",
                "    -            |     Specifies exactly one characters\r\n",
                "    []           |     Any character with in the brackets\r\n",
                "    [^]          |     Not any character with in the brackets"
            ],
            "metadata": {
                "azdata_cell_guid": "2fd758b8-90d7-46ca-b5d0-0485bce0caa3"
            },
            "attachments": {}
        },
        {
            "cell_type": "code",
            "source": [
                "SELECT DISTINCT Name,GenderID FROM tblPerson;\r\n",
                "SELECT * FROM tblPerson WHERE GenderID <> 1;\r\n",
                "SELECT * FROM tblPerson WHERE GenderID IN(2,3,5);\r\n",
                "\r\n",
                "-- Select all the records whose name starts with any specific character\r\n",
                "SELECT * FROM tblPerson WHERE Name LIKE 'R%';\r\n",
                "\r\n",
                "-- Email validation... which contains @ in the email\r\n",
                "SELECT * FROM tblPerson WHERE Email LIKE '%@%';\r\n",
                "\r\n",
                "-- Fetch all the records where email contains 1 character before @ and one character after @\r\n",
                "SELECT * FROM tblPerson WHERE Email LIKE '_@_.com';\r\n",
                "\r\n",
                "-- Select the records where name starts with the Either M, S, or T\r\n",
                "SELECT * FROM tblPerson WHERE Name LIKE '[MST]%';\r\n",
                ""
            ],
            "metadata": {
                "azdata_cell_guid": "5e6fa5d0-ca6a-4f59-837e-312a12442b7a",
                "language": "sql"
            },
            "outputs": [],
            "execution_count": null
        },
        {
            "cell_type": "code",
            "source": [
                "\r\n",
                "-- Order by for sorting | default order is ascending\r\n",
                "SELECT * FROM tblPerson ORDER BY Name DESC, Age ASC;\r\n",
                "\r\n",
                "SELECT TOP 10 * FROM tblPerson;\r\n",
                "\r\n",
                "-- Select the record whose age is oldest...\r\n",
                "SELECT TOP 1 * FROM tblPerson ORDER BY Age DESC;"
            ],
            "metadata": {
                "azdata_cell_guid": "4c8695a8-7c96-4f75-b511-561944c803eb",
                "language": "sql"
            },
            "outputs": [],
            "execution_count": null
        }
    ]
}